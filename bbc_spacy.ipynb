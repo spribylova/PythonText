{
  "nbformat": 4,
  "nbformat_minor": 0,
  "metadata": {
    "colab": {
      "name": "bbc_spacy.ipynb",
      "provenance": [],
      "collapsed_sections": []
    },
    "kernelspec": {
      "name": "python3",
      "display_name": "Python 3"
    },
    "language_info": {
      "name": "python"
    }
  },
  "cells": [
    {
      "cell_type": "code",
      "source": [
        "import re\n",
        "import spacy\n",
        "import requests\n",
        "import pandas as pd\n",
        "from bs4 import BeautifulSoup\n",
        "from spacy import displacy\n",
        "from spacy.matcher import Matcher \n",
        "from spacy.tokens import Span \n",
        "import networkx as nx\n",
        "import matplotlib.pyplot as plt\n",
        "from tqdm import tqdm\n",
        "\n",
        "pd.set_option('display.max_colwidth', 200)\n",
        "%matplotlib inline"
      ],
      "metadata": {
        "id": "wPEWpZ_rPw_y"
      },
      "execution_count": null,
      "outputs": []
    },
    {
      "cell_type": "code",
      "source": [
        "# get text from html and parse it\n",
        "response = requests.get('http://www.bbc.com/news')\n",
        "doc = BeautifulSoup(response.text, 'html.parser')\n",
        "headlines = doc.find_all('h3')\n",
        "stories_list = []\n",
        "\n",
        "for headline in headlines:\n",
        "    print(headline.text)\n",
        "    stories_list.append(headline.text)\n",
        "\n",
        "# Now that we're done, convert to a CSV and save.\n",
        "# If you don't use index=False, you'll get an ugly dataframe!\n",
        "import pandas as pd\n",
        "df = pd.DataFrame(stories_list)\n",
        "df.to_csv(\"bbc.csv\", index=False)"
      ],
      "metadata": {
        "colab": {
          "base_uri": "https://localhost:8080/"
        },
        "id": "GUZSjZ2QNVGc",
        "outputId": "0db69845-f4e0-4578-ee90-a82f42d96f07"
      },
      "execution_count": null,
      "outputs": [
        {
          "output_type": "stream",
          "name": "stdout",
          "text": [
            "From Kabul and beyond, a year of Taliban rule\n",
            "From Kabul and beyond, a year of Taliban rule\n",
            "We saved who we could - Egypt church fire survivor\n",
            "'Just weird': Ex-Australian PM held 'secret roles'\n",
            "Remote Pacific nation hit by first Covid outbreak\n",
            "Ecuador blast 'declaration of war' by gangs\n",
            "Russia vows to expand relations with North Korea\n",
            "Fireworks explosion rocks Armenia shopping market\n",
            "Kenya set to announce presidential election result\n",
            "World leaders meet in attempt to protect oceans\n",
            "Rushdie's 'defiant sense of humour' remains - son\n",
            "Walrus Freya who became Oslo attraction put down\n",
            "Rushdie's 'defiant sense of humour' remains - son\n",
            "Walrus Freya who became Oslo attraction put down\n",
            "Sprinter pulled over for second time by police\n",
            "Russia reopens bond market to friendly traders\n",
            "Saudi oil giant breaks profit record with $48.4bn\n",
            "The Taliban's broken promises\n",
            "Former Afghan leaders mark year of Taliban rule\n",
            "We fled the Taliban for our Olympic dream\n",
            "The librarian who defied the Taliban\n",
            "The Taliban sniper now working behind a desk\n",
            "New York governor defiant after Rushdie attack\n",
            "BBC World News TV\n",
            "BBC World Service Radio\n",
            "How 40 million Australian mangroves were wiped out\n",
            "The musical genius you've probably never heard of\n",
            "'We are waiting for rain, for winter, for God'\n",
            "Pulling energy out of the sky\n",
            "The Partition baggage for young Indians and Pakistanis\n",
            "How DIY loudspeakers powered Gandhi's freedom fight\n",
            "The tech aiming to prevent lost airline luggage\n",
            "Why was British India partitioned 75 years ago?\n",
            "How racism haunts black people in Italy\n",
            "The humiliating story that made me a break-up coach\n",
            "The Fringe performers camping to save money\n",
            "Fear in Bangladesh after huge fuel price rise\n",
            "How mammals won the dinosaurs' world\n",
            "The end of the layoff taboo\n",
            "The floating homes of Lake Titicaca\n",
            "The greatest novel of the 20th Century?\n",
            "The most sustainable way to eat fish\n",
            "The new problem for 'overthinkers'\n",
            "A Spanish town abandoned by mistake\n",
            "News daily newsletter\n",
            "Mobile app\n",
            "Get in touch\n"
          ]
        }
      ]
    },
    {
      "cell_type": "code",
      "source": [
        "# import wikipedia sentences, they have 4318 rows\n",
        "headlines = pd.read_csv(\"bbc.csv\")\n",
        "headlines.shape"
      ],
      "metadata": {
        "colab": {
          "base_uri": "https://localhost:8080/"
        },
        "id": "y-cU8ONxPvgz",
        "outputId": "22753070-49de-49df-a158-32766ece1ad3"
      },
      "execution_count": null,
      "outputs": [
        {
          "output_type": "execute_result",
          "data": {
            "text/plain": [
              "(47, 1)"
            ]
          },
          "metadata": {},
          "execution_count": 10
        }
      ]
    },
    {
      "cell_type": "code",
      "source": [
        "headlines"
      ],
      "metadata": {
        "colab": {
          "base_uri": "https://localhost:8080/",
          "height": 1000
        },
        "id": "uxf7-ZVsWRaB",
        "outputId": "f0cb9dc3-e182-4d17-bea3-035cbebed1f0"
      },
      "execution_count": null,
      "outputs": [
        {
          "output_type": "execute_result",
          "data": {
            "text/plain": [
              "                                                         0\n",
              "0            From Kabul and beyond, a year of Taliban rule\n",
              "1            From Kabul and beyond, a year of Taliban rule\n",
              "2       We saved who we could - Egypt church fire survivor\n",
              "3       'Just weird': Ex-Australian PM held 'secret roles'\n",
              "4        Remote Pacific nation hit by first Covid outbreak\n",
              "5              Ecuador blast 'declaration of war' by gangs\n",
              "6         Russia vows to expand relations with North Korea\n",
              "7        Fireworks explosion rocks Armenia shopping market\n",
              "8       Kenya set to announce presidential election result\n",
              "9          World leaders meet in attempt to protect oceans\n",
              "10       Rushdie's 'defiant sense of humour' remains - son\n",
              "11        Walrus Freya who became Oslo attraction put down\n",
              "12       Rushdie's 'defiant sense of humour' remains - son\n",
              "13        Walrus Freya who became Oslo attraction put down\n",
              "14          Sprinter pulled over for second time by police\n",
              "15          Russia reopens bond market to friendly traders\n",
              "16       Saudi oil giant breaks profit record with $48.4bn\n",
              "17                           The Taliban's broken promises\n",
              "18         Former Afghan leaders mark year of Taliban rule\n",
              "19               We fled the Taliban for our Olympic dream\n",
              "20                    The librarian who defied the Taliban\n",
              "21            The Taliban sniper now working behind a desk\n",
              "22          New York governor defiant after Rushdie attack\n",
              "23                                       BBC World News TV\n",
              "24                                 BBC World Service Radio\n",
              "25      How 40 million Australian mangroves were wiped out\n",
              "26       The musical genius you've probably never heard of\n",
              "27          'We are waiting for rain, for winter, for God'\n",
              "28                           Pulling energy out of the sky\n",
              "29  The Partition baggage for young Indians and Pakistanis\n",
              "30     How DIY loudspeakers powered Gandhi's freedom fight\n",
              "31         The tech aiming to prevent lost airline luggage\n",
              "32         Why was British India partitioned 75 years ago?\n",
              "33                 How racism haunts black people in Italy\n",
              "34     The humiliating story that made me a break-up coach\n",
              "35             The Fringe performers camping to save money\n",
              "36           Fear in Bangladesh after huge fuel price rise\n",
              "37                    How mammals won the dinosaurs' world\n",
              "38                             The end of the layoff taboo\n",
              "39                     The floating homes of Lake Titicaca\n",
              "40                 The greatest novel of the 20th Century?\n",
              "41                    The most sustainable way to eat fish\n",
              "42                      The new problem for 'overthinkers'\n",
              "43                     A Spanish town abandoned by mistake\n",
              "44                                   News daily newsletter\n",
              "45                                              Mobile app\n",
              "46                                            Get in touch"
            ],
            "text/html": [
              "\n",
              "  <div id=\"df-449bb3e0-bb68-4afd-a92f-ef87bd905be4\">\n",
              "    <div class=\"colab-df-container\">\n",
              "      <div>\n",
              "<style scoped>\n",
              "    .dataframe tbody tr th:only-of-type {\n",
              "        vertical-align: middle;\n",
              "    }\n",
              "\n",
              "    .dataframe tbody tr th {\n",
              "        vertical-align: top;\n",
              "    }\n",
              "\n",
              "    .dataframe thead th {\n",
              "        text-align: right;\n",
              "    }\n",
              "</style>\n",
              "<table border=\"1\" class=\"dataframe\">\n",
              "  <thead>\n",
              "    <tr style=\"text-align: right;\">\n",
              "      <th></th>\n",
              "      <th>0</th>\n",
              "    </tr>\n",
              "  </thead>\n",
              "  <tbody>\n",
              "    <tr>\n",
              "      <th>0</th>\n",
              "      <td>From Kabul and beyond, a year of Taliban rule</td>\n",
              "    </tr>\n",
              "    <tr>\n",
              "      <th>1</th>\n",
              "      <td>From Kabul and beyond, a year of Taliban rule</td>\n",
              "    </tr>\n",
              "    <tr>\n",
              "      <th>2</th>\n",
              "      <td>We saved who we could - Egypt church fire survivor</td>\n",
              "    </tr>\n",
              "    <tr>\n",
              "      <th>3</th>\n",
              "      <td>'Just weird': Ex-Australian PM held 'secret roles'</td>\n",
              "    </tr>\n",
              "    <tr>\n",
              "      <th>4</th>\n",
              "      <td>Remote Pacific nation hit by first Covid outbreak</td>\n",
              "    </tr>\n",
              "    <tr>\n",
              "      <th>5</th>\n",
              "      <td>Ecuador blast 'declaration of war' by gangs</td>\n",
              "    </tr>\n",
              "    <tr>\n",
              "      <th>6</th>\n",
              "      <td>Russia vows to expand relations with North Korea</td>\n",
              "    </tr>\n",
              "    <tr>\n",
              "      <th>7</th>\n",
              "      <td>Fireworks explosion rocks Armenia shopping market</td>\n",
              "    </tr>\n",
              "    <tr>\n",
              "      <th>8</th>\n",
              "      <td>Kenya set to announce presidential election result</td>\n",
              "    </tr>\n",
              "    <tr>\n",
              "      <th>9</th>\n",
              "      <td>World leaders meet in attempt to protect oceans</td>\n",
              "    </tr>\n",
              "    <tr>\n",
              "      <th>10</th>\n",
              "      <td>Rushdie's 'defiant sense of humour' remains - son</td>\n",
              "    </tr>\n",
              "    <tr>\n",
              "      <th>11</th>\n",
              "      <td>Walrus Freya who became Oslo attraction put down</td>\n",
              "    </tr>\n",
              "    <tr>\n",
              "      <th>12</th>\n",
              "      <td>Rushdie's 'defiant sense of humour' remains - son</td>\n",
              "    </tr>\n",
              "    <tr>\n",
              "      <th>13</th>\n",
              "      <td>Walrus Freya who became Oslo attraction put down</td>\n",
              "    </tr>\n",
              "    <tr>\n",
              "      <th>14</th>\n",
              "      <td>Sprinter pulled over for second time by police</td>\n",
              "    </tr>\n",
              "    <tr>\n",
              "      <th>15</th>\n",
              "      <td>Russia reopens bond market to friendly traders</td>\n",
              "    </tr>\n",
              "    <tr>\n",
              "      <th>16</th>\n",
              "      <td>Saudi oil giant breaks profit record with $48.4bn</td>\n",
              "    </tr>\n",
              "    <tr>\n",
              "      <th>17</th>\n",
              "      <td>The Taliban's broken promises</td>\n",
              "    </tr>\n",
              "    <tr>\n",
              "      <th>18</th>\n",
              "      <td>Former Afghan leaders mark year of Taliban rule</td>\n",
              "    </tr>\n",
              "    <tr>\n",
              "      <th>19</th>\n",
              "      <td>We fled the Taliban for our Olympic dream</td>\n",
              "    </tr>\n",
              "    <tr>\n",
              "      <th>20</th>\n",
              "      <td>The librarian who defied the Taliban</td>\n",
              "    </tr>\n",
              "    <tr>\n",
              "      <th>21</th>\n",
              "      <td>The Taliban sniper now working behind a desk</td>\n",
              "    </tr>\n",
              "    <tr>\n",
              "      <th>22</th>\n",
              "      <td>New York governor defiant after Rushdie attack</td>\n",
              "    </tr>\n",
              "    <tr>\n",
              "      <th>23</th>\n",
              "      <td>BBC World News TV</td>\n",
              "    </tr>\n",
              "    <tr>\n",
              "      <th>24</th>\n",
              "      <td>BBC World Service Radio</td>\n",
              "    </tr>\n",
              "    <tr>\n",
              "      <th>25</th>\n",
              "      <td>How 40 million Australian mangroves were wiped out</td>\n",
              "    </tr>\n",
              "    <tr>\n",
              "      <th>26</th>\n",
              "      <td>The musical genius you've probably never heard of</td>\n",
              "    </tr>\n",
              "    <tr>\n",
              "      <th>27</th>\n",
              "      <td>'We are waiting for rain, for winter, for God'</td>\n",
              "    </tr>\n",
              "    <tr>\n",
              "      <th>28</th>\n",
              "      <td>Pulling energy out of the sky</td>\n",
              "    </tr>\n",
              "    <tr>\n",
              "      <th>29</th>\n",
              "      <td>The Partition baggage for young Indians and Pakistanis</td>\n",
              "    </tr>\n",
              "    <tr>\n",
              "      <th>30</th>\n",
              "      <td>How DIY loudspeakers powered Gandhi's freedom fight</td>\n",
              "    </tr>\n",
              "    <tr>\n",
              "      <th>31</th>\n",
              "      <td>The tech aiming to prevent lost airline luggage</td>\n",
              "    </tr>\n",
              "    <tr>\n",
              "      <th>32</th>\n",
              "      <td>Why was British India partitioned 75 years ago?</td>\n",
              "    </tr>\n",
              "    <tr>\n",
              "      <th>33</th>\n",
              "      <td>How racism haunts black people in Italy</td>\n",
              "    </tr>\n",
              "    <tr>\n",
              "      <th>34</th>\n",
              "      <td>The humiliating story that made me a break-up coach</td>\n",
              "    </tr>\n",
              "    <tr>\n",
              "      <th>35</th>\n",
              "      <td>The Fringe performers camping to save money</td>\n",
              "    </tr>\n",
              "    <tr>\n",
              "      <th>36</th>\n",
              "      <td>Fear in Bangladesh after huge fuel price rise</td>\n",
              "    </tr>\n",
              "    <tr>\n",
              "      <th>37</th>\n",
              "      <td>How mammals won the dinosaurs' world</td>\n",
              "    </tr>\n",
              "    <tr>\n",
              "      <th>38</th>\n",
              "      <td>The end of the layoff taboo</td>\n",
              "    </tr>\n",
              "    <tr>\n",
              "      <th>39</th>\n",
              "      <td>The floating homes of Lake Titicaca</td>\n",
              "    </tr>\n",
              "    <tr>\n",
              "      <th>40</th>\n",
              "      <td>The greatest novel of the 20th Century?</td>\n",
              "    </tr>\n",
              "    <tr>\n",
              "      <th>41</th>\n",
              "      <td>The most sustainable way to eat fish</td>\n",
              "    </tr>\n",
              "    <tr>\n",
              "      <th>42</th>\n",
              "      <td>The new problem for 'overthinkers'</td>\n",
              "    </tr>\n",
              "    <tr>\n",
              "      <th>43</th>\n",
              "      <td>A Spanish town abandoned by mistake</td>\n",
              "    </tr>\n",
              "    <tr>\n",
              "      <th>44</th>\n",
              "      <td>News daily newsletter</td>\n",
              "    </tr>\n",
              "    <tr>\n",
              "      <th>45</th>\n",
              "      <td>Mobile app</td>\n",
              "    </tr>\n",
              "    <tr>\n",
              "      <th>46</th>\n",
              "      <td>Get in touch</td>\n",
              "    </tr>\n",
              "  </tbody>\n",
              "</table>\n",
              "</div>\n",
              "      <button class=\"colab-df-convert\" onclick=\"convertToInteractive('df-449bb3e0-bb68-4afd-a92f-ef87bd905be4')\"\n",
              "              title=\"Convert this dataframe to an interactive table.\"\n",
              "              style=\"display:none;\">\n",
              "        \n",
              "  <svg xmlns=\"http://www.w3.org/2000/svg\" height=\"24px\"viewBox=\"0 0 24 24\"\n",
              "       width=\"24px\">\n",
              "    <path d=\"M0 0h24v24H0V0z\" fill=\"none\"/>\n",
              "    <path d=\"M18.56 5.44l.94 2.06.94-2.06 2.06-.94-2.06-.94-.94-2.06-.94 2.06-2.06.94zm-11 1L8.5 8.5l.94-2.06 2.06-.94-2.06-.94L8.5 2.5l-.94 2.06-2.06.94zm10 10l.94 2.06.94-2.06 2.06-.94-2.06-.94-.94-2.06-.94 2.06-2.06.94z\"/><path d=\"M17.41 7.96l-1.37-1.37c-.4-.4-.92-.59-1.43-.59-.52 0-1.04.2-1.43.59L10.3 9.45l-7.72 7.72c-.78.78-.78 2.05 0 2.83L4 21.41c.39.39.9.59 1.41.59.51 0 1.02-.2 1.41-.59l7.78-7.78 2.81-2.81c.8-.78.8-2.07 0-2.86zM5.41 20L4 18.59l7.72-7.72 1.47 1.35L5.41 20z\"/>\n",
              "  </svg>\n",
              "      </button>\n",
              "      \n",
              "  <style>\n",
              "    .colab-df-container {\n",
              "      display:flex;\n",
              "      flex-wrap:wrap;\n",
              "      gap: 12px;\n",
              "    }\n",
              "\n",
              "    .colab-df-convert {\n",
              "      background-color: #E8F0FE;\n",
              "      border: none;\n",
              "      border-radius: 50%;\n",
              "      cursor: pointer;\n",
              "      display: none;\n",
              "      fill: #1967D2;\n",
              "      height: 32px;\n",
              "      padding: 0 0 0 0;\n",
              "      width: 32px;\n",
              "    }\n",
              "\n",
              "    .colab-df-convert:hover {\n",
              "      background-color: #E2EBFA;\n",
              "      box-shadow: 0px 1px 2px rgba(60, 64, 67, 0.3), 0px 1px 3px 1px rgba(60, 64, 67, 0.15);\n",
              "      fill: #174EA6;\n",
              "    }\n",
              "\n",
              "    [theme=dark] .colab-df-convert {\n",
              "      background-color: #3B4455;\n",
              "      fill: #D2E3FC;\n",
              "    }\n",
              "\n",
              "    [theme=dark] .colab-df-convert:hover {\n",
              "      background-color: #434B5C;\n",
              "      box-shadow: 0px 1px 3px 1px rgba(0, 0, 0, 0.15);\n",
              "      filter: drop-shadow(0px 1px 2px rgba(0, 0, 0, 0.3));\n",
              "      fill: #FFFFFF;\n",
              "    }\n",
              "  </style>\n",
              "\n",
              "      <script>\n",
              "        const buttonEl =\n",
              "          document.querySelector('#df-449bb3e0-bb68-4afd-a92f-ef87bd905be4 button.colab-df-convert');\n",
              "        buttonEl.style.display =\n",
              "          google.colab.kernel.accessAllowed ? 'block' : 'none';\n",
              "\n",
              "        async function convertToInteractive(key) {\n",
              "          const element = document.querySelector('#df-449bb3e0-bb68-4afd-a92f-ef87bd905be4');\n",
              "          const dataTable =\n",
              "            await google.colab.kernel.invokeFunction('convertToInteractive',\n",
              "                                                     [key], {});\n",
              "          if (!dataTable) return;\n",
              "\n",
              "          const docLinkHtml = 'Like what you see? Visit the ' +\n",
              "            '<a target=\"_blank\" href=https://colab.research.google.com/notebooks/data_table.ipynb>data table notebook</a>'\n",
              "            + ' to learn more about interactive tables.';\n",
              "          element.innerHTML = '';\n",
              "          dataTable['output_type'] = 'display_data';\n",
              "          await google.colab.output.renderOutput(dataTable, element);\n",
              "          const docLink = document.createElement('div');\n",
              "          docLink.innerHTML = docLinkHtml;\n",
              "          element.appendChild(docLink);\n",
              "        }\n",
              "      </script>\n",
              "    </div>\n",
              "  </div>\n",
              "  "
            ]
          },
          "metadata": {},
          "execution_count": 11
        }
      ]
    },
    {
      "cell_type": "code",
      "source": [
        ""
      ],
      "metadata": {
        "id": "VSyFcf04WRwZ"
      },
      "execution_count": null,
      "outputs": []
    },
    {
      "cell_type": "code",
      "source": [
        "# exact sentence example\n",
        "nlp = spacy.load('en_core_web_sm')\n",
        "\n",
        "doc = nlp(\"Salman Rushdie: The writer who emerged from hiding\")\n",
        "\n",
        "for tok in doc:\n",
        "  print(tok.text, \"...\", tok.dep_)"
      ],
      "metadata": {
        "colab": {
          "base_uri": "https://localhost:8080/"
        },
        "id": "NAHTksDNUfSJ",
        "outputId": "3971142c-f95c-42b6-ce41-afd967a7b18e"
      },
      "execution_count": null,
      "outputs": [
        {
          "output_type": "stream",
          "name": "stdout",
          "text": [
            "Salman ... compound\n",
            "Rushdie ... ROOT\n",
            ": ... punct\n",
            "The ... det\n",
            "writer ... appos\n",
            "who ... nsubj\n",
            "emerged ... relcl\n",
            "from ... prep\n",
            "hiding ... pobj\n"
          ]
        }
      ]
    },
    {
      "cell_type": "code",
      "source": [
        "def get_entities(sent):\n",
        "\n",
        "  ## chunk 1\n",
        "  ent1 = \"\"\n",
        "  ent2 = \"\"\n",
        "\n",
        "  prv_tok_dep = \"\"    # dependency tag of previous token in the sentence\n",
        "  prv_tok_text = \"\"   # previous token in the sentence\n",
        "\n",
        "  prefix = \"\"\n",
        "  modifier = \"\"\n",
        "\n",
        "  #############################################################\n",
        "  \n",
        "  for tok in nlp(sent):\n",
        "    ## chunk 2\n",
        "    # if token is a punctuation mark then move on to the next token\n",
        "    if tok.dep_ != \"punct\":\n",
        "      # check: token is a compound word or not\n",
        "      if tok.dep_ == \"compound\":\n",
        "        prefix = tok.text\n",
        "        # if the previous word was also a 'compound' then add the current word to it\n",
        "        if prv_tok_dep == \"compound\":\n",
        "          prefix = prv_tok_text + \" \"+ tok.text\n",
        "      \n",
        "      # check: token is a modifier or not\n",
        "      if tok.dep_.endswith(\"mod\") == True:\n",
        "        modifier = tok.text\n",
        "        # if the previous word was also a 'compound' then add the current word to it\n",
        "        if prv_tok_dep == \"compound\":\n",
        "          modifier = prv_tok_text + \" \"+ tok.text\n",
        "      \n",
        "      ## chunk 3\n",
        "      if tok.dep_.find(\"subj\") == True:\n",
        "        ent1 = modifier +\" \"+ prefix + \" \"+ tok.text\n",
        "        prefix = \"\"\n",
        "        modifier = \"\"\n",
        "        prv_tok_dep = \"\"\n",
        "        prv_tok_text = \"\"      \n",
        "\n",
        "      ## chunk 4\n",
        "      if tok.dep_.find(\"obj\") == True:\n",
        "        ent2 = modifier +\" \"+ prefix +\" \"+ tok.text\n",
        "        \n",
        "      ## chunk 5  \n",
        "      # update variables\n",
        "      prv_tok_dep = tok.dep_\n",
        "      prv_tok_text = tok.text\n",
        "      \n",
        "   #############################################################\n",
        "\n",
        "  return [ent1.strip(), ent2.strip()]"
      ],
      "metadata": {
        "id": "My45K7LiUfvQ"
      },
      "execution_count": null,
      "outputs": []
    },
    {
      "cell_type": "code",
      "source": [
        "get_entities(\"Salman Rushdie: The writer who emerged from hiding.\")"
      ],
      "metadata": {
        "colab": {
          "base_uri": "https://localhost:8080/"
        },
        "id": "18b8cAnLVHl4",
        "outputId": "cd5b3dab-2c40-4c3b-c9a3-6e4d7532a052"
      },
      "execution_count": null,
      "outputs": [
        {
          "output_type": "execute_result",
          "data": {
            "text/plain": [
              "['Salman who', 'hiding']"
            ]
          },
          "metadata": {},
          "execution_count": 14
        }
      ]
    },
    {
      "cell_type": "code",
      "source": [
        "entity_pairs = []"
      ],
      "metadata": {
        "id": "5HNVMCmLVHpQ"
      },
      "execution_count": null,
      "outputs": []
    },
    {
      "cell_type": "code",
      "source": [
        "entity_pairs[10:20]"
      ],
      "metadata": {
        "colab": {
          "base_uri": "https://localhost:8080/"
        },
        "id": "xcPOnyWwVO-h",
        "outputId": "7d8a0bb6-b2d5-4bff-e3b6-a08da9555135"
      },
      "execution_count": null,
      "outputs": [
        {
          "output_type": "execute_result",
          "data": {
            "text/plain": [
              "[]"
            ]
          },
          "metadata": {},
          "execution_count": 16
        }
      ]
    },
    {
      "cell_type": "code",
      "source": [
        ""
      ],
      "metadata": {
        "id": "o8B45n94q9Wd"
      },
      "execution_count": null,
      "outputs": []
    },
    {
      "cell_type": "code",
      "source": [
        "entity_pairs"
      ],
      "metadata": {
        "colab": {
          "base_uri": "https://localhost:8080/"
        },
        "id": "QveoPU3Ela1V",
        "outputId": "af2c4f85-5b44-49e1-b295-5eb1ee32609f"
      },
      "execution_count": null,
      "outputs": [
        {
          "output_type": "execute_result",
          "data": {
            "text/plain": [
              "[]"
            ]
          },
          "metadata": {},
          "execution_count": 28
        }
      ]
    },
    {
      "cell_type": "code",
      "source": [
        "def get_relation(sent):\n",
        "\n",
        "  doc = nlp(sent)\n",
        "\n",
        "  # Matcher class object \n",
        "  matcher = Matcher(nlp.vocab)\n",
        "\n",
        "  #define the pattern \n",
        "  pattern = [{'DEP':'ROOT'}, \n",
        "            {'DEP':'prep','OP':\"?\"},\n",
        "            {'DEP':'agent','OP':\"?\"},  \n",
        "            {'POS':'ADJ','OP':\"?\"}] \n",
        "\n",
        "  matcher.add(\"matching_1\", [pattern], on_match=None) \n",
        "\n",
        "  matches = matcher(doc)\n",
        "  k = len(matches) - 1\n",
        "\n",
        "  span = doc[matches[k][1]:matches[k][2]] \n",
        "\n",
        "  return(span.text)"
      ],
      "metadata": {
        "id": "B2S0EqNrVPB2"
      },
      "execution_count": null,
      "outputs": []
    },
    {
      "cell_type": "code",
      "source": [
        "# verb\n",
        "get_relation(\"Salman Rushdie: The writer who emerged from hiding.\")"
      ],
      "metadata": {
        "colab": {
          "base_uri": "https://localhost:8080/",
          "height": 37
        },
        "id": "s1CsfyF2VPFG",
        "outputId": "440fcb3f-d4ad-4708-b447-412752958713"
      },
      "execution_count": null,
      "outputs": [
        {
          "output_type": "execute_result",
          "data": {
            "text/plain": [
              "'Rushdie'"
            ],
            "application/vnd.google.colaboratory.intrinsic+json": {
              "type": "string"
            }
          },
          "metadata": {},
          "execution_count": 18
        }
      ]
    },
    {
      "cell_type": "code",
      "source": [
        "# the column name is 0\n",
        "relations = [get_relation(i) for i in tqdm(headlines['0'])]"
      ],
      "metadata": {
        "colab": {
          "base_uri": "https://localhost:8080/"
        },
        "id": "oKX7yG5qVZP2",
        "outputId": "389a2f00-9bb2-429b-8f23-719581c975c0"
      },
      "execution_count": null,
      "outputs": [
        {
          "output_type": "stream",
          "name": "stderr",
          "text": [
            "100%|██████████| 47/47 [00:00<00:00, 121.91it/s]\n"
          ]
        }
      ]
    },
    {
      "cell_type": "code",
      "source": [
        "entity_pairs = []\n",
        "\n",
        "for i in tqdm(headlines[\"0\"]):\n",
        "  entity_pairs.append(get_entities(i))"
      ],
      "metadata": {
        "colab": {
          "base_uri": "https://localhost:8080/"
        },
        "id": "bps69UjUq9Tw",
        "outputId": "7eab0a91-ef54-4c59-c868-f8bdb91e7e0d"
      },
      "execution_count": null,
      "outputs": [
        {
          "output_type": "stream",
          "name": "stderr",
          "text": [
            "100%|██████████| 47/47 [00:00<00:00, 130.01it/s]\n"
          ]
        }
      ]
    },
    {
      "cell_type": "code",
      "source": [
        "entity_pairs[10:20]"
      ],
      "metadata": {
        "colab": {
          "base_uri": "https://localhost:8080/"
        },
        "id": "4JDBlngglLYg",
        "outputId": "e49bf481-eeee-4e06-d3c1-972a8377dcaf"
      },
      "execution_count": null,
      "outputs": [
        {
          "output_type": "execute_result",
          "data": {
            "text/plain": [
              "[['', 'defiant  remains'],\n",
              " ['who', ''],\n",
              " ['', 'defiant  remains'],\n",
              " ['who', ''],\n",
              " ['Sprinter', 'second  police'],\n",
              " ['Russia', 'friendly bond traders'],\n",
              " ['Saudi oil giant', '$ profit 48.4bn'],\n",
              " ['', ''],\n",
              " ['Afghan  leaders', 'Taliban rule'],\n",
              " ['We', 'Olympic  dream']]"
            ]
          },
          "metadata": {},
          "execution_count": 32
        }
      ]
    },
    {
      "cell_type": "code",
      "source": [
        "kg_df.head()"
      ],
      "metadata": {
        "colab": {
          "base_uri": "https://localhost:8080/",
          "height": 204
        },
        "id": "ElukZQT236A7",
        "outputId": "cebad89a-5294-4cc6-d5b9-20e817581830"
      },
      "execution_count": null,
      "outputs": [
        {
          "output_type": "execute_result",
          "data": {
            "text/plain": [
              "             source                         target    edge\n",
              "0                                year Taliban rule    From\n",
              "1                                year Taliban rule    From\n",
              "2                We       who church fire survivor   saved\n",
              "3  Australian Ex PM                  secret  roles   weird\n",
              "4                    Covid Remote Pacific outbreak  nation"
            ],
            "text/html": [
              "\n",
              "  <div id=\"df-55d39ead-38d0-424d-9570-fd1e5b7269dc\">\n",
              "    <div class=\"colab-df-container\">\n",
              "      <div>\n",
              "<style scoped>\n",
              "    .dataframe tbody tr th:only-of-type {\n",
              "        vertical-align: middle;\n",
              "    }\n",
              "\n",
              "    .dataframe tbody tr th {\n",
              "        vertical-align: top;\n",
              "    }\n",
              "\n",
              "    .dataframe thead th {\n",
              "        text-align: right;\n",
              "    }\n",
              "</style>\n",
              "<table border=\"1\" class=\"dataframe\">\n",
              "  <thead>\n",
              "    <tr style=\"text-align: right;\">\n",
              "      <th></th>\n",
              "      <th>source</th>\n",
              "      <th>target</th>\n",
              "      <th>edge</th>\n",
              "    </tr>\n",
              "  </thead>\n",
              "  <tbody>\n",
              "    <tr>\n",
              "      <th>0</th>\n",
              "      <td></td>\n",
              "      <td>year Taliban rule</td>\n",
              "      <td>From</td>\n",
              "    </tr>\n",
              "    <tr>\n",
              "      <th>1</th>\n",
              "      <td></td>\n",
              "      <td>year Taliban rule</td>\n",
              "      <td>From</td>\n",
              "    </tr>\n",
              "    <tr>\n",
              "      <th>2</th>\n",
              "      <td>We</td>\n",
              "      <td>who church fire survivor</td>\n",
              "      <td>saved</td>\n",
              "    </tr>\n",
              "    <tr>\n",
              "      <th>3</th>\n",
              "      <td>Australian Ex PM</td>\n",
              "      <td>secret  roles</td>\n",
              "      <td>weird</td>\n",
              "    </tr>\n",
              "    <tr>\n",
              "      <th>4</th>\n",
              "      <td></td>\n",
              "      <td>Covid Remote Pacific outbreak</td>\n",
              "      <td>nation</td>\n",
              "    </tr>\n",
              "  </tbody>\n",
              "</table>\n",
              "</div>\n",
              "      <button class=\"colab-df-convert\" onclick=\"convertToInteractive('df-55d39ead-38d0-424d-9570-fd1e5b7269dc')\"\n",
              "              title=\"Convert this dataframe to an interactive table.\"\n",
              "              style=\"display:none;\">\n",
              "        \n",
              "  <svg xmlns=\"http://www.w3.org/2000/svg\" height=\"24px\"viewBox=\"0 0 24 24\"\n",
              "       width=\"24px\">\n",
              "    <path d=\"M0 0h24v24H0V0z\" fill=\"none\"/>\n",
              "    <path d=\"M18.56 5.44l.94 2.06.94-2.06 2.06-.94-2.06-.94-.94-2.06-.94 2.06-2.06.94zm-11 1L8.5 8.5l.94-2.06 2.06-.94-2.06-.94L8.5 2.5l-.94 2.06-2.06.94zm10 10l.94 2.06.94-2.06 2.06-.94-2.06-.94-.94-2.06-.94 2.06-2.06.94z\"/><path d=\"M17.41 7.96l-1.37-1.37c-.4-.4-.92-.59-1.43-.59-.52 0-1.04.2-1.43.59L10.3 9.45l-7.72 7.72c-.78.78-.78 2.05 0 2.83L4 21.41c.39.39.9.59 1.41.59.51 0 1.02-.2 1.41-.59l7.78-7.78 2.81-2.81c.8-.78.8-2.07 0-2.86zM5.41 20L4 18.59l7.72-7.72 1.47 1.35L5.41 20z\"/>\n",
              "  </svg>\n",
              "      </button>\n",
              "      \n",
              "  <style>\n",
              "    .colab-df-container {\n",
              "      display:flex;\n",
              "      flex-wrap:wrap;\n",
              "      gap: 12px;\n",
              "    }\n",
              "\n",
              "    .colab-df-convert {\n",
              "      background-color: #E8F0FE;\n",
              "      border: none;\n",
              "      border-radius: 50%;\n",
              "      cursor: pointer;\n",
              "      display: none;\n",
              "      fill: #1967D2;\n",
              "      height: 32px;\n",
              "      padding: 0 0 0 0;\n",
              "      width: 32px;\n",
              "    }\n",
              "\n",
              "    .colab-df-convert:hover {\n",
              "      background-color: #E2EBFA;\n",
              "      box-shadow: 0px 1px 2px rgba(60, 64, 67, 0.3), 0px 1px 3px 1px rgba(60, 64, 67, 0.15);\n",
              "      fill: #174EA6;\n",
              "    }\n",
              "\n",
              "    [theme=dark] .colab-df-convert {\n",
              "      background-color: #3B4455;\n",
              "      fill: #D2E3FC;\n",
              "    }\n",
              "\n",
              "    [theme=dark] .colab-df-convert:hover {\n",
              "      background-color: #434B5C;\n",
              "      box-shadow: 0px 1px 3px 1px rgba(0, 0, 0, 0.15);\n",
              "      filter: drop-shadow(0px 1px 2px rgba(0, 0, 0, 0.3));\n",
              "      fill: #FFFFFF;\n",
              "    }\n",
              "  </style>\n",
              "\n",
              "      <script>\n",
              "        const buttonEl =\n",
              "          document.querySelector('#df-55d39ead-38d0-424d-9570-fd1e5b7269dc button.colab-df-convert');\n",
              "        buttonEl.style.display =\n",
              "          google.colab.kernel.accessAllowed ? 'block' : 'none';\n",
              "\n",
              "        async function convertToInteractive(key) {\n",
              "          const element = document.querySelector('#df-55d39ead-38d0-424d-9570-fd1e5b7269dc');\n",
              "          const dataTable =\n",
              "            await google.colab.kernel.invokeFunction('convertToInteractive',\n",
              "                                                     [key], {});\n",
              "          if (!dataTable) return;\n",
              "\n",
              "          const docLinkHtml = 'Like what you see? Visit the ' +\n",
              "            '<a target=\"_blank\" href=https://colab.research.google.com/notebooks/data_table.ipynb>data table notebook</a>'\n",
              "            + ' to learn more about interactive tables.';\n",
              "          element.innerHTML = '';\n",
              "          dataTable['output_type'] = 'display_data';\n",
              "          await google.colab.output.renderOutput(dataTable, element);\n",
              "          const docLink = document.createElement('div');\n",
              "          docLink.innerHTML = docLinkHtml;\n",
              "          element.appendChild(docLink);\n",
              "        }\n",
              "      </script>\n",
              "    </div>\n",
              "  </div>\n",
              "  "
            ]
          },
          "metadata": {},
          "execution_count": 46
        }
      ]
    },
    {
      "cell_type": "code",
      "source": [
        "kg_df"
      ],
      "metadata": {
        "colab": {
          "base_uri": "https://localhost:8080/",
          "height": 1000
        },
        "id": "SnIoz0no36DK",
        "outputId": "173fec36-7734-4d29-956f-608203cd16ab"
      },
      "execution_count": null,
      "outputs": [
        {
          "output_type": "execute_result",
          "data": {
            "text/plain": [
              "                     source                         target               edge\n",
              "0                                        year Taliban rule               From\n",
              "1                                        year Taliban rule               From\n",
              "2                        We       who church fire survivor              saved\n",
              "3          Australian Ex PM                  secret  roles              weird\n",
              "4                            Covid Remote Pacific outbreak             nation\n",
              "5                                            Ecuador gangs     declaration of\n",
              "6                    Russia                    North Korea               vows\n",
              "7       Fireworks explosion        Armenia shopping market              rocks\n",
              "8                     Kenya   presidential election result                set\n",
              "9             World leaders                         oceans            meet in\n",
              "10                                        defiant  remains           sense of\n",
              "11                      who                                               put\n",
              "12                                        defiant  remains           sense of\n",
              "13                      who                                               put\n",
              "14                 Sprinter                 second  police             pulled\n",
              "15                   Russia          friendly bond traders            reopens\n",
              "16          Saudi oil giant                $ profit 48.4bn             breaks\n",
              "17                                                                   promises\n",
              "18          Afghan  leaders                   Taliban rule               mark\n",
              "19                       We                 Olympic  dream               fled\n",
              "20                      who                        Taliban          librarian\n",
              "21           Taliban sniper                      now  desk     working behind\n",
              "22        New York governor                                           defiant\n",
              "23                                                                         TV\n",
              "24                                                                      Radio\n",
              "25  Australian 40 mangroves                                             wiped\n",
              "26             musical  you                                            genius\n",
              "27                       We                            God        waiting for\n",
              "28                                                     sky            Pulling\n",
              "29                                 young Partition Indians  baggage for young\n",
              "30     How DIY loudspeakers                  freedom fight            powered\n",
              "31                                    lost airline luggage               tech\n",
              "32        Why British India                                       partitioned\n",
              "33              How  racism                   black  Italy       haunts black\n",
              "34                       me                                             story\n",
              "35                   Fringe                          money         performers\n",
              "36                                    huge fuel price rise            Fear in\n",
              "37             How  mammals                          world                won\n",
              "38                                            layoff taboo             end of\n",
              "39                                  floating Lake Titicaca           homes of\n",
              "40                                           20th  Century           novel of\n",
              "41                                       sustainable  fish                way\n",
              "42                                       new  overthinkers        problem for\n",
              "43                                        Spanish  mistake               town\n",
              "44                                                                 newsletter\n",
              "45                                                                        app\n",
              "46                                                   touch             Get in"
            ],
            "text/html": [
              "\n",
              "  <div id=\"df-07616aa6-f90d-41e9-97d6-28e6232f43f8\">\n",
              "    <div class=\"colab-df-container\">\n",
              "      <div>\n",
              "<style scoped>\n",
              "    .dataframe tbody tr th:only-of-type {\n",
              "        vertical-align: middle;\n",
              "    }\n",
              "\n",
              "    .dataframe tbody tr th {\n",
              "        vertical-align: top;\n",
              "    }\n",
              "\n",
              "    .dataframe thead th {\n",
              "        text-align: right;\n",
              "    }\n",
              "</style>\n",
              "<table border=\"1\" class=\"dataframe\">\n",
              "  <thead>\n",
              "    <tr style=\"text-align: right;\">\n",
              "      <th></th>\n",
              "      <th>source</th>\n",
              "      <th>target</th>\n",
              "      <th>edge</th>\n",
              "    </tr>\n",
              "  </thead>\n",
              "  <tbody>\n",
              "    <tr>\n",
              "      <th>0</th>\n",
              "      <td></td>\n",
              "      <td>year Taliban rule</td>\n",
              "      <td>From</td>\n",
              "    </tr>\n",
              "    <tr>\n",
              "      <th>1</th>\n",
              "      <td></td>\n",
              "      <td>year Taliban rule</td>\n",
              "      <td>From</td>\n",
              "    </tr>\n",
              "    <tr>\n",
              "      <th>2</th>\n",
              "      <td>We</td>\n",
              "      <td>who church fire survivor</td>\n",
              "      <td>saved</td>\n",
              "    </tr>\n",
              "    <tr>\n",
              "      <th>3</th>\n",
              "      <td>Australian Ex PM</td>\n",
              "      <td>secret  roles</td>\n",
              "      <td>weird</td>\n",
              "    </tr>\n",
              "    <tr>\n",
              "      <th>4</th>\n",
              "      <td></td>\n",
              "      <td>Covid Remote Pacific outbreak</td>\n",
              "      <td>nation</td>\n",
              "    </tr>\n",
              "    <tr>\n",
              "      <th>5</th>\n",
              "      <td></td>\n",
              "      <td>Ecuador gangs</td>\n",
              "      <td>declaration of</td>\n",
              "    </tr>\n",
              "    <tr>\n",
              "      <th>6</th>\n",
              "      <td>Russia</td>\n",
              "      <td>North Korea</td>\n",
              "      <td>vows</td>\n",
              "    </tr>\n",
              "    <tr>\n",
              "      <th>7</th>\n",
              "      <td>Fireworks explosion</td>\n",
              "      <td>Armenia shopping market</td>\n",
              "      <td>rocks</td>\n",
              "    </tr>\n",
              "    <tr>\n",
              "      <th>8</th>\n",
              "      <td>Kenya</td>\n",
              "      <td>presidential election result</td>\n",
              "      <td>set</td>\n",
              "    </tr>\n",
              "    <tr>\n",
              "      <th>9</th>\n",
              "      <td>World leaders</td>\n",
              "      <td>oceans</td>\n",
              "      <td>meet in</td>\n",
              "    </tr>\n",
              "    <tr>\n",
              "      <th>10</th>\n",
              "      <td></td>\n",
              "      <td>defiant  remains</td>\n",
              "      <td>sense of</td>\n",
              "    </tr>\n",
              "    <tr>\n",
              "      <th>11</th>\n",
              "      <td>who</td>\n",
              "      <td></td>\n",
              "      <td>put</td>\n",
              "    </tr>\n",
              "    <tr>\n",
              "      <th>12</th>\n",
              "      <td></td>\n",
              "      <td>defiant  remains</td>\n",
              "      <td>sense of</td>\n",
              "    </tr>\n",
              "    <tr>\n",
              "      <th>13</th>\n",
              "      <td>who</td>\n",
              "      <td></td>\n",
              "      <td>put</td>\n",
              "    </tr>\n",
              "    <tr>\n",
              "      <th>14</th>\n",
              "      <td>Sprinter</td>\n",
              "      <td>second  police</td>\n",
              "      <td>pulled</td>\n",
              "    </tr>\n",
              "    <tr>\n",
              "      <th>15</th>\n",
              "      <td>Russia</td>\n",
              "      <td>friendly bond traders</td>\n",
              "      <td>reopens</td>\n",
              "    </tr>\n",
              "    <tr>\n",
              "      <th>16</th>\n",
              "      <td>Saudi oil giant</td>\n",
              "      <td>$ profit 48.4bn</td>\n",
              "      <td>breaks</td>\n",
              "    </tr>\n",
              "    <tr>\n",
              "      <th>17</th>\n",
              "      <td></td>\n",
              "      <td></td>\n",
              "      <td>promises</td>\n",
              "    </tr>\n",
              "    <tr>\n",
              "      <th>18</th>\n",
              "      <td>Afghan  leaders</td>\n",
              "      <td>Taliban rule</td>\n",
              "      <td>mark</td>\n",
              "    </tr>\n",
              "    <tr>\n",
              "      <th>19</th>\n",
              "      <td>We</td>\n",
              "      <td>Olympic  dream</td>\n",
              "      <td>fled</td>\n",
              "    </tr>\n",
              "    <tr>\n",
              "      <th>20</th>\n",
              "      <td>who</td>\n",
              "      <td>Taliban</td>\n",
              "      <td>librarian</td>\n",
              "    </tr>\n",
              "    <tr>\n",
              "      <th>21</th>\n",
              "      <td>Taliban sniper</td>\n",
              "      <td>now  desk</td>\n",
              "      <td>working behind</td>\n",
              "    </tr>\n",
              "    <tr>\n",
              "      <th>22</th>\n",
              "      <td>New York governor</td>\n",
              "      <td></td>\n",
              "      <td>defiant</td>\n",
              "    </tr>\n",
              "    <tr>\n",
              "      <th>23</th>\n",
              "      <td></td>\n",
              "      <td></td>\n",
              "      <td>TV</td>\n",
              "    </tr>\n",
              "    <tr>\n",
              "      <th>24</th>\n",
              "      <td></td>\n",
              "      <td></td>\n",
              "      <td>Radio</td>\n",
              "    </tr>\n",
              "    <tr>\n",
              "      <th>25</th>\n",
              "      <td>Australian 40 mangroves</td>\n",
              "      <td></td>\n",
              "      <td>wiped</td>\n",
              "    </tr>\n",
              "    <tr>\n",
              "      <th>26</th>\n",
              "      <td>musical  you</td>\n",
              "      <td></td>\n",
              "      <td>genius</td>\n",
              "    </tr>\n",
              "    <tr>\n",
              "      <th>27</th>\n",
              "      <td>We</td>\n",
              "      <td>God</td>\n",
              "      <td>waiting for</td>\n",
              "    </tr>\n",
              "    <tr>\n",
              "      <th>28</th>\n",
              "      <td></td>\n",
              "      <td>sky</td>\n",
              "      <td>Pulling</td>\n",
              "    </tr>\n",
              "    <tr>\n",
              "      <th>29</th>\n",
              "      <td></td>\n",
              "      <td>young Partition Indians</td>\n",
              "      <td>baggage for young</td>\n",
              "    </tr>\n",
              "    <tr>\n",
              "      <th>30</th>\n",
              "      <td>How DIY loudspeakers</td>\n",
              "      <td>freedom fight</td>\n",
              "      <td>powered</td>\n",
              "    </tr>\n",
              "    <tr>\n",
              "      <th>31</th>\n",
              "      <td></td>\n",
              "      <td>lost airline luggage</td>\n",
              "      <td>tech</td>\n",
              "    </tr>\n",
              "    <tr>\n",
              "      <th>32</th>\n",
              "      <td>Why British India</td>\n",
              "      <td></td>\n",
              "      <td>partitioned</td>\n",
              "    </tr>\n",
              "    <tr>\n",
              "      <th>33</th>\n",
              "      <td>How  racism</td>\n",
              "      <td>black  Italy</td>\n",
              "      <td>haunts black</td>\n",
              "    </tr>\n",
              "    <tr>\n",
              "      <th>34</th>\n",
              "      <td>me</td>\n",
              "      <td></td>\n",
              "      <td>story</td>\n",
              "    </tr>\n",
              "    <tr>\n",
              "      <th>35</th>\n",
              "      <td>Fringe</td>\n",
              "      <td>money</td>\n",
              "      <td>performers</td>\n",
              "    </tr>\n",
              "    <tr>\n",
              "      <th>36</th>\n",
              "      <td></td>\n",
              "      <td>huge fuel price rise</td>\n",
              "      <td>Fear in</td>\n",
              "    </tr>\n",
              "    <tr>\n",
              "      <th>37</th>\n",
              "      <td>How  mammals</td>\n",
              "      <td>world</td>\n",
              "      <td>won</td>\n",
              "    </tr>\n",
              "    <tr>\n",
              "      <th>38</th>\n",
              "      <td></td>\n",
              "      <td>layoff taboo</td>\n",
              "      <td>end of</td>\n",
              "    </tr>\n",
              "    <tr>\n",
              "      <th>39</th>\n",
              "      <td></td>\n",
              "      <td>floating Lake Titicaca</td>\n",
              "      <td>homes of</td>\n",
              "    </tr>\n",
              "    <tr>\n",
              "      <th>40</th>\n",
              "      <td></td>\n",
              "      <td>20th  Century</td>\n",
              "      <td>novel of</td>\n",
              "    </tr>\n",
              "    <tr>\n",
              "      <th>41</th>\n",
              "      <td></td>\n",
              "      <td>sustainable  fish</td>\n",
              "      <td>way</td>\n",
              "    </tr>\n",
              "    <tr>\n",
              "      <th>42</th>\n",
              "      <td></td>\n",
              "      <td>new  overthinkers</td>\n",
              "      <td>problem for</td>\n",
              "    </tr>\n",
              "    <tr>\n",
              "      <th>43</th>\n",
              "      <td></td>\n",
              "      <td>Spanish  mistake</td>\n",
              "      <td>town</td>\n",
              "    </tr>\n",
              "    <tr>\n",
              "      <th>44</th>\n",
              "      <td></td>\n",
              "      <td></td>\n",
              "      <td>newsletter</td>\n",
              "    </tr>\n",
              "    <tr>\n",
              "      <th>45</th>\n",
              "      <td></td>\n",
              "      <td></td>\n",
              "      <td>app</td>\n",
              "    </tr>\n",
              "    <tr>\n",
              "      <th>46</th>\n",
              "      <td></td>\n",
              "      <td>touch</td>\n",
              "      <td>Get in</td>\n",
              "    </tr>\n",
              "  </tbody>\n",
              "</table>\n",
              "</div>\n",
              "      <button class=\"colab-df-convert\" onclick=\"convertToInteractive('df-07616aa6-f90d-41e9-97d6-28e6232f43f8')\"\n",
              "              title=\"Convert this dataframe to an interactive table.\"\n",
              "              style=\"display:none;\">\n",
              "        \n",
              "  <svg xmlns=\"http://www.w3.org/2000/svg\" height=\"24px\"viewBox=\"0 0 24 24\"\n",
              "       width=\"24px\">\n",
              "    <path d=\"M0 0h24v24H0V0z\" fill=\"none\"/>\n",
              "    <path d=\"M18.56 5.44l.94 2.06.94-2.06 2.06-.94-2.06-.94-.94-2.06-.94 2.06-2.06.94zm-11 1L8.5 8.5l.94-2.06 2.06-.94-2.06-.94L8.5 2.5l-.94 2.06-2.06.94zm10 10l.94 2.06.94-2.06 2.06-.94-2.06-.94-.94-2.06-.94 2.06-2.06.94z\"/><path d=\"M17.41 7.96l-1.37-1.37c-.4-.4-.92-.59-1.43-.59-.52 0-1.04.2-1.43.59L10.3 9.45l-7.72 7.72c-.78.78-.78 2.05 0 2.83L4 21.41c.39.39.9.59 1.41.59.51 0 1.02-.2 1.41-.59l7.78-7.78 2.81-2.81c.8-.78.8-2.07 0-2.86zM5.41 20L4 18.59l7.72-7.72 1.47 1.35L5.41 20z\"/>\n",
              "  </svg>\n",
              "      </button>\n",
              "      \n",
              "  <style>\n",
              "    .colab-df-container {\n",
              "      display:flex;\n",
              "      flex-wrap:wrap;\n",
              "      gap: 12px;\n",
              "    }\n",
              "\n",
              "    .colab-df-convert {\n",
              "      background-color: #E8F0FE;\n",
              "      border: none;\n",
              "      border-radius: 50%;\n",
              "      cursor: pointer;\n",
              "      display: none;\n",
              "      fill: #1967D2;\n",
              "      height: 32px;\n",
              "      padding: 0 0 0 0;\n",
              "      width: 32px;\n",
              "    }\n",
              "\n",
              "    .colab-df-convert:hover {\n",
              "      background-color: #E2EBFA;\n",
              "      box-shadow: 0px 1px 2px rgba(60, 64, 67, 0.3), 0px 1px 3px 1px rgba(60, 64, 67, 0.15);\n",
              "      fill: #174EA6;\n",
              "    }\n",
              "\n",
              "    [theme=dark] .colab-df-convert {\n",
              "      background-color: #3B4455;\n",
              "      fill: #D2E3FC;\n",
              "    }\n",
              "\n",
              "    [theme=dark] .colab-df-convert:hover {\n",
              "      background-color: #434B5C;\n",
              "      box-shadow: 0px 1px 3px 1px rgba(0, 0, 0, 0.15);\n",
              "      filter: drop-shadow(0px 1px 2px rgba(0, 0, 0, 0.3));\n",
              "      fill: #FFFFFF;\n",
              "    }\n",
              "  </style>\n",
              "\n",
              "      <script>\n",
              "        const buttonEl =\n",
              "          document.querySelector('#df-07616aa6-f90d-41e9-97d6-28e6232f43f8 button.colab-df-convert');\n",
              "        buttonEl.style.display =\n",
              "          google.colab.kernel.accessAllowed ? 'block' : 'none';\n",
              "\n",
              "        async function convertToInteractive(key) {\n",
              "          const element = document.querySelector('#df-07616aa6-f90d-41e9-97d6-28e6232f43f8');\n",
              "          const dataTable =\n",
              "            await google.colab.kernel.invokeFunction('convertToInteractive',\n",
              "                                                     [key], {});\n",
              "          if (!dataTable) return;\n",
              "\n",
              "          const docLinkHtml = 'Like what you see? Visit the ' +\n",
              "            '<a target=\"_blank\" href=https://colab.research.google.com/notebooks/data_table.ipynb>data table notebook</a>'\n",
              "            + ' to learn more about interactive tables.';\n",
              "          element.innerHTML = '';\n",
              "          dataTable['output_type'] = 'display_data';\n",
              "          await google.colab.output.renderOutput(dataTable, element);\n",
              "          const docLink = document.createElement('div');\n",
              "          docLink.innerHTML = docLinkHtml;\n",
              "          element.appendChild(docLink);\n",
              "        }\n",
              "      </script>\n",
              "    </div>\n",
              "  </div>\n",
              "  "
            ]
          },
          "metadata": {},
          "execution_count": 47
        }
      ]
    },
    {
      "cell_type": "code",
      "source": [
        "nltk.download('punkt')"
      ],
      "metadata": {
        "colab": {
          "base_uri": "https://localhost:8080/"
        },
        "id": "laFJibj5lLaa",
        "outputId": "4f64835f-69e5-4e18-db98-7e2c82f3de4e"
      },
      "execution_count": null,
      "outputs": [
        {
          "output_type": "stream",
          "name": "stderr",
          "text": [
            "[nltk_data] Downloading package punkt to /root/nltk_data...\n",
            "[nltk_data]   Package punkt is already up-to-date!\n"
          ]
        },
        {
          "output_type": "execute_result",
          "data": {
            "text/plain": [
              "True"
            ]
          },
          "metadata": {},
          "execution_count": 33
        }
      ]
    },
    {
      "cell_type": "code",
      "source": [
        "# verb count\n",
        "pd.Series(relations).value_counts()[:50]"
      ],
      "metadata": {
        "colab": {
          "base_uri": "https://localhost:8080/"
        },
        "id": "uz-x-HO5VZXk",
        "outputId": "25e5cec4-d2f4-42ad-f870-c447315e9465"
      },
      "execution_count": null,
      "outputs": [
        {
          "output_type": "execute_result",
          "data": {
            "text/plain": [
              "From                 2\n",
              "sense of             2\n",
              "put                  2\n",
              "Fear in              1\n",
              "Pulling              1\n",
              "baggage for young    1\n",
              "powered              1\n",
              "tech                 1\n",
              "partitioned          1\n",
              "haunts black         1\n",
              "story                1\n",
              "performers           1\n",
              "end of               1\n",
              "won                  1\n",
              "genius               1\n",
              "homes of             1\n",
              "novel of             1\n",
              "way                  1\n",
              "problem for          1\n",
              "town                 1\n",
              "newsletter           1\n",
              "app                  1\n",
              "waiting for          1\n",
              "wiped                1\n",
              "saved                1\n",
              "Radio                1\n",
              "weird                1\n",
              "nation               1\n",
              "declaration of       1\n",
              "vows                 1\n",
              "rocks                1\n",
              "set                  1\n",
              "meet in              1\n",
              "pulled               1\n",
              "reopens              1\n",
              "breaks               1\n",
              "promises             1\n",
              "mark                 1\n",
              "fled                 1\n",
              "librarian            1\n",
              "working behind       1\n",
              "defiant              1\n",
              "TV                   1\n",
              "Get in               1\n",
              "dtype: int64"
            ]
          },
          "metadata": {},
          "execution_count": 34
        }
      ]
    },
    {
      "cell_type": "code",
      "source": [
        "import nltk  \n",
        "\n",
        "textsample =\"Kenya elections 2022: Live result updates. King Goat removed from 'throne' as Irish heat soars. Kenya elections 2022: Live result updates. Drought on the Rhine: 'We have 30cm of water left'. Hacking not behind Kenya’s slow count - commission. Nuclear warning and clean-up raves - Ukraine round-up.\"  \n",
        "\n",
        "sentences = nltk.sent_tokenize(textsample)  \n",
        "words = nltk.word_tokenize(textsample)  \n",
        "sentences \n",
        "[w for w in words if w.isalpha()]"
      ],
      "metadata": {
        "id": "t6MFAiqPcph6",
        "colab": {
          "base_uri": "https://localhost:8080/"
        },
        "outputId": "d7dfcb68-1512-40d8-979b-59b34ffac94a"
      },
      "execution_count": null,
      "outputs": [
        {
          "output_type": "execute_result",
          "data": {
            "text/plain": [
              "['Kenya',\n",
              " 'elections',\n",
              " 'Live',\n",
              " 'result',\n",
              " 'updates',\n",
              " 'King',\n",
              " 'Goat',\n",
              " 'removed',\n",
              " 'from',\n",
              " 'as',\n",
              " 'Irish',\n",
              " 'heat',\n",
              " 'soars',\n",
              " 'Kenya',\n",
              " 'elections',\n",
              " 'Live',\n",
              " 'result',\n",
              " 'updates',\n",
              " 'Drought',\n",
              " 'on',\n",
              " 'the',\n",
              " 'Rhine',\n",
              " 'have',\n",
              " 'of',\n",
              " 'water',\n",
              " 'left',\n",
              " 'Hacking',\n",
              " 'not',\n",
              " 'behind',\n",
              " 'Kenya',\n",
              " 's',\n",
              " 'slow',\n",
              " 'count',\n",
              " 'commission',\n",
              " 'Nuclear',\n",
              " 'warning',\n",
              " 'and',\n",
              " 'raves',\n",
              " 'Ukraine']"
            ]
          },
          "metadata": {},
          "execution_count": 53
        }
      ]
    },
    {
      "cell_type": "code",
      "source": [
        "sentences"
      ],
      "metadata": {
        "colab": {
          "base_uri": "https://localhost:8080/"
        },
        "id": "X1hiDKmPtTc-",
        "outputId": "5fc67b66-a417-46cc-eca8-a3e4a7997110"
      },
      "execution_count": null,
      "outputs": [
        {
          "output_type": "execute_result",
          "data": {
            "text/plain": [
              "['Kenya elections 2022: Live result updates.',\n",
              " \"King Goat removed from 'throne' as Irish heat soars.\",\n",
              " 'Kenya elections 2022: Live result updates.',\n",
              " \"Drought on the Rhine: 'We have 30cm of water left'.\",\n",
              " 'Hacking not behind Kenya’s slow count - commission.',\n",
              " 'Nuclear warning and clean-up raves - Ukraine round-up.']"
            ]
          },
          "metadata": {},
          "execution_count": 36
        }
      ]
    },
    {
      "cell_type": "code",
      "source": [
        "a_list = nltk.tokenize.sent_tokenize(textsample)"
      ],
      "metadata": {
        "id": "rX8Ca2FlakaF"
      },
      "execution_count": null,
      "outputs": []
    },
    {
      "cell_type": "code",
      "source": [
        "print(a_list)"
      ],
      "metadata": {
        "colab": {
          "base_uri": "https://localhost:8080/"
        },
        "id": "sJQiZS1IdSOa",
        "outputId": "139a5747-2889-428d-d5a9-250a4c70b6f9"
      },
      "execution_count": null,
      "outputs": [
        {
          "output_type": "stream",
          "name": "stdout",
          "text": [
            "['Kenya elections 2022: Live result updates.', \"King Goat removed from 'throne' as Irish heat soars.\", 'Kenya elections 2022: Live result updates.', \"Drought on the Rhine: 'We have 30cm of water left'.\", 'Hacking not behind Kenya’s slow count - commission.', 'Nuclear warning and clean-up raves - Ukraine round-up.']\n"
          ]
        }
      ]
    },
    {
      "cell_type": "code",
      "source": [
        ""
      ],
      "metadata": {
        "id": "bOJdzRhgtiMT"
      },
      "execution_count": null,
      "outputs": []
    },
    {
      "cell_type": "code",
      "source": [
        ""
      ],
      "metadata": {
        "id": "NRW9XIlHtiYa"
      },
      "execution_count": null,
      "outputs": []
    },
    {
      "cell_type": "code",
      "source": [
        "# extract subject\n",
        "source = [i[0] for i in entity_pairs]\n",
        "# extract object\n",
        "target = [i[1] for i in entity_pairs]\n",
        "\n",
        "kg_df = pd.DataFrame({'source':source, 'target':target, 'edge':relations})"
      ],
      "metadata": {
        "id": "J6ObAhzoVZa1"
      },
      "execution_count": null,
      "outputs": []
    },
    {
      "cell_type": "code",
      "source": [
        "# Make a search with the Wikipedia API"
      ],
      "metadata": {
        "id": "2RU_ioHb6pS8"
      },
      "execution_count": null,
      "outputs": []
    },
    {
      "cell_type": "code",
      "source": [
        "# create a directed-graph from a dataframe\n",
        "G=nx.from_pandas_edgelist(kg_df, \"source\", \"target\", \n",
        "                          edge_attr=True, create_using=nx.MultiDiGraph())"
      ],
      "metadata": {
        "id": "8t01CauG6qNu"
      },
      "execution_count": null,
      "outputs": []
    },
    {
      "cell_type": "code",
      "source": [
        "plt.figure(figsize=(12,12))\n",
        "\n",
        "pos = nx.spring_layout(G)\n",
        "nx.draw(G, with_labels=True, node_color='tan', edge_cmap=plt.cm.Greys, pos = pos)\n",
        "plt.show()"
      ],
      "metadata": {
        "id": "jtUa_hf_6q6c",
        "colab": {
          "base_uri": "https://localhost:8080/",
          "height": 895
        },
        "outputId": "9fb1cc84-da82-46f1-a1b3-aba390c4329a"
      },
      "execution_count": null,
      "outputs": [
        {
          "output_type": "display_data",
          "data": {
            "text/plain": [
              "<Figure size 864x864 with 1 Axes>"
            ],
            "image/png": "[encoded data removed]"
          },
          "metadata": {}
        }
      ]
    },
    {
      "cell_type": "code",
      "source": [
        "H=nx.from_pandas_edgelist(kg_df[kg_df['edge']==\"powered\"], \"source\", \"target\", \n",
        "                          edge_attr=True, create_using=nx.MultiDiGraph())\n",
        "\n",
        "plt.figure(figsize=(12,12))\n",
        "pos = nx.spring_layout(H, k = 0.9) # k regulates the distance between nodes\n",
        "nx.draw(H, with_labels=True, node_color='grey', node_size=1500, edge_cmap=plt.cm.Greys, pos = pos)\n",
        "plt.show()"
      ],
      "metadata": {
        "id": "tjNPuw7m6r5d",
        "colab": {
          "base_uri": "https://localhost:8080/",
          "height": 895
        },
        "outputId": "340af629-16f9-4bfd-8810-74c7e32c1252"
      },
      "execution_count": null,
      "outputs": [
        {
          "output_type": "display_data",
          "data": {
            "text/plain": [
              "<Figure size 864x864 with 1 Axes>"
            ],
            "image/png": "[encoded data removed]"
          },
          "metadata": {}
        }
      ]
    },
    {
      "cell_type": "code",
      "source": [
        "I=nx.from_pandas_edgelist(kg_df[kg_df['edge']==\"nation\"], \"source\", \"target\", \n",
        "                          edge_attr=True, create_using=nx.MultiDiGraph())\n",
        "\n",
        "plt.figure(figsize=(12,12))\n",
        "pos = nx.spring_layout(I, k = 0.5)\n",
        "nx.draw(I, with_labels=True, node_color='tan', node_size=1500, edge_cmap=plt.cm.Greys, pos = pos)\n",
        "plt.show()"
      ],
      "metadata": {
        "colab": {
          "base_uri": "https://localhost:8080/",
          "height": 895
        },
        "id": "Err7IgF2Vs2Q",
        "outputId": "094cbf7b-ee53-4d79-82d1-93f11fcbc940"
      },
      "execution_count": null,
      "outputs": [
        {
          "output_type": "display_data",
          "data": {
            "text/plain": [
              "<Figure size 864x864 with 1 Axes>"
            ],
            "image/png": "[encoded data removed]"
          },
          "metadata": {}
        }
      ]
    },
    {
      "cell_type": "code",
      "source": [
        "G=nx.from_pandas_edgelist(kg_df[kg_df['edge']==\"pull\"], \"source\", \"target\", \n",
        "                          edge_attr=True, create_using=nx.MultiDiGraph())\n",
        "\n",
        "plt.figure(figsize=(12,12))\n",
        "pos = nx.spring_layout(G, k = 0.5)\n",
        "nx.draw(G, with_labels=True, node_color='silver', node_size=1500, edge_cmap=plt.cm.Greys, pos = pos)\n",
        "plt.show()"
      ],
      "metadata": {
        "colab": {
          "base_uri": "https://localhost:8080/",
          "height": 895
        },
        "id": "2O9wot8DVs44",
        "outputId": "4dade896-eae3-4abc-ab3a-592d16769b03"
      },
      "execution_count": null,
      "outputs": [
        {
          "output_type": "display_data",
          "data": {
            "text/plain": [
              "<Figure size 864x864 with 1 Axes>"
            ],
            "image/png": "[encoded data removed]"
          },
          "metadata": {}
        }
      ]
    },
    {
      "cell_type": "code",
      "source": [
        ""
      ],
      "metadata": {
        "id": "78WH8VeHDN1L"
      },
      "execution_count": null,
      "outputs": []
    },
    {
      "cell_type": "code",
      "source": [
        "nltk.download('punkt')\n",
        "text2 = \"BBC News is an operational business division of the British Broadcasting Corporation (BBC) responsible for the gathering and broadcasting of news and current affairs in the UK and around the world. The department is the world's largest broadcast news organisation and generates about 120 hours of radio and television output each day, as well as online news coverage. The service maintains 50 foreign news bureaus with more than 250 correspondents around the world. Fran Unsworth has been director of news and current affairs since January 2018. In 2019, it was reported in an Ofcom report that the BBC spent £136m on news during the period April 2018 to March 2019. BBC News domestic, global and online news divisions are housed within the largest live newsroom in Europe, in Broadcasting House in central London. Parliamentary coverage is produced and broadcast from studios in London. Through BBC English Regions, the BBC also has regional centres across England and national news centres in Northern Ireland, Scotland and Wales. All nations and English regions produce their own local news programmes and other current affairs and sport programmes.\"\n",
        "print(text2)"
      ],
      "metadata": {
        "colab": {
          "base_uri": "https://localhost:8080/"
        },
        "id": "KVLW5nx5DN5x",
        "outputId": "dae79fdb-324d-4b00-de01-297c17756716"
      },
      "execution_count": null,
      "outputs": [
        {
          "output_type": "stream",
          "name": "stdout",
          "text": [
            "BBC News is an operational business division of the British Broadcasting Corporation (BBC) responsible for the gathering and broadcasting of news and current affairs in the UK and around the world. The department is the world's largest broadcast news organisation and generates about 120 hours of radio and television output each day, as well as online news coverage. The service maintains 50 foreign news bureaus with more than 250 correspondents around the world. Fran Unsworth has been director of news and current affairs since January 2018. In 2019, it was reported in an Ofcom report that the BBC spent £136m on news during the period April 2018 to March 2019. BBC News domestic, global and online news divisions are housed within the largest live newsroom in Europe, in Broadcasting House in central London. Parliamentary coverage is produced and broadcast from studios in London. Through BBC English Regions, the BBC also has regional centres across England and national news centres in Northern Ireland, Scotland and Wales. All nations and English regions produce their own local news programmes and other current affairs and sport programmes.\n"
          ]
        },
        {
          "output_type": "stream",
          "name": "stderr",
          "text": [
            "[nltk_data] Downloading package punkt to /root/nltk_data...\n",
            "[nltk_data]   Package punkt is already up-to-date!\n"
          ]
        }
      ]
    },
    {
      "cell_type": "code",
      "source": [
        "sentences2 = nltk.sent_tokenize(text2)  \n",
        "words2 = nltk.word_tokenize(text2)  "
      ],
      "metadata": {
        "id": "sQkgNXeBFvpR"
      },
      "execution_count": null,
      "outputs": []
    },
    {
      "cell_type": "code",
      "source": [
        "sentences2"
      ],
      "metadata": {
        "colab": {
          "base_uri": "https://localhost:8080/"
        },
        "id": "yXkLJIukFvtU",
        "outputId": "8d432079-a652-49f8-da3a-76569d8a01fa"
      },
      "execution_count": null,
      "outputs": [
        {
          "output_type": "execute_result",
          "data": {
            "text/plain": [
              "['BBC News is an operational business division of the British Broadcasting Corporation (BBC) responsible for the gathering and broadcasting of news and current affairs in the UK and around the world.',\n",
              " \"The department is the world's largest broadcast news organisation and generates about 120 hours of radio and television output each day, as well as online news coverage.\",\n",
              " 'The service maintains 50 foreign news bureaus with more than 250 correspondents around the world.',\n",
              " 'Fran Unsworth has been director of news and current affairs since January 2018.',\n",
              " 'In 2019, it was reported in an Ofcom report that the BBC spent £136m on news during the period April 2018 to March 2019.',\n",
              " 'BBC News domestic, global and online news divisions are housed within the largest live newsroom in Europe, in Broadcasting House in central London.',\n",
              " 'Parliamentary coverage is produced and broadcast from studios in London.',\n",
              " 'Through BBC English Regions, the BBC also has regional centres across England and national news centres in Northern Ireland, Scotland and Wales.',\n",
              " 'All nations and English regions produce their own local news programmes and other current affairs and sport programmes.']"
            ]
          },
          "metadata": {},
          "execution_count": 62
        }
      ]
    },
    {
      "cell_type": "code",
      "source": [
        "df = pd.DataFrame(sentences2)\n",
        "df.to_csv(\"s2.csv\", index=False)"
      ],
      "metadata": {
        "id": "wggp_GQTGxDB"
      },
      "execution_count": null,
      "outputs": []
    },
    {
      "cell_type": "code",
      "source": [
        "pip install PyPDF2"
      ],
      "metadata": {
        "colab": {
          "base_uri": "https://localhost:8080/"
        },
        "id": "wZOmJHGHS1Uh",
        "outputId": "93e5ce88-a73f-47b2-96a3-42bd391d199e"
      },
      "execution_count": 71,
      "outputs": [
        {
          "output_type": "stream",
          "name": "stdout",
          "text": [
            "Looking in indexes: https://pypi.org/simple, https://us-python.pkg.dev/colab-wheels/public/simple/\n",
            "Collecting PyPDF2\n",
            "  Downloading PyPDF2-2.10.0-py3-none-any.whl (208 kB)\n",
            "\u001b[K     |████████████████████████████████| 208 kB 14.9 MB/s \n",
            "\u001b[?25hRequirement already satisfied: typing-extensions in /usr/local/lib/python3.7/dist-packages (from PyPDF2) (4.1.1)\n",
            "Installing collected packages: PyPDF2\n",
            "Successfully installed PyPDF2-2.10.0\n"
          ]
        }
      ]
    },
    {
      "cell_type": "code",
      "source": [
        "import PyPDF2"
      ],
      "metadata": {
        "id": "IJyJIoNlTCFv"
      },
      "execution_count": 72,
      "outputs": []
    },
    {
      "cell_type": "code",
      "source": [
        "pdfFileObj = open('Multilingual.pdf', 'rb') \n",
        "    \n",
        "# creating a pdf reader object \n",
        "pdfReader = PyPDF2.PdfFileReader(pdfFileObj) \n",
        "    \n",
        "# printing number of pages in pdf file \n",
        "print(pdfReader.numPages) \n",
        "    \n",
        "# creating a page object \n",
        "pageObj = pdfReader.getPage(0) "
      ],
      "metadata": {
        "colab": {
          "base_uri": "https://localhost:8080/"
        },
        "id": "BmIhNlzlTekb",
        "outputId": "97a576b4-ab55-4aa5-9b19-57c2808a5ced"
      },
      "execution_count": 78,
      "outputs": [
        {
          "output_type": "stream",
          "name": "stdout",
          "text": [
            "19\n"
          ]
        }
      ]
    },
    {
      "cell_type": "code",
      "source": [
        "# extracting text from page \n",
        "print(pageObj.extractText()) "
      ],
      "metadata": {
        "colab": {
          "base_uri": "https://localhost:8080/"
        },
        "id": "0oh70gwJTeuv",
        "outputId": "0c2287d4-5fc0-4aaa-eee6-6d48efb51429"
      },
      "execution_count": 79,
      "outputs": [
        {
          "output_type": "stream",
          "name": "stdout",
          "text": [
            "Undeﬁned 0 (0) 1 1\n",
            "IOS Press\n",
            "Multilingual Linked Open Data Patterns\n",
            "Jose Emilio Labra Gayoa;\u0003, Dimitris Kontokostasband Sören Auerb\n",
            "aDepartment of Computer Science. University of Oviedo, CP. 33007, Oviedo, Spain\n",
            "Email: labra@uniovi.es\n",
            "bUniversität Leipzig, Institut für Informatik, AKSW, Postfach 100920, 04009 Leipzig, Germany\n",
            "E-mail: {lastname}@informatik.uni-leipzig.de\n",
            "Abstract. The increasing publication of linked data makes the vision of the semantic web a probable reality .\n",
            "Although it may seem that the web of data is inherently multilingual, data usually contains labels, comments,\n",
            "descriptions, etc. that depend on the natural language used. When linked data appears in a multilingual setting,\n",
            "it is a challenge to publish and consume it. This paper presents a survey of patterns and best practices to publish\n",
            "Multilingual Linked Data and identiﬁes some issues that should be taken into account. As a use case, the paper\n",
            "describes the patterns employed in the DBpedia Internationalization project.\n",
            "Keywords: Linked Open Data, Multilingual W eb, Language tags, Multilingual Data\n",
            "1. Introduction\n",
            "The linked data paradigm is based on a small\n",
            "set of best practices which were outlined in [ 10 ]:\n",
            "– Use URIs as names for things;\n",
            "– Use HTTP URIs so that people can look up\n",
            "those names (aka. dereferencing);\n",
            "– Return useful information when upon lookup\n",
            "of those URIs (esp. RDF);\n",
            "– include links by using URIs, that dereference\n",
            "to other documents.\n",
            "Since the publication of those guidelines, an in-\n",
            "creasing number of projects have been devoted to\n",
            "the publication of linked (open) data, making the\n",
            "vision of a semantic data web more plausible [ 13 ].\n",
            "The principles of linked data have been de-\n",
            "scribed in several publications and books [ 12 ,30 ].\n",
            "There is even a book devoted to linked data pat-\n",
            "terns [ 18 ].\n",
            "Nevertheless, most of the projects that publish\n",
            "linked data employ English as the primary lan-\n",
            "guage. In fact, most popular vocabularies contain\n",
            "descriptions and labels only in English.\n",
            "*Corresponding author. E-mail: labra@uniovi.es.A study by Ell et al. [ 24 ] has shown that lan-\n",
            "guage tags are a rarely used feature in popular\n",
            "datasets. Only 4.7% of the non-information re-\n",
            "sources employ one language tag, and only 0,7%\n",
            "employ several language tags. It was discovered\n",
            "that the most popular language tag was English\n",
            "(44.72%), while the rest of the languages had\n",
            "a very low appearance: German (5.22%), F rench\n",
            "(5.11%), Italian (3.96%), etc. As can be seen, this\n",
            "distribution does not reﬂect the number of people\n",
            "that speak those languages, or even the number of\n",
            "web pages written in them.\n",
            "The lack of multilingualism in linked data can\n",
            "be attributed to its recent birth. However, another\n",
            "reason may be that there is a lack of design pat-\n",
            "terns and guidelines to help the community that\n",
            "wants to publish multilingual linked data.\n",
            "In this paper, we collected, justiﬁed and ex-\n",
            "plained a comprehensive set of those patterns. It\n",
            "must be noted, that we do not propose the pat-\n",
            "terns as best practices . In most of the cases, the\n",
            "proposed patterns oﬀer a possible design decision\n",
            "with pros and cons that must be taken into ac-\n",
            "count. The aim of this paper is to clarify the ben-\n",
            "eﬁts of those decisions.\n",
            "0000-0000/0-1900/$00.00 © 0 – IOS Press and the authors. All rights reserved\n"
          ]
        }
      ]
    },
    {
      "cell_type": "code",
      "source": [
        "a=pdfReader.getPage(2).extractText()"
      ],
      "metadata": {
        "id": "UH8JzgdITeyj"
      },
      "execution_count": 84,
      "outputs": []
    },
    {
      "cell_type": "code",
      "source": [
        "a"
      ],
      "metadata": {
        "id": "zRNhv1crI7Ve",
        "colab": {
          "base_uri": "https://localhost:8080/",
          "height": 157
        },
        "outputId": "4ee37599-7d80-4acd-e0a7-a3e58fd387a9"
      },
      "execution_count": 88,
      "outputs": [
        {
          "output_type": "execute_result",
          "data": {
            "text/plain": [
              "'J. Labra et al / Multilingual LOD Patterns 3\\nIn the case of the W eb architecture, the solution\\nadopted was Normalization F orm Canonical Com-\\nposition (NFC) and is described in [ 3]. The use of\\nnormalization is important for linked data as it is\\nnecessary to have a non-ambiguous way to check\\nif two identiﬁers are the same.\\n2.2. URIs and IRIs\\nOne of the cornerstones of W eb architecture is\\nthe use of Uniform Resource Identiﬁers (URIs) [ 8]\\nto identify any kind of resource. URIs were for-\\nmally described by the IETF RFC 3986 [ 11 ] and\\ntheir design oﬀered a trade-oﬀ solution between\\nreadability and usability .\\nThe readability goal can be achieved when URIs\\nare easily remembered and interpreted by people,\\nemploying meaningful or familiar components. T o\\nthat end, people from non-Latin alphabets should\\nbe allowed to use their own alphabets (i.e. Unicode\\ncharacters) in their URIs. However, due to the\\nusability design trade-oﬀ, the URI speciﬁcation\\nrestricted the character repertoire to US-ASCII\\ncharacters for easier transmission and storage in\\nlegacy systems\\nThe use of non-ASCII characters in URIs can\\nbe achieved by percent encoding the octets of the\\ncharacter, decreasing the ability to read and re-\\nmember those URIs.\\nF or instance, the Spanish letter “ó” is percent\\nencoded to “%F3” . In this way , the name of a city\\nlikeLeón is encoded as Le%F3n . This encoding can\\nbe still readable when there are few extended char-\\nacters, but it is clearly unreadable when the word\\nis completely formed by non-Latin characters.\\nIRIs [ 22 ] were designed to identify resources us-\\ning Unicode characters. An example of an IRI\\nis:http://españa.es/León which could identify the\\nSpanish city León. Note that it is possible to\\nuse Unicode characters in both the domain name\\nespaña.es and the path León . Although IRI sup-\\nported increases incrementally , there is still a\\nnumber of protocols and systems that only ac-\\ncept ASCII characters or accept Unicode charac-\\nters only partially .\\nThe conversion from IRIs with Unicode char-\\nacters to ASCII-only URIs is performed in two\\nparts: the path and the domain name. The path\\nis percent encoded using UTF-8 characters as we\\nhave shown in the previous example. In the case\\nof domain names, the conversion employs an algo-rithm called punycode , which eﬃciently converts\\ncharacters between Unicode and ASCII. As an ex-\\nample, the domain name españa is punycoded to\\nxn\\x00\\x00espa \\x00jqa . Browsers supporting punycode au-\\ntomatically and convert the IRI to its punycode\\nrepresentation. In order to prevent homograph at-\\ntacks (i.e. IRIs whose glyphs look the same but\\ncontain diﬀerent characters) browsers can display\\nthe original IRI or the punycode representation\\ndepending on the user language preferences.\\n2.3. Languages and the W eb\\nF rom the beginning, the architecture of the W eb\\nhas taken the existence of diﬀerent languages and\\nthe need for language-aware protocols and speciﬁ-\\ncations into account. As an example, HTML con-\\ntains the lang attribute to specify the base lan-\\nguage of a portion of HTML code. XML also of-\\nfers the xml:lang attribute with the same purpose.\\nIn the same vein, RDF also contains literals which\\ncan be associated with language tags as we will\\nshow in the next section.\\nAt the protocol level, HTTP provides the\\nAccept \\x00language header ﬁeld, where a user agent\\ncan restrict the set of natural languages that are\\npreferred as a response to a request. Header ﬁelds\\ncan be used for HTTP content negotiation, where\\nit is possible to obtain diﬀerent representations of\\nthe same resource depending on those ﬁelds.\\nIn the case of linked data, it is a well-known\\npractice to dereference a URI and return diﬀer-\\nent representation formats (HTML, RDF/XML,\\nJSON, etc.) depending on the Accept header.\\nLanguage declarations must employ IETF lan-\\nguage tags deﬁned in BCP47 [ 41 ], likeen (En-\\nglish) or es\\x00419 (Latin American Spanish). It is\\nimportant to clearly distinguish between countries\\nand languages. F or example, to identify Armenian,\\none should use hy (Hayastan) instead of am which\\nidentiﬁes the country Armenia but the language\\nAmharic spoken in Ethiopia.\\n3. Multilingual Linked Data\\nA rationale of the W eb of Data is to develop\\ntechnologies that enable machines to consume\\ndata. Although one may consider that data is in-\\ntrinsically multilingual, we can see that data usu-'"
            ],
            "application/vnd.google.colaboratory.intrinsic+json": {
              "type": "string"
            }
          },
          "metadata": {},
          "execution_count": 88
        }
      ]
    },
    {
      "cell_type": "code",
      "source": [
        "sentences3 = nltk.sent_tokenize(a) "
      ],
      "metadata": {
        "id": "nbQkFiSfWXjQ"
      },
      "execution_count": 89,
      "outputs": []
    },
    {
      "cell_type": "code",
      "source": [
        "sentences3"
      ],
      "metadata": {
        "colab": {
          "base_uri": "https://localhost:8080/"
        },
        "id": "Lo8gWGpqWjSn",
        "outputId": "e29f740c-3f7a-4627-c584-d15101b48f59"
      },
      "execution_count": 90,
      "outputs": [
        {
          "output_type": "execute_result",
          "data": {
            "text/plain": [
              "['J. Labra et al / Multilingual LOD Patterns 3\\nIn the case of the W eb architecture, the solution\\nadopted was Normalization F orm Canonical Com-\\nposition (NFC) and is described in [ 3].',\n",
              " 'The use of\\nnormalization is important for linked data as it is\\nnecessary to have a non-ambiguous way to check\\nif two identiﬁers are the same.',\n",
              " '2.2.',\n",
              " 'URIs and IRIs\\nOne of the cornerstones of W eb architecture is\\nthe use of Uniform Resource Identiﬁers (URIs) [ 8]\\nto identify any kind of resource.',\n",
              " 'URIs were for-\\nmally described by the IETF RFC 3986 [ 11 ] and\\ntheir design oﬀered a trade-oﬀ solution between\\nreadability and usability .',\n",
              " 'The readability goal can be achieved when URIs\\nare easily remembered and interpreted by people,\\nemploying meaningful or familiar components.',\n",
              " 'T o\\nthat end, people from non-Latin alphabets should\\nbe allowed to use their own alphabets (i.e.',\n",
              " 'Unicode\\ncharacters) in their URIs.',\n",
              " 'However, due to the\\nusability design trade-oﬀ, the URI speciﬁcation\\nrestricted the character repertoire to US-ASCII\\ncharacters for easier transmission and storage in\\nlegacy systems\\nThe use of non-ASCII characters in URIs can\\nbe achieved by percent encoding the octets of the\\ncharacter, decreasing the ability to read and re-\\nmember those URIs.',\n",
              " 'F or instance, the Spanish letter “ó” is percent\\nencoded to “%F3” .',\n",
              " 'In this way , the name of a city\\nlikeLeón is encoded as Le%F3n .',\n",
              " 'This encoding can\\nbe still readable when there are few extended char-\\nacters, but it is clearly unreadable when the word\\nis completely formed by non-Latin characters.',\n",
              " 'IRIs [ 22 ] were designed to identify resources us-\\ning Unicode characters.',\n",
              " 'An example of an IRI\\nis:http://españa.es/León which could identify the\\nSpanish city León.',\n",
              " 'Note that it is possible to\\nuse Unicode characters in both the domain name\\nespaña.es and the path León .',\n",
              " 'Although IRI sup-\\nported increases incrementally , there is still a\\nnumber of protocols and systems that only ac-\\ncept ASCII characters or accept Unicode charac-\\nters only partially .',\n",
              " 'The conversion from IRIs with Unicode char-\\nacters to ASCII-only URIs is performed in two\\nparts: the path and the domain name.',\n",
              " 'The path\\nis percent encoded using UTF-8 characters as we\\nhave shown in the previous example.',\n",
              " 'In the case\\nof domain names, the conversion employs an algo-rithm called punycode , which eﬃciently converts\\ncharacters between Unicode and ASCII.',\n",
              " 'As an ex-\\nample, the domain name españa is punycoded to\\nxn\\x00\\x00espa \\x00jqa .',\n",
              " 'Browsers supporting punycode au-\\ntomatically and convert the IRI to its punycode\\nrepresentation.',\n",
              " 'In order to prevent homograph at-\\ntacks (i.e.',\n",
              " 'IRIs whose glyphs look the same but\\ncontain diﬀerent characters) browsers can display\\nthe original IRI or the punycode representation\\ndepending on the user language preferences.',\n",
              " '2.3.',\n",
              " 'Languages and the W eb\\nF rom the beginning, the architecture of the W eb\\nhas taken the existence of diﬀerent languages and\\nthe need for language-aware protocols and speciﬁ-\\ncations into account.',\n",
              " 'As an example, HTML con-\\ntains the lang attribute to specify the base lan-\\nguage of a portion of HTML code.',\n",
              " 'XML also of-\\nfers the xml:lang attribute with the same purpose.',\n",
              " 'In the same vein, RDF also contains literals which\\ncan be associated with language tags as we will\\nshow in the next section.',\n",
              " 'At the protocol level, HTTP provides the\\nAccept \\x00language header ﬁeld, where a user agent\\ncan restrict the set of natural languages that are\\npreferred as a response to a request.',\n",
              " 'Header ﬁelds\\ncan be used for HTTP content negotiation, where\\nit is possible to obtain diﬀerent representations of\\nthe same resource depending on those ﬁelds.',\n",
              " 'In the case of linked data, it is a well-known\\npractice to dereference a URI and return diﬀer-\\nent representation formats (HTML, RDF/XML,\\nJSON, etc.)',\n",
              " 'depending on the Accept header.',\n",
              " 'Language declarations must employ IETF lan-\\nguage tags deﬁned in BCP47 [ 41 ], likeen (En-\\nglish) or es\\x00419 (Latin American Spanish).',\n",
              " 'It is\\nimportant to clearly distinguish between countries\\nand languages.',\n",
              " 'F or example, to identify Armenian,\\none should use hy (Hayastan) instead of am which\\nidentiﬁes the country Armenia but the language\\nAmharic spoken in Ethiopia.',\n",
              " '3.',\n",
              " 'Multilingual Linked Data\\nA rationale of the W eb of Data is to develop\\ntechnologies that enable machines to consume\\ndata.',\n",
              " 'Although one may consider that data is in-\\ntrinsically multilingual, we can see that data usu-']"
            ]
          },
          "metadata": {},
          "execution_count": 90
        }
      ]
    }
  ]
}