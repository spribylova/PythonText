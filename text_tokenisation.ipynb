{
  "nbformat": 4,
  "nbformat_minor": 0,
  "metadata": {
    "colab": {
      "name": "text_tokenisation.ipynb",
      "provenance": [],
      "collapsed_sections": []
    },
    "kernelspec": {
      "name": "python3",
      "display_name": "Python 3"
    },
    "language_info": {
      "name": "python"
    }
  },
  "cells": [
    {
      "cell_type": "code",
      "source": [
        "# Basic semantics operations"
      ],
      "metadata": {
        "id": "7XsR7hw3bRVH"
      },
      "execution_count": null,
      "outputs": []
    },
    {
      "cell_type": "code",
      "source": [
        "# FastText library is based on the skipgram model, each word is represented by character n-grams (their sums). \n",
        "# Better than word2vec and GloVe."
      ],
      "metadata": {
        "id": "Q5S2NXc6knDH"
      },
      "execution_count": 15,
      "outputs": []
    },
    {
      "cell_type": "code",
      "source": [
        "pip install fasttext"
      ],
      "metadata": {
        "colab": {
          "base_uri": "https://localhost:8080/"
        },
        "id": "HuR4FGmKMKK4",
        "outputId": "1ad8a25f-fbf3-4c74-bff4-d765e3a1201b"
      },
      "execution_count": 16,
      "outputs": [
        {
          "output_type": "stream",
          "name": "stdout",
          "text": [
            "Looking in indexes: https://pypi.org/simple, https://us-python.pkg.dev/colab-wheels/public/simple/\n",
            "Requirement already satisfied: fasttext in /usr/local/lib/python3.7/dist-packages (0.9.2)\n",
            "Requirement already satisfied: setuptools>=0.7.0 in /usr/local/lib/python3.7/dist-packages (from fasttext) (57.4.0)\n",
            "Requirement already satisfied: pybind11>=2.2 in /usr/local/lib/python3.7/dist-packages (from fasttext) (2.10.0)\n",
            "Requirement already satisfied: numpy in /usr/local/lib/python3.7/dist-packages (from fasttext) (1.21.6)\n"
          ]
        }
      ]
    },
    {
      "cell_type": "code",
      "source": [
        "# import libraries"
      ],
      "metadata": {
        "id": "9d85qgXekome"
      },
      "execution_count": null,
      "outputs": []
    },
    {
      "cell_type": "code",
      "execution_count": null,
      "metadata": {
        "id": "vjbclfsXL_Kk"
      },
      "outputs": [],
      "source": [
        "import fasttext\n",
        "from fasttext import train_unsupervised\n",
        "import os\n",
        "from scipy import stats\n",
        "from fasttext import train_supervised\n",
        "from torch.nn.modules.sparse import EmbeddingBag\n",
        "import numpy as np\n",
        "import torch\n",
        "import random\n",
        "import string\n",
        "import time\n",
        "from fasttext import load_model\n",
        "from torch.autograd import Variable\n",
        "import argparse\n",
        "import re\n",
        "import nltk\n",
        "import matplotlib.pyplot as plt\n",
        "import pandas as pd\n",
        "pd.options.display.max_colwidth = 200\n",
        "%matplotlib inline"
      ]
    },
    {
      "cell_type": "code",
      "source": [
        "# 1 Basic Text Normalisation and Categorisation"
      ],
      "metadata": {
        "id": "flDXea3QbenC"
      },
      "execution_count": 27,
      "outputs": []
    },
    {
      "cell_type": "code",
      "source": [
        "# Creaate data frame and category for each sentense"
      ],
      "metadata": {
        "id": "PeszmptykpY1"
      },
      "execution_count": null,
      "outputs": []
    },
    {
      "cell_type": "code",
      "source": [
        "document = ['The Sequential model is a linear stack of layers.',\n",
        "          'Perplexity is a measurement of how well a probability distribution or probability model predicts a sample.',\n",
        "          'Tesorflow initializers are random normal, random uniform, truncated normal, zeros, ones, Glorot normal, Glorot uniform, He normal,  He uniform, Identity, orthogonal, uniform, constant, variance scaling, custom.',\n",
        "          'TSNE is a statistical method for visualising high-dimensional data.',\n",
        "          'Xavier/Glorot Initialization is used to maintain the same smooth distribution for both the forward pass as well the backpropagation.',\n",
        "          'CBOW architecture tries to predict the current target word (the center word) based on the source context words (surrounding words).',\n",
        "          'Available optimizers are adam, adadelta, adagrad, addamax, nadam, ftrl, SGD, RMSprop.'    \n",
        "]\n",
        "labels = ['model', 'model', 'initializer', 'visualisation', 'initializer', 'achitecture', 'optimizers']\n",
        "\n",
        "document_array = np.array(document)\n",
        "document_df = pd.DataFrame({'Sentense': document_array, \n",
        "                          'Category': labels})\n",
        "document_df = document_df[['Sentense', 'Category']]\n",
        "document_df"
      ],
      "metadata": {
        "colab": {
          "base_uri": "https://localhost:8080/",
          "height": 344
        },
        "id": "yYWs2lrYT_Qt",
        "outputId": "808369fe-cc4a-4e83-bf01-6766aff9f676"
      },
      "execution_count": 18,
      "outputs": [
        {
          "output_type": "execute_result",
          "data": {
            "text/plain": [
              "                                                                                                                                                                                                  Sentense  \\\n",
              "0                                                                                                                                                        The Sequential model is a linear stack of layers.   \n",
              "1                                                                                               Perplexity is a measurement of how well a probability distribution or probability model predicts a sample.   \n",
              "2  Tesorflow initializers are random normal, random uniform, truncated normal, zeros, ones, Glorot normal, Glorot uniform, He normal,  He uniform, Identity, orthogonal, uniform, constant, variance sc...   \n",
              "3                                                                                                                                      TSNE is a statistical method for visualising high-dimensional data.   \n",
              "4                                                                     Xavier/Glorot Initialization is used to maintain the same smooth distribution for both the forward pass as well the backpropagation.   \n",
              "5                                                                      CBOW architecture tries to predict the current target word (the center word) based on the source context words (surrounding words).   \n",
              "6                                                                                                                    Available optimizers are adam, adadelta, adagrad, addamax, nadam, ftrl, SGD, RMSprop.   \n",
              "\n",
              "        Category  \n",
              "0          model  \n",
              "1          model  \n",
              "2    initializer  \n",
              "3  visualisation  \n",
              "4    initializer  \n",
              "5    achitecture  \n",
              "6     optimizers  "
            ],
            "text/html": [
              "\n",
              "  <div id=\"df-95ad0a9b-c0e2-49d3-95c7-3977bae9bf40\">\n",
              "    <div class=\"colab-df-container\">\n",
              "      <div>\n",
              "<style scoped>\n",
              "    .dataframe tbody tr th:only-of-type {\n",
              "        vertical-align: middle;\n",
              "    }\n",
              "\n",
              "    .dataframe tbody tr th {\n",
              "        vertical-align: top;\n",
              "    }\n",
              "\n",
              "    .dataframe thead th {\n",
              "        text-align: right;\n",
              "    }\n",
              "</style>\n",
              "<table border=\"1\" class=\"dataframe\">\n",
              "  <thead>\n",
              "    <tr style=\"text-align: right;\">\n",
              "      <th></th>\n",
              "      <th>Sentense</th>\n",
              "      <th>Category</th>\n",
              "    </tr>\n",
              "  </thead>\n",
              "  <tbody>\n",
              "    <tr>\n",
              "      <th>0</th>\n",
              "      <td>The Sequential model is a linear stack of layers.</td>\n",
              "      <td>model</td>\n",
              "    </tr>\n",
              "    <tr>\n",
              "      <th>1</th>\n",
              "      <td>Perplexity is a measurement of how well a probability distribution or probability model predicts a sample.</td>\n",
              "      <td>model</td>\n",
              "    </tr>\n",
              "    <tr>\n",
              "      <th>2</th>\n",
              "      <td>Tesorflow initializers are random normal, random uniform, truncated normal, zeros, ones, Glorot normal, Glorot uniform, He normal,  He uniform, Identity, orthogonal, uniform, constant, variance sc...</td>\n",
              "      <td>initializer</td>\n",
              "    </tr>\n",
              "    <tr>\n",
              "      <th>3</th>\n",
              "      <td>TSNE is a statistical method for visualising high-dimensional data.</td>\n",
              "      <td>visualisation</td>\n",
              "    </tr>\n",
              "    <tr>\n",
              "      <th>4</th>\n",
              "      <td>Xavier/Glorot Initialization is used to maintain the same smooth distribution for both the forward pass as well the backpropagation.</td>\n",
              "      <td>initializer</td>\n",
              "    </tr>\n",
              "    <tr>\n",
              "      <th>5</th>\n",
              "      <td>CBOW architecture tries to predict the current target word (the center word) based on the source context words (surrounding words).</td>\n",
              "      <td>achitecture</td>\n",
              "    </tr>\n",
              "    <tr>\n",
              "      <th>6</th>\n",
              "      <td>Available optimizers are adam, adadelta, adagrad, addamax, nadam, ftrl, SGD, RMSprop.</td>\n",
              "      <td>optimizers</td>\n",
              "    </tr>\n",
              "  </tbody>\n",
              "</table>\n",
              "</div>\n",
              "      <button class=\"colab-df-convert\" onclick=\"convertToInteractive('df-95ad0a9b-c0e2-49d3-95c7-3977bae9bf40')\"\n",
              "              title=\"Convert this dataframe to an interactive table.\"\n",
              "              style=\"display:none;\">\n",
              "        \n",
              "  <svg xmlns=\"http://www.w3.org/2000/svg\" height=\"24px\"viewBox=\"0 0 24 24\"\n",
              "       width=\"24px\">\n",
              "    <path d=\"M0 0h24v24H0V0z\" fill=\"none\"/>\n",
              "    <path d=\"M18.56 5.44l.94 2.06.94-2.06 2.06-.94-2.06-.94-.94-2.06-.94 2.06-2.06.94zm-11 1L8.5 8.5l.94-2.06 2.06-.94-2.06-.94L8.5 2.5l-.94 2.06-2.06.94zm10 10l.94 2.06.94-2.06 2.06-.94-2.06-.94-.94-2.06-.94 2.06-2.06.94z\"/><path d=\"M17.41 7.96l-1.37-1.37c-.4-.4-.92-.59-1.43-.59-.52 0-1.04.2-1.43.59L10.3 9.45l-7.72 7.72c-.78.78-.78 2.05 0 2.83L4 21.41c.39.39.9.59 1.41.59.51 0 1.02-.2 1.41-.59l7.78-7.78 2.81-2.81c.8-.78.8-2.07 0-2.86zM5.41 20L4 18.59l7.72-7.72 1.47 1.35L5.41 20z\"/>\n",
              "  </svg>\n",
              "      </button>\n",
              "      \n",
              "  <style>\n",
              "    .colab-df-container {\n",
              "      display:flex;\n",
              "      flex-wrap:wrap;\n",
              "      gap: 12px;\n",
              "    }\n",
              "\n",
              "    .colab-df-convert {\n",
              "      background-color: #E8F0FE;\n",
              "      border: none;\n",
              "      border-radius: 50%;\n",
              "      cursor: pointer;\n",
              "      display: none;\n",
              "      fill: #1967D2;\n",
              "      height: 32px;\n",
              "      padding: 0 0 0 0;\n",
              "      width: 32px;\n",
              "    }\n",
              "\n",
              "    .colab-df-convert:hover {\n",
              "      background-color: #E2EBFA;\n",
              "      box-shadow: 0px 1px 2px rgba(60, 64, 67, 0.3), 0px 1px 3px 1px rgba(60, 64, 67, 0.15);\n",
              "      fill: #174EA6;\n",
              "    }\n",
              "\n",
              "    [theme=dark] .colab-df-convert {\n",
              "      background-color: #3B4455;\n",
              "      fill: #D2E3FC;\n",
              "    }\n",
              "\n",
              "    [theme=dark] .colab-df-convert:hover {\n",
              "      background-color: #434B5C;\n",
              "      box-shadow: 0px 1px 3px 1px rgba(0, 0, 0, 0.15);\n",
              "      filter: drop-shadow(0px 1px 2px rgba(0, 0, 0, 0.3));\n",
              "      fill: #FFFFFF;\n",
              "    }\n",
              "  </style>\n",
              "\n",
              "      <script>\n",
              "        const buttonEl =\n",
              "          document.querySelector('#df-95ad0a9b-c0e2-49d3-95c7-3977bae9bf40 button.colab-df-convert');\n",
              "        buttonEl.style.display =\n",
              "          google.colab.kernel.accessAllowed ? 'block' : 'none';\n",
              "\n",
              "        async function convertToInteractive(key) {\n",
              "          const element = document.querySelector('#df-95ad0a9b-c0e2-49d3-95c7-3977bae9bf40');\n",
              "          const dataTable =\n",
              "            await google.colab.kernel.invokeFunction('convertToInteractive',\n",
              "                                                     [key], {});\n",
              "          if (!dataTable) return;\n",
              "\n",
              "          const docLinkHtml = 'Like what you see? Visit the ' +\n",
              "            '<a target=\"_blank\" href=https://colab.research.google.com/notebooks/data_table.ipynb>data table notebook</a>'\n",
              "            + ' to learn more about interactive tables.';\n",
              "          element.innerHTML = '';\n",
              "          dataTable['output_type'] = 'display_data';\n",
              "          await google.colab.output.renderOutput(dataTable, element);\n",
              "          const docLink = document.createElement('div');\n",
              "          docLink.innerHTML = docLinkHtml;\n",
              "          element.appendChild(docLink);\n",
              "        }\n",
              "      </script>\n",
              "    </div>\n",
              "  </div>\n",
              "  "
            ]
          },
          "metadata": {},
          "execution_count": 18
        }
      ]
    },
    {
      "cell_type": "code",
      "source": [
        "# download stopwords package "
      ],
      "metadata": {
        "id": "tcRiIWHVkqfY"
      },
      "execution_count": null,
      "outputs": []
    },
    {
      "cell_type": "code",
      "source": [
        "from nltk import *\n",
        "nltk.download('stopwords')"
      ],
      "metadata": {
        "colab": {
          "base_uri": "https://localhost:8080/"
        },
        "id": "Lqna6spdUwlC",
        "outputId": "f7f7bc28-1851-41ef-fcba-5c6a45738530"
      },
      "execution_count": 19,
      "outputs": [
        {
          "output_type": "stream",
          "name": "stderr",
          "text": [
            "[nltk_data] Downloading package stopwords to /root/nltk_data...\n",
            "[nltk_data]   Package stopwords is already up-to-date!\n"
          ]
        },
        {
          "output_type": "execute_result",
          "data": {
            "text/plain": [
              "True"
            ]
          },
          "metadata": {},
          "execution_count": 19
        }
      ]
    },
    {
      "cell_type": "code",
      "source": [
        "# prepare stop words or normalisation"
      ],
      "metadata": {
        "id": "FaXIc5wrkrQT"
      },
      "execution_count": null,
      "outputs": []
    },
    {
      "cell_type": "code",
      "source": [
        "wpt = nltk.WordPunctTokenizer()\n",
        "stop_words = nltk.corpus.stopwords.words('english')\n",
        "\n",
        "def normalize_document(doc):\n",
        "    # lower case and remove special characters\\whitespaces\n",
        "    doc = re.sub(r'[^a-zA-Z\\s]', '', doc, re.I|re.A)\n",
        "    doc = doc.lower()\n",
        "    doc = doc.strip()\n",
        "    # tokenize document\n",
        "    tokens = wpt.tokenize(doc)\n",
        "    # filter stopwords out of document\n",
        "    filtered_tokens = [token for token in tokens if token not in stop_words]\n",
        "    # re-create document from filtered tokens\n",
        "    doc = ' '.join(filtered_tokens)\n",
        "    return doc\n",
        "\n",
        "norm_document = np.vectorize(normalize_document)"
      ],
      "metadata": {
        "id": "GVHr0cYCUHO5"
      },
      "execution_count": 23,
      "outputs": []
    },
    {
      "cell_type": "code",
      "source": [
        "# create array from data frame, include the defined text transformation"
      ],
      "metadata": {
        "id": "YgwlJ6fAksZ4"
      },
      "execution_count": null,
      "outputs": []
    },
    {
      "cell_type": "code",
      "source": [
        "norm_doc = norm_document(document_array)"
      ],
      "metadata": {
        "id": "jkN-X7lSUHTJ"
      },
      "execution_count": 24,
      "outputs": []
    },
    {
      "cell_type": "code",
      "source": [
        "norm_doc"
      ],
      "metadata": {
        "colab": {
          "base_uri": "https://localhost:8080/"
        },
        "id": "1X9Qxdv_V4nJ",
        "outputId": "5137c2f6-5004-45f1-ec24-3eece0a8d185"
      },
      "execution_count": 25,
      "outputs": [
        {
          "output_type": "execute_result",
          "data": {
            "text/plain": [
              "array(['sequential model linear stack layers',\n",
              "       'perplexity measurement well probability distribution probability model predicts sample',\n",
              "       'tesorflow initializers random normal random uniform truncated normal zeros ones glorot normal glorot uniform normal uniform identity orthogonal uniform constant variance scaling custom',\n",
              "       'tsne statistical method visualising highdimensional data',\n",
              "       'xavierglorot initialization used maintain smooth distribution forward pass well backpropagation',\n",
              "       'cbow architecture tries predict current target word center word based source context words surrounding words',\n",
              "       'available optimizers adam adadelta adagrad addamax nadam ftrl sgd rmsprop'],\n",
              "      dtype='<U184')"
            ]
          },
          "metadata": {},
          "execution_count": 25
        }
      ]
    },
    {
      "cell_type": "code",
      "source": [
        "# 2 nltk packages and libraries"
      ],
      "metadata": {
        "id": "9J_snE2MV4p7"
      },
      "execution_count": null,
      "outputs": []
    },
    {
      "cell_type": "code",
      "source": [
        "# 2.1.Gutenberg and punkt package"
      ],
      "metadata": {
        "id": "rgYTRq3jinMv"
      },
      "execution_count": 127,
      "outputs": []
    },
    {
      "cell_type": "code",
      "source": [
        "nltk.download('gutenberg')\n",
        "nltk.download('punkt')"
      ],
      "metadata": {
        "colab": {
          "base_uri": "https://localhost:8080/"
        },
        "id": "Bzl1kmgDV3pR",
        "outputId": "d98a488a-cda5-4a4a-b6d0-2b38b41f4bbd"
      },
      "execution_count": 29,
      "outputs": [
        {
          "output_type": "stream",
          "name": "stderr",
          "text": [
            "[nltk_data] Downloading package gutenberg to /root/nltk_data...\n",
            "[nltk_data]   Package gutenberg is already up-to-date!\n",
            "[nltk_data] Downloading package punkt to /root/nltk_data...\n",
            "[nltk_data]   Package punkt is already up-to-date!\n"
          ]
        },
        {
          "output_type": "execute_result",
          "data": {
            "text/plain": [
              "True"
            ]
          },
          "metadata": {},
          "execution_count": 29
        }
      ]
    },
    {
      "cell_type": "code",
      "source": [
        "# 2.2. Print number of lines and selected lines in tokenized and normalized text"
      ],
      "metadata": {
        "id": "4JdeRB-LktwC"
      },
      "execution_count": 128,
      "outputs": []
    },
    {
      "cell_type": "code",
      "source": [
        "from nltk.corpus import gutenberg\n",
        "from string import punctuation\n",
        "\n",
        "book = gutenberg.sents('shakespeare-macbeth.txt') \n",
        "remove_terms = punctuation + '0123456789'\n",
        "\n",
        "norm_book = [[word.lower() for word in sent if word not in remove_terms] for sent in book]\n",
        "norm_book = [' '.join(tok_sent) for tok_sent in norm_book]\n",
        "norm_book = filter(None, norm_document(norm_book))\n",
        "norm_book = [tok_sent for tok_sent in norm_book if len(tok_sent.split()) > 2]\n",
        "\n",
        "print('Total lines:', len(book))\n",
        "print('\\nSample line:', book[10])\n",
        "print('\\nProcessed line:', norm_book[120:140])"
      ],
      "metadata": {
        "colab": {
          "base_uri": "https://localhost:8080/"
        },
        "id": "UgRMXhNzUHbe",
        "outputId": "33369770-9932-4115-92f0-628a49938c9a"
      },
      "execution_count": 129,
      "outputs": [
        {
          "output_type": "stream",
          "name": "stdout",
          "text": [
            "Total lines: 1907\n",
            "\n",
            "Sample line: ['3', '.']\n",
            "\n",
            "Processed line: ['enter macbeths wife alone letter', 'met day successe haue learn perfect st report haue mortall knowledge', 'burnt desire question made themselues ayre vanish', 'whiles stood rapt wonder came missiues king hail thane cawdor title weyward sisters saluted referr comming time haile king shalt', 'haue thought good deliuer thee dearest partner greatnesse thou might st loose dues reioycing ignorant greatnesse promis thee', 'lay thy heart farewell', 'glamys thou art cawdor shalt thou art promis yet doe feare thy nature full th milke humane kindnesse catch neerest way', 'thou would st great art without ambition without illnesse attend', 'thou would st highly would st thou holily would st play false yet would st wrongly winne', 'thould st haue great glamys cryes thus thou must doe thou haue rather thou st feare doe wishest vndone', 'high thee hither may powre spirits thine eare chastise valour tongue impeides thee golden round fate metaphysicall ayde doth seeme haue thee crown withall', 'king comes night', 'thou rt mad say', 'wer would haue inform preparation', 'please true thane comming one fellowes speed almost dead breath scarcely would make vp message', 'giue tending brings great newes', 'rauen himselfe hoarse croakes fatall entrance duncan vnder battlements', 'come spirits tend mortall thoughts vnsex fill crowne toe top full direst crueltie make thick blood stop vp th accesse passage remorse compunctious visitings nature shake fell purpose keepe peace betweene th effect hit', 'come womans brests take milke gall murth ring ministers euer sightlesse substances wait natures mischiefe', 'come thick night pall thee dunnest smoake hell']\n"
          ]
        }
      ]
    },
    {
      "cell_type": "code",
      "source": [
        "book"
      ],
      "metadata": {
        "colab": {
          "base_uri": "https://localhost:8080/"
        },
        "id": "JUKwdNuJZHLV",
        "outputId": "91ddf018-d66e-416a-ffae-47e0a5a18f98"
      },
      "execution_count": 33,
      "outputs": [
        {
          "output_type": "execute_result",
          "data": {
            "text/plain": [
              "[['[', 'The', 'Tragedie', 'of', 'Macbeth', 'by', 'William', 'Shakespeare', '1603', ']'], ['Actus', 'Primus', '.'], ...]"
            ]
          },
          "metadata": {},
          "execution_count": 33
        }
      ]
    },
    {
      "cell_type": "code",
      "source": [
        "# 3. Keras libraries"
      ],
      "metadata": {
        "id": "g_21nt9cFq4S"
      },
      "execution_count": 130,
      "outputs": []
    },
    {
      "cell_type": "code",
      "source": [
        "# 3.1. Tokenize words in file in Keras library"
      ],
      "metadata": {
        "id": "9zV7SMu-kvov"
      },
      "execution_count": 131,
      "outputs": []
    },
    {
      "cell_type": "code",
      "source": [
        "from keras.preprocessing import text\n",
        "from keras.utils import np_utils\n",
        "from keras.preprocessing import sequence\n",
        "\n",
        "tokenizer = text.Tokenizer()\n",
        "tokenizer.fit_on_texts(norm_book)\n",
        "word2id = tokenizer.word_index\n",
        "\n",
        "word2id['PAD'] = 0\n",
        "id2word = {v:k for k, v in word2id.items()}\n",
        "wids = [[word2id[w] for w in text.text_to_word_sequence(doc)] for doc in norm_book]\n",
        "\n",
        "vocab_size = len(word2id)\n",
        "embed_size = 100\n",
        "window_size = 2\n",
        "\n",
        "print('Vocabulary Size:', vocab_size)\n",
        "print('Vocabulary Sample:', list(word2id.items())[:10])"
      ],
      "metadata": {
        "colab": {
          "base_uri": "https://localhost:8080/"
        },
        "id": "DMN6Bj8kUHeK",
        "outputId": "3555e4db-9a7d-49ee-d3be-0227de7c502a"
      },
      "execution_count": 132,
      "outputs": [
        {
          "output_type": "stream",
          "name": "stdout",
          "text": [
            "Vocabulary Size: 3234\n",
            "Vocabulary Sample: [('haue', 1), ('thou', 2), ('shall', 3), ('vpon', 4), ('thee', 5), ('th', 6), ('vs', 7), ('yet', 8), ('thy', 9), ('come', 10)]\n"
          ]
        }
      ]
    },
    {
      "cell_type": "code",
      "source": [
        "# Print 10. lines from List"
      ],
      "metadata": {
        "id": "k54f2V_fkvsY"
      },
      "execution_count": 36,
      "outputs": []
    },
    {
      "cell_type": "code",
      "source": [
        "wids[0:10]"
      ],
      "metadata": {
        "colab": {
          "base_uri": "https://localhost:8080/"
        },
        "id": "IMGIoINhTfjk",
        "outputId": "67370a95-803b-4dfb-a342-18b7c652a777"
      },
      "execution_count": 37,
      "outputs": [
        {
          "output_type": "execute_result",
          "data": {
            "text/plain": [
              "[[1177, 13, 1178, 1179],\n",
              " [15, 92, 210],\n",
              " [3, 92, 233, 51],\n",
              " [496, 1180, 1181],\n",
              " [1182, 1183, 31, 1184, 234, 695],\n",
              " [74, 182, 497],\n",
              " [10, 1185, 1186],\n",
              " [1187, 696, 235, 236, 284, 284, 236, 1188, 1189, 697, 75],\n",
              " [15, 22, 1190, 237, 160, 238, 285, 698, 1191],\n",
              " [183, 1192, 1193, 699, 700, 211]]"
            ]
          },
          "metadata": {},
          "execution_count": 37
        }
      ]
    },
    {
      "cell_type": "code",
      "source": [
        "# 3.2. Define function to generate semantics context words pairs "
      ],
      "metadata": {
        "id": "2AB4d8Nfkyva"
      },
      "execution_count": 133,
      "outputs": []
    },
    {
      "cell_type": "code",
      "source": [
        "def generate_context_word_pairs(corpus, window_size, vocab_size):\n",
        "    context_length = window_size*2\n",
        "    for words in corpus:\n",
        "        sentence_length = len(words)\n",
        "        for index, word in enumerate(words):\n",
        "            context_words = []\n",
        "            label_word   = []            \n",
        "            start = index - window_size\n",
        "            end = index + window_size + 1\n",
        "            \n",
        "            context_words.append([words[i] \n",
        "                                 for i in range(start, end) \n",
        "                                 if 0 <= i < sentence_length \n",
        "                                 and i != index])\n",
        "            label_word.append(word)\n",
        "\n",
        "            x = sequence.pad_sequences(context_words, maxlen=context_length)\n",
        "            y = np_utils.to_categorical(label_word, vocab_size)\n",
        "            yield (x, y)"
      ],
      "metadata": {
        "id": "LF7X5P4MUHgZ"
      },
      "execution_count": 134,
      "outputs": []
    },
    {
      "cell_type": "code",
      "source": [
        "# Generate pairs using the created function"
      ],
      "metadata": {
        "id": "iAs_sZTmkz1a"
      },
      "execution_count": 41,
      "outputs": []
    },
    {
      "cell_type": "code",
      "source": [
        "i = 0\n",
        "for x, y in generate_context_word_pairs(corpus=wids, window_size=window_size, vocab_size=vocab_size):\n",
        "    if 0 not in x[0]:\n",
        "        print('Context (X):', [id2word[w] for w in x[0]], '-> Target (Y):', id2word[np.argwhere(y[0])[0][0]])\n",
        "    \n",
        "        if i == 10:\n",
        "            break\n",
        "        i += 1"
      ],
      "metadata": {
        "colab": {
          "base_uri": "https://localhost:8080/"
        },
        "id": "9tYX-Js4WLWG",
        "outputId": "6b67b96f-3527-44f7-d2c8-ee5a8996263f"
      },
      "execution_count": 135,
      "outputs": [
        {
          "output_type": "stream",
          "name": "stdout",
          "text": [
            "Context (X): ['hurley', 'burley', 'battaile', 'lost'] -> Target (Y): done\n",
            "Context (X): ['burley', 'done', 'lost', 'wonne'] -> Target (Y): battaile\n",
            "Context (X): ['padock', 'calls', 'faire', 'foule'] -> Target (Y): anon\n",
            "Context (X): ['calls', 'anon', 'foule', 'foule'] -> Target (Y): faire\n",
            "Context (X): ['anon', 'faire', 'foule', 'faire'] -> Target (Y): foule\n",
            "Context (X): ['faire', 'foule', 'faire', 'houer'] -> Target (Y): foule\n",
            "Context (X): ['foule', 'foule', 'houer', 'fogge'] -> Target (Y): faire\n",
            "Context (X): ['foule', 'faire', 'fogge', 'filthie'] -> Target (Y): houer\n",
            "Context (X): ['faire', 'houer', 'filthie', 'ayre'] -> Target (Y): fogge\n",
            "Context (X): ['enter', 'king', 'donalbaine', 'lenox'] -> Target (Y): malcome\n",
            "Context (X): ['king', 'malcome', 'lenox', 'attendants'] -> Target (Y): donalbaine\n"
          ]
        }
      ]
    },
    {
      "cell_type": "code",
      "source": [
        "# 3.3. Create CBOW sequential model"
      ],
      "metadata": {
        "id": "gDtSbY4Bk0hu"
      },
      "execution_count": 136,
      "outputs": []
    },
    {
      "cell_type": "code",
      "source": [
        "import keras.backend as K\n",
        "from keras.models import Sequential\n",
        "from keras.layers import Dense, Embedding, Lambda\n",
        "\n",
        "cbow = Sequential()\n",
        "cbow.add(Embedding(input_dim=vocab_size, output_dim=embed_size, input_length=window_size*2))\n",
        "cbow.add(Lambda(lambda x: K.mean(x, axis=1), output_shape=(embed_size,)))\n",
        "cbow.add(Dense(vocab_size, activation='softmax'))\n",
        "\n",
        "cbow.compile(loss='categorical_crossentropy', optimizer='rmsprop')\n",
        "print(cbow.summary())"
      ],
      "metadata": {
        "colab": {
          "base_uri": "https://localhost:8080/"
        },
        "id": "Fgx41DUiWLZW",
        "outputId": "f49e0ac2-dc27-40e2-acd2-e417f1e89166"
      },
      "execution_count": 45,
      "outputs": [
        {
          "output_type": "stream",
          "name": "stdout",
          "text": [
            "Model: \"sequential_1\"\n",
            "_________________________________________________________________\n",
            " Layer (type)                Output Shape              Param #   \n",
            "=================================================================\n",
            " embedding_1 (Embedding)     (None, 4, 100)            323400    \n",
            "                                                                 \n",
            " lambda_1 (Lambda)           (None, 100)               0         \n",
            "                                                                 \n",
            " dense_1 (Dense)             (None, 3234)              326634    \n",
            "                                                                 \n",
            "=================================================================\n",
            "Total params: 650,034\n",
            "Trainable params: 650,034\n",
            "Non-trainable params: 0\n",
            "_________________________________________________________________\n",
            "None\n"
          ]
        }
      ]
    },
    {
      "cell_type": "code",
      "source": [
        "# Use CBOW sequential model to plot model into graph"
      ],
      "metadata": {
        "id": "662p_5o5k1nK"
      },
      "execution_count": null,
      "outputs": []
    },
    {
      "cell_type": "code",
      "source": [
        "from IPython.display import SVG\n",
        "from keras.utils.vis_utils import model_to_dot\n",
        "\n",
        "SVG(model_to_dot(cbow, dpi=70, show_shapes=True, show_layer_names=False, \n",
        "                 rankdir='TB').create(prog='dot', format='svg'))"
      ],
      "metadata": {
        "colab": {
          "base_uri": "https://localhost:8080/",
          "height": 416
        },
        "id": "ynVOIrw6WapC",
        "outputId": "db8db8b0-d9b1-4c80-bf50-670ffcc8f214"
      },
      "execution_count": 46,
      "outputs": [
        {
          "output_type": "execute_result",
          "data": {
            "text/plain": [
              "<IPython.core.display.SVG object>"
            ],
            "image/svg+xml": "<svg height=\"296pt\" viewBox=\"0.00 0.00 324.00 304.00\" width=\"315pt\" xmlns=\"http://www.w3.org/2000/svg\" xmlns:xlink=\"http://www.w3.org/1999/xlink\">\n<g class=\"graph\" id=\"graph0\" transform=\"scale(.9722 .9722) rotate(0) translate(4 300)\">\n<title>G</title>\n<polygon fill=\"#ffffff\" points=\"-4,4 -4,-300 320,-300 320,4 -4,4\" stroke=\"transparent\"/>\n<!-- 140161282350992 -->\n<g class=\"node\" id=\"node1\">\n<title>140161282350992</title>\n<polygon fill=\"none\" points=\"8,-249.5 8,-295.5 308,-295.5 308,-249.5 8,-249.5\" stroke=\"#000000\"/>\n<text fill=\"#000000\" font-family=\"Times,serif\" font-size=\"14.00\" text-anchor=\"middle\" x=\"48\" y=\"-268.8\">InputLayer</text>\n<polyline fill=\"none\" points=\"88,-249.5 88,-295.5 \" stroke=\"#000000\"/>\n<text fill=\"#000000\" font-family=\"Times,serif\" font-size=\"14.00\" text-anchor=\"middle\" x=\"117\" y=\"-280.3\">input:</text>\n<polyline fill=\"none\" points=\"88,-272.5 146,-272.5 \" stroke=\"#000000\"/>\n<text fill=\"#000000\" font-family=\"Times,serif\" font-size=\"14.00\" text-anchor=\"middle\" x=\"117\" y=\"-257.3\">output:</text>\n<polyline fill=\"none\" points=\"146,-249.5 146,-295.5 \" stroke=\"#000000\"/>\n<text fill=\"#000000\" font-family=\"Times,serif\" font-size=\"14.00\" text-anchor=\"middle\" x=\"186.5\" y=\"-268.8\">[(None, 4)]</text>\n<polyline fill=\"none\" points=\"227,-249.5 227,-295.5 \" stroke=\"#000000\"/>\n<text fill=\"#000000\" font-family=\"Times,serif\" font-size=\"14.00\" text-anchor=\"middle\" x=\"267.5\" y=\"-268.8\">[(None, 4)]</text>\n</g>\n<!-- 140161282349584 -->\n<g class=\"node\" id=\"node2\">\n<title>140161282349584</title>\n<polygon fill=\"none\" points=\"0,-166.5 0,-212.5 316,-212.5 316,-166.5 0,-166.5\" stroke=\"#000000\"/>\n<text fill=\"#000000\" font-family=\"Times,serif\" font-size=\"14.00\" text-anchor=\"middle\" x=\"42\" y=\"-185.8\">Embedding</text>\n<polyline fill=\"none\" points=\"84,-166.5 84,-212.5 \" stroke=\"#000000\"/>\n<text fill=\"#000000\" font-family=\"Times,serif\" font-size=\"14.00\" text-anchor=\"middle\" x=\"113\" y=\"-197.3\">input:</text>\n<polyline fill=\"none\" points=\"84,-189.5 142,-189.5 \" stroke=\"#000000\"/>\n<text fill=\"#000000\" font-family=\"Times,serif\" font-size=\"14.00\" text-anchor=\"middle\" x=\"113\" y=\"-174.3\">output:</text>\n<polyline fill=\"none\" points=\"142,-166.5 142,-212.5 \" stroke=\"#000000\"/>\n<text fill=\"#000000\" font-family=\"Times,serif\" font-size=\"14.00\" text-anchor=\"middle\" x=\"178\" y=\"-185.8\">(None, 4)</text>\n<polyline fill=\"none\" points=\"214,-166.5 214,-212.5 \" stroke=\"#000000\"/>\n<text fill=\"#000000\" font-family=\"Times,serif\" font-size=\"14.00\" text-anchor=\"middle\" x=\"265\" y=\"-185.8\">(None, 4, 100)</text>\n</g>\n<!-- 140161282350992&#45;&gt;140161282349584 -->\n<g class=\"edge\" id=\"edge1\">\n<title>140161282350992-&gt;140161282349584</title>\n<path d=\"M158,-249.3799C158,-241.1745 158,-231.7679 158,-222.8786\" fill=\"none\" stroke=\"#000000\"/>\n<polygon fill=\"#000000\" points=\"161.5001,-222.784 158,-212.784 154.5001,-222.784 161.5001,-222.784\" stroke=\"#000000\"/>\n</g>\n<!-- 140161282332176 -->\n<g class=\"node\" id=\"node3\">\n<title>140161282332176</title>\n<polygon fill=\"none\" points=\"2.5,-83.5 2.5,-129.5 313.5,-129.5 313.5,-83.5 2.5,-83.5\" stroke=\"#000000\"/>\n<text fill=\"#000000\" font-family=\"Times,serif\" font-size=\"14.00\" text-anchor=\"middle\" x=\"34.5\" y=\"-102.8\">Lambda</text>\n<polyline fill=\"none\" points=\"66.5,-83.5 66.5,-129.5 \" stroke=\"#000000\"/>\n<text fill=\"#000000\" font-family=\"Times,serif\" font-size=\"14.00\" text-anchor=\"middle\" x=\"95.5\" y=\"-114.3\">input:</text>\n<polyline fill=\"none\" points=\"66.5,-106.5 124.5,-106.5 \" stroke=\"#000000\"/>\n<text fill=\"#000000\" font-family=\"Times,serif\" font-size=\"14.00\" text-anchor=\"middle\" x=\"95.5\" y=\"-91.3\">output:</text>\n<polyline fill=\"none\" points=\"124.5,-83.5 124.5,-129.5 \" stroke=\"#000000\"/>\n<text fill=\"#000000\" font-family=\"Times,serif\" font-size=\"14.00\" text-anchor=\"middle\" x=\"175.5\" y=\"-102.8\">(None, 4, 100)</text>\n<polyline fill=\"none\" points=\"226.5,-83.5 226.5,-129.5 \" stroke=\"#000000\"/>\n<text fill=\"#000000\" font-family=\"Times,serif\" font-size=\"14.00\" text-anchor=\"middle\" x=\"270\" y=\"-102.8\">(None, 100)</text>\n</g>\n<!-- 140161282349584&#45;&gt;140161282332176 -->\n<g class=\"edge\" id=\"edge2\">\n<title>140161282349584-&gt;140161282332176</title>\n<path d=\"M158,-166.3799C158,-158.1745 158,-148.7679 158,-139.8786\" fill=\"none\" stroke=\"#000000\"/>\n<polygon fill=\"#000000\" points=\"161.5001,-139.784 158,-129.784 154.5001,-139.784 161.5001,-139.784\" stroke=\"#000000\"/>\n</g>\n<!-- 140161325594000 -->\n<g class=\"node\" id=\"node4\">\n<title>140161325594000</title>\n<polygon fill=\"none\" points=\"12,-.5 12,-46.5 304,-46.5 304,-.5 12,-.5\" stroke=\"#000000\"/>\n<text fill=\"#000000\" font-family=\"Times,serif\" font-size=\"14.00\" text-anchor=\"middle\" x=\"38\" y=\"-19.8\">Dense</text>\n<polyline fill=\"none\" points=\"64,-.5 64,-46.5 \" stroke=\"#000000\"/>\n<text fill=\"#000000\" font-family=\"Times,serif\" font-size=\"14.00\" text-anchor=\"middle\" x=\"93\" y=\"-31.3\">input:</text>\n<polyline fill=\"none\" points=\"64,-23.5 122,-23.5 \" stroke=\"#000000\"/>\n<text fill=\"#000000\" font-family=\"Times,serif\" font-size=\"14.00\" text-anchor=\"middle\" x=\"93\" y=\"-8.3\">output:</text>\n<polyline fill=\"none\" points=\"122,-.5 122,-46.5 \" stroke=\"#000000\"/>\n<text fill=\"#000000\" font-family=\"Times,serif\" font-size=\"14.00\" text-anchor=\"middle\" x=\"165.5\" y=\"-19.8\">(None, 100)</text>\n<polyline fill=\"none\" points=\"209,-.5 209,-46.5 \" stroke=\"#000000\"/>\n<text fill=\"#000000\" font-family=\"Times,serif\" font-size=\"14.00\" text-anchor=\"middle\" x=\"256.5\" y=\"-19.8\">(None, 3234)</text>\n</g>\n<!-- 140161282332176&#45;&gt;140161325594000 -->\n<g class=\"edge\" id=\"edge3\">\n<title>140161282332176-&gt;140161325594000</title>\n<path d=\"M158,-83.3799C158,-75.1745 158,-65.7679 158,-56.8786\" fill=\"none\" stroke=\"#000000\"/>\n<polygon fill=\"#000000\" points=\"161.5001,-56.784 158,-46.784 154.5001,-56.784 161.5001,-56.784\" stroke=\"#000000\"/>\n</g>\n</g>\n</svg>"
          },
          "metadata": {},
          "execution_count": 46
        }
      ]
    },
    {
      "cell_type": "code",
      "source": [
        "# Use CBOW model to generate conext words in 6 epochs"
      ],
      "metadata": {
        "id": "CWN5ALtzk2sS"
      },
      "execution_count": null,
      "outputs": []
    },
    {
      "cell_type": "code",
      "source": [
        "# original 10000 pairs take 10 minutes to run for 6 epochs\n",
        "for epoch in range(1, 6):\n",
        "    loss = 0.\n",
        "    i = 0\n",
        "    for x, y in generate_context_word_pairs(corpus=wids, window_size=window_size, vocab_size=vocab_size):\n",
        "        i += 1\n",
        "        loss += cbow.train_on_batch(x, y)\n",
        "        if i % 10000 == 0:\n",
        "            print('Processed {} (context, word) pairs'.format(i))\n",
        "\n",
        "    print('Epoch:', epoch, '\\tLoss:', loss)\n",
        "    print()"
      ],
      "metadata": {
        "colab": {
          "base_uri": "https://localhost:8080/"
        },
        "id": "FP9UZgk9War7",
        "outputId": "3b7be5d0-c49c-44e0-c50f-97b209124505"
      },
      "execution_count": null,
      "outputs": [
        {
          "output_type": "stream",
          "name": "stdout",
          "text": [
            "Epoch: 1 \tLoss: 67443.78224253654\n",
            "\n",
            "Epoch: 2 \tLoss: 66641.1275383234\n",
            "\n",
            "Epoch: 3 \tLoss: 69977.248280406\n",
            "\n",
            "Epoch: 4 \tLoss: 77492.0529152751\n",
            "\n",
            "Epoch: 5 \tLoss: 81079.85475215316\n",
            "\n"
          ]
        }
      ]
    },
    {
      "cell_type": "code",
      "source": [
        "# Create array of weights in CBOW model"
      ],
      "metadata": {
        "id": "I1FaRaygk36s"
      },
      "execution_count": null,
      "outputs": []
    },
    {
      "cell_type": "code",
      "source": [
        "weights = cbow.get_weights()[0]\n",
        "weights = weights[1:]\n",
        "print(weights.shape)"
      ],
      "metadata": {
        "id": "ido8mhO_Wavq",
        "colab": {
          "base_uri": "https://localhost:8080/"
        },
        "outputId": "ea7f1b99-9353-42f2-884c-195588ec2cc8"
      },
      "execution_count": 50,
      "outputs": [
        {
          "output_type": "stream",
          "name": "stdout",
          "text": [
            "(3233, 100)\n"
          ]
        }
      ]
    },
    {
      "cell_type": "code",
      "source": [
        "# Print first 5 vectors in List"
      ],
      "metadata": {
        "id": "BA3LVaf8k3-N"
      },
      "execution_count": 52,
      "outputs": []
    },
    {
      "cell_type": "code",
      "source": [
        "weights[0:5]"
      ],
      "metadata": {
        "colab": {
          "base_uri": "https://localhost:8080/"
        },
        "id": "SRCW33L8XcE9",
        "outputId": "db81dac1-f37d-407c-fdb9-98837f5b8aab"
      },
      "execution_count": 57,
      "outputs": [
        {
          "output_type": "execute_result",
          "data": {
            "text/plain": [
              "array([[ 0.0427745 ,  0.04188111,  0.03006885, -0.01805039, -0.00842864,\n",
              "         0.01241868, -0.0452221 ,  0.01915265, -0.01473318,  0.00429633,\n",
              "        -0.00531691, -0.02870755,  0.04556752, -0.02364677, -0.000185  ,\n",
              "         0.00270172,  0.01513261, -0.03012961, -0.01763308, -0.02040341,\n",
              "         0.03853283,  0.03123866,  0.02680292,  0.01760838, -0.01793486,\n",
              "        -0.01386626,  0.02345603, -0.00670829, -0.00441153,  0.04807793,\n",
              "        -0.03712845,  0.02859202, -0.00831461,  0.04822778,  0.01281575,\n",
              "        -0.03262915, -0.0437791 , -0.02326169, -0.04443422, -0.04106192,\n",
              "        -0.01078746,  0.00676268, -0.03841494,  0.03001228,  0.01137204,\n",
              "         0.04232423, -0.03721373, -0.00896344,  0.0192417 ,  0.00900121,\n",
              "        -0.03757904, -0.00451948,  0.03609547,  0.02498013,  0.03954421,\n",
              "         0.01044617,  0.03100625,  0.01483846,  0.03418822, -0.03739733,\n",
              "        -0.01404493,  0.03115723,  0.02498909,  0.03016528, -0.03938266,\n",
              "        -0.00269037,  0.04177256, -0.03396626,  0.00835643, -0.03352789,\n",
              "        -0.04377436, -0.0046132 , -0.04773569, -0.00798672,  0.0115353 ,\n",
              "        -0.0072606 , -0.02845987, -0.00462683,  0.01325104,  0.03980501,\n",
              "        -0.00737668, -0.03691377,  0.02862182,  0.02377487,  0.04162059,\n",
              "         0.01978555, -0.02647371, -0.02622147,  0.00087758, -0.04262578,\n",
              "         0.01239957,  0.03417972, -0.04103842,  0.02645317, -0.02729365,\n",
              "         0.00304127, -0.00791304,  0.02862557,  0.01099931,  0.0180861 ],\n",
              "       [-0.01101773,  0.03234326,  0.02466695,  0.02706674,  0.02620392,\n",
              "         0.04514899,  0.01624146,  0.03830925,  0.01092017,  0.03211161,\n",
              "        -0.04849842,  0.04060552, -0.01582102,  0.03756164,  0.02559241,\n",
              "        -0.04069828,  0.01598417,  0.03763398, -0.01170469, -0.04571784,\n",
              "        -0.02201055,  0.03856696, -0.04550564,  0.02867952,  0.00071186,\n",
              "        -0.01884975, -0.02028385,  0.02666784,  0.04764869, -0.02520551,\n",
              "         0.04626207, -0.02443476,  0.04280914,  0.00812603,  0.04242779,\n",
              "         0.01674379, -0.03706112,  0.0156703 , -0.0108858 , -0.0483503 ,\n",
              "        -0.00949045, -0.00861382,  0.00456578, -0.02205633, -0.03179865,\n",
              "         0.01905115,  0.03434649,  0.00657205, -0.00807925,  0.03434838,\n",
              "         0.01745928,  0.04265639,  0.02985618,  0.04458227,  0.00828977,\n",
              "        -0.02416326, -0.011891  ,  0.03654089,  0.044115  , -0.0266951 ,\n",
              "         0.0279587 , -0.03519913,  0.03772414, -0.02753378, -0.01150365,\n",
              "         0.02701001,  0.01895832, -0.00865643, -0.01503397,  0.0253204 ,\n",
              "        -0.02254562,  0.01644189,  0.04475823,  0.04328397, -0.02285519,\n",
              "         0.00180745, -0.04953858, -0.00093982,  0.04307805, -0.01018341,\n",
              "         0.0314868 , -0.00406996, -0.00185293, -0.04509217,  0.0238213 ,\n",
              "        -0.01179417, -0.04780662,  0.03787759, -0.00468341,  0.01674886,\n",
              "        -0.01580425, -0.00857232,  0.02031889,  0.02967161, -0.0072877 ,\n",
              "         0.04439864, -0.02780948, -0.02383449, -0.00848093,  0.04057435],\n",
              "       [-0.00897909,  0.03954928, -0.00257337,  0.02930839,  0.01224288,\n",
              "         0.0487731 , -0.02272139,  0.02146463, -0.03860598,  0.04732743,\n",
              "        -0.01056349,  0.03672701,  0.00725608,  0.01761876, -0.02119474,\n",
              "        -0.00678581,  0.01530285, -0.00351401, -0.04226577,  0.03912426,\n",
              "        -0.00396007, -0.0341334 , -0.00865688,  0.04025855, -0.04873289,\n",
              "        -0.04044154,  0.04636384, -0.04915161,  0.04878874, -0.04272902,\n",
              "         0.02993173,  0.00345995,  0.01361274, -0.04084957,  0.03444277,\n",
              "        -0.00947617, -0.04698206,  0.04282523, -0.02254987, -0.01992233,\n",
              "         0.03433729,  0.01701207,  0.04995732,  0.03974304, -0.00391916,\n",
              "         0.02720037,  0.02736486, -0.01082271, -0.02329727,  0.03646098,\n",
              "         0.03651113,  0.03678315, -0.01631836, -0.04696623, -0.03625357,\n",
              "        -0.00861416, -0.0094463 , -0.005408  , -0.01920165,  0.04627695,\n",
              "         0.04694902,  0.00786661, -0.00458442,  0.01873371, -0.03184134,\n",
              "        -0.01593421,  0.03795323,  0.04073831, -0.04725596, -0.04341597,\n",
              "        -0.01931915, -0.01613886, -0.04190152, -0.03041267, -0.04229157,\n",
              "        -0.03027692,  0.01541776, -0.04243622, -0.00628895, -0.04680878,\n",
              "        -0.04276877,  0.02283591, -0.02871578,  0.03970634, -0.04125643,\n",
              "        -0.01833368,  0.00658171,  0.04772529, -0.02763283, -0.04219246,\n",
              "        -0.01079444, -0.04372291,  0.03276665, -0.0240915 , -0.04653095,\n",
              "        -0.02891848, -0.00585146, -0.02539444,  0.0285039 , -0.01953255],\n",
              "       [ 0.0200717 ,  0.00012292, -0.0016014 , -0.03159302,  0.0199709 ,\n",
              "        -0.01442998,  0.01991477,  0.02378346,  0.03970947, -0.03506412,\n",
              "         0.02085963, -0.0223068 ,  0.02991876,  0.02161301,  0.04976569,\n",
              "         0.03780342, -0.01265075,  0.00952749, -0.01686142, -0.0228882 ,\n",
              "         0.04087562,  0.01102863,  0.0332146 ,  0.03210684,  0.03280408,\n",
              "        -0.03567042, -0.04341644, -0.03977053,  0.03918462, -0.04066755,\n",
              "         0.00284927,  0.00328564,  0.01059467,  0.04648257, -0.0114627 ,\n",
              "         0.0384852 , -0.00920499,  0.00328355,  0.01638665,  0.02868745,\n",
              "        -0.04394261,  0.01034727, -0.02445322,  0.01385215,  0.02634784,\n",
              "        -0.0267469 ,  0.045406  ,  0.00945438,  0.01656312, -0.01719562,\n",
              "        -0.0154626 ,  0.02042924,  0.0033648 ,  0.02450483,  0.04200107,\n",
              "         0.00607985, -0.04527671,  0.0480493 , -0.01837628,  0.032421  ,\n",
              "         0.03279762, -0.04313661, -0.018627  , -0.04719653,  0.02639525,\n",
              "         0.03832929,  0.04128411, -0.04567916,  0.04315216,  0.00072596,\n",
              "         0.0328287 ,  0.02865294, -0.04193896, -0.00744098, -0.01487924,\n",
              "        -0.01887822, -0.0253381 ,  0.04930652, -0.03118869, -0.02546722,\n",
              "         0.01674059,  0.02614597, -0.03085301, -0.02629706, -0.01190969,\n",
              "         0.0456255 ,  0.03069494,  0.01687634, -0.04960327, -0.02830882,\n",
              "         0.01049968,  0.044655  , -0.03161054, -0.0430439 ,  0.00099725,\n",
              "        -0.03898526, -0.04485997,  0.02930624,  0.02973251, -0.03746543],\n",
              "       [-0.03753904, -0.02590406,  0.04118801,  0.00797808,  0.01385225,\n",
              "        -0.03895619, -0.02657013,  0.01344823, -0.03290217,  0.02424029,\n",
              "        -0.00291932,  0.03209606,  0.04016868, -0.02981131, -0.04467657,\n",
              "        -0.01819136, -0.03726608,  0.03511466, -0.0107403 , -0.04354038,\n",
              "         0.04449784, -0.01649838,  0.02663256, -0.01614312, -0.01271317,\n",
              "         0.03435106, -0.04703418, -0.04138867,  0.03697858, -0.00964723,\n",
              "        -0.04953856, -0.04848599, -0.04544327, -0.04108757, -0.04605151,\n",
              "        -0.04760504,  0.03146033,  0.00595589,  0.0313541 ,  0.03837312,\n",
              "         0.02811878,  0.00048428, -0.0001236 ,  0.00254133, -0.01451293,\n",
              "         0.02706006, -0.01070124, -0.03112503,  0.04269895, -0.01139455,\n",
              "        -0.03582814,  0.017544  ,  0.02805761, -0.01619686,  0.00018523,\n",
              "        -0.03315651,  0.01340374, -0.04662136,  0.03619361,  0.02281855,\n",
              "         0.04567816,  0.008137  ,  0.03250103, -0.00301924, -0.0249386 ,\n",
              "        -0.0031394 ,  0.03095466,  0.00652137, -0.03323313,  0.02463818,\n",
              "        -0.03579253, -0.01927449,  0.02191481, -0.04734808, -0.02142615,\n",
              "         0.02691132,  0.02608086, -0.02365997, -0.01779845,  0.0390156 ,\n",
              "         0.00944265,  0.03620745,  0.00682876,  0.04273004, -0.0418031 ,\n",
              "        -0.00474633,  0.02183763, -0.01083026, -0.0071433 ,  0.04378748,\n",
              "         0.00773475,  0.00048238, -0.01034466,  0.00099922, -0.01830255,\n",
              "         0.01628783, -0.02391025,  0.01405254, -0.03887731,  0.04408176]],\n",
              "      dtype=float32)"
            ]
          },
          "metadata": {},
          "execution_count": 57
        }
      ]
    },
    {
      "cell_type": "code",
      "source": [
        "# Calculate distances among generated word pairs and see similar words"
      ],
      "metadata": {
        "id": "ZT8N8nSlk7TR"
      },
      "execution_count": 58,
      "outputs": []
    },
    {
      "cell_type": "code",
      "source": [
        "from sklearn.metrics.pairwise import euclidean_distances\n",
        "\n",
        "# compute pairwise distance matrix\n",
        "distance_matrix = euclidean_distances(weights)\n",
        "print(distance_matrix.shape)\n",
        "\n",
        "# view contextually similar words\n",
        "similar_words = {search_term: [id2word[idx] for idx in distance_matrix[word2id[search_term]-1].argsort()[1:6]+1] \n",
        "                   for search_term in ['souldier', 'king', 'sir', 'friend']}\n",
        "\n",
        "similar_words"
      ],
      "metadata": {
        "id": "aKsB3zSrWWJk",
        "colab": {
          "base_uri": "https://localhost:8080/"
        },
        "outputId": "e36234f8-9011-472e-aa01-8129af69acc8"
      },
      "execution_count": 59,
      "outputs": [
        {
          "output_type": "stream",
          "name": "stdout",
          "text": [
            "(3233, 3233)\n"
          ]
        },
        {
          "output_type": "execute_result",
          "data": {
            "text/plain": [
              "{'souldier': ['shield', 'drum', 'rauen', 'helpe', 'enfold'],\n",
              " 'king': ['vault', 'ague', 'loues', 'niggard', 'euerlasting'],\n",
              " 'sir': ['commands', 'armor', 'delights', 'smack', 'doome'],\n",
              " 'friend': ['returne', 'palpable', 'rubbes', 'indeede', 'nice']}"
            ]
          },
          "metadata": {},
          "execution_count": 59
        }
      ]
    },
    {
      "cell_type": "code",
      "source": [
        "# 3.4. Use keras prepprocessing libraries to tokenize and normalise text and create vocabulary"
      ],
      "metadata": {
        "id": "zRFAbXo0k8eW"
      },
      "execution_count": null,
      "outputs": []
    },
    {
      "cell_type": "code",
      "source": [
        "from keras.preprocessing import text\n",
        "\n",
        "tokenizer = text.Tokenizer()\n",
        "tokenizer.fit_on_texts(norm_book)\n",
        "\n",
        "word2id = tokenizer.word_index\n",
        "id2word = {v:k for k, v in word2id.items()}\n",
        "\n",
        "vocab_size = len(word2id) + 1 \n",
        "embed_size = 100\n",
        "\n",
        "wids = [[word2id[w] for w in text.text_to_word_sequence(doc)] for doc in norm_book]\n",
        "print('Vocabulary Size:', vocab_size)\n",
        "print('Vocabulary Sample:', list(word2id.items())[:10])"
      ],
      "metadata": {
        "id": "BIXovVwSWWMb",
        "colab": {
          "base_uri": "https://localhost:8080/"
        },
        "outputId": "64776e97-cfc4-484b-fcd5-61fef95801fc"
      },
      "execution_count": 61,
      "outputs": [
        {
          "output_type": "stream",
          "name": "stdout",
          "text": [
            "Vocabulary Size: 3234\n",
            "Vocabulary Sample: [('haue', 1), ('thou', 2), ('shall', 3), ('vpon', 4), ('thee', 5), ('th', 6), ('vs', 7), ('yet', 8), ('thy', 9), ('come', 10)]\n"
          ]
        }
      ]
    },
    {
      "cell_type": "code",
      "source": [
        "# generate skipgrams using the vocabulary"
      ],
      "metadata": {
        "id": "tk4UhI_Zk9Yd"
      },
      "execution_count": 62,
      "outputs": []
    },
    {
      "cell_type": "code",
      "source": [
        "from keras.preprocessing.sequence import skipgrams\n",
        "\n",
        "# generate skip-grams\n",
        "skip_grams = [skipgrams(wid, vocabulary_size=vocab_size, window_size=10) for wid in wids]\n",
        "\n",
        "# view sample skip-grams\n",
        "pairs, labels = skip_grams[0][0], skip_grams[0][1]\n",
        "for i in range(10):\n",
        "    print(\"({:s} ({:d}), {:s} ({:d})) -> {:d}\".format(\n",
        "          id2word[pairs[i][0]], pairs[i][0], \n",
        "          id2word[pairs[i][1]], pairs[i][1], \n",
        "          labels[i]))"
      ],
      "metadata": {
        "id": "K0-B6E_HWWPf",
        "colab": {
          "base_uri": "https://localhost:8080/"
        },
        "outputId": "429964d5-c454-45ec-cbbc-99a2faba6925"
      },
      "execution_count": 63,
      "outputs": [
        {
          "output_type": "stream",
          "name": "stdout",
          "text": [
            "(tragedie (1177), william (1178)) -> 1\n",
            "(macbeth (13), william (1178)) -> 1\n",
            "(tragedie (1177), crost (2028)) -> 0\n",
            "(shakespeare (1179), william (1178)) -> 1\n",
            "(shakespeare (1179), macbeth (13)) -> 1\n",
            "(william (1178), hounds (2036)) -> 0\n",
            "(macbeth (13), approue (1531)) -> 0\n",
            "(tragedie (1177), meate (1026)) -> 0\n",
            "(macbeth (13), tragedie (1177)) -> 1\n",
            "(shakespeare (1179), chambers (3059)) -> 0\n"
          ]
        }
      ]
    },
    {
      "cell_type": "code",
      "source": [
        "# 3.5. import other keras libraries"
      ],
      "metadata": {
        "id": "yKOg83k2k-PQ"
      },
      "execution_count": null,
      "outputs": []
    },
    {
      "cell_type": "code",
      "source": [
        "from keras.layers import merge, Concatenate\n",
        "from keras.layers.core import Dense, Reshape\n",
        "from keras.layers.embeddings import Embedding\n",
        "from keras.models import Sequential\n",
        "from keras.layers.merge import concatenate"
      ],
      "metadata": {
        "id": "-_Bm07TCql87"
      },
      "execution_count": 64,
      "outputs": []
    },
    {
      "cell_type": "code",
      "source": [
        "# create sequential word and context models"
      ],
      "metadata": {
        "id": "30oVw5z9k_OF"
      },
      "execution_count": null,
      "outputs": []
    },
    {
      "cell_type": "code",
      "source": [
        "word_model = Sequential()\n",
        "word_model.add(Embedding(vocab_size, embed_size,\n",
        "                         embeddings_initializer=\"glorot_uniform\",\n",
        "                         input_length=1))\n",
        "word_model.add(Reshape((embed_size, )))\n",
        "\n",
        "context_model = Sequential()\n",
        "context_model.add(Embedding(vocab_size, embed_size,\n",
        "                  embeddings_initializer=\"glorot_uniform\",\n",
        "                  input_length=1))\n",
        "context_model.add(Reshape((embed_size,)))"
      ],
      "metadata": {
        "id": "T7r-XLPiqwxP"
      },
      "execution_count": 65,
      "outputs": []
    },
    {
      "cell_type": "code",
      "source": [
        "# create sequential from previous 2 models "
      ],
      "metadata": {
        "id": "gdST6eBrk_8T"
      },
      "execution_count": null,
      "outputs": []
    },
    {
      "cell_type": "code",
      "source": [
        "model = Sequential()"
      ],
      "metadata": {
        "id": "_ovULEhurtx8"
      },
      "execution_count": 67,
      "outputs": []
    },
    {
      "cell_type": "code",
      "source": [
        "model.add(Dense(1, kernel_initializer=\"glorot_uniform\", activation=\"sigmoid\"))"
      ],
      "metadata": {
        "id": "6TKjpzXIWLdd"
      },
      "execution_count": 69,
      "outputs": []
    },
    {
      "cell_type": "code",
      "source": [
        "model.compile(loss=\"mean_squared_error\", optimizer=\"rmsprop\")"
      ],
      "metadata": {
        "id": "4GW0ykjXt4fO"
      },
      "execution_count": 70,
      "outputs": []
    },
    {
      "cell_type": "code",
      "source": [
        "model.add(Concatenate([word_model, context_model]))"
      ],
      "metadata": {
        "id": "pDJ5dMmSq97m"
      },
      "execution_count": 71,
      "outputs": []
    },
    {
      "cell_type": "code",
      "source": [
        "# Import library and vector space to visualise word context from weights array\n",
        "# pairwise contextually similar words using calculated euclidean distances"
      ],
      "metadata": {
        "id": "sQinKiWTlC_-"
      },
      "execution_count": 73,
      "outputs": []
    },
    {
      "cell_type": "code",
      "source": [
        "from sklearn.manifold import TSNE\n",
        "\n",
        "words = sum([[k] + v for k, v in similar_words.items()], [])\n",
        "words_ids = [word2id[w] for w in words]\n",
        "word_vectors = np.array([weights[idx] for idx in words_ids])\n",
        "print('Total words:', len(words), '\\tWord Embedding shapes:', word_vectors.shape)\n",
        "\n",
        "tsne = TSNE(n_components=2, random_state=0, n_iter=10000, perplexity=3)\n",
        "np.set_printoptions(suppress=True)\n",
        "T = tsne.fit_transform(word_vectors)\n",
        "labels = words\n",
        "\n",
        "plt.figure(figsize=(14, 8))\n",
        "plt.scatter(T[:, 0], T[:, 1], c='tan', edgecolors='k')\n",
        "for label, x, y in zip(labels, T[:, 0], T[:, 1]):\n",
        "    plt.annotate(label, xy=(x+1, y+1), xytext=(0, 0), textcoords='offset points')"
      ],
      "metadata": {
        "id": "7lcZNKwSXAjr",
        "colab": {
          "base_uri": "https://localhost:8080/",
          "height": 588
        },
        "outputId": "3da89c35-1fba-4822-bf2f-cee9efbd0384"
      },
      "execution_count": 72,
      "outputs": [
        {
          "output_type": "stream",
          "name": "stdout",
          "text": [
            "Total words: 24 \tWord Embedding shapes: (24, 100)\n"
          ]
        },
        {
          "output_type": "stream",
          "name": "stderr",
          "text": [
            "/usr/local/lib/python3.7/dist-packages/sklearn/manifold/_t_sne.py:783: FutureWarning: The default initialization in TSNE will change from 'random' to 'pca' in 1.2.\n",
            "  FutureWarning,\n",
            "/usr/local/lib/python3.7/dist-packages/sklearn/manifold/_t_sne.py:793: FutureWarning: The default learning rate in TSNE will change from 200.0 to 'auto' in 1.2.\n",
            "  FutureWarning,\n"
          ]
        },
        {
          "output_type": "display_data",
          "data": {
            "text/plain": [
              "<Figure size 1008x576 with 1 Axes>"
            ],
            "image/png": "[encoded data removed]"
          },
          "metadata": {
            "needs_background": "light"
          }
        }
      ]
    },
    {
      "cell_type": "code",
      "source": [
        "# 4. gensim"
      ],
      "metadata": {
        "id": "4SJZDzn4GdK1"
      },
      "execution_count": null,
      "outputs": []
    },
    {
      "cell_type": "code",
      "source": [
        "# Use gensim semantics library to see similar words"
      ],
      "metadata": {
        "id": "xUSt6IHylDH3"
      },
      "execution_count": null,
      "outputs": []
    },
    {
      "cell_type": "code",
      "source": [
        "from gensim.models import word2vec\n",
        "\n",
        "# tokenize sentences in corpus\n",
        "wpt = nltk.WordPunctTokenizer()\n",
        "tokenized_corpus = [wpt.tokenize(document) for document in norm_book]\n",
        "\n",
        "# Set values for various parameters\n",
        "feature_size = 100    # Word vector dimensionality  \n",
        "window_context = 30          # Context window size                                                                                    \n",
        "min_word_count = 1   # Minimum word count                        \n",
        "sample = 1e-3   # Downsample setting for frequent words\n",
        "\n",
        "w2v_model = word2vec.Word2Vec(tokenized_corpus, size=feature_size, \n",
        "                          window=window_context, min_count=min_word_count,\n",
        "                          sample=sample, iter=50)\n",
        "\n",
        "# view similar words based on gensim's model\n",
        "similar_words = {search_term: [item[0] for item in w2v_model.wv.most_similar([search_term], topn=5)]\n",
        "                  for search_term in ['souldier', 'shakespeare', 'king', 'sir', 'friend']}\n",
        "similar_words"
      ],
      "metadata": {
        "id": "v8bRwwBJXAmi",
        "colab": {
          "base_uri": "https://localhost:8080/"
        },
        "outputId": "b707d5c6-1143-436c-eaa5-ef8ed6778cd1"
      },
      "execution_count": 77,
      "outputs": [
        {
          "output_type": "execute_result",
          "data": {
            "text/plain": [
              "{'souldier': ['thunders', 'discomfort', 'shipwracking', 'marke', 'direfull'],\n",
              " 'shakespeare': ['valiant', 'sits', 'wife', 'physicke', 'confinelesse'],\n",
              " 'king': ['fife', 'worthy', 'macduffe', 'greater', 'hail'],\n",
              " 'sir': ['drinke', 'gall', 'worke', 'send', 'holy'],\n",
              " 'friend': ['whence', 'gainst', 'spirit', 'beyond', 'arme']}"
            ]
          },
          "metadata": {},
          "execution_count": 77
        }
      ]
    },
    {
      "cell_type": "code",
      "source": [
        "# Import library and vector space to visualise word context from gensim similar words array"
      ],
      "metadata": {
        "id": "VXUahID9lFy3"
      },
      "execution_count": null,
      "outputs": []
    },
    {
      "cell_type": "code",
      "source": [
        "from sklearn.manifold import TSNE\n",
        "\n",
        "words = sum([[k] + v for k, v in similar_words.items()], [])\n",
        "wvs = w2v_model.wv[words]\n",
        "\n",
        "tsne = TSNE(n_components=2, random_state=0, n_iter=10000, perplexity=2)\n",
        "np.set_printoptions(suppress=True)\n",
        "T = tsne.fit_transform(wvs)\n",
        "labels = words\n",
        "\n",
        "plt.figure(figsize=(14, 8))\n",
        "plt.scatter(T[:, 0], T[:, 1], c='tan', edgecolors='k')\n",
        "for label, x, y in zip(labels, T[:, 0], T[:, 1]):\n",
        "    plt.annotate(label, xy=(x+1, y+1), xytext=(0, 0), textcoords='offset points')"
      ],
      "metadata": {
        "id": "uJYcSv6EXJly",
        "colab": {
          "base_uri": "https://localhost:8080/",
          "height": 571
        },
        "outputId": "9de7f2db-4845-4a69-cd64-00637f56eb63"
      },
      "execution_count": null,
      "outputs": [
        {
          "output_type": "stream",
          "name": "stderr",
          "text": [
            "/usr/local/lib/python3.7/dist-packages/sklearn/manifold/_t_sne.py:783: FutureWarning: The default initialization in TSNE will change from 'random' to 'pca' in 1.2.\n",
            "  FutureWarning,\n",
            "/usr/local/lib/python3.7/dist-packages/sklearn/manifold/_t_sne.py:793: FutureWarning: The default learning rate in TSNE will change from 200.0 to 'auto' in 1.2.\n",
            "  FutureWarning,\n"
          ]
        },
        {
          "output_type": "display_data",
          "data": {
            "text/plain": [
              "<Figure size 1008x576 with 1 Axes>"
            ],
            "image/png": "[encoded data removed]"
          },
          "metadata": {
            "needs_background": "light"
          }
        }
      ]
    },
    {
      "cell_type": "code",
      "source": [
        "# 5. Use nltk predefined Word punct tokenizer to create w2v model"
      ],
      "metadata": {
        "id": "oPQs4iWSmhIY"
      },
      "execution_count": null,
      "outputs": []
    },
    {
      "cell_type": "code",
      "source": [
        "wpt = nltk.WordPunctTokenizer()\n",
        "tokenized_doc = [wpt.tokenize(sentense) for sentense in norm_book]\n",
        "\n",
        "# Set values for various parameters\n",
        "feature_size = 10    # Word vector dimensionality  \n",
        "window_context = 10          # Context window size                                                                                    \n",
        "min_word_count = 1   # Minimum word count                        \n",
        "sample = 1e-3   # Downsample setting for frequent words\n",
        "\n",
        "w2v_model = word2vec.Word2Vec(tokenized_doc, size=feature_size, \n",
        "                              window=window_context, min_count = min_word_count,\n",
        "                              sample=sample, iter=100)"
      ],
      "metadata": {
        "id": "5M4085mWXJop",
        "colab": {
          "base_uri": "https://localhost:8080/"
        },
        "outputId": "bbd4bfbf-7c43-4d78-ef28-e11b9c492855"
      },
      "execution_count": 78,
      "outputs": [
        {
          "output_type": "stream",
          "name": "stderr",
          "text": [
            "WARNING:gensim.models.base_any2vec:consider setting layer size to a multiple of 4 for greater performance\n"
          ]
        }
      ]
    },
    {
      "cell_type": "code",
      "source": [
        "# Import space to display w2v model"
      ],
      "metadata": {
        "id": "vMLzZjuclJDs"
      },
      "execution_count": null,
      "outputs": []
    },
    {
      "cell_type": "code",
      "source": [
        "from sklearn.manifold import TSNE\n",
        "\n",
        "words = w2v_model.wv.index2word\n",
        "wvs = w2v_model.wv[words]\n",
        "\n",
        "tsne = TSNE(n_components=2, random_state=0, n_iter=5000, perplexity=2)\n",
        "np.set_printoptions(suppress=True)\n",
        "T = tsne.fit_transform(wvs)\n",
        "labels = words\n",
        "\n",
        "plt.figure(figsize=(12, 6))\n",
        "plt.scatter(T[:, 0], T[:, 1], c='lightgrey', edgecolors='k')\n",
        "for label, x, y in zip(labels, T[:, 0], T[:, 1]):\n",
        "    plt.annotate(label, xy=(x+1, y+1), xytext=(0, 0), textcoords='offset points')"
      ],
      "metadata": {
        "id": "Y4qINdnuXJrJ",
        "colab": {
          "base_uri": "https://localhost:8080/",
          "height": 462
        },
        "outputId": "eb0dd82b-460a-4cef-f024-d413035929fd"
      },
      "execution_count": 83,
      "outputs": [
        {
          "output_type": "stream",
          "name": "stderr",
          "text": [
            "/usr/local/lib/python3.7/dist-packages/sklearn/manifold/_t_sne.py:783: FutureWarning: The default initialization in TSNE will change from 'random' to 'pca' in 1.2.\n",
            "  FutureWarning,\n",
            "/usr/local/lib/python3.7/dist-packages/sklearn/manifold/_t_sne.py:793: FutureWarning: The default learning rate in TSNE will change from 200.0 to 'auto' in 1.2.\n",
            "  FutureWarning,\n"
          ]
        },
        {
          "output_type": "display_data",
          "data": {
            "text/plain": [
              "<Figure size 864x432 with 1 Axes>"
            ],
            "image/png": "[encoded data removed]"
          },
          "metadata": {
            "needs_background": "light"
          }
        }
      ]
    },
    {
      "cell_type": "code",
      "source": [
        "words[1:10]"
      ],
      "metadata": {
        "colab": {
          "base_uri": "https://localhost:8080/"
        },
        "id": "LGiHJf-_7v5A",
        "outputId": "59255f48-ede3-4684-b6bf-acac76b6c369"
      },
      "execution_count": 138,
      "outputs": [
        {
          "output_type": "execute_result",
          "data": {
            "text/plain": [
              "['could',\n",
              " 'oh',\n",
              " 'sound',\n",
              " 'health',\n",
              " 'faire',\n",
              " 'shakespeare',\n",
              " 'shake',\n",
              " 'peace',\n",
              " 'feare']"
            ]
          },
          "metadata": {},
          "execution_count": 138
        }
      ]
    },
    {
      "cell_type": "code",
      "source": [
        "from sklearn.manifold import TSNE\n",
        "\n",
        "words = w2v_model.wv.index2word\n",
        "wvs = w2v_model.wv[words]\n",
        "\n",
        "tsne = TSNE(n_components=2, random_state=0, n_iter=500, perplexity=2)\n",
        "np.set_printoptions(suppress=True)\n",
        "T = tsne.fit_transform(wvs)\n",
        "labels = words\n",
        "\n",
        "plt.figure(figsize=(12, 6))\n",
        "plt.scatter(T[:, 0], T[:, 1], c='lightgrey', edgecolors='k')\n"
      ],
      "metadata": {
        "colab": {
          "base_uri": "https://localhost:8080/",
          "height": 479
        },
        "id": "Yo_ytNI87UQg",
        "outputId": "0afcbf82-bb30-4952-b942-614dcb17a53c"
      },
      "execution_count": 144,
      "outputs": [
        {
          "output_type": "stream",
          "name": "stderr",
          "text": [
            "/usr/local/lib/python3.7/dist-packages/sklearn/manifold/_t_sne.py:783: FutureWarning: The default initialization in TSNE will change from 'random' to 'pca' in 1.2.\n",
            "  FutureWarning,\n",
            "/usr/local/lib/python3.7/dist-packages/sklearn/manifold/_t_sne.py:793: FutureWarning: The default learning rate in TSNE will change from 200.0 to 'auto' in 1.2.\n",
            "  FutureWarning,\n"
          ]
        },
        {
          "output_type": "execute_result",
          "data": {
            "text/plain": [
              "<matplotlib.collections.PathCollection at 0x7f79c77b9190>"
            ]
          },
          "metadata": {},
          "execution_count": 144
        },
        {
          "output_type": "display_data",
          "data": {
            "text/plain": [
              "<Figure size 864x432 with 1 Axes>"
            ],
            "image/png": "[encoded data removed]"
          },
          "metadata": {
            "needs_background": "light"
          }
        }
      ]
    },
    {
      "cell_type": "code",
      "source": [
        "# See the example vector for given word "
      ],
      "metadata": {
        "id": "GiPthSJNlJ3k"
      },
      "execution_count": null,
      "outputs": []
    },
    {
      "cell_type": "code",
      "source": [
        "w2v_model.wv['person']"
      ],
      "metadata": {
        "id": "nqGG4hKlXUOF",
        "colab": {
          "base_uri": "https://localhost:8080/"
        },
        "outputId": "bd07c68b-b700-448b-8e08-6016a005c403"
      },
      "execution_count": 145,
      "outputs": [
        {
          "output_type": "execute_result",
          "data": {
            "text/plain": [
              "array([-2.0210009 ,  0.68384117, -1.4971333 ,  0.579331  , -0.0490204 ,\n",
              "       -0.8107044 ,  0.18492565,  0.1385413 , -0.71838653, -0.13449617],\n",
              "      dtype=float32)"
            ]
          },
          "metadata": {},
          "execution_count": 145
        }
      ]
    },
    {
      "cell_type": "code",
      "source": [
        "# 6. Use zeros to create word vectors"
      ],
      "metadata": {
        "id": "cffTzhFXlXtX"
      },
      "execution_count": 146,
      "outputs": []
    },
    {
      "cell_type": "code",
      "source": [
        "def average_word_vectors(words, model, vocabulary, num_features):\n",
        "    \n",
        "    feature_vector = np.zeros((num_features,),dtype=\"float64\")\n",
        "    nwords = 0.\n",
        "    \n",
        "    for word in words:\n",
        "        if word in vocabulary: \n",
        "            nwords = nwords + 1.\n",
        "            feature_vector = np.add(feature_vector, model[word])\n",
        "    \n",
        "    if nwords:\n",
        "        feature_vector = np.divide(feature_vector, nwords)\n",
        "        \n",
        "    return feature_vector\n",
        "    \n",
        "   \n",
        "def averaged_word_vectorizer(document, model, num_features):\n",
        "    vocabulary = set(model.wv.index2word)\n",
        "    features = [average_word_vectors(tokenized_sentence, model, vocabulary, num_features)\n",
        "                    for tokenized_sentence in document ]\n",
        "    return np.array(features)"
      ],
      "metadata": {
        "id": "FwRLr-FnXURJ"
      },
      "execution_count": 147,
      "outputs": []
    },
    {
      "cell_type": "code",
      "source": [
        "w2v_feature_array = averaged_word_vectorizer(document=tokenized_doc, model=w2v_model,\n",
        "                                             num_features=feature_size)\n",
        "pd.DataFrame(w2v_feature_array)"
      ],
      "metadata": {
        "id": "BfKhcAeVlXxk",
        "colab": {
          "base_uri": "https://localhost:8080/",
          "height": 395
        },
        "outputId": "d0be59cd-f7a7-43a6-86fd-d66e05687f9c"
      },
      "execution_count": 154,
      "outputs": [
        {
          "output_type": "stream",
          "name": "stderr",
          "text": [
            "/usr/local/lib/python3.7/dist-packages/ipykernel_launcher.py:9: DeprecationWarning: Call to deprecated `__getitem__` (Method will be removed in 4.0.0, use self.wv.__getitem__() instead).\n",
            "  if __name__ == '__main__':\n"
          ]
        },
        {
          "output_type": "error",
          "ename": "ValueError",
          "evalue": "ignored",
          "traceback": [
            "\u001b[0;31m---------------------------------------------------------------------------\u001b[0m",
            "\u001b[0;31mValueError\u001b[0m                                Traceback (most recent call last)",
            "\u001b[0;32m<ipython-input-154-b302a6caf7c7>\u001b[0m in \u001b[0;36m<module>\u001b[0;34m\u001b[0m\n\u001b[1;32m      1\u001b[0m w2v_feature_array = averaged_word_vectorizer(document=tokenized_doc, model=w2v_model,\n\u001b[0;32m----> 2\u001b[0;31m                                              num_features=feature_size)\n\u001b[0m\u001b[1;32m      3\u001b[0m \u001b[0mpd\u001b[0m\u001b[0;34m.\u001b[0m\u001b[0mDataFrame\u001b[0m\u001b[0;34m(\u001b[0m\u001b[0mw2v_feature_array\u001b[0m\u001b[0;34m)\u001b[0m\u001b[0;34m\u001b[0m\u001b[0;34m\u001b[0m\u001b[0m\n",
            "\u001b[0;32m<ipython-input-147-7b704141556c>\u001b[0m in \u001b[0;36maveraged_word_vectorizer\u001b[0;34m(document, model, num_features)\u001b[0m\n\u001b[1;32m     18\u001b[0m     \u001b[0mvocabulary\u001b[0m \u001b[0;34m=\u001b[0m \u001b[0mset\u001b[0m\u001b[0;34m(\u001b[0m\u001b[0mmodel\u001b[0m\u001b[0;34m.\u001b[0m\u001b[0mwv\u001b[0m\u001b[0;34m.\u001b[0m\u001b[0mindex2word\u001b[0m\u001b[0;34m)\u001b[0m\u001b[0;34m\u001b[0m\u001b[0;34m\u001b[0m\u001b[0m\n\u001b[1;32m     19\u001b[0m     features = [average_word_vectors(tokenized_sentence, model, vocabulary, num_features)\n\u001b[0;32m---> 20\u001b[0;31m                     for tokenized_sentence in document ]\n\u001b[0m\u001b[1;32m     21\u001b[0m     \u001b[0;32mreturn\u001b[0m \u001b[0mnp\u001b[0m\u001b[0;34m.\u001b[0m\u001b[0marray\u001b[0m\u001b[0;34m(\u001b[0m\u001b[0mfeatures\u001b[0m\u001b[0;34m)\u001b[0m\u001b[0;34m\u001b[0m\u001b[0;34m\u001b[0m\u001b[0m\n",
            "\u001b[0;32m<ipython-input-147-7b704141556c>\u001b[0m in \u001b[0;36m<listcomp>\u001b[0;34m(.0)\u001b[0m\n\u001b[1;32m     18\u001b[0m     \u001b[0mvocabulary\u001b[0m \u001b[0;34m=\u001b[0m \u001b[0mset\u001b[0m\u001b[0;34m(\u001b[0m\u001b[0mmodel\u001b[0m\u001b[0;34m.\u001b[0m\u001b[0mwv\u001b[0m\u001b[0;34m.\u001b[0m\u001b[0mindex2word\u001b[0m\u001b[0;34m)\u001b[0m\u001b[0;34m\u001b[0m\u001b[0;34m\u001b[0m\u001b[0m\n\u001b[1;32m     19\u001b[0m     features = [average_word_vectors(tokenized_sentence, model, vocabulary, num_features)\n\u001b[0;32m---> 20\u001b[0;31m                     for tokenized_sentence in document ]\n\u001b[0m\u001b[1;32m     21\u001b[0m     \u001b[0;32mreturn\u001b[0m \u001b[0mnp\u001b[0m\u001b[0;34m.\u001b[0m\u001b[0marray\u001b[0m\u001b[0;34m(\u001b[0m\u001b[0mfeatures\u001b[0m\u001b[0;34m)\u001b[0m\u001b[0;34m\u001b[0m\u001b[0;34m\u001b[0m\u001b[0m\n",
            "\u001b[0;32m<ipython-input-147-7b704141556c>\u001b[0m in \u001b[0;36maverage_word_vectors\u001b[0;34m(words, model, vocabulary, num_features)\u001b[0m\n\u001b[1;32m      7\u001b[0m         \u001b[0;32mif\u001b[0m \u001b[0mword\u001b[0m \u001b[0;32min\u001b[0m \u001b[0mvocabulary\u001b[0m\u001b[0;34m:\u001b[0m\u001b[0;34m\u001b[0m\u001b[0;34m\u001b[0m\u001b[0m\n\u001b[1;32m      8\u001b[0m             \u001b[0mnwords\u001b[0m \u001b[0;34m=\u001b[0m \u001b[0mnwords\u001b[0m \u001b[0;34m+\u001b[0m \u001b[0;36m1.\u001b[0m\u001b[0;34m\u001b[0m\u001b[0;34m\u001b[0m\u001b[0m\n\u001b[0;32m----> 9\u001b[0;31m             \u001b[0mfeature_vector\u001b[0m \u001b[0;34m=\u001b[0m \u001b[0mnp\u001b[0m\u001b[0;34m.\u001b[0m\u001b[0madd\u001b[0m\u001b[0;34m(\u001b[0m\u001b[0mfeature_vector\u001b[0m\u001b[0;34m,\u001b[0m \u001b[0mmodel\u001b[0m\u001b[0;34m[\u001b[0m\u001b[0mword\u001b[0m\u001b[0;34m]\u001b[0m\u001b[0;34m)\u001b[0m\u001b[0;34m\u001b[0m\u001b[0;34m\u001b[0m\u001b[0m\n\u001b[0m\u001b[1;32m     10\u001b[0m \u001b[0;34m\u001b[0m\u001b[0m\n\u001b[1;32m     11\u001b[0m     \u001b[0;32mif\u001b[0m \u001b[0mnwords\u001b[0m\u001b[0;34m:\u001b[0m\u001b[0;34m\u001b[0m\u001b[0;34m\u001b[0m\u001b[0m\n",
            "\u001b[0;31mValueError\u001b[0m: operands could not be broadcast together with shapes (100,) (10,) "
          ]
        }
      ]
    },
    {
      "cell_type": "code",
      "source": [
        "# 7. Affinity propagation"
      ],
      "metadata": {
        "id": "7N99wEJ8laYd"
      },
      "execution_count": null,
      "outputs": []
    },
    {
      "cell_type": "code",
      "source": [
        "from sklearn.cluster import AffinityPropagation\n",
        "\n",
        "ap = AffinityPropagation()\n",
        "ap.fit(w2v_feature_array)\n",
        "doc_labels = ap.labels_\n",
        "doc_labels = pd.DataFrame(doc_labels, columns=['DocLabel'])\n",
        "pd.concat([document_df, doc_labels], axis=1)"
      ],
      "metadata": {
        "id": "YBxZpTQoXdjO",
        "colab": {
          "base_uri": "https://localhost:8080/",
          "height": 497
        },
        "outputId": "f1d25843-3cd0-49d8-a3c2-fb8651cae87b"
      },
      "execution_count": 155,
      "outputs": [
        {
          "output_type": "execute_result",
          "data": {
            "text/plain": [
              "                                                                                                                                                                                                    Sentense  \\\n",
              "0                                                                                                                                                          The Sequential model is a linear stack of layers.   \n",
              "1                                                                                                 Perplexity is a measurement of how well a probability distribution or probability model predicts a sample.   \n",
              "2    Tesorflow initializers are random normal, random uniform, truncated normal, zeros, ones, Glorot normal, Glorot uniform, He normal,  He uniform, Identity, orthogonal, uniform, constant, variance sc...   \n",
              "3                                                                                                                                        TSNE is a statistical method for visualising high-dimensional data.   \n",
              "4                                                                       Xavier/Glorot Initialization is used to maintain the same smooth distribution for both the forward pass as well the backpropagation.   \n",
              "..                                                                                                                                                                                                       ...   \n",
              "859                                                                                                                                                                                                      NaN   \n",
              "860                                                                                                                                                                                                      NaN   \n",
              "861                                                                                                                                                                                                      NaN   \n",
              "862                                                                                                                                                                                                      NaN   \n",
              "863                                                                                                                                                                                                      NaN   \n",
              "\n",
              "          Category  DocLabel  \n",
              "0            model        43  \n",
              "1            model        36  \n",
              "2      initializer        11  \n",
              "3    visualisation        30  \n",
              "4      initializer        34  \n",
              "..             ...       ...  \n",
              "859            NaN         5  \n",
              "860            NaN         5  \n",
              "861            NaN        40  \n",
              "862            NaN        54  \n",
              "863            NaN        40  \n",
              "\n",
              "[864 rows x 3 columns]"
            ],
            "text/html": [
              "\n",
              "  <div id=\"df-78bc73cf-adf8-46e0-8880-4eb11c81f9a9\">\n",
              "    <div class=\"colab-df-container\">\n",
              "      <div>\n",
              "<style scoped>\n",
              "    .dataframe tbody tr th:only-of-type {\n",
              "        vertical-align: middle;\n",
              "    }\n",
              "\n",
              "    .dataframe tbody tr th {\n",
              "        vertical-align: top;\n",
              "    }\n",
              "\n",
              "    .dataframe thead th {\n",
              "        text-align: right;\n",
              "    }\n",
              "</style>\n",
              "<table border=\"1\" class=\"dataframe\">\n",
              "  <thead>\n",
              "    <tr style=\"text-align: right;\">\n",
              "      <th></th>\n",
              "      <th>Sentense</th>\n",
              "      <th>Category</th>\n",
              "      <th>DocLabel</th>\n",
              "    </tr>\n",
              "  </thead>\n",
              "  <tbody>\n",
              "    <tr>\n",
              "      <th>0</th>\n",
              "      <td>The Sequential model is a linear stack of layers.</td>\n",
              "      <td>model</td>\n",
              "      <td>43</td>\n",
              "    </tr>\n",
              "    <tr>\n",
              "      <th>1</th>\n",
              "      <td>Perplexity is a measurement of how well a probability distribution or probability model predicts a sample.</td>\n",
              "      <td>model</td>\n",
              "      <td>36</td>\n",
              "    </tr>\n",
              "    <tr>\n",
              "      <th>2</th>\n",
              "      <td>Tesorflow initializers are random normal, random uniform, truncated normal, zeros, ones, Glorot normal, Glorot uniform, He normal,  He uniform, Identity, orthogonal, uniform, constant, variance sc...</td>\n",
              "      <td>initializer</td>\n",
              "      <td>11</td>\n",
              "    </tr>\n",
              "    <tr>\n",
              "      <th>3</th>\n",
              "      <td>TSNE is a statistical method for visualising high-dimensional data.</td>\n",
              "      <td>visualisation</td>\n",
              "      <td>30</td>\n",
              "    </tr>\n",
              "    <tr>\n",
              "      <th>4</th>\n",
              "      <td>Xavier/Glorot Initialization is used to maintain the same smooth distribution for both the forward pass as well the backpropagation.</td>\n",
              "      <td>initializer</td>\n",
              "      <td>34</td>\n",
              "    </tr>\n",
              "    <tr>\n",
              "      <th>...</th>\n",
              "      <td>...</td>\n",
              "      <td>...</td>\n",
              "      <td>...</td>\n",
              "    </tr>\n",
              "    <tr>\n",
              "      <th>859</th>\n",
              "      <td>NaN</td>\n",
              "      <td>NaN</td>\n",
              "      <td>5</td>\n",
              "    </tr>\n",
              "    <tr>\n",
              "      <th>860</th>\n",
              "      <td>NaN</td>\n",
              "      <td>NaN</td>\n",
              "      <td>5</td>\n",
              "    </tr>\n",
              "    <tr>\n",
              "      <th>861</th>\n",
              "      <td>NaN</td>\n",
              "      <td>NaN</td>\n",
              "      <td>40</td>\n",
              "    </tr>\n",
              "    <tr>\n",
              "      <th>862</th>\n",
              "      <td>NaN</td>\n",
              "      <td>NaN</td>\n",
              "      <td>54</td>\n",
              "    </tr>\n",
              "    <tr>\n",
              "      <th>863</th>\n",
              "      <td>NaN</td>\n",
              "      <td>NaN</td>\n",
              "      <td>40</td>\n",
              "    </tr>\n",
              "  </tbody>\n",
              "</table>\n",
              "<p>864 rows × 3 columns</p>\n",
              "</div>\n",
              "      <button class=\"colab-df-convert\" onclick=\"convertToInteractive('df-78bc73cf-adf8-46e0-8880-4eb11c81f9a9')\"\n",
              "              title=\"Convert this dataframe to an interactive table.\"\n",
              "              style=\"display:none;\">\n",
              "        \n",
              "  <svg xmlns=\"http://www.w3.org/2000/svg\" height=\"24px\"viewBox=\"0 0 24 24\"\n",
              "       width=\"24px\">\n",
              "    <path d=\"M0 0h24v24H0V0z\" fill=\"none\"/>\n",
              "    <path d=\"M18.56 5.44l.94 2.06.94-2.06 2.06-.94-2.06-.94-.94-2.06-.94 2.06-2.06.94zm-11 1L8.5 8.5l.94-2.06 2.06-.94-2.06-.94L8.5 2.5l-.94 2.06-2.06.94zm10 10l.94 2.06.94-2.06 2.06-.94-2.06-.94-.94-2.06-.94 2.06-2.06.94z\"/><path d=\"M17.41 7.96l-1.37-1.37c-.4-.4-.92-.59-1.43-.59-.52 0-1.04.2-1.43.59L10.3 9.45l-7.72 7.72c-.78.78-.78 2.05 0 2.83L4 21.41c.39.39.9.59 1.41.59.51 0 1.02-.2 1.41-.59l7.78-7.78 2.81-2.81c.8-.78.8-2.07 0-2.86zM5.41 20L4 18.59l7.72-7.72 1.47 1.35L5.41 20z\"/>\n",
              "  </svg>\n",
              "      </button>\n",
              "      \n",
              "  <style>\n",
              "    .colab-df-container {\n",
              "      display:flex;\n",
              "      flex-wrap:wrap;\n",
              "      gap: 12px;\n",
              "    }\n",
              "\n",
              "    .colab-df-convert {\n",
              "      background-color: #E8F0FE;\n",
              "      border: none;\n",
              "      border-radius: 50%;\n",
              "      cursor: pointer;\n",
              "      display: none;\n",
              "      fill: #1967D2;\n",
              "      height: 32px;\n",
              "      padding: 0 0 0 0;\n",
              "      width: 32px;\n",
              "    }\n",
              "\n",
              "    .colab-df-convert:hover {\n",
              "      background-color: #E2EBFA;\n",
              "      box-shadow: 0px 1px 2px rgba(60, 64, 67, 0.3), 0px 1px 3px 1px rgba(60, 64, 67, 0.15);\n",
              "      fill: #174EA6;\n",
              "    }\n",
              "\n",
              "    [theme=dark] .colab-df-convert {\n",
              "      background-color: #3B4455;\n",
              "      fill: #D2E3FC;\n",
              "    }\n",
              "\n",
              "    [theme=dark] .colab-df-convert:hover {\n",
              "      background-color: #434B5C;\n",
              "      box-shadow: 0px 1px 3px 1px rgba(0, 0, 0, 0.15);\n",
              "      filter: drop-shadow(0px 1px 2px rgba(0, 0, 0, 0.3));\n",
              "      fill: #FFFFFF;\n",
              "    }\n",
              "  </style>\n",
              "\n",
              "      <script>\n",
              "        const buttonEl =\n",
              "          document.querySelector('#df-78bc73cf-adf8-46e0-8880-4eb11c81f9a9 button.colab-df-convert');\n",
              "        buttonEl.style.display =\n",
              "          google.colab.kernel.accessAllowed ? 'block' : 'none';\n",
              "\n",
              "        async function convertToInteractive(key) {\n",
              "          const element = document.querySelector('#df-78bc73cf-adf8-46e0-8880-4eb11c81f9a9');\n",
              "          const dataTable =\n",
              "            await google.colab.kernel.invokeFunction('convertToInteractive',\n",
              "                                                     [key], {});\n",
              "          if (!dataTable) return;\n",
              "\n",
              "          const docLinkHtml = 'Like what you see? Visit the ' +\n",
              "            '<a target=\"_blank\" href=https://colab.research.google.com/notebooks/data_table.ipynb>data table notebook</a>'\n",
              "            + ' to learn more about interactive tables.';\n",
              "          element.innerHTML = '';\n",
              "          dataTable['output_type'] = 'display_data';\n",
              "          await google.colab.output.renderOutput(dataTable, element);\n",
              "          const docLink = document.createElement('div');\n",
              "          docLink.innerHTML = docLinkHtml;\n",
              "          element.appendChild(docLink);\n",
              "        }\n",
              "      </script>\n",
              "    </div>\n",
              "  </div>\n",
              "  "
            ]
          },
          "metadata": {},
          "execution_count": 155
        }
      ]
    },
    {
      "cell_type": "code",
      "source": [
        "# 8. PCA"
      ],
      "metadata": {
        "id": "PNIz0oLDlbiM"
      },
      "execution_count": null,
      "outputs": []
    },
    {
      "cell_type": "code",
      "source": [
        "from sklearn.decomposition import PCA\n",
        "\n",
        "pca = PCA(n_components=2, random_state=0)\n",
        "pcs = pca.fit_transform(w2v_feature_array)\n",
        "labels = ap.labels_\n",
        "categories = list(document_df['Category'])\n",
        "plt.figure(figsize=(8, 6))\n",
        "\n",
        "for i in range(len(labels)):\n",
        "    label = labels[i]\n",
        "    color = 'tan' if label == 0 else 'grey' if label == 1 else 'black'\n",
        "    annotation_label = categories[i]\n",
        "    x, y = pcs[i]\n",
        "    plt.scatter(x, y, c=color, edgecolors='k')\n",
        "    plt.annotate(annotation_label, xy=(x+1e-4, y+1e-3), xytext=(0, 0), textcoords='offset points')"
      ],
      "metadata": {
        "id": "BILhlYpiXdmN",
        "colab": {
          "base_uri": "https://localhost:8080/",
          "height": 589
        },
        "outputId": "00b6b5d6-b18f-451f-d494-8c265dfe43ca"
      },
      "execution_count": 156,
      "outputs": [
        {
          "output_type": "error",
          "ename": "IndexError",
          "evalue": "ignored",
          "traceback": [
            "\u001b[0;31m---------------------------------------------------------------------------\u001b[0m",
            "\u001b[0;31mIndexError\u001b[0m                                Traceback (most recent call last)",
            "\u001b[0;32m<ipython-input-156-b7c19861db29>\u001b[0m in \u001b[0;36m<module>\u001b[0;34m\u001b[0m\n\u001b[1;32m     10\u001b[0m     \u001b[0mlabel\u001b[0m \u001b[0;34m=\u001b[0m \u001b[0mlabels\u001b[0m\u001b[0;34m[\u001b[0m\u001b[0mi\u001b[0m\u001b[0;34m]\u001b[0m\u001b[0;34m\u001b[0m\u001b[0;34m\u001b[0m\u001b[0m\n\u001b[1;32m     11\u001b[0m     \u001b[0mcolor\u001b[0m \u001b[0;34m=\u001b[0m \u001b[0;34m'tan'\u001b[0m \u001b[0;32mif\u001b[0m \u001b[0mlabel\u001b[0m \u001b[0;34m==\u001b[0m \u001b[0;36m0\u001b[0m \u001b[0;32melse\u001b[0m \u001b[0;34m'grey'\u001b[0m \u001b[0;32mif\u001b[0m \u001b[0mlabel\u001b[0m \u001b[0;34m==\u001b[0m \u001b[0;36m1\u001b[0m \u001b[0;32melse\u001b[0m \u001b[0;34m'black'\u001b[0m\u001b[0;34m\u001b[0m\u001b[0;34m\u001b[0m\u001b[0m\n\u001b[0;32m---> 12\u001b[0;31m     \u001b[0mannotation_label\u001b[0m \u001b[0;34m=\u001b[0m \u001b[0mcategories\u001b[0m\u001b[0;34m[\u001b[0m\u001b[0mi\u001b[0m\u001b[0;34m]\u001b[0m\u001b[0;34m\u001b[0m\u001b[0;34m\u001b[0m\u001b[0m\n\u001b[0m\u001b[1;32m     13\u001b[0m     \u001b[0mx\u001b[0m\u001b[0;34m,\u001b[0m \u001b[0my\u001b[0m \u001b[0;34m=\u001b[0m \u001b[0mpcs\u001b[0m\u001b[0;34m[\u001b[0m\u001b[0mi\u001b[0m\u001b[0;34m]\u001b[0m\u001b[0;34m\u001b[0m\u001b[0;34m\u001b[0m\u001b[0m\n\u001b[1;32m     14\u001b[0m     \u001b[0mplt\u001b[0m\u001b[0;34m.\u001b[0m\u001b[0mscatter\u001b[0m\u001b[0;34m(\u001b[0m\u001b[0mx\u001b[0m\u001b[0;34m,\u001b[0m \u001b[0my\u001b[0m\u001b[0;34m,\u001b[0m \u001b[0mc\u001b[0m\u001b[0;34m=\u001b[0m\u001b[0mcolor\u001b[0m\u001b[0;34m,\u001b[0m \u001b[0medgecolors\u001b[0m\u001b[0;34m=\u001b[0m\u001b[0;34m'k'\u001b[0m\u001b[0;34m)\u001b[0m\u001b[0;34m\u001b[0m\u001b[0;34m\u001b[0m\u001b[0m\n",
            "\u001b[0;31mIndexError\u001b[0m: list index out of range"
          ]
        },
        {
          "output_type": "display_data",
          "data": {
            "text/plain": [
              "<Figure size 576x432 with 1 Axes>"
            ],
            "image/png": "[encoded data removed]"
          },
          "metadata": {
            "needs_background": "light"
          }
        }
      ]
    },
    {
      "cell_type": "code",
      "source": [
        "# 9. Use spacy"
      ],
      "metadata": {
        "id": "kvQ8Zl4tlc-c"
      },
      "execution_count": null,
      "outputs": []
    },
    {
      "cell_type": "code",
      "source": [
        "pip install spacy"
      ],
      "metadata": {
        "colab": {
          "base_uri": "https://localhost:8080/"
        },
        "id": "tI8Ea1oR6N4r",
        "outputId": "ed988cdf-8161-4098-86a4-0bbe54f13d71"
      },
      "execution_count": 157,
      "outputs": [
        {
          "output_type": "stream",
          "name": "stdout",
          "text": [
            "Looking in indexes: https://pypi.org/simple, https://us-python.pkg.dev/colab-wheels/public/simple/\n",
            "Requirement already satisfied: spacy in /usr/local/lib/python3.7/dist-packages (3.4.1)\n",
            "Requirement already satisfied: langcodes<4.0.0,>=3.2.0 in /usr/local/lib/python3.7/dist-packages (from spacy) (3.3.0)\n",
            "Requirement already satisfied: setuptools in /usr/local/lib/python3.7/dist-packages (from spacy) (57.4.0)\n",
            "Requirement already satisfied: typing-extensions<4.2.0,>=3.7.4 in /usr/local/lib/python3.7/dist-packages (from spacy) (4.1.1)\n",
            "Requirement already satisfied: pathy>=0.3.5 in /usr/local/lib/python3.7/dist-packages (from spacy) (0.6.2)\n",
            "Requirement already satisfied: wasabi<1.1.0,>=0.9.1 in /usr/local/lib/python3.7/dist-packages (from spacy) (0.10.1)\n",
            "Requirement already satisfied: thinc<8.2.0,>=8.1.0 in /usr/local/lib/python3.7/dist-packages (from spacy) (8.1.0)\n",
            "Requirement already satisfied: srsly<3.0.0,>=2.4.3 in /usr/local/lib/python3.7/dist-packages (from spacy) (2.4.4)\n",
            "Requirement already satisfied: requests<3.0.0,>=2.13.0 in /usr/local/lib/python3.7/dist-packages (from spacy) (2.23.0)\n",
            "Requirement already satisfied: numpy>=1.15.0 in /usr/local/lib/python3.7/dist-packages (from spacy) (1.21.6)\n",
            "Requirement already satisfied: murmurhash<1.1.0,>=0.28.0 in /usr/local/lib/python3.7/dist-packages (from spacy) (1.0.8)\n",
            "Requirement already satisfied: preshed<3.1.0,>=3.0.2 in /usr/local/lib/python3.7/dist-packages (from spacy) (3.0.7)\n",
            "Requirement already satisfied: jinja2 in /usr/local/lib/python3.7/dist-packages (from spacy) (2.11.3)\n",
            "Requirement already satisfied: spacy-loggers<2.0.0,>=1.0.0 in /usr/local/lib/python3.7/dist-packages (from spacy) (1.0.3)\n",
            "Requirement already satisfied: pydantic!=1.8,!=1.8.1,<1.10.0,>=1.7.4 in /usr/local/lib/python3.7/dist-packages (from spacy) (1.9.2)\n",
            "Requirement already satisfied: cymem<2.1.0,>=2.0.2 in /usr/local/lib/python3.7/dist-packages (from spacy) (2.0.6)\n",
            "Requirement already satisfied: catalogue<2.1.0,>=2.0.6 in /usr/local/lib/python3.7/dist-packages (from spacy) (2.0.8)\n",
            "Requirement already satisfied: tqdm<5.0.0,>=4.38.0 in /usr/local/lib/python3.7/dist-packages (from spacy) (4.64.0)\n",
            "Requirement already satisfied: typer<0.5.0,>=0.3.0 in /usr/local/lib/python3.7/dist-packages (from spacy) (0.4.2)\n",
            "Requirement already satisfied: spacy-legacy<3.1.0,>=3.0.9 in /usr/local/lib/python3.7/dist-packages (from spacy) (3.0.10)\n",
            "Requirement already satisfied: packaging>=20.0 in /usr/local/lib/python3.7/dist-packages (from spacy) (21.3)\n",
            "Requirement already satisfied: zipp>=0.5 in /usr/local/lib/python3.7/dist-packages (from catalogue<2.1.0,>=2.0.6->spacy) (3.8.1)\n",
            "Requirement already satisfied: pyparsing!=3.0.5,>=2.0.2 in /usr/local/lib/python3.7/dist-packages (from packaging>=20.0->spacy) (3.0.9)\n",
            "Requirement already satisfied: smart-open<6.0.0,>=5.2.1 in /usr/local/lib/python3.7/dist-packages (from pathy>=0.3.5->spacy) (5.2.1)\n",
            "Requirement already satisfied: urllib3!=1.25.0,!=1.25.1,<1.26,>=1.21.1 in /usr/local/lib/python3.7/dist-packages (from requests<3.0.0,>=2.13.0->spacy) (1.24.3)\n",
            "Requirement already satisfied: idna<3,>=2.5 in /usr/local/lib/python3.7/dist-packages (from requests<3.0.0,>=2.13.0->spacy) (2.10)\n",
            "Requirement already satisfied: chardet<4,>=3.0.2 in /usr/local/lib/python3.7/dist-packages (from requests<3.0.0,>=2.13.0->spacy) (3.0.4)\n",
            "Requirement already satisfied: certifi>=2017.4.17 in /usr/local/lib/python3.7/dist-packages (from requests<3.0.0,>=2.13.0->spacy) (2022.6.15)\n",
            "Requirement already satisfied: blis<0.8.0,>=0.7.8 in /usr/local/lib/python3.7/dist-packages (from thinc<8.2.0,>=8.1.0->spacy) (0.7.8)\n",
            "Requirement already satisfied: click<9.0.0,>=7.1.1 in /usr/local/lib/python3.7/dist-packages (from typer<0.5.0,>=0.3.0->spacy) (7.1.2)\n",
            "Requirement already satisfied: MarkupSafe>=0.23 in /usr/local/lib/python3.7/dist-packages (from jinja2->spacy) (2.0.1)\n"
          ]
        }
      ]
    },
    {
      "cell_type": "code",
      "source": [
        "# import spacy dictionary"
      ],
      "metadata": {
        "id": "AMgklfE5lfFh"
      },
      "execution_count": null,
      "outputs": []
    },
    {
      "cell_type": "code",
      "source": [
        "import spacy\n",
        "\n",
        "import en_core_web_sm\n",
        "\n",
        "\n",
        "\n",
        "nlp = spacy.load('en_core_web_sm')\n",
        "\n",
        "total_vectors = len(nlp.vocab.vectors)\n",
        "print('Total word vectors:', total_vectors)"
      ],
      "metadata": {
        "id": "5kGt4tOTXnf0",
        "colab": {
          "base_uri": "https://localhost:8080/"
        },
        "outputId": "83b34d71-cef6-4be3-dd70-9d25d0ef5f8e"
      },
      "execution_count": 158,
      "outputs": [
        {
          "output_type": "stream",
          "name": "stdout",
          "text": [
            "Total word vectors: 0\n"
          ]
        }
      ]
    },
    {
      "cell_type": "code",
      "source": [
        "# 10. Use glove to calculate unique words"
      ],
      "metadata": {
        "id": "xQPW6R_xlgJH"
      },
      "execution_count": null,
      "outputs": []
    },
    {
      "cell_type": "code",
      "source": [
        "unique_words = list(set([word for sublist in [doc.split() for doc in norm_doc] for word in sublist]))\n",
        "\n",
        "word_glove_vectors = np.array([nlp(word).vector for word in unique_words])\n",
        "pd.DataFrame(word_glove_vectors, index=unique_words)"
      ],
      "metadata": {
        "id": "EqUkqtdLXnkL",
        "colab": {
          "base_uri": "https://localhost:8080/",
          "height": 483
        },
        "outputId": "fa3b5e3c-a253-44e3-dea1-527f871d72b0"
      },
      "execution_count": 159,
      "outputs": [
        {
          "output_type": "execute_result",
          "data": {
            "text/plain": [
              "                   0         1         2         3         4         5   \\\n",
              "addamax      0.179949  0.282289  1.009438 -1.049538  0.074111  1.840592   \n",
              "current      0.020417  1.531191  0.886479  0.520747  0.277354  1.119208   \n",
              "optimizers   1.329374  0.539882 -0.689665 -1.355235 -1.331535  1.346468   \n",
              "adadelta     1.143459  0.574693  0.542926 -0.866831 -0.589201  1.347344   \n",
              "method       0.651152  1.790741  1.029910 -1.116685  0.682702  0.684147   \n",
              "...               ...       ...       ...       ...       ...       ...   \n",
              "random       0.653416  2.095540 -0.271165 -0.480442  0.026360  1.050596   \n",
              "adagrad      0.910837  1.654124  0.271695  1.402854 -0.213173  1.759492   \n",
              "statistical  0.551857  2.278343 -0.280229  0.843984  0.218206  0.619147   \n",
              "scaling      1.541793  0.673228 -0.681616  0.548391  0.492752  0.543548   \n",
              "uniform      0.982114  1.432110 -0.306830 -0.834123  0.329414  1.116844   \n",
              "\n",
              "                   6         7         8         9   ...        86        87  \\\n",
              "addamax     -1.190033  0.380817  2.041721 -0.533708  ... -0.597283  0.116668   \n",
              "current      0.539278 -0.623021  0.296906 -1.287353  ...  0.959054  0.397961   \n",
              "optimizers   0.839137  0.814404 -0.216685 -0.731668  ... -0.363565  0.364122   \n",
              "adadelta    -0.013627  0.552031  0.398138 -1.120552  ...  0.717575  0.182060   \n",
              "method      -0.307660  0.052985  1.055370 -0.343423  ...  0.087497  0.901139   \n",
              "...               ...       ...       ...       ...  ...       ...       ...   \n",
              "random       0.544162 -0.636253  0.849770 -0.859314  ...  0.618453 -0.159134   \n",
              "adagrad     -0.410778 -0.318740  0.529632 -1.240732  ... -0.086531  1.106825   \n",
              "statistical  0.168992  0.055814 -0.001031 -0.948482  ... -0.072448 -0.026816   \n",
              "scaling      0.431671  0.475628 -0.344633 -0.760205  ... -0.430322 -1.126825   \n",
              "uniform     -0.358722 -0.175630  0.363672 -1.201893  ... -0.051903 -0.156420   \n",
              "\n",
              "                   88        89        90        91        92        93  \\\n",
              "addamax     -1.086348  1.709749 -1.390299  0.081280 -0.065881  1.426812   \n",
              "current     -1.042966  2.725302 -0.602419 -0.477257 -0.127280  0.620425   \n",
              "optimizers  -1.356674 -1.187253 -1.434347 -0.863398 -0.738422  2.099089   \n",
              "adadelta    -1.786164  1.058770 -0.406435  0.018725 -0.398065  0.767839   \n",
              "method      -2.129328  1.624106 -1.365911 -0.070450  0.102885  1.287019   \n",
              "...               ...       ...       ...       ...       ...       ...   \n",
              "random      -2.122838  2.105223  0.491994  0.239325 -0.125078 -1.061257   \n",
              "adagrad     -1.937496  1.542334 -0.973617 -0.567794 -0.837176  0.983639   \n",
              "statistical -1.689839  1.405542  0.633858 -1.545343 -0.295011 -0.679576   \n",
              "scaling     -0.126007  1.842938  0.316677 -1.195425  0.488643 -0.302227   \n",
              "uniform     -1.614983  2.174675 -0.659987  0.550005 -0.378316  0.168979   \n",
              "\n",
              "                   94        95  \n",
              "addamax      0.479166  2.022729  \n",
              "current      0.841645  1.329957  \n",
              "optimizers   0.992584 -0.709731  \n",
              "adadelta     0.620377  0.510965  \n",
              "method       0.661309  1.346691  \n",
              "...               ...       ...  \n",
              "random       0.252698  0.490090  \n",
              "adagrad      1.201253  1.329961  \n",
              "statistical  0.497347  0.634984  \n",
              "scaling      1.135160 -0.130881  \n",
              "uniform      0.026434  0.842650  \n",
              "\n",
              "[64 rows x 96 columns]"
            ],
            "text/html": [
              "\n",
              "  <div id=\"df-f50b6320-6b01-4eff-b347-35d1d21a1f2d\">\n",
              "    <div class=\"colab-df-container\">\n",
              "      <div>\n",
              "<style scoped>\n",
              "    .dataframe tbody tr th:only-of-type {\n",
              "        vertical-align: middle;\n",
              "    }\n",
              "\n",
              "    .dataframe tbody tr th {\n",
              "        vertical-align: top;\n",
              "    }\n",
              "\n",
              "    .dataframe thead th {\n",
              "        text-align: right;\n",
              "    }\n",
              "</style>\n",
              "<table border=\"1\" class=\"dataframe\">\n",
              "  <thead>\n",
              "    <tr style=\"text-align: right;\">\n",
              "      <th></th>\n",
              "      <th>0</th>\n",
              "      <th>1</th>\n",
              "      <th>2</th>\n",
              "      <th>3</th>\n",
              "      <th>4</th>\n",
              "      <th>5</th>\n",
              "      <th>6</th>\n",
              "      <th>7</th>\n",
              "      <th>8</th>\n",
              "      <th>9</th>\n",
              "      <th>...</th>\n",
              "      <th>86</th>\n",
              "      <th>87</th>\n",
              "      <th>88</th>\n",
              "      <th>89</th>\n",
              "      <th>90</th>\n",
              "      <th>91</th>\n",
              "      <th>92</th>\n",
              "      <th>93</th>\n",
              "      <th>94</th>\n",
              "      <th>95</th>\n",
              "    </tr>\n",
              "  </thead>\n",
              "  <tbody>\n",
              "    <tr>\n",
              "      <th>addamax</th>\n",
              "      <td>0.179949</td>\n",
              "      <td>0.282289</td>\n",
              "      <td>1.009438</td>\n",
              "      <td>-1.049538</td>\n",
              "      <td>0.074111</td>\n",
              "      <td>1.840592</td>\n",
              "      <td>-1.190033</td>\n",
              "      <td>0.380817</td>\n",
              "      <td>2.041721</td>\n",
              "      <td>-0.533708</td>\n",
              "      <td>...</td>\n",
              "      <td>-0.597283</td>\n",
              "      <td>0.116668</td>\n",
              "      <td>-1.086348</td>\n",
              "      <td>1.709749</td>\n",
              "      <td>-1.390299</td>\n",
              "      <td>0.081280</td>\n",
              "      <td>-0.065881</td>\n",
              "      <td>1.426812</td>\n",
              "      <td>0.479166</td>\n",
              "      <td>2.022729</td>\n",
              "    </tr>\n",
              "    <tr>\n",
              "      <th>current</th>\n",
              "      <td>0.020417</td>\n",
              "      <td>1.531191</td>\n",
              "      <td>0.886479</td>\n",
              "      <td>0.520747</td>\n",
              "      <td>0.277354</td>\n",
              "      <td>1.119208</td>\n",
              "      <td>0.539278</td>\n",
              "      <td>-0.623021</td>\n",
              "      <td>0.296906</td>\n",
              "      <td>-1.287353</td>\n",
              "      <td>...</td>\n",
              "      <td>0.959054</td>\n",
              "      <td>0.397961</td>\n",
              "      <td>-1.042966</td>\n",
              "      <td>2.725302</td>\n",
              "      <td>-0.602419</td>\n",
              "      <td>-0.477257</td>\n",
              "      <td>-0.127280</td>\n",
              "      <td>0.620425</td>\n",
              "      <td>0.841645</td>\n",
              "      <td>1.329957</td>\n",
              "    </tr>\n",
              "    <tr>\n",
              "      <th>optimizers</th>\n",
              "      <td>1.329374</td>\n",
              "      <td>0.539882</td>\n",
              "      <td>-0.689665</td>\n",
              "      <td>-1.355235</td>\n",
              "      <td>-1.331535</td>\n",
              "      <td>1.346468</td>\n",
              "      <td>0.839137</td>\n",
              "      <td>0.814404</td>\n",
              "      <td>-0.216685</td>\n",
              "      <td>-0.731668</td>\n",
              "      <td>...</td>\n",
              "      <td>-0.363565</td>\n",
              "      <td>0.364122</td>\n",
              "      <td>-1.356674</td>\n",
              "      <td>-1.187253</td>\n",
              "      <td>-1.434347</td>\n",
              "      <td>-0.863398</td>\n",
              "      <td>-0.738422</td>\n",
              "      <td>2.099089</td>\n",
              "      <td>0.992584</td>\n",
              "      <td>-0.709731</td>\n",
              "    </tr>\n",
              "    <tr>\n",
              "      <th>adadelta</th>\n",
              "      <td>1.143459</td>\n",
              "      <td>0.574693</td>\n",
              "      <td>0.542926</td>\n",
              "      <td>-0.866831</td>\n",
              "      <td>-0.589201</td>\n",
              "      <td>1.347344</td>\n",
              "      <td>-0.013627</td>\n",
              "      <td>0.552031</td>\n",
              "      <td>0.398138</td>\n",
              "      <td>-1.120552</td>\n",
              "      <td>...</td>\n",
              "      <td>0.717575</td>\n",
              "      <td>0.182060</td>\n",
              "      <td>-1.786164</td>\n",
              "      <td>1.058770</td>\n",
              "      <td>-0.406435</td>\n",
              "      <td>0.018725</td>\n",
              "      <td>-0.398065</td>\n",
              "      <td>0.767839</td>\n",
              "      <td>0.620377</td>\n",
              "      <td>0.510965</td>\n",
              "    </tr>\n",
              "    <tr>\n",
              "      <th>method</th>\n",
              "      <td>0.651152</td>\n",
              "      <td>1.790741</td>\n",
              "      <td>1.029910</td>\n",
              "      <td>-1.116685</td>\n",
              "      <td>0.682702</td>\n",
              "      <td>0.684147</td>\n",
              "      <td>-0.307660</td>\n",
              "      <td>0.052985</td>\n",
              "      <td>1.055370</td>\n",
              "      <td>-0.343423</td>\n",
              "      <td>...</td>\n",
              "      <td>0.087497</td>\n",
              "      <td>0.901139</td>\n",
              "      <td>-2.129328</td>\n",
              "      <td>1.624106</td>\n",
              "      <td>-1.365911</td>\n",
              "      <td>-0.070450</td>\n",
              "      <td>0.102885</td>\n",
              "      <td>1.287019</td>\n",
              "      <td>0.661309</td>\n",
              "      <td>1.346691</td>\n",
              "    </tr>\n",
              "    <tr>\n",
              "      <th>...</th>\n",
              "      <td>...</td>\n",
              "      <td>...</td>\n",
              "      <td>...</td>\n",
              "      <td>...</td>\n",
              "      <td>...</td>\n",
              "      <td>...</td>\n",
              "      <td>...</td>\n",
              "      <td>...</td>\n",
              "      <td>...</td>\n",
              "      <td>...</td>\n",
              "      <td>...</td>\n",
              "      <td>...</td>\n",
              "      <td>...</td>\n",
              "      <td>...</td>\n",
              "      <td>...</td>\n",
              "      <td>...</td>\n",
              "      <td>...</td>\n",
              "      <td>...</td>\n",
              "      <td>...</td>\n",
              "      <td>...</td>\n",
              "      <td>...</td>\n",
              "    </tr>\n",
              "    <tr>\n",
              "      <th>random</th>\n",
              "      <td>0.653416</td>\n",
              "      <td>2.095540</td>\n",
              "      <td>-0.271165</td>\n",
              "      <td>-0.480442</td>\n",
              "      <td>0.026360</td>\n",
              "      <td>1.050596</td>\n",
              "      <td>0.544162</td>\n",
              "      <td>-0.636253</td>\n",
              "      <td>0.849770</td>\n",
              "      <td>-0.859314</td>\n",
              "      <td>...</td>\n",
              "      <td>0.618453</td>\n",
              "      <td>-0.159134</td>\n",
              "      <td>-2.122838</td>\n",
              "      <td>2.105223</td>\n",
              "      <td>0.491994</td>\n",
              "      <td>0.239325</td>\n",
              "      <td>-0.125078</td>\n",
              "      <td>-1.061257</td>\n",
              "      <td>0.252698</td>\n",
              "      <td>0.490090</td>\n",
              "    </tr>\n",
              "    <tr>\n",
              "      <th>adagrad</th>\n",
              "      <td>0.910837</td>\n",
              "      <td>1.654124</td>\n",
              "      <td>0.271695</td>\n",
              "      <td>1.402854</td>\n",
              "      <td>-0.213173</td>\n",
              "      <td>1.759492</td>\n",
              "      <td>-0.410778</td>\n",
              "      <td>-0.318740</td>\n",
              "      <td>0.529632</td>\n",
              "      <td>-1.240732</td>\n",
              "      <td>...</td>\n",
              "      <td>-0.086531</td>\n",
              "      <td>1.106825</td>\n",
              "      <td>-1.937496</td>\n",
              "      <td>1.542334</td>\n",
              "      <td>-0.973617</td>\n",
              "      <td>-0.567794</td>\n",
              "      <td>-0.837176</td>\n",
              "      <td>0.983639</td>\n",
              "      <td>1.201253</td>\n",
              "      <td>1.329961</td>\n",
              "    </tr>\n",
              "    <tr>\n",
              "      <th>statistical</th>\n",
              "      <td>0.551857</td>\n",
              "      <td>2.278343</td>\n",
              "      <td>-0.280229</td>\n",
              "      <td>0.843984</td>\n",
              "      <td>0.218206</td>\n",
              "      <td>0.619147</td>\n",
              "      <td>0.168992</td>\n",
              "      <td>0.055814</td>\n",
              "      <td>-0.001031</td>\n",
              "      <td>-0.948482</td>\n",
              "      <td>...</td>\n",
              "      <td>-0.072448</td>\n",
              "      <td>-0.026816</td>\n",
              "      <td>-1.689839</td>\n",
              "      <td>1.405542</td>\n",
              "      <td>0.633858</td>\n",
              "      <td>-1.545343</td>\n",
              "      <td>-0.295011</td>\n",
              "      <td>-0.679576</td>\n",
              "      <td>0.497347</td>\n",
              "      <td>0.634984</td>\n",
              "    </tr>\n",
              "    <tr>\n",
              "      <th>scaling</th>\n",
              "      <td>1.541793</td>\n",
              "      <td>0.673228</td>\n",
              "      <td>-0.681616</td>\n",
              "      <td>0.548391</td>\n",
              "      <td>0.492752</td>\n",
              "      <td>0.543548</td>\n",
              "      <td>0.431671</td>\n",
              "      <td>0.475628</td>\n",
              "      <td>-0.344633</td>\n",
              "      <td>-0.760205</td>\n",
              "      <td>...</td>\n",
              "      <td>-0.430322</td>\n",
              "      <td>-1.126825</td>\n",
              "      <td>-0.126007</td>\n",
              "      <td>1.842938</td>\n",
              "      <td>0.316677</td>\n",
              "      <td>-1.195425</td>\n",
              "      <td>0.488643</td>\n",
              "      <td>-0.302227</td>\n",
              "      <td>1.135160</td>\n",
              "      <td>-0.130881</td>\n",
              "    </tr>\n",
              "    <tr>\n",
              "      <th>uniform</th>\n",
              "      <td>0.982114</td>\n",
              "      <td>1.432110</td>\n",
              "      <td>-0.306830</td>\n",
              "      <td>-0.834123</td>\n",
              "      <td>0.329414</td>\n",
              "      <td>1.116844</td>\n",
              "      <td>-0.358722</td>\n",
              "      <td>-0.175630</td>\n",
              "      <td>0.363672</td>\n",
              "      <td>-1.201893</td>\n",
              "      <td>...</td>\n",
              "      <td>-0.051903</td>\n",
              "      <td>-0.156420</td>\n",
              "      <td>-1.614983</td>\n",
              "      <td>2.174675</td>\n",
              "      <td>-0.659987</td>\n",
              "      <td>0.550005</td>\n",
              "      <td>-0.378316</td>\n",
              "      <td>0.168979</td>\n",
              "      <td>0.026434</td>\n",
              "      <td>0.842650</td>\n",
              "    </tr>\n",
              "  </tbody>\n",
              "</table>\n",
              "<p>64 rows × 96 columns</p>\n",
              "</div>\n",
              "      <button class=\"colab-df-convert\" onclick=\"convertToInteractive('df-f50b6320-6b01-4eff-b347-35d1d21a1f2d')\"\n",
              "              title=\"Convert this dataframe to an interactive table.\"\n",
              "              style=\"display:none;\">\n",
              "        \n",
              "  <svg xmlns=\"http://www.w3.org/2000/svg\" height=\"24px\"viewBox=\"0 0 24 24\"\n",
              "       width=\"24px\">\n",
              "    <path d=\"M0 0h24v24H0V0z\" fill=\"none\"/>\n",
              "    <path d=\"M18.56 5.44l.94 2.06.94-2.06 2.06-.94-2.06-.94-.94-2.06-.94 2.06-2.06.94zm-11 1L8.5 8.5l.94-2.06 2.06-.94-2.06-.94L8.5 2.5l-.94 2.06-2.06.94zm10 10l.94 2.06.94-2.06 2.06-.94-2.06-.94-.94-2.06-.94 2.06-2.06.94z\"/><path d=\"M17.41 7.96l-1.37-1.37c-.4-.4-.92-.59-1.43-.59-.52 0-1.04.2-1.43.59L10.3 9.45l-7.72 7.72c-.78.78-.78 2.05 0 2.83L4 21.41c.39.39.9.59 1.41.59.51 0 1.02-.2 1.41-.59l7.78-7.78 2.81-2.81c.8-.78.8-2.07 0-2.86zM5.41 20L4 18.59l7.72-7.72 1.47 1.35L5.41 20z\"/>\n",
              "  </svg>\n",
              "      </button>\n",
              "      \n",
              "  <style>\n",
              "    .colab-df-container {\n",
              "      display:flex;\n",
              "      flex-wrap:wrap;\n",
              "      gap: 12px;\n",
              "    }\n",
              "\n",
              "    .colab-df-convert {\n",
              "      background-color: #E8F0FE;\n",
              "      border: none;\n",
              "      border-radius: 50%;\n",
              "      cursor: pointer;\n",
              "      display: none;\n",
              "      fill: #1967D2;\n",
              "      height: 32px;\n",
              "      padding: 0 0 0 0;\n",
              "      width: 32px;\n",
              "    }\n",
              "\n",
              "    .colab-df-convert:hover {\n",
              "      background-color: #E2EBFA;\n",
              "      box-shadow: 0px 1px 2px rgba(60, 64, 67, 0.3), 0px 1px 3px 1px rgba(60, 64, 67, 0.15);\n",
              "      fill: #174EA6;\n",
              "    }\n",
              "\n",
              "    [theme=dark] .colab-df-convert {\n",
              "      background-color: #3B4455;\n",
              "      fill: #D2E3FC;\n",
              "    }\n",
              "\n",
              "    [theme=dark] .colab-df-convert:hover {\n",
              "      background-color: #434B5C;\n",
              "      box-shadow: 0px 1px 3px 1px rgba(0, 0, 0, 0.15);\n",
              "      filter: drop-shadow(0px 1px 2px rgba(0, 0, 0, 0.3));\n",
              "      fill: #FFFFFF;\n",
              "    }\n",
              "  </style>\n",
              "\n",
              "      <script>\n",
              "        const buttonEl =\n",
              "          document.querySelector('#df-f50b6320-6b01-4eff-b347-35d1d21a1f2d button.colab-df-convert');\n",
              "        buttonEl.style.display =\n",
              "          google.colab.kernel.accessAllowed ? 'block' : 'none';\n",
              "\n",
              "        async function convertToInteractive(key) {\n",
              "          const element = document.querySelector('#df-f50b6320-6b01-4eff-b347-35d1d21a1f2d');\n",
              "          const dataTable =\n",
              "            await google.colab.kernel.invokeFunction('convertToInteractive',\n",
              "                                                     [key], {});\n",
              "          if (!dataTable) return;\n",
              "\n",
              "          const docLinkHtml = 'Like what you see? Visit the ' +\n",
              "            '<a target=\"_blank\" href=https://colab.research.google.com/notebooks/data_table.ipynb>data table notebook</a>'\n",
              "            + ' to learn more about interactive tables.';\n",
              "          element.innerHTML = '';\n",
              "          dataTable['output_type'] = 'display_data';\n",
              "          await google.colab.output.renderOutput(dataTable, element);\n",
              "          const docLink = document.createElement('div');\n",
              "          docLink.innerHTML = docLinkHtml;\n",
              "          element.appendChild(docLink);\n",
              "        }\n",
              "      </script>\n",
              "    </div>\n",
              "  </div>\n",
              "  "
            ]
          },
          "metadata": {},
          "execution_count": 159
        }
      ]
    },
    {
      "cell_type": "code",
      "source": [
        "# Display unique words in manifold"
      ],
      "metadata": {
        "id": "DT2QFkPglg3K"
      },
      "execution_count": null,
      "outputs": []
    },
    {
      "cell_type": "code",
      "source": [
        "from sklearn.manifold import TSNE\n",
        "\n",
        "tsne = TSNE(n_components=2, random_state=0, n_iter=5000, perplexity=3)\n",
        "np.set_printoptions(suppress=True)\n",
        "T = tsne.fit_transform(word_glove_vectors)\n",
        "labels = unique_words\n",
        "\n",
        "plt.figure(figsize=(12, 6))\n",
        "plt.scatter(T[:, 0], T[:, 1], c='grey', edgecolors='k')\n",
        "for label, x, y in zip(labels, T[:, 0], T[:, 1]):\n",
        "    plt.annotate(label, xy=(x+1, y+1), xytext=(0, 0), textcoords='offset points')"
      ],
      "metadata": {
        "id": "3CoZmvwQXt3y",
        "colab": {
          "base_uri": "https://localhost:8080/",
          "height": 462
        },
        "outputId": "14caf458-1d64-4ea4-ddaf-410a23e47616"
      },
      "execution_count": 160,
      "outputs": [
        {
          "output_type": "stream",
          "name": "stderr",
          "text": [
            "/usr/local/lib/python3.7/dist-packages/sklearn/manifold/_t_sne.py:783: FutureWarning: The default initialization in TSNE will change from 'random' to 'pca' in 1.2.\n",
            "  FutureWarning,\n",
            "/usr/local/lib/python3.7/dist-packages/sklearn/manifold/_t_sne.py:793: FutureWarning: The default learning rate in TSNE will change from 200.0 to 'auto' in 1.2.\n",
            "  FutureWarning,\n"
          ]
        },
        {
          "output_type": "display_data",
          "data": {
            "text/plain": [
              "<Figure size 864x432 with 1 Axes>"
            ],
            "image/png": "[encoded data removed]"
          },
          "metadata": {
            "needs_background": "light"
          }
        }
      ]
    },
    {
      "cell_type": "code",
      "source": [
        "# 11. Create category clusters from unique words created by glove"
      ],
      "metadata": {
        "id": "1zl2nDXalh44"
      },
      "execution_count": null,
      "outputs": []
    },
    {
      "cell_type": "code",
      "source": [
        "from sklearn import cluster"
      ],
      "metadata": {
        "id": "aFN7cg8N73e9"
      },
      "execution_count": 161,
      "outputs": []
    },
    {
      "cell_type": "code",
      "source": [
        "from sklearn.cluster import *"
      ],
      "metadata": {
        "id": "UcOGQwL_7-zy"
      },
      "execution_count": 162,
      "outputs": []
    },
    {
      "cell_type": "code",
      "source": [
        "doc_glove_vectors = np.array([nlp(str(doc)).vector for doc in norm_doc])\n",
        "\n",
        "km = KMeans(n_clusters=3, random_state=0)\n",
        "km.fit_transform(doc_glove_vectors)\n",
        "cluster_labels = km.labels_\n",
        "cluster_labels = pd.DataFrame(cluster_labels, columns=['DocLabel'])\n",
        "pd.concat([document_df, cluster_labels], axis=1)"
      ],
      "metadata": {
        "id": "GeuUwsdXXt6m",
        "colab": {
          "base_uri": "https://localhost:8080/",
          "height": 361
        },
        "outputId": "953ed21b-6432-4b7a-a0de-6d5690562a43"
      },
      "execution_count": 163,
      "outputs": [
        {
          "output_type": "execute_result",
          "data": {
            "text/plain": [
              "                                                                                                                                                                                                  Sentense  \\\n",
              "0                                                                                                                                                        The Sequential model is a linear stack of layers.   \n",
              "1                                                                                               Perplexity is a measurement of how well a probability distribution or probability model predicts a sample.   \n",
              "2  Tesorflow initializers are random normal, random uniform, truncated normal, zeros, ones, Glorot normal, Glorot uniform, He normal,  He uniform, Identity, orthogonal, uniform, constant, variance sc...   \n",
              "3                                                                                                                                      TSNE is a statistical method for visualising high-dimensional data.   \n",
              "4                                                                     Xavier/Glorot Initialization is used to maintain the same smooth distribution for both the forward pass as well the backpropagation.   \n",
              "5                                                                      CBOW architecture tries to predict the current target word (the center word) based on the source context words (surrounding words).   \n",
              "6                                                                                                                    Available optimizers are adam, adadelta, adagrad, addamax, nadam, ftrl, SGD, RMSprop.   \n",
              "\n",
              "        Category  DocLabel  \n",
              "0          model         2  \n",
              "1          model         1  \n",
              "2    initializer         0  \n",
              "3  visualisation         0  \n",
              "4    initializer         1  \n",
              "5    achitecture         1  \n",
              "6     optimizers         2  "
            ],
            "text/html": [
              "\n",
              "  <div id=\"df-4229f4ab-4286-4b82-918f-a54f1fccd0c1\">\n",
              "    <div class=\"colab-df-container\">\n",
              "      <div>\n",
              "<style scoped>\n",
              "    .dataframe tbody tr th:only-of-type {\n",
              "        vertical-align: middle;\n",
              "    }\n",
              "\n",
              "    .dataframe tbody tr th {\n",
              "        vertical-align: top;\n",
              "    }\n",
              "\n",
              "    .dataframe thead th {\n",
              "        text-align: right;\n",
              "    }\n",
              "</style>\n",
              "<table border=\"1\" class=\"dataframe\">\n",
              "  <thead>\n",
              "    <tr style=\"text-align: right;\">\n",
              "      <th></th>\n",
              "      <th>Sentense</th>\n",
              "      <th>Category</th>\n",
              "      <th>DocLabel</th>\n",
              "    </tr>\n",
              "  </thead>\n",
              "  <tbody>\n",
              "    <tr>\n",
              "      <th>0</th>\n",
              "      <td>The Sequential model is a linear stack of layers.</td>\n",
              "      <td>model</td>\n",
              "      <td>2</td>\n",
              "    </tr>\n",
              "    <tr>\n",
              "      <th>1</th>\n",
              "      <td>Perplexity is a measurement of how well a probability distribution or probability model predicts a sample.</td>\n",
              "      <td>model</td>\n",
              "      <td>1</td>\n",
              "    </tr>\n",
              "    <tr>\n",
              "      <th>2</th>\n",
              "      <td>Tesorflow initializers are random normal, random uniform, truncated normal, zeros, ones, Glorot normal, Glorot uniform, He normal,  He uniform, Identity, orthogonal, uniform, constant, variance sc...</td>\n",
              "      <td>initializer</td>\n",
              "      <td>0</td>\n",
              "    </tr>\n",
              "    <tr>\n",
              "      <th>3</th>\n",
              "      <td>TSNE is a statistical method for visualising high-dimensional data.</td>\n",
              "      <td>visualisation</td>\n",
              "      <td>0</td>\n",
              "    </tr>\n",
              "    <tr>\n",
              "      <th>4</th>\n",
              "      <td>Xavier/Glorot Initialization is used to maintain the same smooth distribution for both the forward pass as well the backpropagation.</td>\n",
              "      <td>initializer</td>\n",
              "      <td>1</td>\n",
              "    </tr>\n",
              "    <tr>\n",
              "      <th>5</th>\n",
              "      <td>CBOW architecture tries to predict the current target word (the center word) based on the source context words (surrounding words).</td>\n",
              "      <td>achitecture</td>\n",
              "      <td>1</td>\n",
              "    </tr>\n",
              "    <tr>\n",
              "      <th>6</th>\n",
              "      <td>Available optimizers are adam, adadelta, adagrad, addamax, nadam, ftrl, SGD, RMSprop.</td>\n",
              "      <td>optimizers</td>\n",
              "      <td>2</td>\n",
              "    </tr>\n",
              "  </tbody>\n",
              "</table>\n",
              "</div>\n",
              "      <button class=\"colab-df-convert\" onclick=\"convertToInteractive('df-4229f4ab-4286-4b82-918f-a54f1fccd0c1')\"\n",
              "              title=\"Convert this dataframe to an interactive table.\"\n",
              "              style=\"display:none;\">\n",
              "        \n",
              "  <svg xmlns=\"http://www.w3.org/2000/svg\" height=\"24px\"viewBox=\"0 0 24 24\"\n",
              "       width=\"24px\">\n",
              "    <path d=\"M0 0h24v24H0V0z\" fill=\"none\"/>\n",
              "    <path d=\"M18.56 5.44l.94 2.06.94-2.06 2.06-.94-2.06-.94-.94-2.06-.94 2.06-2.06.94zm-11 1L8.5 8.5l.94-2.06 2.06-.94-2.06-.94L8.5 2.5l-.94 2.06-2.06.94zm10 10l.94 2.06.94-2.06 2.06-.94-2.06-.94-.94-2.06-.94 2.06-2.06.94z\"/><path d=\"M17.41 7.96l-1.37-1.37c-.4-.4-.92-.59-1.43-.59-.52 0-1.04.2-1.43.59L10.3 9.45l-7.72 7.72c-.78.78-.78 2.05 0 2.83L4 21.41c.39.39.9.59 1.41.59.51 0 1.02-.2 1.41-.59l7.78-7.78 2.81-2.81c.8-.78.8-2.07 0-2.86zM5.41 20L4 18.59l7.72-7.72 1.47 1.35L5.41 20z\"/>\n",
              "  </svg>\n",
              "      </button>\n",
              "      \n",
              "  <style>\n",
              "    .colab-df-container {\n",
              "      display:flex;\n",
              "      flex-wrap:wrap;\n",
              "      gap: 12px;\n",
              "    }\n",
              "\n",
              "    .colab-df-convert {\n",
              "      background-color: #E8F0FE;\n",
              "      border: none;\n",
              "      border-radius: 50%;\n",
              "      cursor: pointer;\n",
              "      display: none;\n",
              "      fill: #1967D2;\n",
              "      height: 32px;\n",
              "      padding: 0 0 0 0;\n",
              "      width: 32px;\n",
              "    }\n",
              "\n",
              "    .colab-df-convert:hover {\n",
              "      background-color: #E2EBFA;\n",
              "      box-shadow: 0px 1px 2px rgba(60, 64, 67, 0.3), 0px 1px 3px 1px rgba(60, 64, 67, 0.15);\n",
              "      fill: #174EA6;\n",
              "    }\n",
              "\n",
              "    [theme=dark] .colab-df-convert {\n",
              "      background-color: #3B4455;\n",
              "      fill: #D2E3FC;\n",
              "    }\n",
              "\n",
              "    [theme=dark] .colab-df-convert:hover {\n",
              "      background-color: #434B5C;\n",
              "      box-shadow: 0px 1px 3px 1px rgba(0, 0, 0, 0.15);\n",
              "      filter: drop-shadow(0px 1px 2px rgba(0, 0, 0, 0.3));\n",
              "      fill: #FFFFFF;\n",
              "    }\n",
              "  </style>\n",
              "\n",
              "      <script>\n",
              "        const buttonEl =\n",
              "          document.querySelector('#df-4229f4ab-4286-4b82-918f-a54f1fccd0c1 button.colab-df-convert');\n",
              "        buttonEl.style.display =\n",
              "          google.colab.kernel.accessAllowed ? 'block' : 'none';\n",
              "\n",
              "        async function convertToInteractive(key) {\n",
              "          const element = document.querySelector('#df-4229f4ab-4286-4b82-918f-a54f1fccd0c1');\n",
              "          const dataTable =\n",
              "            await google.colab.kernel.invokeFunction('convertToInteractive',\n",
              "                                                     [key], {});\n",
              "          if (!dataTable) return;\n",
              "\n",
              "          const docLinkHtml = 'Like what you see? Visit the ' +\n",
              "            '<a target=\"_blank\" href=https://colab.research.google.com/notebooks/data_table.ipynb>data table notebook</a>'\n",
              "            + ' to learn more about interactive tables.';\n",
              "          element.innerHTML = '';\n",
              "          dataTable['output_type'] = 'display_data';\n",
              "          await google.colab.output.renderOutput(dataTable, element);\n",
              "          const docLink = document.createElement('div');\n",
              "          docLink.innerHTML = docLinkHtml;\n",
              "          element.appendChild(docLink);\n",
              "        }\n",
              "      </script>\n",
              "    </div>\n",
              "  </div>\n",
              "  "
            ]
          },
          "metadata": {},
          "execution_count": 163
        }
      ]
    },
    {
      "cell_type": "code",
      "source": [
        "# 12. Use gensim fasttext to tokenize words"
      ],
      "metadata": {
        "id": "FoyYJw1rlkOD"
      },
      "execution_count": 165,
      "outputs": []
    },
    {
      "cell_type": "code",
      "source": [
        "from gensim.models.fasttext import FastText\n",
        "\n",
        "wpt = nltk.WordPunctTokenizer()\n",
        "tokenized_doc = [wpt.tokenize(document) for document in norm_book]\n",
        "\n",
        "# Set values for various parameters\n",
        "feature_size = 100    # Word vector dimensionality  \n",
        "window_context = 50          # Context window size                                                                                    \n",
        "min_word_count = 5   # Minimum word count                        \n",
        "sample = 1e-3   # Downsample setting for frequent words\n",
        "\n",
        "\n",
        "ft_model = FastText(tokenized_doc, size=feature_size, window=window_context, \n",
        "                    min_count=min_word_count,sample=sample, sg=1, iter=50)"
      ],
      "metadata": {
        "id": "SCzdCfpSXt89"
      },
      "execution_count": 167,
      "outputs": []
    },
    {
      "cell_type": "code",
      "source": [
        "# view similar words based on gensim's model\n",
        "similar_words = {search_term: [item[0] for item in ft_model.wv.most_similar([search_term], topn=5)]\n",
        "                  for search_term in ['souldier', 'shakespeare', 'king', 'sir', 'friend']}\n",
        "similar_words"
      ],
      "metadata": {
        "id": "-W5jAK1QX-G8",
        "colab": {
          "base_uri": "https://localhost:8080/"
        },
        "outputId": "212473ff-ee47-4647-f445-21579397dfdc"
      },
      "execution_count": 168,
      "outputs": [
        {
          "output_type": "execute_result",
          "data": {
            "text/plain": [
              "{'souldier': ['could', 'oh', 'sound', 'health', 'faire'],\n",
              " 'shakespeare': ['shake', 'peace', 'feare', 'care', 'eare'],\n",
              " 'king': ['meeting', 'attend', 'attendants', 'lenox', 'comming'],\n",
              " 'sir': ['send', 'doctor', 'drinke', 'sit', 'anon'],\n",
              " 'friend': ['friends', 'enough', 'certaine', 'loue', 'fall']}"
            ]
          },
          "metadata": {},
          "execution_count": 168
        }
      ]
    },
    {
      "cell_type": "code",
      "source": [
        "# 13. Use PCA to calculate word similarity"
      ],
      "metadata": {
        "id": "DtZu6L_Bllz-"
      },
      "execution_count": null,
      "outputs": []
    },
    {
      "cell_type": "code",
      "source": [
        "from sklearn.decomposition import PCA\n",
        "\n",
        "words = sum([[k] + v for k, v in similar_words.items()], [])\n",
        "wvs = ft_model.wv[words]\n",
        "\n",
        "pca = PCA(n_components=2)\n",
        "np.set_printoptions(suppress=True)\n",
        "P = pca.fit_transform(wvs)\n",
        "labels = words\n",
        "\n",
        "plt.figure(figsize=(18, 10))\n",
        "plt.scatter(P[:, 0], P[:, 1], c='lightgrey', edgecolors='k')\n",
        "for label, x, y in zip(labels, P[:, 0], P[:, 1]):\n",
        "    plt.annotate(label, xy=(x+0.06, y+0.03), xytext=(0, 0), textcoords='offset points')"
      ],
      "metadata": {
        "id": "GO1Lb_Z2X-J5",
        "colab": {
          "base_uri": "https://localhost:8080/",
          "height": 533
        },
        "outputId": "10663df5-2b94-4cc3-dff8-5a72a68c5fe6"
      },
      "execution_count": 169,
      "outputs": [
        {
          "output_type": "display_data",
          "data": {
            "text/plain": [
              "<Figure size 1296x720 with 1 Axes>"
            ],
            "image/png": "[encoded data removed]"
          },
          "metadata": {
            "needs_background": "light"
          }
        }
      ]
    },
    {
      "cell_type": "code",
      "source": [
        "# See array for given word"
      ],
      "metadata": {
        "id": "P6lXys9jlmpc"
      },
      "execution_count": null,
      "outputs": []
    },
    {
      "cell_type": "code",
      "source": [
        "ft_model.wv['friend']"
      ],
      "metadata": {
        "id": "Rr0eqIESYFyS",
        "colab": {
          "base_uri": "https://localhost:8080/"
        },
        "outputId": "071ded17-ef05-412a-8c70-ad77066fa9fe"
      },
      "execution_count": 115,
      "outputs": [
        {
          "output_type": "execute_result",
          "data": {
            "text/plain": [
              "array([ 0.1222973 ,  0.00124597,  0.06418609, -0.01047995,  0.02209861,\n",
              "        0.15007816,  0.28737977, -0.20166203,  0.03766511,  0.09462842,\n",
              "        0.05992124,  0.63176167, -0.20573807, -0.1728858 ,  0.01267911,\n",
              "       -0.03240059, -0.15814638, -0.2784895 ,  0.3840526 ,  0.13631397,\n",
              "       -0.18659201,  0.3393464 , -0.6593707 , -0.0891635 ,  0.22952715,\n",
              "       -0.32928127, -0.27784145, -0.08307667, -0.18078831, -0.3407957 ,\n",
              "       -0.31854168, -0.37069392, -0.05257382,  0.47830927, -0.07024311,\n",
              "       -0.1120484 , -0.07640022,  0.36426246,  0.11293622, -0.11594155,\n",
              "        0.03190442,  0.09213012, -0.70500743,  0.23280792, -0.27399728,\n",
              "       -0.08663771,  0.02168861,  0.05300018,  0.02973137, -0.01103548,\n",
              "       -0.16038355,  0.6340711 , -0.14368542,  0.05622733, -0.38146478,\n",
              "        0.25997648,  0.36860716, -0.44981334,  0.27508253, -0.35525978,\n",
              "       -0.211642  , -0.6588212 , -0.14254522, -0.3385451 ,  0.01712489,\n",
              "        0.40977907,  0.00580361,  0.1672798 , -0.15019837, -0.19756968,\n",
              "        0.00311467,  0.3591858 ,  0.0229957 ,  0.63358057, -0.15402599,\n",
              "       -0.29433683,  0.0337507 , -0.40484822,  0.16018428,  0.15651529,\n",
              "        0.67960227,  0.23623882,  0.4046182 ,  0.16530797, -0.01290331,\n",
              "       -0.20938627,  0.22738096, -0.08499309, -0.32088324, -0.23711073,\n",
              "        0.01635014,  0.1010702 , -0.64198774, -0.22673728, -0.2879761 ,\n",
              "       -0.00644651,  0.26806146, -0.10626246,  0.4409762 ,  0.202783  ],\n",
              "      dtype=float32)"
            ]
          },
          "metadata": {},
          "execution_count": 115
        }
      ]
    },
    {
      "cell_type": "code",
      "source": [
        "# Calculate similarity of 2 words"
      ],
      "metadata": {
        "id": "ltCg_GWLlnnr"
      },
      "execution_count": null,
      "outputs": []
    },
    {
      "cell_type": "code",
      "source": [
        "print(ft_model.wv.similarity(w1='william', w2='macbeth'))\n",
        "print(ft_model.wv.similarity(w1='william', w2='shakespeare'))"
      ],
      "metadata": {
        "id": "FbFrAYpJYF1g",
        "colab": {
          "base_uri": "https://localhost:8080/"
        },
        "outputId": "15e6295b-ba36-4472-9361-65562ba9840d"
      },
      "execution_count": 116,
      "outputs": [
        {
          "output_type": "stream",
          "name": "stdout",
          "text": [
            "0.4411572\n",
            "0.532075\n"
          ]
        }
      ]
    },
    {
      "cell_type": "code",
      "source": [
        "# Find a word that does not fit "
      ],
      "metadata": {
        "id": "MiCTX6Hrloed"
      },
      "execution_count": null,
      "outputs": []
    },
    {
      "cell_type": "code",
      "source": [
        "st1 = \"master shakespeare perfect friend\"\n",
        "print('Odd one out for [',st1, ']:', ft_model.wv.doesnt_match(st1.split()))\n",
        "\n",
        "st2 = \"royall sir macbeth knowledge\"\n",
        "print('Odd one out for [',st2, ']:', ft_model.wv.doesnt_match(st2.split()))"
      ],
      "metadata": {
        "id": "yY7uwBeCYF45",
        "colab": {
          "base_uri": "https://localhost:8080/"
        },
        "outputId": "b9ae2de7-6411-477f-b9eb-e3105bfae22f"
      },
      "execution_count": 117,
      "outputs": [
        {
          "output_type": "stream",
          "name": "stdout",
          "text": [
            "Odd one out for [ master shakespeare perfect friend ]: shakespeare\n",
            "Odd one out for [ royall sir macbeth knowledge ]: knowledge\n"
          ]
        },
        {
          "output_type": "stream",
          "name": "stderr",
          "text": [
            "/usr/local/lib/python3.7/dist-packages/gensim/models/keyedvectors.py:895: FutureWarning: arrays to stack must be passed as a \"sequence\" type such as list or tuple. Support for non-sequence iterables such as generators is deprecated as of NumPy 1.16 and will raise an error in the future.\n",
            "  vectors = vstack(self.word_vec(word, use_norm=True) for word in used_words).astype(REAL)\n"
          ]
        }
      ]
    },
    {
      "cell_type": "code",
      "source": [
        "# Word count in text document using CountVectoriser"
      ],
      "metadata": {
        "id": "-sj-2yWYvy1y"
      },
      "execution_count": null,
      "outputs": []
    },
    {
      "cell_type": "code",
      "source": [
        "from sklearn.feature_extraction.text import CountVectorizer\n",
        "# Initialize a CountVectorizer object: count_vectorizer\n",
        "count_vec = CountVectorizer(stop_words=\"english\", analyzer='word', \n",
        "                            ngram_range=(1, 1), max_df=1.0, min_df=1, max_features=None)\n",
        "\n",
        "# Transforms the data into a bag of words\n",
        "count_train = count_vec.fit([\" \".join(r) for r in book])\n",
        "bag_of_words = count_vec.transform([\" \".join(r) for r in book])\n"
      ],
      "metadata": {
        "id": "mq-G4ECZwOyJ"
      },
      "execution_count": 118,
      "outputs": []
    },
    {
      "cell_type": "code",
      "source": [
        "print(\"Vocabulary size: {}\".format(len(count_train.vocabulary_)))\n",
        "print(\"Vocabulary content:\\n {}\".format(count_train.vocabulary_))"
      ],
      "metadata": {
        "colab": {
          "base_uri": "https://localhost:8080/"
        },
        "id": "aKDQpmcvwO1q",
        "outputId": "537dd15c-12af-4f78-943c-bc8d50fb9bf0"
      },
      "execution_count": 119,
      "outputs": [
        {
          "output_type": "stream",
          "name": "stdout",
          "text": [
            "Vocabulary size: 3239\n",
            "Vocabulary content:\n",
            " {'tragedie': 2899, 'macbeth': 1665, 'william': 3148, 'shakespeare': 2462, '1603': 0, 'actus': 31, 'primus': 2101, 'scoena': 2384, 'prima': 2099, 'thunder': 2863, 'lightning': 1607, 'enter': 904, 'witches': 3170, 'shall': 2464, 'meet': 1740, 'againe': 54, 'raine': 2174, 'hurley': 1405, 'burley': 366, 'battaile': 200, 'lost': 1640, 'wonne': 3187, 'ere': 916, 'set': 2440, 'sunne': 2733, 'place': 2027, 'vpon': 3057, 'heath': 1320, 'come': 501, 'gray': 1212, 'malkin': 1695, 'padock': 1948, 'calls': 382, 'anon': 91, 'faire': 960, 'foule': 1094, 'houer': 1388, 'fogge': 1064, 'filthie': 1027, 'ayre': 167, 'exeunt': 937, 'scena': 2377, 'secunda': 2405, 'alarum': 63, 'king': 1510, 'malcome': 1691, 'donalbaine': 800, 'lenox': 1589, 'attendants': 145, 'meeting': 1742, 'bleeding': 277, 'captaine': 393, 'bloody': 288, 'man': 1697, 'report': 2249, 'seemeth': 2414, 'plight': 2044, 'reuolt': 2275, 'newest': 1871, 'state': 2659, 'mal': 1685, 'serieant': 2433, 'like': 1608, 'good': 1184, 'hardie': 1275, 'souldier': 2596, 'fought': 1093, 'gainst': 1128, 'captiuitie': 395, 'haile': 1256, 'braue': 330, 'friend': 1111, 'say': 2364, 'knowledge': 1533, 'broyle': 356, 'thou': 2843, 'didst': 736, 'leaue': 1576, 'cap': 390, 'doubtfull': 812, 'stood': 2685, 'spent': 2627, 'swimmers': 2770, 'doe': 788, 'cling': 479, 'choake': 458, 'art': 130, 'mercilesse': 1754, 'macdonwald': 1668, 'worthie': 3202, 'rebell': 2200, 'multiplying': 1821, 'villanies': 2990, 'nature': 1843, 'swarme': 2751, 'westerne': 3126, 'isles': 1487, 'kernes': 1501, 'gallowgrosses': 1131, 'supply': 2736, 'fortune': 1092, 'damned': 657, 'quarry': 2154, 'smiling': 2557, 'shew': 2476, 'rebells': 2202, 'whore': 3142, 'weake': 3105, 'hee': 1331, 'deserues': 718, 'disdayning': 756, 'brandisht': 329, 'steele': 2669, 'smoak': 2558, 'execution': 936, 'valours': 2967, 'minion': 1774, 'caru': 402, 'passage': 1970, 'till': 2870, 'fac': 952, 'slaue': 2530, 'neu': 1865, 'shooke': 2483, 'hands': 1264, 'bad': 175, 'farwell': 982, 'vnseam': 3035, 'naue': 1845, 'toth': 2891, 'chops': 460, 'fix': 1041, 'head': 1302, 'battlements': 203, 'valiant': 2965, 'cousin': 599, 'worthy': 3203, 'gentleman': 1145, 'gins': 1158, 'reflection': 2223, 'shipwracking': 2482, 'stormes': 2691, 'direfull': 746, 'thunders': 2864, 'spring': 2637, 'comfort': 503, 'discomfort': 754, 'swells': 2765, 'marke': 1709, 'scotland': 2390, 'sooner': 2583, 'iustice': 1494, 'valour': 2966, 'arm': 121, 'compell': 522, 'skipping': 2525, 'trust': 2937, 'heeles': 1332, 'norweyan': 1893, 'lord': 1637, 'surueying': 2747, 'vantage': 2971, 'furbusht': 1121, 'armes': 124, 'new': 1868, 'supplyes': 2737, 'men': 1747, 'began': 220, 'fresh': 1109, 'assault': 138, 'dismay': 765, 'captaines': 394, 'banquoh': 191, 'yes': 3227, 'sparrowes': 2611, 'eagles': 865, 'hare': 1277, 'lyon': 1661, 'sooth': 2584, 'cannons': 388, 'ouer': 1937, 'charg': 435, 'double': 809, 'cracks': 606, 'doubly': 810, 'redoubled': 2219, 'stroakes': 2707, 'foe': 1062, 'meant': 1731, 'bathe': 199, 'reeking': 2221, 'wounds': 3206, 'memorize': 1745, 'golgotha': 1181, 'tell': 2805, 'faint': 959, 'gashes': 1135, 'helpe': 1338, 'thy': 2865, 'words': 3192, 'thee': 2824, 'smack': 2550, 'honor': 1371, 'goe': 1176, 'surgeons': 2742, 'rosse': 2306, 'angus': 89, 'comes': 502, 'thane': 2818, 'haste': 1288, 'lookes': 1633, 'eyes': 949, 'looke': 1632, 'seemes': 2413, 'speake': 2613, 'things': 2835, 'strange': 2695, 'god': 1174, 'saue': 2360, 'cam': 383, 'st': 2643, 'fiffe': 1020, 'great': 1213, 'banners': 186, 'flowt': 1057, 'skie': 2522, 'fanne': 973, 'people': 1990, 'cold': 493, 'norway': 1891, 'himselfe': 1351, 'terrible': 2814, 'numbers': 1900, 'assisted': 141, 'disloyall': 763, 'traytor': 2909, 'cawdor': 417, 'dismall': 764, 'conflict': 544, 'bellona': 233, 'bridegroome': 341, 'lapt': 1552, 'proofe': 2120, 'confronted': 547, 'selfe': 2419, 'comparisons': 520, 'point': 2049, 'rebellious': 2201, 'arme': 122, 'curbing': 636, 'lauish': 1562, 'spirit': 2630, 'conclude': 530, 'victorie': 2986, 'fell': 1008, 'vs': 3062, 'happinesse': 1270, 'sweno': 2767, 'norwayes': 1892, 'craues': 609, 'composition': 525, 'deigne': 698, 'buriall': 364, 'disbursed': 751, 'saint': 2349, 'colmes': 495, 'ynch': 3232, 'thousand': 2847, 'dollars': 795, 'generall': 1141, 'vse': 3063, 'deceiue': 683, 'bosome': 309, 'pronounce': 2119, 'present': 2089, 'death': 679, 'title': 2875, 'greet': 1220, 'ile': 1420, 'hath': 1293, 'noble': 1883, 'tertia': 2815, 'hast': 1287, 'beene': 216, 'sister': 2517, 'killing': 1505, 'swine': 2771, 'saylors': 2367, 'wife': 3145, 'chestnuts': 449, 'lappe': 1551, 'mouncht': 1817, 'giue': 1160, 'quoth': 2170, 'aroynt': 128, 'witch': 3168, 'rumpe': 2329, 'fed': 1001, 'ronyon': 2297, 'cryes': 633, 'husband': 1408, 'aleppo': 66, 'gone': 1183, 'master': 1718, 'th': 2817, 'tiger': 2868, 'syue': 2779, 'thither': 2841, 'sayle': 2366, 'rat': 2183, 'tayle': 2796, 'winde': 3152, 'kinde': 1507, 'haue': 1294, 'ports': 2057, 'blow': 289, 'quarters': 2157, 'know': 1530, 'ship': 2481, 'mans': 1702, 'card': 396, 'dreyne': 828, 'drie': 829, 'hay': 1299, 'sleepe': 2536, 'neyther': 1874, 'night': 1878, 'day': 669, 'hang': 1265, 'pent': 1989, 'house': 1393, 'lid': 1600, 'liue': 1619, 'forbid': 1076, 'wearie': 3112, 'seu': 2444, 'nights': 1880, 'times': 2873, 'dwindle': 859, 'peake': 1981, 'pine': 2019, 'barke': 193, 'tempest': 2809, 'tost': 2890, 'pilots': 2018, 'thumbe': 2861, 'wrackt': 3208, 'homeward': 1369, 'did': 735, 'drum': 839, 'drumme': 840, 'doth': 808, 'weyward': 3128, 'sisters': 2518, 'hand': 1261, 'posters': 2062, 'sea': 2394, 'land': 1549, 'thrice': 2853, 'thine': 2833, 'make': 1682, 'vp': 3054, 'peace': 1980, 'charme': 437, 'wound': 3205, 'banquo': 190, 'macb': 1664, 'seene': 2415, 'farre': 979, 'soris': 2587, 'wither': 3172, 'wilde': 3147, 'attyre': 146, 'inhabitants': 1450, 'earth': 871, 'aught': 151, 'question': 2162, 'seeme': 2412, 'vnderstand': 3005, 'choppie': 459, 'finger': 1032, 'laying': 1565, 'skinnie': 2524, 'lips': 1614, 'women': 3184, 'beards': 206, 'interprete': 1467, 'mac': 1663, 'glamis': 1165, 'shalt': 2465, 'banq': 187, 'sir': 2514, 'start': 2656, 'feare': 995, 'sound': 2601, 'truth': 2939, 'ye': 3223, 'fantasticall': 974, 'outwardly': 1942, 'partner': 1969, 'grace': 1200, 'prediction': 2082, 'hauing': 1295, 'royall': 2314, 'hope': 1375, 'wrapt': 3209, 'withall': 3171, 'seedes': 2408, 'time': 2871, 'graine': 1204, 'grow': 1234, 'begge': 221, 'fauors': 990, 'hate': 1291, 'hayle': 1301, 'lesser': 1592, 'greater': 1214, 'happy': 1271, 'happyer': 1272, 'kings': 1513, 'stay': 2663, 'imperfect': 1429, 'speakers': 2615, 'sinells': 2508, 'liues': 1621, 'prosperous': 2128, 'stands': 2653, 'prospect': 2127, 'beleefe': 229, 'owe': 1944, 'intelligence': 1460, 'blasted': 275, 'stop': 2688, 'way': 3100, 'prophetique': 2125, 'greeting': 1222, 'charge': 436, 'vanish': 2969, 'bubbles': 359, 'water': 3098, 'ha': 1249, 'corporall': 580, 'melted': 1743, 'breath': 334, 'eaten': 877, 'insane': 1454, 'root': 2301, 'takes': 2785, 'reason': 2198, 'prisoner': 2103, 'children': 455, 'went': 3123, 'tune': 2945, 'happily': 1269, 'receiu': 2206, 'newes': 1870, 'successe': 2723, 'reades': 2195, 'personall': 2004, 'venture': 2976, 'rebels': 2203, 'sight': 2499, 'wonders': 3186, 'prayses': 2079, 'contend': 560, 'silenc': 2505, 'viewing': 2987, 'rest': 2264, 'findes': 1030, 'stout': 2693, 'rankes': 2180, 'afeard': 45, 'images': 1425, 'tale': 2787, 'post': 2060, 'euery': 931, 'beare': 207, 'kingdomes': 1512, 'defence': 696, 'powr': 2068, 'downe': 814, 'ang': 83, 'wee': 3114, 'sent': 2429, 'thanks': 2822, 'onely': 1924, 'harrold': 1283, 'pay': 1977, 'earnest': 870, 'addition': 36, 'deuill': 729, 'true': 2932, 'dresse': 826, 'borrowed': 307, 'robes': 2294, 'vnder': 3004, 'heauie': 1324, 'iudgement': 1489, 'beares': 208, 'life': 1603, 'loose': 1635, 'combin': 499, 'lyne': 1660, 'hidden': 1344, 'labour': 1540, 'countreyes': 591, 'wracke': 3207, 'treasons': 2915, 'capitall': 391, 'confess': 537, 'prou': 2130, 'ouerthrowne': 1940, 'glamys': 1166, 'greatest': 1215, 'behinde': 226, 'thankes': 2821, 'paines': 1951, 'gaue': 1137, 'promis': 2116, 'lesse': 1591, 'trusted': 2938, 'home': 1367, 'enkindle': 900, 'vnto': 3043, 'crowne': 627, 'tis': 2874, 'oftentimes': 1916, 'winne': 3157, 'harme': 1278, 'instruments': 1458, 'darknesse': 665, 'truths': 2940, 'honest': 1370, 'trifles': 2927, 'betray': 248, 'deepest': 692, 'consequence': 552, 'cousins': 600, 'word': 3191, 'pray': 2077, 'told': 2880, 'prologues': 2115, 'swelling': 2764, 'act': 24, 'imperiall': 1430, 'theame': 2823, 'thanke': 2820, 'gentlemen': 1146, 'supernaturall': 2734, 'solliciting': 2577, 'ill': 1421, 'giuen': 1161, 'commencing': 508, 'yeeld': 3224, 'suggestion': 2727, 'horrid': 1378, 'image': 1424, 'vnfixe': 3011, 'heire': 1335, 'seated': 2400, 'heart': 1314, 'knock': 1524, 'ribbes': 2278, 'feares': 997, 'horrible': 1377, 'imaginings': 1426, 'thought': 2844, 'murther': 1830, 'shakes': 2461, 'single': 2511, 'function': 1120, 'smother': 2560, 'surmise': 2744, 'rapt': 2181, 'chance': 434, 'stirre': 2679, 'honors': 1372, 'garments': 1133, 'cleaue': 476, 'mould': 1816, 'aid': 60, 'houre': 1391, 'runs': 2333, 'roughest': 2309, 'leysure': 1598, 'fauour': 991, 'dull': 847, 'braine': 326, 'wrought': 3221, 'forgotten': 1083, 'registred': 2226, 'turne': 2948, 'leafe': 1570, 'reade': 2194, 'let': 1593, 'thinke': 2837, 'chanc': 433, 'interim': 1464, 'weigh': 3118, 'free': 1106, 'hearts': 1317, 'gladly': 1164, 'friends': 1112, 'quarta': 2155, 'flourish': 1053, 'malcolme': 1689, 'commission': 513, 'return': 2268, 'liege': 1601, 'spoke': 2632, 'saw': 2361, 'die': 737, 'frankly': 1104, 'implor': 1431, 'highnesse': 1349, 'pardon': 1962, 'forth': 1089, 'deepe': 689, 'repentance': 2247, 'leauing': 1578, 'dy': 860, 'studied': 2714, 'throw': 2859, 'away': 162, 'dearest': 678, 'thing': 2834, 'ow': 1943, 'twere': 2955, 'carelesse': 398, 'trifle': 2925, 'finde': 1029, 'mindes': 1771, 'construction': 559, 'face': 953, 'built': 363, 'absolute': 9, 'worthyest': 3204, 'sinne': 2513, 'ingratitude': 1447, 'euen': 926, 'swiftest': 2769, 'wing': 3155, 'recompence': 2213, 'slow': 2548, 'ouertake': 1939, 'hadst': 1251, 'deseru': 716, 'proportion': 2126, 'payment': 1979, 'left': 1583, 'seruice': 2439, 'loyaltie': 1649, 'doing': 794, 'payes': 1978, 'receiue': 2207, 'duties': 856, 'throne': 2858, 'seruants': 2437, 'safe': 2340, 'loue': 1642, 'welcome': 3122, 'hither': 1355, 'begun': 225, 'plant': 2030, 'growing': 1236, 'knowne': 1535, 'enfold': 897, 'hold': 1360, 'haruest': 1286, 'owne': 1946, 'plenteous': 2041, 'ioyes': 1481, 'wanton': 3082, 'fulnesse': 1118, 'seeke': 2409, 'hide': 1345, 'themselues': 2828, 'drops': 833, 'sorrow': 2589, 'sonnes': 2581, 'kinsmen': 1515, 'thanes': 2819, 'places': 2028, 'nearest': 1850, 'establish': 920, 'estate': 921, 'eldest': 886, 'prince': 2102, 'cumberland': 635, 'vnaccompanied': 2997, 'inuest': 1472, 'signes': 2503, 'noblenesse': 1884, 'starres': 2655, 'shine': 2480, 'deseruers': 717, 'envernes': 910, 'binde': 257, 'labor': 1538, 'herbenger': 1341, 'ioyfull': 1482, 'hearing': 1311, 'approach': 112, 'humbly': 1400, 'step': 2671, 'fall': 966, 'leape': 1571, 'lyes': 1657, 'fires': 1034, 'light': 1605, 'black': 264, 'desires': 722, 'eye': 948, 'winke': 3156, 'bee': 215, 'commendations': 510, 'banquet': 188, 'care': 397, 'bid': 252, 'peerelesse': 1986, 'kinsman': 1514, 'quinta': 2166, 'macbeths': 1666, 'letter': 1594, 'lady': 1544, 'met': 1760, 'learn': 1573, 'perfect': 1993, 'mortall': 1806, 'burnt': 368, 'desire': 721, 'whiles': 3135, 'wonder': 3185, 'came': 384, 'missiues': 1786, 'hail': 1255, 'saluted': 2354, 'referr': 2222, 'comming': 512, 'deliuer': 703, 'greatnesse': 1216, 'dues': 845, 'reioycing': 2229, 'ignorant': 1418, 'lay': 1563, 'farewell': 977, 'milke': 1768, 'humane': 1398, 'kindnesse': 1509, 'catch': 410, 'neerest': 1860, 'ambition': 78, 'illnesse': 1422, 'attend': 144, 'highly': 1348, 'holily': 1363, 'play': 2032, 'false': 969, 'wrongly': 3219, 'thould': 2846, 'wishest': 3166, 'vndone': 3009, 'high': 1347, 'powre': 2069, 'spirits': 2631, 'eare': 867, 'chastise': 441, 'tongue': 2882, 'impeides': 1428, 'golden': 1180, 'round': 2310, 'fate': 985, 'metaphysicall': 1761, 'ayde': 164, 'crown': 626, 'messenger': 1759, 'tidings': 2866, 'mess': 1757, 'rt': 2317, 'mad': 1672, 'wer': 3124, 'inform': 1445, 'preparation': 2086, 'fellowes': 1010, 'speed': 2624, 'dead': 671, 'scarcely': 2374, 'message': 1758, 'tending': 2813, 'brings': 347, 'exit': 939, 'rauen': 2187, 'hoarse': 1357, 'croakes': 623, 'fatall': 984, 'entrance': 907, 'duncan': 848, 'tend': 2811, 'thoughts': 2845, 'vnsex': 3036, 'toe': 2878, 'direst': 748, 'crueltie': 631, 'blood': 285, 'accesse': 12, 'remorse': 2240, 'compunctious': 527, 'visitings': 2994, 'shake': 2460, 'purpose': 2145, 'keepe': 1498, 'betweene': 250, 'effect': 882, 'hit': 1354, 'womans': 3182, 'brests': 339, 'gall': 1129, 'murth': 1829, 'ring': 2286, 'ministers': 1777, 'euer': 929, 'sightlesse': 2500, 'substances': 2719, 'wait': 3072, 'natures': 1844, 'mischiefe': 1782, 'pall': 1955, 'dunnest': 851, 'smoake': 2559, 'hell': 1337, 'keene': 1497, 'knife': 1520, 'makes': 1683, 'heauen': 1321, 'peepe': 1985, 'blanket': 271, 'darke': 664, 'letters': 1595, 'transported': 2905, 'feele': 1005, 'future': 1125, 'instant': 1455, 'goes': 1177, 'morrow': 1804, 'purposes': 2146, 'neuer': 1866, 'booke': 303, 'matters': 1725, 'beguile': 224, 'innocent': 1453, 'flower': 1054, 'serpent': 2434, 'prouided': 2134, 'businesse': 370, 'dispatch': 769, 'dayes': 670, 'solely': 2574, 'soueraigne': 2593, 'sway': 2752, 'masterdome': 1719, 'cleare': 473, 'alter': 72, 'fauor': 989, 'sexta': 2448, 'hoboyes': 1359, 'torches': 2888, 'macduff': 1669, 'castle': 406, 'pleasant': 2037, 'seat': 2399, 'nimbly': 1881, 'sweetly': 2763, 'recommends': 2212, 'gentle': 1144, 'sences': 2423, 'guest': 1240, 'summer': 2728, 'temple': 2810, 'haunting': 1297, 'barlet': 194, 'does': 789, 'approue': 116, 'loued': 1643, 'mansonry': 1704, 'heauens': 1323, 'smells': 2554, 'wooingly': 3189, 'iutty': 1495, 'frieze': 1113, 'buttrice': 372, 'coigne': 492, 'bird': 258, 'pendant': 1988, 'bed': 213, 'procreant': 2108, 'cradle': 607, 'breed': 336, 'haunt': 1296, 'obseru': 1904, 'delicate': 699, 'hostesse': 1386, 'followes': 1068, 'trouble': 2929, 'teach': 2798, 'eyld': 950, 'twice': 2956, 'poore': 2052, 'broad': 348, 'wherewith': 3133, 'maiestie': 1679, 'loades': 1625, 'old': 1919, 'late': 1556, 'dignities': 740, 'heap': 1306, 'ermites': 917, 'courst': 597, 'purueyor': 2147, 'rides': 2283, 'sharpe': 2472, 'spurre': 2640, 'holp': 1364, 'la': 1537, 'theirs': 2827, 'compt': 526, 'audit': 150, 'pleasure': 2038, 'returne': 2269, 'conduct': 535, 'host': 1385, 'continue': 566, 'graces': 1201, 'septima': 2431, 'sewer': 2447, 'diuers': 783, 'dishes': 761, 'stage': 2647, 'twer': 2954, 'quickly': 2164, 'assassination': 137, 'trammell': 2903, 'surcease': 2739, 'end': 893, 'heere': 1333, 'banke': 185, 'schoole': 2381, 'ld': 1566, 'iumpe': 1492, 'cases': 403, 'instructions': 1456, 'taught': 2795, 'plague': 2029, 'inuenter': 1470, 'handed': 1262, 'commends': 511, 'ingredience': 1448, 'poyson': 2072, 'challice': 428, 'subiect': 2718, 'strong': 2708, 'deed': 686, 'murtherer': 1831, 'shut': 2490, 'doore': 805, 'duncane': 849, 'borne': 306, 'faculties': 956, 'meeke': 1738, 'bin': 256, 'cleere': 477, 'office': 1912, 'vertues': 2980, 'pleade': 2035, 'angels': 85, 'trumpet': 2935, 'tongu': 2881, 'damnation': 655, 'taking': 2786, 'pitty': 2025, 'naked': 1838, 'babe': 168, 'striding': 2704, 'blast': 274, 'cherubin': 448, 'hors': 1381, 'curriors': 640, 'teares': 2800, 'drowne': 834, 'pricke': 2096, 'sides': 2495, 'intent': 1462, 'vaulting': 2974, 'ore': 1934, 'leapes': 1572, 'falles': 967, 'supt': 2738, 'chamber': 429, 'ask': 133, 'proceed': 2106, 'honour': 1373, 'bought': 316, 'opinions': 1928, 'sorts': 2592, 'worne': 3198, 'glosse': 1171, 'cast': 405, 'aside': 132, 'soone': 2582, 'drunke': 842, 'drest': 827, 'slept': 2542, 'wakes': 3075, 'greene': 1219, 'pale': 1954, 'freely': 1107, 'account': 16, 'affear': 48, 'esteem': 922, 'ornament': 1935, 'coward': 602, 'esteeme': 923, 'letting': 1596, 'dare': 661, 'cat': 408, 'addage': 32, 'prythee': 2139, 'dares': 663, 'beast': 209, 'breake': 333, 'enterprize': 905, 'durst': 854, 'adhere': 38, 'fitnesse': 1039, 'vnmake': 3024, 'sucke': 2724, 'tender': 2812, 'milkes': 1769, 'smyling': 2561, 'pluckt': 2048, 'nipple': 1882, 'bonelesse': 300, 'gummes': 1248, 'dasht': 666, 'braines': 327, 'sworne': 2777, 'faile': 957, 'screw': 2392, 'courage': 595, 'sticking': 2677, 'le': 1567, 'fayle': 993, 'asleepe': 135, 'whereto': 3132, 'hard': 1274, 'iourney': 1479, 'soundly': 2603, 'inuite': 1475, 'chamberlaines': 430, 'wine': 3154, 'wassell': 3092, 'conuince': 572, 'memorie': 1744, 'warder': 3084, 'fume': 1119, 'receit': 2205, 'lymbeck': 1659, 'swinish': 2772, 'drenched': 825, 'performe': 1997, 'vnguarded': 3014, 'spungie': 2638, 'officers': 1913, 'guilt': 1245, 'quell': 2160, 'bring': 346, 'vndaunted': 3002, 'mettle': 1763, 'compose': 524, 'males': 1692, 'mark': 1708, 'sleepie': 2539, 'daggers': 649, 'don': 798, 'griefes': 1227, 'clamor': 467, 'rore': 2304, 'settled': 2443, 'bend': 236, 'agent': 56, 'feat': 1000, 'mock': 1790, 'fairest': 962, 'secundus': 2406, 'fleance': 1045, 'torch': 2887, 'boy': 322, 'moone': 1800, 'heard': 1308, 'clock': 481, 'twelue': 2953, 'later': 1558, 'sword': 2775, 'husbandry': 1409, 'candles': 387, 'summons': 2730, 'lead': 1568, 'mercifull': 1753, 'powers': 2067, 'restraine': 2266, 'cursed': 642, 'giues': 1162, 'repose': 2252, 'seruant': 2436, 'vnusuall': 3045, 'largesse': 1554, 'offices': 1914, 'diamond': 734, 'greetes': 1221, 'kind': 1506, 'measurelesse': 1734, 'content': 562, 'vnprepar': 3028, 'defect': 695, 'dreamt': 824, 'entreat': 908, 'serue': 2438, 'spend': 2626, 'graunt': 1211, 'consent': 551, 'lose': 1639, 'seeking': 2410, 'augment': 152, 'franchis': 1103, 'allegeance': 69, 'counsail': 586, 'mistresse': 1787, 'drinke': 830, 'ready': 2197, 'strike': 2705, 'bell': 232, 'dagger': 648, 'handle': 1263, 'clutch': 490, 'vision': 2992, 'sensible': 2428, 'feeling': 1006, 'minde': 1770, 'creation': 614, 'proceeding': 2107, 'heat': 1319, 'oppressed': 1931, 'forme': 1085, 'palpable': 1958, 'draw': 819, 'marshall': 1715, 'going': 1178, 'instrument': 1457, 'fooles': 1071, 'worth': 3201, 'blade': 266, 'dudgeon': 844, 'gouts': 1196, 'informes': 1446, 'halfe': 1259, 'world': 3194, 'wicked': 3143, 'dreames': 823, 'abuse': 10, 'curtain': 644, 'witchcraft': 3169, 'celebrates': 420, 'heccats': 1329, 'offrings': 1915, 'centinell': 422, 'wolfe': 3178, 'howle': 1396, 'watch': 3094, 'stealthy': 2667, 'pace': 1947, 'tarquins': 2791, 'rauishing': 2189, 'designe': 719, 'moues': 1814, 'ghost': 1151, 'sowre': 2607, 'firme': 1035, 'heare': 1309, 'steps': 2672, 'walke': 3077, 'stones': 2684, 'prate': 2075, 'horror': 1379, 'sutes': 2749, 'threat': 2850, 'deedes': 687, 'rings': 2287, 'inuites': 1476, 'knell': 1519, 'drunk': 841, 'bold': 297, 'quench': 2161, 'hearke': 1313, 'owle': 1945, 'shriek': 2487, 'stern': 2674, 'doores': 806, 'open': 1927, 'surfeted': 2741, 'groomes': 1231, 'snores': 2564, 'drugg': 837, 'possets': 2059, 'dye': 861, 'hoa': 1356, 'alack': 61, 'afraid': 52, 'awak': 160, 'attempt': 143, 'confounds': 546, 'misse': 1784, 'em': 888, 'resembled': 2256, 'father': 986, 'noyse': 1899, 'schreame': 2382, 'crickets': 620, 'descended': 713, 'second': 2402, 'sorry': 2590, 'foolish': 1072, 'laugh': 1561, 'wake': 3074, 'prayers': 2078, 'addrest': 37, 'lodg': 1627, 'blesse': 279, 'amen': 79, 'hangmans': 1267, 'listning': 1616, 'consider': 554, 'deepely': 690, 'wherefore': 3130, 'need': 1852, 'blessing': 281, 'stuck': 2713, 'throat': 2855, 'deeds': 688, 'wayes': 3101, 'voyce': 3052, 'sleep': 2535, 'knits': 1522, 'rauel': 2186, 'sleeue': 2541, 'sore': 2585, 'labors': 1539, 'bath': 198, 'balme': 180, 'hurt': 1406, 'course': 596, 'chiefe': 452, 'nourisher': 1898, 'feast': 998, 'meane': 1729, 'vnbend': 3001, 'strength': 2702, 'sickly': 2494, 'wash': 3090, 'witnesse': 3173, 'lye': 1656, 'carry': 401, 'smeare': 2552, 'infirme': 1443, 'sleeping': 2540, 'pictures': 2013, 'childhood': 454, 'painted': 1952, 'bleed': 276, 'guild': 1244, 'faces': 954, 'knocke': 1525, 'knocking': 1527, 'appalls': 101, 'hah': 1254, 'pluck': 2045, 'neptunes': 1861, 'ocean': 1907, 'cleane': 471, 'multitudinous': 1822, 'seas': 2397, 'incarnardine': 1434, 'making': 1684, 'red': 2218, 'colour': 496, 'shame': 2466, 'weare': 3110, 'white': 3140, 'south': 2605, 'entry': 909, 'retyre': 2272, 'little': 1617, 'cleares': 475, 'easie': 873, 'constancie': 557, 'vnattended': 2998, 'gowne': 1198, 'occasion': 1906, 'watchers': 3095, 'poorely': 2053, 'best': 243, 'porter': 2056, 'indeede': 1438, 'gate': 1136, 'turning': 2950, 'key': 1502, 'belzebub': 235, 'farmer': 978, 'expectation': 940, 'plentie': 2042, 'napkins': 1840, 'enow': 901, 'sweat': 2757, 'deuils': 730, 'faith': 964, 'equiuocator': 915, 'sweare': 2754, 'scales': 2370, 'eyther': 951, 'scale': 2369, 'committed': 514, 'treason': 2913, 'gods': 1175, 'sake': 2351, 'equiuocate': 912, 'oh': 1918, 'english': 899, 'taylor': 2797, 'stealing': 2666, 'french': 1108, 'hose': 1384, 'rost': 2307, 'goose': 1188, 'quiet': 2165, 'professions': 2112, 'primrose': 2100, 'euerlasting': 930, 'bonfire': 302, 'remember': 2237, 'macd': 1667, 'port': 2054, 'carowsing': 399, 'cock': 491, 'prouoker': 2136, 'especially': 919, 'prouoke': 2135, 'marry': 1714, 'nose': 1894, 'painting': 1953, 'vrine': 3061, 'lecherie': 1580, 'prouokes': 2137, 'vnprouokes': 3029, 'performance': 1995, 'said': 2347, 'marres': 1712, 'sets': 2441, 'perswades': 2005, 'dis': 749, 'heartens': 1316, 'stand': 2652, 'conclusion': 532, 'equiuocates': 913, 'giuing': 1163, 'leaues': 1577, 'beleeue': 231, 'requited': 2255, 'tooke': 2884, 'legges': 1585, 'shift': 2479, 'stirring': 2680, 'command': 505, 'timely': 2872, 'slipt': 2545, 'delight': 700, 'physicks': 2011, 'paine': 1950, 'limitted': 1611, 'macduffe': 1670, 'appoint': 111, 'vnruly': 3032, 'chimneys': 457, 'blowne': 292, 'lamentings': 1547, 'schreemes': 2383, 'prophecying': 2122, 'accents': 11, 'dyre': 864, 'combustion': 500, 'confus': 548, 'euents': 928, 'hatch': 1290, 'wofull': 3177, 'obscure': 1903, 'long': 1629, 'feuorous': 1014, 'twas': 2952, 'rough': 2308, 'young': 3236, 'remembrance': 2238, 'paralell': 1961, 'fellow': 1009, 'conceiue': 528, 'matter': 1724, 'confusion': 549, 'peece': 1984, 'sacrilegious': 2338, 'broke': 349, 'ope': 1926, 'lords': 1638, 'anoynted': 92, 'stole': 2681, 'building': 362, 'approch': 114, 'destroy': 725, 'gorgon': 1190, 'selues': 2421, 'awake': 161, 'downey': 815, 'deaths': 680, 'counterfeit': 589, 'doomes': 804, 'graues': 1210, 'rise': 2290, 'sprights': 2636, 'countenance': 588, 'hideous': 1346, 'parley': 1964, 'sleepers': 2537, 'repetition': 2248, 'woe': 3176, 'alas': 65, 'ban': 182, 'cruell': 630, 'deare': 677, 'duff': 846, 'contradict': 568, 'liu': 1618, 'blessed': 280, 'mortalitie': 1805, 'toyes': 2894, 'renowne': 2243, 'drawne': 820, 'meere': 1739, 'lees': 1582, 'vault': 2973, 'brag': 324, 'donal': 799, 'amisse': 82, 'fountaine': 1097, 'stopt': 2689, 'source': 2604, 'badg': 176, 'vnwip': 3047, 'pillowes': 2017, 'star': 2654, 'distracted': 778, 'repent': 2246, 'furie': 1122, 'kill': 1504, 'wise': 3161, 'amaz': 75, 'temp': 2807, 'rate': 2184, 'furious': 1123, 'loyall': 1648, 'neutrall': 1867, 'moment': 1794, 'expedition': 941, 'violent': 2991, 'run': 2330, 'pawser': 1976, 'siluer': 2507, 'skinne': 2523, 'lac': 1541, 'gash': 1134, 'stabs': 2645, 'look': 1631, 'breach': 332, 'ruines': 2325, 'wastfull': 3093, 'murtherers': 1832, 'steep': 2670, 'colours': 497, 'trade': 2897, 'vnmannerly': 3026, 'breech': 335, 'gore': 1189, 'refraine': 2224, 'tongues': 2883, 'clayme': 470, 'argument': 119, 'spoken': 2633, 'hid': 1343, 'augure': 153, 'hole': 1362, 'rush': 2334, 'seize': 2417, 'brew': 340, 'foot': 1075, 'motion': 1811, 'frailties': 1101, 'suffer': 2725, 'exposure': 945, 'piece': 2014, 'worke': 3193, 'scruples': 2393, 'vndivulg': 3007, 'pretence': 2092, 'fight': 1021, 'treasonous': 2914, 'mallice': 1696, 'briefely': 342, 'manly': 1700, 'readinesse': 2196, 'hall': 1260, 'contented': 563, 'malc': 1687, 'consort': 555, 'vnfelt': 3010, 'england': 898, 'ireland': 1486, 'seperated': 2430, 'safer': 2342, 'mens': 1749, 'smiles': 2556, 'neere': 1857, 'neerer': 1859, 'murtherous': 1833, 'shaft': 2458, 'shot': 2485, 'lighted': 1606, 'safest': 2343, 'auoid': 155, 'ayme': 166, 'horse': 1382, 'daintie': 650, 'warrant': 3087, 'theft': 2826, 'steales': 2665, 'mercie': 1752, 'threescore': 2852, 'volume': 3049, 'houres': 1392, 'dreadfull': 822, 'trifled': 2926, 'knowings': 1532, 'seest': 2416, 'troubled': 2930, 'threatens': 2851, 'byth': 377, 'strangles': 2699, 'trauailing': 2907, 'lampe': 1548, 'predominance': 2083, 'intombe': 1468, 'liuing': 1622, 'kisse': 1516, 'vnnaturall': 3027, 'tuesday': 2942, 'faulcon': 988, 'towring': 2893, 'pride': 2098, 'mowsing': 1820, 'hawkt': 1298, 'duncans': 850, 'horses': 1383, 'certaine': 424, 'beauteous': 212, 'swift': 2768, 'minions': 1775, 'race': 2172, 'turn': 2947, 'stalls': 2649, 'flong': 1052, 'contending': 561, 'obedience': 1901, 'warre': 3089, 'mankinde': 1699, 'eate': 876, 'amazement': 77, 'ross': 2305, 'known': 1534, 'slaine': 2529, 'pretend': 2093, 'subborned': 2717, 'stolne': 2682, 'fled': 1047, 'puts': 2149, 'suspition': 2748, 'thriftlesse': 2854, 'meanes': 1730, 'soueraignty': 2594, 'nam': 1839, 'scone': 2385, 'inuested': 1473, 'body': 296, 'carried': 400, 'colmekill': 494, 'sacred': 2337, 'store': 2690, 'predecessors': 2081, 'guardian': 1238, 'bones': 301, 'cosin': 581, 'fife': 1019, 'wel': 3121, 'adieu': 39, 'sit': 2519, 'easier': 874, 'benyson': 242, 'foes': 1063, 'omnes': 1923, 'tertius': 2816, 'weyard': 3127, 'playd': 2033, 'fowly': 1099, 'saide': 2348, 'posterity': 2061, 'roote': 2302, 'speeches': 2623, 'verities': 2977, 'oracles': 1932, 'hush': 1410, 'senit': 2425, 'sounded': 2602, 'bene': 237, 'gap': 1132, 'vnbecomming': 3000, 'solemne': 2575, 'supper': 2735, 'request': 2253, 'presence': 2088, 'indissoluble': 1439, 'tye': 2960, 'knit': 1521, 'ride': 2282, 'afternoone': 53, 'desir': 720, 'aduice': 43, 'graue': 1209, 'councell': 585, 'twixt': 2957, 'better': 249, 'borrower': 308, 'twaine': 2951, 'cozens': 604, 'bestow': 244, 'confessing': 538, 'parricide': 1965, 'filling': 1026, 'hearers': 1310, 'inuention': 1471, 'therewithall': 2830, 'cause': 414, 'crauing': 610, 'ioyntly': 1485, 'hye': 1411, 'wish': 3165, 'sure': 2740, 'commend': 509, 'backs': 173, 'seuen': 2445, 'societie': 2566, 'sweeter': 2762, 'sirrha': 2516, 'pallace': 1956, 'safely': 2341, 'sticke': 2675, 'royaltie': 2315, 'reignes': 2228, 'fear': 994, 'dauntlesse': 668, 'temper': 2808, 'wisdome': 3160, 'guide': 1242, 'safetie': 2344, 'genius': 1142, 'rebuk': 2204, 'anthonies': 94, 'caesar': 379, 'chid': 451, 'prophet': 2124, 'hayl': 1300, 'line': 1612, 'plac': 2026, 'fruitlesse': 1116, 'barren': 195, 'scepter': 2378, 'gripe': 1229, 'wrencht': 3213, 'vnlineall': 3022, 'sonne': 2580, 'succeeding': 2722, 'issue': 1488, 'fil': 1023, 'gracious': 1202, 'rancours': 2178, 'vessell': 2982, 'eternall': 924, 'iewell': 1416, 'common': 515, 'enemie': 896, 'lyst': 1662, 'champion': 432, 'vtterance': 3067, 'yesterday': 3228, 'past': 1972, 'held': 1336, 'conference': 536, 'probation': 2105, 'crost': 624, 'soule': 2599, 'notion': 1896, 'craz': 611, 'patience': 1974, 'predominant': 2084, 'gospell': 1192, 'bow': 321, 'begger': 222, 'catalogue': 409, 'hounds': 1390, 'greyhounds': 1225, 'mungrels': 1824, 'spaniels': 2610, 'curres': 639, 'showghes': 2486, 'rugs': 2324, 'demy': 707, 'wolues': 3179, 'clipt': 480, 'dogges': 792, 'valued': 2968, 'file': 1024, 'distinguishes': 777, 'subtle': 2720, 'keeper': 1499, 'hunter': 1404, 'according': 15, 'gift': 1155, 'bounteous': 319, 'clos': 483, 'particular': 1967, 'writes': 3217, 'alike': 67, 'station': 2660, 'worst': 3200, 'ranke': 2179, 'manhood': 1698, 'bosomes': 310, 'grapples': 1207, 'health': 1305, 'vile': 2988, 'blowes': 290, 'buffets': 361, 'incens': 1435, 'recklesse': 2210, 'spight': 2628, 'disasters': 750, 'tugg': 2943, 'mend': 1748, 'rid': 2280, 'distance': 774, 'minute': 1778, 'thrusts': 2860, 'neer': 1856, 'bare': 192, 'power': 2066, 'sweepe': 2759, 'auouch': 156, 'loues': 1644, 'drop': 832, 'wayle': 3102, 'struck': 2711, 'assistance': 140, 'masking': 1717, 'sundry': 2732, 'weightie': 3120, 'reasons': 2199, 'aduise': 44, 'acquaint': 23, 'spy': 2642, 'alwayes': 74, 'require': 2254, 'clearenesse': 474, 'rubs': 2321, 'botches': 311, 'fleans': 1046, 'keepes': 1500, 'companie': 516, 'absence': 7, 'materiall': 1722, 'fathers': 987, 'embrace': 889, 'resolue': 2259, 'apart': 99, 'resolu': 2258, 'straight': 2694, 'abide': 2, 'concluded': 531, 'soules': 2600, 'flight': 1049, 'court': 598, 'madame': 1674, 'returnes': 2270, 'nought': 1897, 'got': 1193, 'destruction': 727, 'dwell': 858, 'ioy': 1480, 'sorryest': 2591, 'fancies': 972, 'companions': 517, 'vsing': 3064, 'remedie': 2236, 'regard': 2225, 'scorch': 2386, 'snake': 2562, 'shee': 2475, 'close': 484, 'whilest': 3136, 'remaines': 2235, 'danger': 659, 'tooth': 2885, 'frame': 1102, 'ioynt': 1484, 'worlds': 3195, 'meale': 1728, 'affliction': 50, 'nightly': 1879, 'gayne': 1138, 'torture': 2889, 'restlesse': 2265, 'extasie': 946, 'lifes': 1604, 'fitfull': 1038, 'feuer': 1013, 'sleepes': 2538, 'domestique': 797, 'forraine': 1086, 'leuie': 1597, 'touch': 2892, 'sleeke': 2534, 'rugged': 2323, 'bright': 343, 'iouiall': 1478, 'guests': 1241, 'apply': 110, 'eminence': 890, 'vnsafe': 3033, 'laue': 1560, 'flattering': 1043, 'streames': 2701, 'vizards': 2995, 'disguising': 760, 'scorpions': 2389, 'coppie': 577, 'eterne': 925, 'assaileable': 136, 'iocund': 1477, 'bat': 197, 'flowne': 1056, 'cloyster': 489, 'shard': 2468, 'beetle': 218, 'drowsie': 836, 'hums': 1402, 'rung': 2331, 'yawning': 3222, 'peale': 1982, 'note': 1895, 'chuck': 463, 'applaud': 109, 'seeling': 2411, 'skarfe': 2521, 'pittifull': 2024, 'bloodie': 286, 'inuisible': 1474, 'cancell': 385, 'teare': 2799, 'pieces': 2015, 'bond': 299, 'thickens': 2832, 'crow': 625, 'rookie': 2300, 'wood': 3188, 'begin': 223, 'droope': 831, 'drowse': 835, 'agents': 57, 'prey': 2095, 'rowse': 2312, 'maruell': 1716, 'ioyne': 1483, 'needes': 1854, 'mistrust': 1789, 'deliuers': 704, 'direction': 744, 'iust': 1493, 'west': 3125, 'glimmers': 1169, 'streakes': 2700, 'spurres': 2641, 'lated': 1557, 'traueller': 2908, 'apace': 98, 'inne': 1452, 'approches': 115, 'alreadie': 71, 'mile': 1767, 'vsually': 3065, 'rayne': 2191, 'trecherie': 2919, 'flye': 1059, 'reuenge': 2273, 'affaire': 46, 'scaena': 2368, 'prepar': 2085, 'degrees': 697, 'hearty': 1318, 'maiesty': 1680, 'mingle': 1773, 'society': 2567, 'humble': 1399, 'speakes': 2616, 'encounter': 892, 'harts': 1285, 'mid': 1765, 'large': 1553, 'mirth': 1780, 'measure': 1733, 'table': 2781, 'mur': 1825, 'cut': 646, 'throats': 2856, 'non': 1889, 'pareill': 1963, 'scap': 2372, 'fit': 1037, 'marble': 1705, 'founded': 1096, 'rocke': 2295, 'casing': 404, 'cabin': 378, 'crib': 619, 'confin': 540, 'bound': 317, 'sawcy': 2363, 'doubts': 813, 'ditch': 780, 'bides': 254, 'trenched': 2924, 'growne': 1237, 'worme': 3196, 'venom': 2975, 'teeth': 2804, 'murderer': 1826, 'cheere': 447, 'sold': 2569, 'vouch': 3051, 'feede': 1004, 'sawce': 2362, 'meate': 1735, 'ceremony': 423, 'sits': 2520, 'sweet': 2760, 'remembrancer': 2239, 'digestion': 738, 'waite': 3073, 'appetite': 108, 'countries': 592, 'roof': 2298, 'grac': 1199, 'person': 2003, 'challenge': 427, 'vnkindnesse': 3018, 'mischance': 1781, 'layes': 1564, 'blame': 268, 'promise': 2117, 'pleas': 2036, 'company': 518, 'reseru': 2257, 'canst': 389, 'goary': 1172, 'lockes': 1626, 'youth': 3237, 'momentary': 1795, 'offend': 1909, 'extend': 947, 'passion': 1971, 'feed': 1003, 'appall': 100, 'diuell': 781, 'proper': 2121, 'stuffe': 2715, 'led': 1581, 'flawes': 1044, 'starts': 2658, 'impostors': 1432, 'story': 2692, 'winters': 3158, 'authoriz': 159, 'grandam': 1205, 'stoole': 2686, 'behold': 227, 'loe': 1628, 'nod': 1887, 'charnell': 440, 'houses': 1394, 'send': 2424, 'bury': 369, 'backe': 172, 'monuments': 1799, 'mawes': 1727, 'kytes': 1536, 'quite': 2169, 'vnmann': 3025, 'folly': 1069, 'fie': 1015, 'shed': 2474, 'olden': 1921, 'statute': 2661, 'purg': 2142, 'weale': 3106, 'murthers': 1834, 'perform': 1994, 'crownes': 629, 'push': 2148, 'stooles': 2687, 'lacke': 1542, 'forget': 1080, 'muse': 1835, 'infirmity': 1444, 'deere': 693, 'thirst': 2839, 'pledge': 2040, 'auant': 147, 'quit': 2168, 'marrowlesse': 1713, 'speculation': 2620, 'dost': 807, 'glare': 1167, 'peeres': 1987, 'custome': 645, 'spoyles': 2635, 'russian': 2335, 'rhinoceros': 2277, 'hircan': 1352, 'shape': 2467, 'nerues': 1862, 'tremble': 2922, 'aliue': 68, 'desart': 711, 'trembling': 2923, 'inhabit': 1449, 'protest': 2129, 'mee': 1737, 'baby': 171, 'girle': 1159, 'shadow': 2456, 'vnreall': 3030, 'ry': 2336, 'displac': 771, 'admir': 40, 'disorder': 767, 'ouercome': 1938, 'summers': 2729, 'clowd': 487, 'speciall': 2619, 'disposition': 772, 'sights': 2501, 'naturall': 1842, 'rubie': 2320, 'cheekes': 446, 'blanch': 270, 'growes': 1235, 'worse': 3199, 'enrages': 903, 'goodnight': 1187, 'order': 1933, 'len': 1587, 'moue': 1813, 'trees': 2921, 'augures': 154, 'vnderstood': 3006, 'relations': 2232, 'maggot': 1676, 'pyes': 2150, 'choughes': 461, 'rookes': 2299, 'brought': 352, 'secret': 2403, 'oddes': 1908, 'morning': 1803, 'denies': 708, 'bidding': 253, 'betimes': 247, 'bent': 241, 'causes': 415, 'stept': 2673, 'wade': 3070, 'returning': 2271, 'tedious': 2802, 'acted': 25, 'scand': 2371, 'season': 2398, 'self': 2418, 'initiate': 1451, 'wants': 3083, 'yong': 3234, 'hecat': 1328, 'angerly': 87, 'hec': 1327, 'beldams': 228, 'trafficke': 2898, 'riddles': 2281, 'affaires': 47, 'mistris': 1788, 'charmes': 439, 'contriuer': 569, 'harmes': 1279, 'glory': 1170, 'wayward': 3104, 'spightfull': 2629, 'wrathfull': 3211, 'ends': 894, 'amends': 81, 'gon': 1182, 'pit': 2021, 'acheron': 22, 'meete': 1741, 'destinie': 724, 'vessels': 2983, 'spels': 2625, 'prouide': 2133, 'corner': 579, 'hangs': 1268, 'vap': 2972, 'rous': 2311, 'profound': 2114, 'ground': 1233, 'distill': 776, 'magicke': 1677, 'slights': 2543, 'raise': 2175, 'artificiall': 131, 'illusion': 1423, 'spurne': 2639, 'scorne': 2388, 'hopes': 1376, 'boue': 313, 'wisedome': 3163, 'security': 2407, 'mortals': 1807, 'cheefest': 445, 'musicke': 1836, 'song': 2579, 'foggy': 1065, 'cloud': 486, 'stayes': 2664, 'sing': 2510, 'interpret': 1466, 'farther': 981, 'strangely': 2696, 'pittied': 2023, 'right': 2284, 'walk': 3076, 'want': 3081, 'monstrous': 1798, 'donalbane': 801, 'fact': 955, 'greeue': 1223, 'pious': 2020, 'rage': 2173, 'delinquents': 702, 'slaues': 2531, 'thralles': 2849, 'nobly': 1886, 'wisely': 3164, 'twould': 2958, 'anger': 86, 'deny': 709, 'fayl': 992, 'tyrants': 2963, 'disgrace': 759, 'bestowes': 245, 'tyrant': 2962, 'holds': 1361, 'birth': 262, 'receyu': 2208, 'edward': 881, 'maleuolence': 1693, 'respect': 2263, 'holy': 1365, 'ayd': 163, 'northumberland': 1890, 'warlike': 3086, 'seyward': 2453, 'aboue': 4, 'ratifie': 2185, 'tables': 2782, 'feasts': 999, 'banquets': 189, 'kniues': 1523, 'faithfull': 965, 'homage': 1366, 'exasperate': 934, 'prepares': 2087, 'clowdy': 488, 'turnes': 2949, 'rue': 2322, 'clogges': 482, 'answer': 93, 'caution': 416, 'angell': 84, 'vnfold': 3012, 'suffering': 2726, 'country': 593, 'accurs': 18, 'quartus': 2158, 'brinded': 345, 'mew': 1764, 'hedge': 1330, 'pigge': 2016, 'whin': 3137, 'harpier': 1282, 'cries': 621, 'caldron': 380, 'poysond': 2073, 'entrailes': 906, 'toad': 2877, 'stone': 2683, 'thirty': 2840, 'sweltred': 2766, 'boyle': 323, 'charmed': 438, 'pot': 2063, 'toile': 2879, 'burne': 367, 'cauldron': 413, 'bubble': 358, 'fillet': 1025, 'fenny': 1012, 'bake': 178, 'newt': 1873, 'frogge': 1115, 'wooll': 3190, 'dogge': 791, 'adders': 35, 'forke': 1084, 'blinde': 283, 'wormes': 3197, 'sting': 2678, 'lizards': 1623, 'legge': 1584, 'howlets': 1397, 'powrefull': 2070, 'broth': 350, 'toyle': 2895, 'dragon': 818, 'mummey': 1823, 'maw': 1726, 'gulfe': 1247, 'rauin': 2188, 'salt': 2352, 'sharke': 2471, 'hemlocke': 1339, 'digg': 739, 'liuer': 1620, 'blaspheming': 273, 'iew': 1415, 'goate': 1173, 'slippes': 2544, 'yew': 3231, 'sliuer': 2546, 'moones': 1801, 'ecclipse': 879, 'turke': 2946, 'tartars': 2793, 'strangled': 2698, 'drab': 817, 'grewell': 1224, 'thicke': 2831, 'slab': 2528, 'adde': 33, 'thereto': 2829, 'tigers': 2869, 'chawdron': 442, 'cawdron': 418, 'coole': 575, 'baboones': 170, 'share': 2469, 'gaines': 1127, 'elues': 887, 'fairies': 963, 'inchanting': 1436, 'blacke': 265, 'pricking': 2097, 'thumbes': 2862, 'knockes': 1526, 'midnight': 1766, 'hags': 1253, 'coniure': 550, 'professe': 2110, 'vntye': 3044, 'windes': 3153, 'churches': 464, 'yesty': 3230, 'waues': 3099, 'confound': 545, 'swallow': 2750, 'nauigation': 1847, 'bladed': 267, 'corne': 578, 'blown': 291, 'castles': 407, 'topple': 2886, 'warders': 3085, 'heads': 1303, 'pallaces': 1957, 'pyramids': 2151, 'slope': 2547, 'foundations': 1095, 'treasure': 2916, 'germaine': 1150, 'tumble': 2944, 'altogether': 73, 'sicken': 2493, 'aske': 134, 'demand': 705, 'mouthes': 1819, 'masters': 1720, 'sowes': 2606, 'farrow': 980, 'greaze': 1217, 'sweaten': 2758, 'murderers': 1827, 'gibbet': 1154, 'flame': 1042, 'low': 1645, 'deaftly': 675, 'apparation': 103, 'armed': 123, 'vnknowne': 3020, 'knowes': 1531, 'speech': 2622, 'appar': 102, 'beware': 251, 'dismisse': 766, 'descends': 714, 'harp': 1281, 'aright': 120, 'commanded': 506, 'potent': 2064, 'apparition': 104, 'childe': 453, 'eares': 868, 'il': 1419, 'resolute': 2260, 'woman': 3180, 'assurance': 142, 'hearted': 1315, 'lies': 1602, 'crowned': 628, 'tree': 2920, 'rises': 2291, 'weares': 3111, 'brow': 353, 'listen': 1615, 'metled': 1762, 'proud': 2131, 'chafes': 426, 'frets': 1110, 'conspirers': 556, 'vanquish': 2970, 'vntill': 3040, 'byrnam': 374, 'dunsmane': 853, 'hill': 1350, 'descend': 712, 'impresse': 1433, 'forrest': 1087, 'boadments': 294, 'byrnan': 375, 'lease': 1575, 'hart': 1284, 'throbs': 2857, 'reigne': 2227, 'kingdome': 1511, 'satisfied': 2357, 'curse': 641, 'sinkes': 2512, 'noise': 1888, 'shadowes': 2457, 'depart': 710, 'glasse': 1168, 'seare': 2396, 'bals': 181, 'haire': 1257, 'gold': 1179, 'filthy': 1028, 'hagges': 1252, 'fourth': 1098, 'stretch': 2703, 'cracke': 605, 'doome': 803, 'seauenth': 2401, 'eighth': 885, 'appeares': 106, 'shewes': 2477, 'fold': 1066, 'balles': 179, 'trebble': 2918, 'scepters': 2379, 'bolter': 298, 'points': 2050, 'amazedly': 76, 'delights': 701, 'antique': 97, 'kindly': 1508, 'dance': 658, 'pernitious': 2001, 'aye': 165, 'accursed': 19, 'kalender': 1496, 'infected': 1442, 'whereon': 3131, 'damn': 654, 'gallopping': 1130, 'anticipat': 95, 'dread': 821, 'exploits': 944, 'flighty': 1050, 'vnlesse': 3021, 'firstlings': 1036, 'acts': 29, 'thoght': 2842, 'surprize': 2746, 'edge': 880, 'babes': 169, 'vnfortunate': 3013, 'trace': 2896, 'boasting': 295, 'foole': 1070, 'macduffes': 1671, 'son': 2578, 'fly': 1058, 'madam': 1673, 'madnesse': 1675, 'actions': 28, 'traitors': 2902, 'wisedom': 3162, 'mansion': 1703, 'titles': 2876, 'wren': 3212, 'diminitiue': 742, 'birds': 259, 'ones': 1925, 'nest': 1863, 'runnes': 2332, 'deerest': 694, 'cooz': 576, 'iudicious': 1490, 'fits': 1040, 'rumor': 2327, 'floate': 1051, 'cease': 419, 'climbe': 478, 'vpward': 3060, 'pretty': 2094, 'cosine': 582, 'longer': 1630, 'sirra': 2515, 'mother': 1809, 'flyes': 1060, 'dst': 843, 'net': 1864, 'lime': 1610, 'pitfall': 2022, 'gin': 1156, 'saying': 2365, 'wilt': 3150, 'nay': 1848, 'buy': 373, 'market': 1710, 'sell': 2420, 'speak': 2612, 'wit': 3167, 'traitor': 2901, 'sweares': 2756, 'swear': 2753, 'liars': 1599, 'swearers': 2755, 'fools': 1073, 'lyars': 1655, 'beate': 210, 'monkie': 1796, 'youl': 3235, 'weepe': 3116, 'signe': 2502, 'quickely': 2163, 'pratler': 2076, 'talk': 2788, 'mes': 1756, 'dame': 651, 'doubt': 811, 'neerely': 1858, 'homely': 1368, 'fright': 1114, 'thinkes': 2838, 'sauage': 2358, 'cruelty': 632, 'nie': 1876, 'preserue': 2091, 'earthly': 872, 'laudable': 1559, 'accounted': 17, 'dangerous': 660, 'womanly': 3181, 'vnsanctified': 3034, 'ly': 1653, 'shagge': 2459, 'ear': 866, 'villaine': 2989, 'egge': 884, 'fry': 1117, 'treachery': 2911, 'crying': 634, 'desolate': 723, 'shade': 2455, 'sad': 2339, 'fast': 983, 'bestride': 246, 'downfall': 816, 'birthdome': 263, 'morne': 1802, 'widdowes': 3144, 'orphans': 1936, 'sorowes': 2588, 'resounds': 2262, 'felt': 1011, 'yell': 3225, 'syllable': 2778, 'dolour': 796, 'waile': 3071, 'redresse': 2220, 'wil': 3146, 'perchance': 1992, 'sole': 2573, 'blisters': 284, 'lou': 1641, 'discerne': 752, 'offer': 1911, 'lambe': 1546, 'appease': 107, 'angry': 88, 'treacherous': 2910, 'vertuous': 2981, 'recoyle': 2217, 'craue': 608, 'transpose': 2906, 'brightest': 344, 'wear': 3109, 'brows': 355, 'rawnesse': 2190, 'precious': 2080, 'motiues': 1812, 'knots': 1529, 'iealousies': 1414, 'dishonors': 762, 'safeties': 2345, 'rightly': 2285, 'tyrrany': 2964, 'basis': 196, 'goodnesse': 1186, 'check': 444, 'wrongs': 3220, 'far': 975, 'think': 2836, 'space': 2608, 'graspe': 1208, 'rich': 2279, 'east': 875, 'boot': 304, 'offended': 1910, 'beneath': 238, 'yoake': 3233, 'weepes': 3117, 'bleeds': 278, 'added': 34, 'vplifted': 3056, 'goodly': 1185, 'thousands': 2848, 'treade': 2912, 'vices': 2985, 'succeede': 2721, 'particulars': 1968, 'vice': 2984, 'grafted': 1203, 'pure': 2141, 'snow': 2565, 'compar': 519, 'confinelesse': 541, 'legions': 1586, 'euils': 933, 'grant': 1206, 'luxurious': 1652, 'auaricious': 149, 'deceitfull': 682, 'sodaine': 2568, 'malicious': 1694, 'smacking': 2551, 'bottome': 312, 'voluptuousnesse': 3050, 'wiues': 3175, 'daughters': 667, 'matrons': 1723, 'maides': 1678, 'cesterne': 425, 'lust': 1651, 'continent': 564, 'impediments': 1427, 'oppose': 1930, 'boundlesse': 318, 'intemperance': 1461, 'tyranny': 2961, 'vntimely': 3041, 'emptying': 891, 'conuey': 571, 'pleasures': 2039, 'spacious': 2609, 'plenty': 2043, 'hoodwinke': 1374, 'willing': 3149, 'dames': 652, 'vulture': 3069, 'deuoure': 732, 'dedicate': 685, 'finding': 1031, 'inclinde': 1437, 'composd': 523, 'affection': 49, 'stanchlesse': 2651, 'auarice': 148, 'nobles': 1885, 'lands': 1550, 'iewels': 1417, 'hunger': 1403, 'forge': 1079, 'quarrels': 2153, 'vniust': 3017, 'destroying': 726, 'wealth': 3107, 'stickes': 2676, 'deeper': 691, 'pernicious': 2000, 'foysons': 1100, 'portable': 2055, 'verity': 2978, 'rance': 2177, 'stablenesse': 2644, 'bounty': 320, 'perseuerance': 2002, 'mercy': 1755, 'lowlinesse': 1647, 'deuotion': 731, 'fortitude': 1091, 'rellish': 2233, 'abound': 5, 'diuision': 785, 'seuerall': 2446, 'crime': 622, 'acting': 26, 'poure': 2065, 'concord': 533, 'vprore': 3059, 'vniuersall': 3016, 'vnity': 3015, 'gouerne': 1195, 'gouern': 1194, 'natio': 1841, 'miserable': 1783, 'vntitled': 3042, 'sceptred': 2380, 'wholsome': 3141, 'truest': 2933, 'interdiction': 1463, 'accust': 20, 'blaspheme': 272, 'sainted': 2350, 'queene': 2159, 'bore': 305, 'oftner': 1917, 'knees': 1518, 'feet': 1007, 'fare': 976, 'repeat': 2245, 'banish': 184, 'brest': 338, 'integrity': 1459, 'wip': 3159, 'reconcil': 2214, 'diuellish': 782, 'traines': 2900, 'sought': 2595, 'win': 3151, 'modest': 1792, 'pluckes': 2047, 'credulous': 615, 'deale': 676, 'vnspeake': 3038, 'detraction': 728, 'abiure': 3, 'taints': 2784, 'blames': 269, 'laide': 1545, 'strangers': 2697, 'forsworne': 1088, 'scarsely': 2376, 'coueted': 584, 'speaking': 2617, 'truly': 2934, 'setting': 2442, 'foorth': 1074, 'warranted': 3088, 'quarrell': 2152, 'silent': 2506, 'vnwelcom': 3046, 'reconcile': 2215, 'doctor': 787, 'doct': 786, 'crew': 618, 'wretched': 3214, 'cure': 637, 'malady': 1686, 'conuinces': 573, 'assay': 139, 'sanctity': 2355, 'presently': 2090, 'amend': 80, 'disease': 758, 'euill': 932, 'myraculous': 1837, 'remaine': 2234, 'solicites': 2576, 'visited': 2993, 'swolne': 2773, 'vlcerous': 2996, 'dispaire': 768, 'surgery': 2743, 'cures': 638, 'hanging': 1266, 'stampe': 2650, 'neckes': 1851, 'royalty': 2316, 'healing': 1304, 'benediction': 239, 'vertue': 2979, 'heauenly': 1322, 'guift': 1243, 'prophesie': 2123, 'blessings': 282, 'countryman': 594, 'cozen': 603, 'remoue': 2241, 'countrey': 590, 'affraid': 51, 'smile': 2555, 'sighes': 2498, 'groanes': 1230, 'shrieks': 2489, 'rent': 2244, 'moderne': 1791, 'deadmans': 673, 'scarse': 2375, 'expire': 943, 'flowers': 1055, 'caps': 392, 'dying': 863, 'relation': 2231, 'nice': 1875, 'griefe': 1226, 'age': 55, 'hisse': 1353, 'speaker': 2614, 'teemes': 2803, 'batter': 202, 'niggard': 1877, 'gos': 1191, 'transport': 2904, 'tydings': 2959, 'heauily': 1326, 'ran': 2176, 'rumour': 2328, 'witnest': 3174, 'create': 613, 'soldiours': 2572, 'doffe': 790, 'dire': 743, 'distresses': 779, 'lent': 1590, 'older': 1922, 'christendome': 462, 'howl': 1395, 'desert': 715, 'latch': 1555, 'concerne': 529, 'fee': 1002, 'shares': 2470, 'maine': 1681, 'pertaines': 2006, 'dispise': 770, 'possesse': 2058, 'heauiest': 1325, 'humh': 1401, 'guesse': 1239, 'surpriz': 2745, 'sauagely': 2359, 'slaughter': 2532, 'relate': 2230, 'manner': 1701, 'ne': 1849, 'pull': 2140, 'hat': 1289, 'browes': 354, 'whispers': 3139, 'fraught': 1105, 'bids': 255, 'ro': 2292, 'kil': 1503, 'comforted': 504, 'med': 1736, 'cines': 466, 'deadly': 672, 'greefe': 1218, 'kite': 1517, 'chickens': 450, 'damme': 653, 'swoope': 2774, 'dispute': 773, 'sinfull': 2509, 'strooke': 2710, 'naught': 1846, 'demerits': 706, 'whetstone': 3134, 'conuert': 570, 'blunt': 293, 'enrage': 902, 'braggart': 325, 'short': 2484, 'intermission': 1465, 'fiend': 1017, 'swords': 2776, 'length': 1588, 'scape': 2373, 'forgiue': 1081, 'ripe': 2288, 'shaking': 2463, 'powres': 2071, 'quintus': 2167, 'physicke': 2010, 'wayting': 3103, 'gentlewoman': 1147, 'perceiue': 1991, 'gent': 1143, 'field': 1016, 'gown': 1197, 'vppon': 3058, 'vnlocke': 3023, 'closset': 485, 'paper': 1960, 'folde': 1067, 'write': 3216, 'read': 2193, 'seale': 2395, 'perturbation': 2007, 'receyue': 2209, 'benefit': 240, 'effects': 883, 'watching': 3097, 'slumbry': 2549, 'agitation': 58, 'walking': 3078, 'actuall': 30, 'performances': 1996, 'confirme': 543, 'taper': 2790, 'lo': 1624, 'guise': 1246, 'obserue': 1905, 'continually': 565, 'sense': 2426, 'rubbes': 2319, 'accustom': 21, 'action': 27, 'washing': 3091, 'quarter': 2156, 'lad': 1543, 'spot': 2634, 'heark': 1312, 'speaks': 2618, 'satisfie': 2356, 'strongly': 2709, 'doo': 802, 'murky': 1828, 'fye': 1126, 'accompt': 14, 'olde': 1920, 'marre': 1711, 'starting': 2657, 'smell': 2553, 'perfumes': 1998, 'arabia': 117, 'sweeten': 2761, 'sigh': 2497, 'sorely': 2586, 'dignity': 741, 'practise': 2074, 'walkt': 3079, 'dyed': 862, 'beds': 214, 'buried': 365, 'directly': 745, 'whisp': 3138, 'abroad': 6, 'troubles': 2931, 'deafe': 674, 'discharge': 753, 'secrets': 2404, 'needs': 1855, 'diuine': 784, 'physitian': 2012, 'annoyance': 90, 'mated': 1721, 'menteth': 1751, 'cathnes': 412, 'soldiers': 2571, 'ment': 1750, 'malcolm': 1688, 'vnkle': 3019, 'reuenges': 2274, 'grim': 1228, 'alarme': 62, 'excite': 935, 'mortified': 1808, 'cath': 411, 'brother': 351, 'gentry': 1149, 'seywards': 2454, 'vnruffe': 3031, 'youths': 3238, 'dunsinane': 852, 'fortifies': 1090, 'fury': 1124, 'buckle': 360, 'distemper': 775, 'belt': 234, 'rule': 2326, 'minutely': 1779, 'reuolts': 2276, 'vpbraid': 3055, 'commands': 507, 'giants': 1153, 'robe': 2293, 'dwarfish': 857, 'theefe': 2825, 'pester': 2008, 'senses': 2427, 'condemne': 534, 'march': 1706, 'cine': 465, 'purge': 2144, 'dew': 733, 'weeds': 3115, 'birnan': 260, 'marching': 1707, 'reports': 2251, 'byrnane': 376, 'taint': 2783, 'consequences': 553, 'pronounc': 2118, 'epicures': 911, 'sagge': 2346, 'damne': 656, 'cream': 612, 'loone': 1634, 'ser': 2432, 'geese': 1140, 'souldiers': 2597, 'lilly': 1609, 'patch': 1973, 'linnen': 1613, 'counsailers': 587, 'whay': 3129, 'force': 1078, 'seyton': 2451, 'sick': 2491, 'falne': 968, 'yellow': 3226, 'accompany': 13, 'troopes': 2928, 'steed': 2668, 'curses': 643, 'lowd': 1646, 'mouth': 1818, 'faine': 958, 'sey': 2449, 'confirm': 542, 'reported': 2250, 'flesh': 1048, 'hackt': 1250, 'armor': 125, 'seyt': 2450, 'needed': 1853, 'moe': 1793, 'skirre': 2526, 'talke': 2789, 'patient': 1975, 'sicke': 2492, 'minister': 1776, 'diseas': 757, 'plucke': 2046, 'memory': 1746, 'rooted': 2303, 'raze': 2192, 'written': 3218, 'obliuious': 1902, 'antidote': 96, 'cleanse': 472, 'stufft': 2716, 'perillous': 1999, 'weighes': 3119, 'dogs': 793, 'armour': 126, 'staffe': 2646, 'pristine': 2104, 'eccho': 878, 'rubarb': 2318, 'cyme': 647, 'purgatiue': 2143, 'drugge': 838, 'scowre': 2391, 'hear': 1307, 'bane': 183, 'birnane': 261, 'profit': 2113, 'hardly': 1276, 'cosins': 583, 'chambers': 431, 'seyw': 2452, 'hew': 1342, 'bough': 314, 'bear': 204, 'hoast': 1358, 'discouery': 755, 'erre': 918, 'syw': 2780, 'learne': 1574, 'confident': 539, 'indure': 1440, 'befor': 219, 'aduantage': 42, 'constrained': 558, 'absent': 8, 'censures': 421, 'euent': 927, 'industrious': 1441, 'souldiership': 2598, 'approaches': 113, 'decision': 684, 'speculatiue': 2621, 'vnsure': 3039, 'arbitrate': 118, 'aduance': 41, 'outward': 1941, 'walls': 3080, 'siedge': 2496, 'famine': 971, 'ague': 59, 'forc': 1077, 'darefull': 662, 'beard': 205, 'backward': 174, 'forgot': 1082, 'taste': 2794, 'cool': 574, 'shrieke': 2488, 'treatise': 2917, 'rowze': 2313, 'horrors': 1380, 'direnesse': 747, 'familiar': 970, 'slaughterous': 2533, 'heereafter': 1334, 'creepes': 616, 'petty': 2009, 'recorded': 2216, 'yesterdayes': 3229, 'dusty': 855, 'breefe': 337, 'candle': 386, 'player': 2034, 'struts': 2712, 'ideot': 1413, 'signifying': 2504, 'com': 498, 'lyar': 1654, 'endure': 895, 'wrath': 3210, 'mouing': 1815, 'groue': 1232, 'resolution': 2261, 'equiuocation': 914, 'auouches': 157, 'appeare': 105, 'flying': 1061, 'tarrying': 2792, 'ginne': 1157, 'weary': 3113, 'sun': 2731, 'vndon': 3008, 'harnesse': 1280, 'army': 127, 'boughes': 315, 'leauy': 1579, 'skreenes': 2527, 'leade': 1569, 'battell': 201, 'beaten': 211, 'trumpets': 2936, 'clamorous': 468, 'harbingers': 1273, 'alarums': 64, 'continued': 567, 'tied': 2867, 'stake': 2648, 'lt': 1650, 'hoter': 1387, 'hatefull': 1292, 'fearefull': 996, 'lyest': 1658, 'abhorred': 1, 'proue': 2132, 'weapons': 3108, 'brandish': 328, 'beest': 217, 'stroake': 2706, 'childrens': 456, 'ghosts': 1152, 'hyr': 1412, 'staues': 2662, 'vnbattered': 2999, 'sheath': 2473, 'vndeeded': 3003, 'clatter': 469, 'bruited': 357, 'gently': 1148, 'rendred': 2242, 'brauely': 331, 'professes': 2111, 'roman': 2296, 'hound': 1389, 'auoyded': 158, 'voice': 3048, 'bloodier': 287, 'tearmes': 2801, 'loosest': 1636, 'intrenchant': 1469, 'vulnerable': 3068, 'crests': 617, 'seru': 2435, 'mothers': 1810, 'womb': 3183, 'ript': 2289, 'tels': 2806, 'cow': 601, 'iugling': 1491, 'fiends': 1018, 'beleeu': 230, 'palter': 1959, 'sence': 2422, 'gaze': 1139, 'rarer': 2182, 'monsters': 1797, 'pole': 2051, 'writ': 3215, 'malcolmes': 1690, 'baited': 177, 'rabbles': 2171, 'oppos': 1929, 'try': 2941, 'shield': 2478, 'fighting': 1022, 'retreat': 2267, 'arriu': 129, 'cheapely': 443, 'missing': 1785, 'paid': 1949, 'debt': 681, 'prowesse': 2138, 'vnshrinking': 3037, 'measur': 1732, 'hurts': 1407, 'soldier': 2570, 'haires': 1258, 'fairer': 961, 'knoll': 1528, 'parted': 1966, 'score': 2387, 'newer': 1869, 'vsurpers': 3066, 'compast': 521, 'pearle': 1983, 'salutation': 2353, 'minds': 1772, 'voyces': 3053, 'alowd': 70, 'expence': 942, 'reckon': 2211, 'henceforth': 1340, 'earles': 869, 'planted': 2031, 'newly': 1872, 'calling': 381, 'exil': 938, 'snares': 2563, 'watchfull': 3096, 'producing': 2109, 'butcher': 371, 'finis': 1033}\n"
          ]
        }
      ]
    },
    {
      "cell_type": "code",
      "source": [
        "# 14. Use TF ID to calculate Token count in text document using TfidVectoriser"
      ],
      "metadata": {
        "id": "OM6sGAzawO5a"
      },
      "execution_count": 120,
      "outputs": []
    },
    {
      "cell_type": "code",
      "source": [
        "from sklearn.feature_extraction.text import TfidfVectorizer\n",
        "tf = TfidfVectorizer(smooth_idf=False, sublinear_tf=False, norm=None, analyzer='word')\n",
        "txt_fitted = tf.fit([\" \".join(r) for r in book])\n",
        "txt_transformed = txt_fitted.transform([\" \".join(r) for r in book])"
      ],
      "metadata": {
        "id": "bWIcUx45XdsG"
      },
      "execution_count": 121,
      "outputs": []
    },
    {
      "cell_type": "code",
      "source": [
        "tf.vocabulary_"
      ],
      "metadata": {
        "colab": {
          "base_uri": "https://localhost:8080/"
        },
        "id": "3EbxfmlBvLf9",
        "outputId": "4ae742fd-2fba-45dd-acbf-bf551067cdd3"
      },
      "execution_count": 122,
      "outputs": [
        {
          "output_type": "execute_result",
          "data": {
            "text/plain": [
              "{'the': 2964,\n",
              " 'tragedie': 3065,\n",
              " 'of': 2014,\n",
              " 'macbeth': 1748,\n",
              " 'by': 406,\n",
              " 'william': 3337,\n",
              " 'shakespeare': 2589,\n",
              " '1603': 0,\n",
              " 'actus': 32,\n",
              " 'primus': 2220,\n",
              " 'scoena': 2507,\n",
              " 'prima': 2218,\n",
              " 'thunder': 3022,\n",
              " 'and': 95,\n",
              " 'lightning': 1690,\n",
              " 'enter': 953,\n",
              " 'three': 3009,\n",
              " 'witches': 3359,\n",
              " 'when': 3304,\n",
              " 'shall': 2591,\n",
              " 'we': 3275,\n",
              " 'meet': 1827,\n",
              " 'againe': 57,\n",
              " 'in': 1509,\n",
              " 'or': 2043,\n",
              " 'raine': 2294,\n",
              " 'hurley': 1479,\n",
              " 'burley': 397,\n",
              " 'done': 842,\n",
              " 'battaile': 219,\n",
              " 'lost': 1723,\n",
              " 'wonne': 3379,\n",
              " 'that': 2963,\n",
              " 'will': 3336,\n",
              " 'be': 223,\n",
              " 'ere': 965,\n",
              " 'set': 2567,\n",
              " 'sunne': 2870,\n",
              " 'where': 3306,\n",
              " 'place': 2145,\n",
              " 'vpon': 3226,\n",
              " 'heath': 1386,\n",
              " 'there': 2975,\n",
              " 'to': 3037,\n",
              " 'with': 3360,\n",
              " 'come': 537,\n",
              " 'gray': 1275,\n",
              " 'malkin': 1779,\n",
              " 'all': 73,\n",
              " 'padock': 2065,\n",
              " 'calls': 416,\n",
              " 'anon': 104,\n",
              " 'faire': 1010,\n",
              " 'is': 1566,\n",
              " 'foule': 1150,\n",
              " 'houer': 1461,\n",
              " 'through': 3017,\n",
              " 'fogge': 1118,\n",
              " 'filthie': 1079,\n",
              " 'ayre': 185,\n",
              " 'exeunt': 987,\n",
              " 'scena': 2500,\n",
              " 'secunda': 2528,\n",
              " 'alarum': 67,\n",
              " 'within': 3363,\n",
              " 'king': 1591,\n",
              " 'malcome': 1775,\n",
              " 'donalbaine': 840,\n",
              " 'lenox': 1672,\n",
              " 'attendants': 163,\n",
              " 'meeting': 1829,\n",
              " 'bleeding': 307,\n",
              " 'captaine': 429,\n",
              " 'what': 3302,\n",
              " 'bloody': 318,\n",
              " 'man': 1781,\n",
              " 'he': 1367,\n",
              " 'can': 419,\n",
              " 'report': 2371,\n",
              " 'as': 148,\n",
              " 'seemeth': 2539,\n",
              " 'his': 1425,\n",
              " 'plight': 2163,\n",
              " 'reuolt': 2397,\n",
              " 'newest': 1967,\n",
              " 'state': 2794,\n",
              " 'mal': 1769,\n",
              " 'this': 2995,\n",
              " 'serieant': 2559,\n",
              " 'who': 3324,\n",
              " 'like': 1691,\n",
              " 'good': 1247,\n",
              " 'hardie': 1339,\n",
              " 'souldier': 2731,\n",
              " 'fought': 1149,\n",
              " 'gainst': 1189,\n",
              " 'my': 1930,\n",
              " 'captiuitie': 431,\n",
              " 'haile': 1320,\n",
              " 'braue': 361,\n",
              " 'friend': 1168,\n",
              " 'say': 2487,\n",
              " 'knowledge': 1614,\n",
              " 'broyle': 387,\n",
              " 'thou': 2999,\n",
              " 'didst': 775,\n",
              " 'leaue': 1659,\n",
              " 'it': 1569,\n",
              " 'cap': 426,\n",
              " 'doubtfull': 853,\n",
              " 'stood': 2821,\n",
              " 'two': 3125,\n",
              " 'spent': 2762,\n",
              " 'swimmers': 2907,\n",
              " 'doe': 828,\n",
              " 'cling': 515,\n",
              " 'together': 3040,\n",
              " 'choake': 494,\n",
              " 'their': 2969,\n",
              " 'art': 146,\n",
              " 'mercilesse': 1841,\n",
              " 'macdonwald': 1751,\n",
              " 'worthie': 3394,\n",
              " 'rebell': 2322,\n",
              " 'for': 1130,\n",
              " 'multiplying': 1913,\n",
              " 'villanies': 3159,\n",
              " 'nature': 1938,\n",
              " 'swarme': 2888,\n",
              " 'him': 1422,\n",
              " 'from': 1173,\n",
              " 'westerne': 3299,\n",
              " 'isles': 1567,\n",
              " 'kernes': 1582,\n",
              " 'gallowgrosses': 1192,\n",
              " 'supply': 2873,\n",
              " 'fortune': 1148,\n",
              " 'on': 2032,\n",
              " 'damned': 695,\n",
              " 'quarry': 2274,\n",
              " 'smiling': 2688,\n",
              " 'shew': 2604,\n",
              " 'rebells': 2324,\n",
              " 'whore': 3328,\n",
              " 'but': 402,\n",
              " 'too': 3046,\n",
              " 'weake': 3276,\n",
              " 'well': 3294,\n",
              " 'hee': 1397,\n",
              " 'deserues': 757,\n",
              " 'name': 1934,\n",
              " 'disdayning': 795,\n",
              " 'brandisht': 360,\n",
              " 'steele': 2804,\n",
              " 'which': 3315,\n",
              " 'smoak': 2689,\n",
              " 'execution': 986,\n",
              " 'valours': 3135,\n",
              " 'minion': 1863,\n",
              " 'caru': 438,\n",
              " 'out': 2057,\n",
              " 'passage': 2088,\n",
              " 'till': 3030,\n",
              " 'fac': 1002,\n",
              " 'slaue': 2661,\n",
              " 'neu': 1961,\n",
              " 'shooke': 2611,\n",
              " 'hands': 1328,\n",
              " 'nor': 1991,\n",
              " 'bad': 194,\n",
              " 'farwell': 1032,\n",
              " 'vnseam': 3204,\n",
              " 'naue': 1940,\n",
              " 'toth': 3055,\n",
              " 'chops': 496,\n",
              " 'fix': 1095,\n",
              " 'head': 1368,\n",
              " 'our': 2055,\n",
              " 'battlements': 222,\n",
              " 'valiant': 3133,\n",
              " 'cousin': 636,\n",
              " 'worthy': 3395,\n",
              " 'gentleman': 1206,\n",
              " 'whence': 3305,\n",
              " 'gins': 1220,\n",
              " 'reflection': 2345,\n",
              " 'shipwracking': 2610,\n",
              " 'stormes': 2827,\n",
              " 'direfull': 785,\n",
              " 'thunders': 3023,\n",
              " 'so': 2697,\n",
              " 'spring': 2772,\n",
              " 'comfort': 539,\n",
              " 'seem': 2536,\n",
              " 'discomfort': 793,\n",
              " 'swells': 2902,\n",
              " 'marke': 1794,\n",
              " 'scotland': 2513,\n",
              " 'no': 1981,\n",
              " 'sooner': 2718,\n",
              " 'iustice': 1575,\n",
              " 'had': 1314,\n",
              " 'valour': 3134,\n",
              " 'arm': 137,\n",
              " 'compell': 558,\n",
              " 'these': 2981,\n",
              " 'skipping': 2656,\n",
              " 'trust': 3103,\n",
              " 'heeles': 1398,\n",
              " 'norweyan': 1995,\n",
              " 'lord': 1720,\n",
              " 'surueying': 2884,\n",
              " 'vantage': 3139,\n",
              " 'furbusht': 1181,\n",
              " 'armes': 140,\n",
              " 'new': 1964,\n",
              " 'supplyes': 2874,\n",
              " 'men': 1834,\n",
              " 'began': 245,\n",
              " 'fresh': 1166,\n",
              " 'assault': 155,\n",
              " 'dismay': 804,\n",
              " 'not': 1997,\n",
              " 'captaines': 430,\n",
              " 'banquoh': 210,\n",
              " 'yes': 3420,\n",
              " 'sparrowes': 2746,\n",
              " 'eagles': 909,\n",
              " 'hare': 1341,\n",
              " 'lyon': 1744,\n",
              " 'if': 1492,\n",
              " 'sooth': 2719,\n",
              " 'must': 1929,\n",
              " 'they': 2982,\n",
              " 'were': 3297,\n",
              " 'cannons': 423,\n",
              " 'ouer': 2051,\n",
              " 'charg': 471,\n",
              " 'double': 850,\n",
              " 'cracks': 643,\n",
              " 'doubly': 851,\n",
              " 'redoubled': 2341,\n",
              " 'stroakes': 2843,\n",
              " 'foe': 1116,\n",
              " 'except': 984,\n",
              " 'meant': 1818,\n",
              " 'bathe': 218,\n",
              " 'reeking': 2343,\n",
              " 'wounds': 3399,\n",
              " 'memorize': 1832,\n",
              " 'another': 105,\n",
              " 'golgotha': 1244,\n",
              " 'cannot': 424,\n",
              " 'tell': 2943,\n",
              " 'am': 84,\n",
              " 'faint': 1009,\n",
              " 'gashes': 1196,\n",
              " 'cry': 670,\n",
              " 'helpe': 1404,\n",
              " 'thy': 3025,\n",
              " 'words': 3384,\n",
              " 'become': 234,\n",
              " 'thee': 2966,\n",
              " 'smack': 2681,\n",
              " 'honor': 1444,\n",
              " 'both': 342,\n",
              " 'goe': 1239,\n",
              " 'get': 1212,\n",
              " 'surgeons': 2879,\n",
              " 'rosse': 2428,\n",
              " 'angus': 102,\n",
              " 'comes': 538,\n",
              " 'here': 1410,\n",
              " 'thane': 2958,\n",
              " 'haste': 1353,\n",
              " 'lookes': 1716,\n",
              " 'eyes': 999,\n",
              " 'should': 2614,\n",
              " 'looke': 1715,\n",
              " 'seemes': 2538,\n",
              " 'speake': 2748,\n",
              " 'things': 2988,\n",
              " 'strange': 2831,\n",
              " 'god': 1237,\n",
              " 'saue': 2483,\n",
              " 'cam': 417,\n",
              " 'st': 2778,\n",
              " 'fiffe': 1071,\n",
              " 'great': 1276,\n",
              " 'banners': 205,\n",
              " 'flowt': 1111,\n",
              " 'skie': 2653,\n",
              " 'fanne': 1023,\n",
              " 'people': 2108,\n",
              " 'cold': 529,\n",
              " 'norway': 1993,\n",
              " 'himselfe': 1423,\n",
              " 'terrible': 2953,\n",
              " 'numbers': 2005,\n",
              " 'assisted': 158,\n",
              " 'most': 1899,\n",
              " 'disloyall': 802,\n",
              " 'traytor': 3075,\n",
              " 'cawdor': 453,\n",
              " 'dismall': 803,\n",
              " 'conflict': 580,\n",
              " 'bellona': 259,\n",
              " 'bridegroome': 372,\n",
              " 'lapt': 1633,\n",
              " 'proofe': 2239,\n",
              " 'confronted': 583,\n",
              " 'selfe': 2545,\n",
              " 'comparisons': 556,\n",
              " 'point': 2168,\n",
              " 'against': 58,\n",
              " 'rebellious': 2323,\n",
              " 'arme': 138,\n",
              " 'curbing': 674,\n",
              " 'lauish': 1644,\n",
              " 'spirit': 2765,\n",
              " 'conclude': 566,\n",
              " 'victorie': 3155,\n",
              " 'fell': 1058,\n",
              " 'vs': 3231,\n",
              " 'happinesse': 1334,\n",
              " 'now': 2003,\n",
              " 'sweno': 2904,\n",
              " 'norwayes': 1994,\n",
              " 'craues': 646,\n",
              " 'composition': 561,\n",
              " 'would': 3397,\n",
              " 'deigne': 737,\n",
              " 'buriall': 395,\n",
              " 'disbursed': 790,\n",
              " 'at': 160,\n",
              " 'saint': 2471,\n",
              " 'colmes': 531,\n",
              " 'ynch': 3426,\n",
              " 'ten': 2949,\n",
              " 'thousand': 3004,\n",
              " 'dollars': 835,\n",
              " 'generall': 1202,\n",
              " 'vse': 3232,\n",
              " 'more': 1891,\n",
              " 'deceiue': 722,\n",
              " 'bosome': 339,\n",
              " 'interest': 1541,\n",
              " 'pronounce': 2238,\n",
              " 'present': 2208,\n",
              " 'death': 718,\n",
              " 'former': 1141,\n",
              " 'title': 3035,\n",
              " 'greet': 1283,\n",
              " 'ile': 1495,\n",
              " 'see': 2531,\n",
              " 'hath': 1358,\n",
              " 'noble': 1982,\n",
              " 'tertia': 2954,\n",
              " 'hast': 1352,\n",
              " 'beene': 240,\n",
              " 'sister': 2648,\n",
              " 'killing': 1586,\n",
              " 'swine': 2908,\n",
              " 'saylors': 2490,\n",
              " 'wife': 3333,\n",
              " 'chestnuts': 485,\n",
              " 'her': 1408,\n",
              " 'lappe': 1632,\n",
              " 'mouncht': 1908,\n",
              " 'giue': 1222,\n",
              " 'me': 1814,\n",
              " 'quoth': 2290,\n",
              " 'aroynt': 144,\n",
              " 'witch': 3357,\n",
              " 'rumpe': 2451,\n",
              " 'fed': 1051,\n",
              " 'ronyon': 2419,\n",
              " 'cryes': 671,\n",
              " 'husband': 1482,\n",
              " 'aleppo': 70,\n",
              " 'gone': 1246,\n",
              " 'master': 1803,\n",
              " 'th': 2956,\n",
              " 'tiger': 3028,\n",
              " 'syue': 2916,\n",
              " 'thither': 2996,\n",
              " 'sayle': 2489,\n",
              " 'rat': 2303,\n",
              " 'without': 3364,\n",
              " 'tayle': 2934,\n",
              " 'winde': 3341,\n",
              " 'kinde': 1588,\n",
              " 'haue': 1359,\n",
              " 'other': 2049,\n",
              " 'very': 3150,\n",
              " 'ports': 2176,\n",
              " 'blow': 319,\n",
              " 'quarters': 2277,\n",
              " 'know': 1611,\n",
              " 'ship': 2609,\n",
              " 'mans': 1786,\n",
              " 'card': 432,\n",
              " 'dreyne': 870,\n",
              " 'drie': 871,\n",
              " 'hay': 1364,\n",
              " 'sleepe': 2667,\n",
              " 'neyther': 1971,\n",
              " 'night': 1975,\n",
              " 'day': 707,\n",
              " 'hang': 1329,\n",
              " 'pent': 2107,\n",
              " 'house': 1466,\n",
              " 'lid': 1683,\n",
              " 'liue': 1702,\n",
              " 'forbid': 1131,\n",
              " 'wearie': 3283,\n",
              " 'seu': 2571,\n",
              " 'nights': 1977,\n",
              " 'nine': 1979,\n",
              " 'times': 3033,\n",
              " 'dwindle': 902,\n",
              " 'peake': 2099,\n",
              " 'pine': 2137,\n",
              " 'though': 3000,\n",
              " 'barke': 212,\n",
              " 'yet': 3424,\n",
              " 'tempest': 2947,\n",
              " 'tost': 3054,\n",
              " 'pilots': 2136,\n",
              " 'thumbe': 3020,\n",
              " 'wrackt': 3401,\n",
              " 'homeward': 1442,\n",
              " 'did': 774,\n",
              " 'drum': 881,\n",
              " 'drumme': 882,\n",
              " 'doth': 849,\n",
              " 'weyward': 3301,\n",
              " 'sisters': 2649,\n",
              " 'hand': 1325,\n",
              " 'posters': 2181,\n",
              " 'sea': 2517,\n",
              " 'land': 1630,\n",
              " 'thus': 3024,\n",
              " 'about': 6,\n",
              " 'thrice': 3011,\n",
              " 'thine': 2986,\n",
              " 'mine': 1861,\n",
              " 'make': 1766,\n",
              " 'vp': 3223,\n",
              " 'peace': 2098,\n",
              " 'charme': 473,\n",
              " 'wound': 3398,\n",
              " 'banquo': 209,\n",
              " 'macb': 1747,\n",
              " 'seene': 2541,\n",
              " 'how': 1468,\n",
              " 'farre': 1029,\n",
              " 'call': 414,\n",
              " 'soris': 2722,\n",
              " 'are': 134,\n",
              " 'wither': 3362,\n",
              " 'wilde': 3335,\n",
              " 'attyre': 164,\n",
              " 'inhabitants': 1527,\n",
              " 'earth': 915,\n",
              " 'you': 3429,\n",
              " 'aught': 169,\n",
              " 'may': 1813,\n",
              " 'question': 2282,\n",
              " 'seeme': 2537,\n",
              " 'vnderstand': 3174,\n",
              " 'each': 908,\n",
              " 'once': 2033,\n",
              " 'choppie': 495,\n",
              " 'finger': 1084,\n",
              " 'laying': 1647,\n",
              " 'skinnie': 2655,\n",
              " 'lips': 1697,\n",
              " 'women': 3376,\n",
              " 'your': 3432,\n",
              " 'beards': 226,\n",
              " 'interprete': 1545,\n",
              " 'mac': 1746,\n",
              " 'glamis': 1227,\n",
              " 'shalt': 2592,\n",
              " 'hereafter': 1411,\n",
              " 'banq': 206,\n",
              " 'sir': 2645,\n",
              " 'why': 3330,\n",
              " 'start': 2791,\n",
              " 'feare': 1045,\n",
              " 'sound': 2736,\n",
              " 'truth': 3105,\n",
              " 'ye': 3416,\n",
              " 'fantasticall': 1024,\n",
              " 'indeed': 1514,\n",
              " 'outwardly': 2059,\n",
              " 'partner': 2087,\n",
              " 'grace': 1263,\n",
              " 'prediction': 2201,\n",
              " 'hauing': 1360,\n",
              " 'royall': 2436,\n",
              " 'hope': 1448,\n",
              " 'wrapt': 3402,\n",
              " 'withall': 3361,\n",
              " 'into': 1546,\n",
              " 'seedes': 2532,\n",
              " 'time': 3031,\n",
              " 'graine': 1267,\n",
              " 'grow': 1297,\n",
              " 'then': 2973,\n",
              " 'begge': 246,\n",
              " 'fauors': 1040,\n",
              " 'hate': 1356,\n",
              " 'hayle': 1366,\n",
              " 'lesser': 1675,\n",
              " 'than': 2957,\n",
              " 'greater': 1277,\n",
              " 'happy': 1335,\n",
              " 'much': 1912,\n",
              " 'happyer': 1336,\n",
              " 'kings': 1594,\n",
              " 'none': 1989,\n",
              " 'stay': 2798,\n",
              " 'imperfect': 1504,\n",
              " 'speakers': 2750,\n",
              " 'sinells': 2639,\n",
              " 'liues': 1704,\n",
              " 'prosperous': 2247,\n",
              " 'stands': 2788,\n",
              " 'prospect': 2246,\n",
              " 'beleefe': 255,\n",
              " 'owe': 2061,\n",
              " 'intelligence': 1537,\n",
              " 'blasted': 305,\n",
              " 'stop': 2824,\n",
              " 'way': 3270,\n",
              " 'such': 2860,\n",
              " 'prophetique': 2244,\n",
              " 'greeting': 1285,\n",
              " 'charge': 472,\n",
              " 'vanish': 3137,\n",
              " 'bubbles': 390,\n",
              " 'water': 3268,\n",
              " 'ha': 1312,\n",
              " 'them': 2971,\n",
              " 'whither': 3323,\n",
              " 'corporall': 616,\n",
              " 'melted': 1830,\n",
              " 'breath': 365,\n",
              " 'eaten': 921,\n",
              " 'insane': 1531,\n",
              " 'root': 2423,\n",
              " 'takes': 2923,\n",
              " 'reason': 2320,\n",
              " 'prisoner': 2222,\n",
              " 'children': 491,\n",
              " 'went': 3295,\n",
              " 'same': 2477,\n",
              " 'tune': 3111,\n",
              " 'happily': 1333,\n",
              " 'receiu': 2328,\n",
              " 'newes': 1966,\n",
              " 'successe': 2859,\n",
              " 'reades': 2317,\n",
              " 'personall': 2122,\n",
              " 'venture': 3144,\n",
              " 'rebels': 2325,\n",
              " 'sight': 2629,\n",
              " 'wonders': 3378,\n",
              " 'prayses': 2198,\n",
              " 'contend': 596,\n",
              " 'silenc': 2635,\n",
              " 'viewing': 3156,\n",
              " 're': 2314,\n",
              " 'rest': 2386,\n",
              " 'findes': 1082,\n",
              " 'stout': 2829,\n",
              " 'rankes': 2300,\n",
              " 'nothing': 1999,\n",
              " 'afeard': 46,\n",
              " 'images': 1500,\n",
              " 'thick': 2983,\n",
              " 'tale': 2925,\n",
              " 'post': 2179,\n",
              " 'euery': 980,\n",
              " 'one': 2034,\n",
              " 'beare': 227,\n",
              " 'kingdomes': 1593,\n",
              " 'defence': 735,\n",
              " 'powr': 2187,\n",
              " 'downe': 856,\n",
              " 'before': 244,\n",
              " 'ang': 96,\n",
              " 'wee': 3285,\n",
              " 'sent': 2555,\n",
              " 'thanks': 2962,\n",
              " 'onely': 2035,\n",
              " 'harrold': 1347,\n",
              " 'pay': 2095,\n",
              " 'an': 94,\n",
              " 'earnest': 914,\n",
              " 'addition': 37,\n",
              " 'deuill': 768,\n",
              " 'true': 3098,\n",
              " 'dresse': 868,\n",
              " 'borrowed': 337,\n",
              " 'robes': 2416,\n",
              " 'was': 3259,\n",
              " 'vnder': 3173,\n",
              " 'heauie': 1390,\n",
              " 'iudgement': 1570,\n",
              " 'beares': 228,\n",
              " 'life': 1686,\n",
              " 'loose': 1718,\n",
              " 'whether': 3313,\n",
              " 'combin': 535,\n",
              " 'those': 2998,\n",
              " 'lyne': 1743,\n",
              " 'hidden': 1415,\n",
              " 'labour': 1621,\n",
              " 'countreyes': 628,\n",
              " 'wracke': 3400,\n",
              " 'treasons': 3081,\n",
              " 'capitall': 427,\n",
              " 'confess': 573,\n",
              " 'prou': 2249,\n",
              " 'ouerthrowne': 2054,\n",
              " 'glamys': 1228,\n",
              " 'greatest': 1278,\n",
              " 'behinde': 251,\n",
              " 'thankes': 2961,\n",
              " 'paines': 2068,\n",
              " 'gaue': 1198,\n",
              " 'promis': 2235,\n",
              " 'lesse': 1674,\n",
              " 'trusted': 3104,\n",
              " 'home': 1440,\n",
              " 'might': 1854,\n",
              " 'enkindle': 948,\n",
              " 'vnto': 3212,\n",
              " 'crowne': 664,\n",
              " 'besides': 270,\n",
              " 'tis': 3034,\n",
              " 'oftentimes': 2024,\n",
              " 'winne': 3346,\n",
              " 'harme': 1342,\n",
              " 'instruments': 1535,\n",
              " 'darknesse': 703,\n",
              " 'truths': 3106,\n",
              " 'honest': 1443,\n",
              " 'trifles': 3093,\n",
              " 'betray': 276,\n",
              " 'deepest': 731,\n",
              " 'consequence': 588,\n",
              " 'cousins': 637,\n",
              " 'word': 3383,\n",
              " 'pray': 2196,\n",
              " 'told': 3042,\n",
              " 'prologues': 2234,\n",
              " 'swelling': 2901,\n",
              " 'act': 25,\n",
              " 'imperiall': 1505,\n",
              " 'theame': 2965,\n",
              " 'thanke': 2960,\n",
              " 'gentlemen': 1207,\n",
              " 'supernaturall': 2871,\n",
              " 'solliciting': 2709,\n",
              " 'ill': 1496,\n",
              " 'giuen': 1223,\n",
              " 'commencing': 544,\n",
              " 'yeeld': 3417,\n",
              " 'suggestion': 2864,\n",
              " 'whose': 3329,\n",
              " 'horrid': 1451,\n",
              " 'image': 1499,\n",
              " 'vnfixe': 3180,\n",
              " 'heire': 1401,\n",
              " 'seated': 2523,\n",
              " 'heart': 1380,\n",
              " 'knock': 1605,\n",
              " 'ribbes': 2400,\n",
              " 'feares': 1047,\n",
              " 'horrible': 1450,\n",
              " 'imaginings': 1501,\n",
              " 'thought': 3001,\n",
              " 'murther': 1922,\n",
              " 'shakes': 2588,\n",
              " 'single': 2642,\n",
              " 'function': 1180,\n",
              " 'smother': 2691,\n",
              " 'surmise': 2881,\n",
              " 'rapt': 2301,\n",
              " 'chance': 470,\n",
              " 'stirre': 2815,\n",
              " 'honors': 1445,\n",
              " 'garments': 1194,\n",
              " 'cleaue': 512,\n",
              " 'mould': 1907,\n",
              " 'aid': 64,\n",
              " 'houre': 1464,\n",
              " 'runs': 2455,\n",
              " 'roughest': 2431,\n",
              " 'leysure': 1681,\n",
              " 'fauour': 1041,\n",
              " 'dull': 890,\n",
              " 'braine': 357,\n",
              " 'wrought': 3414,\n",
              " 'forgotten': 1138,\n",
              " 'registred': 2348,\n",
              " 'turne': 3114,\n",
              " 'leafe': 1652,\n",
              " 'reade': 2316,\n",
              " 'let': 1676,\n",
              " 'toward': 3057,\n",
              " 'thinke': 2990,\n",
              " 'chanc': 469,\n",
              " 'interim': 1542,\n",
              " 'weigh': 3289,\n",
              " 'free': 1163,\n",
              " 'hearts': 1383,\n",
              " 'gladly': 1226,\n",
              " 'enough': 949,\n",
              " 'friends': 1169,\n",
              " 'quarta': 2275,\n",
              " 'flourish': 1107,\n",
              " 'malcolme': 1773,\n",
              " 'commission': 549,\n",
              " 'return': 2390,\n",
              " 'liege': 1684,\n",
              " 'back': 190,\n",
              " 'spoke': 2767,\n",
              " 'saw': 2484,\n",
              " 'die': 776,\n",
              " 'frankly': 1161,\n",
              " 'implor': 1506,\n",
              " 'highnesse': 1420,\n",
              " 'pardon': 2079,\n",
              " 'forth': 1145,\n",
              " 'deepe': 728,\n",
              " 'repentance': 2369,\n",
              " 'became': 233,\n",
              " 'leauing': 1661,\n",
              " 'dy': 903,\n",
              " 'de': 709,\n",
              " 'studied': 2850,\n",
              " 'throw': 3018,\n",
              " 'away': 180,\n",
              " 'dearest': 717,\n",
              " 'thing': 2987,\n",
              " 'ow': 2060,\n",
              " 'twere': 3122,\n",
              " 'carelesse': 434,\n",
              " 'trifle': 3091,\n",
              " 'finde': 1081,\n",
              " 'mindes': 1859,\n",
              " 'construction': 595,\n",
              " 'face': 1003,\n",
              " 'whom': 3327,\n",
              " 'built': 394,\n",
              " 'absolute': 10,\n",
              " 'worthyest': 3396,\n",
              " 'sinne': 2644,\n",
              " 'ingratitude': 1524,\n",
              " 'euen': 975,\n",
              " 'swiftest': 2906,\n",
              " 'wing': 3344,\n",
              " 'recompence': 2335,\n",
              " 'slow': 2679,\n",
              " 'ouertake': 2053,\n",
              " 'hadst': 1315,\n",
              " 'deseru': 755,\n",
              " 'proportion': 2245,\n",
              " 'payment': 2097,\n",
              " 'left': 1666,\n",
              " 'due': 887,\n",
              " 'seruice': 2566,\n",
              " 'loyaltie': 1732,\n",
              " 'doing': 834,\n",
              " 'payes': 2096,\n",
              " 'part': 2083,\n",
              " 'receiue': 2329,\n",
              " 'duties': 899,\n",
              " 'throne': 3016,\n",
              " 'seruants': 2564,\n",
              " 'safe': 2462,\n",
              " 'loue': 1725,\n",
              " 'welcome': 3293,\n",
              " 'hither': 1428,\n",
              " 'begun': 250,\n",
              " 'plant': 2148,\n",
              " 'full': 1177,\n",
              " 'growing': 1299,\n",
              " 'knowne': 1616,\n",
              " 'enfold': 945,\n",
              " 'hold': 1433,\n",
              " 'haruest': 1350,\n",
              " 'owne': 2063,\n",
              " 'plenteous': 2160,\n",
              " 'ioyes': 1560,\n",
              " 'wanton': 3251,\n",
              " 'fulnesse': 1178,\n",
              " 'seeke': 2533,\n",
              " 'hide': 1416,\n",
              " 'themselues': 2972,\n",
              " 'drops': 875,\n",
              " 'sorrow': 2724,\n",
              " 'sonnes': 2716,\n",
              " 'kinsmen': 1596,\n",
              " 'thanes': 2959,\n",
              " 'places': 2146,\n",
              " 'nearest': 1945,\n",
              " 'establish': 969,\n",
              " 'estate': 970,\n",
              " 'eldest': 932,\n",
              " 'prince': 2221,\n",
              " 'cumberland': 673,\n",
              " 'vnaccompanied': 3166,\n",
              " 'inuest': 1551,\n",
              " 'signes': 2633,\n",
              " 'noblenesse': 1983,\n",
              " 'starres': 2790,\n",
              " 'shine': 2608,\n",
              " 'deseruers': 756,\n",
              " 'hence': 1406,\n",
              " 'envernes': 959,\n",
              " 'binde': 287,\n",
              " 'further': 1184,\n",
              " 'labor': 1619,\n",
              " 'herbenger': 1409,\n",
              " 'ioyfull': 1561,\n",
              " 'hearing': 1377,\n",
              " 'approach': 127,\n",
              " 'humbly': 1474,\n",
              " 'take': 2922,\n",
              " 'step': 2806,\n",
              " 'fall': 1016,\n",
              " 'else': 933,\n",
              " 'leape': 1653,\n",
              " 'lyes': 1740,\n",
              " 'fires': 1087,\n",
              " 'light': 1688,\n",
              " 'black': 294,\n",
              " 'desires': 761,\n",
              " 'eye': 998,\n",
              " 'winke': 3345,\n",
              " 'bee': 238,\n",
              " 'commendations': 546,\n",
              " 'banquet': 207,\n",
              " 'after': 54,\n",
              " 'care': 433,\n",
              " 'bid': 281,\n",
              " 'peerelesse': 2104,\n",
              " 'kinsman': 1595,\n",
              " 'quinta': 2286,\n",
              " 'macbeths': 1749,\n",
              " 'alone': 76,\n",
              " 'letter': 1677,\n",
              " 'lady': 1625,\n",
              " 'met': 1847,\n",
              " 'learn': 1655,\n",
              " 'perfect': 2111,\n",
              " 'mortall': 1896,\n",
              " 'burnt': 399,\n",
              " 'desire': 760,\n",
              " 'made': 1758,\n",
              " 'whiles': 3317,\n",
              " 'wonder': 3377,\n",
              " 'came': 418,\n",
              " 'missiues': 1875,\n",
              " 'hail': 1319,\n",
              " 'saluted': 2476,\n",
              " 'referr': 2344,\n",
              " 'comming': 548,\n",
              " 'deliuer': 742,\n",
              " 'greatnesse': 1279,\n",
              " 'dues': 888,\n",
              " 'reioycing': 2351,\n",
              " 'being': 253,\n",
              " 'ignorant': 1493,\n",
              " 'lay': 1645,\n",
              " 'farewell': 1027,\n",
              " 'milke': 1856,\n",
              " 'humane': 1472,\n",
              " 'kindnesse': 1590,\n",
              " 'catch': 446,\n",
              " 'neerest': 1955,\n",
              " 'ambition': 88,\n",
              " 'illnesse': 1497,\n",
              " 'attend': 162,\n",
              " 'highly': 1419,\n",
              " 'holily': 1436,\n",
              " 'play': 2150,\n",
              " 'false': 1019,\n",
              " 'wrongly': 3412,\n",
              " 'thould': 3003,\n",
              " 'rather': 2305,\n",
              " 'do': 825,\n",
              " 'wishest': 3355,\n",
              " 'vndone': 3178,\n",
              " 'high': 1418,\n",
              " 'powre': 2188,\n",
              " 'spirits': 2766,\n",
              " 'eare': 911,\n",
              " 'chastise': 477,\n",
              " 'tongue': 3044,\n",
              " 'impeides': 1503,\n",
              " 'golden': 1243,\n",
              " 'round': 2432,\n",
              " 'fate': 1035,\n",
              " 'metaphysicall': 1848,\n",
              " 'ayde': 182,\n",
              " 'crown': 663,\n",
              " 'messenger': 1846,\n",
              " 'tidings': 3026,\n",
              " 'mess': 1844,\n",
              " 'rt': 2439,\n",
              " 'mad': 1755,\n",
              " 'wer': 3296,\n",
              " 'inform': 1522,\n",
              " 'preparation': 2205,\n",
              " 'please': 2156,\n",
              " 'fellowes': 1060,\n",
              " 'speed': 2759,\n",
              " 'almost': 75,\n",
              " 'dead': 710,\n",
              " 'scarcely': 2497,\n",
              " 'message': 1845,\n",
              " 'tending': 2952,\n",
              " 'brings': 378,\n",
              " 'exit': 989,\n",
              " 'rauen': 2308,\n",
              " 'hoarse': 1430,\n",
              " 'croakes': 660,\n",
              " 'fatall': 1034,\n",
              " 'entrance': 956,\n",
              " 'duncan': 891,\n",
              " 'tend': 2950,\n",
              " 'thoughts': 3002,\n",
              " 'vnsex': 3205,\n",
              " 'fill': 1076,\n",
              " 'toe': 3039,\n",
              " 'top': 3049,\n",
              " 'direst': 787,\n",
              " 'crueltie': 668,\n",
              " 'blood': 315,\n",
              " 'accesse': 13,\n",
              " 'remorse': 2362,\n",
              " 'compunctious': 563,\n",
              " 'visitings': 3163,\n",
              " 'shake': 2587,\n",
              " 'purpose': 2264,\n",
              " 'keepe': 1579,\n",
              " 'betweene': 278,\n",
              " 'effect': 926,\n",
              " 'hit': 1427,\n",
              " 'womans': 3374,\n",
              " 'brests': 370,\n",
              " 'gall': 1190,\n",
              " 'murth': 1921,\n",
              " 'ring': 2408,\n",
              " 'ministers': 1866,\n",
              " 'euer': 978,\n",
              " 'sightlesse': 2630,\n",
              " 'substances': 2855,\n",
              " 'wait': 3241,\n",
              " 'natures': 1939,\n",
              " 'mischiefe': 1871,\n",
              " 'pall': 2072,\n",
              " 'dunnest': 894,\n",
              " 'smoake': 2690,\n",
              " 'hell': 1403,\n",
              " 'keene': 1578,\n",
              " 'knife': 1601,\n",
              " 'makes': 1767,\n",
              " 'heauen': 1387,\n",
              " 'peepe': 2103,\n",
              " 'blanket': 301,\n",
              " 'darke': 702,\n",
              " 'letters': 1678,\n",
              " 'transported': 3071,\n",
              " 'beyond': 280,\n",
              " 'feele': 1055,\n",
              " 'future': 1186,\n",
              " 'instant': 1532,\n",
              " 'goes': 1240,\n",
              " 'morrow': 1894,\n",
              " 'purposes': 2265,\n",
              " 'neuer': 1962,\n",
              " 'booke': 333,\n",
              " 'matters': 1810,\n",
              " 'beguile': 249,\n",
              " 'innocent': 1530,\n",
              " 'flower': 1108,\n",
              " 'serpent': 2561,\n",
              " 'prouided': 2253,\n",
              " 'put': 2268,\n",
              " 'businesse': 401,\n",
              " 'dispatch': 808,\n",
              " 'dayes': 708,\n",
              " ...}"
            ]
          },
          "metadata": {},
          "execution_count": 122
        }
      ]
    },
    {
      "cell_type": "code",
      "source": [
        "idf = tf.idf_\n",
        "rr = dict(zip(txt_fitted.get_feature_names(), idf))"
      ],
      "metadata": {
        "colab": {
          "base_uri": "https://localhost:8080/"
        },
        "id": "x0qz9iGFvczy",
        "outputId": "a12251d9-4466-43d0-effb-680f0072c1e5"
      },
      "execution_count": 123,
      "outputs": [
        {
          "output_type": "stream",
          "name": "stderr",
          "text": [
            "/usr/local/lib/python3.7/dist-packages/sklearn/utils/deprecation.py:87: FutureWarning: Function get_feature_names is deprecated; get_feature_names is deprecated in 1.0 and will be removed in 1.2. Please use get_feature_names_out instead.\n",
            "  warnings.warn(msg, category=FutureWarning)\n"
          ]
        }
      ]
    },
    {
      "cell_type": "code",
      "source": [
        "token_weight = pd.DataFrame.from_dict(rr, orient='index').reset_index()\n",
        "token_weight.columns=('token','weight')\n",
        "token_weight = token_weight.sort_values(by='weight', ascending=False)[:10]\n",
        "import seaborn as sns\n",
        "sns.barplot(x='token', y='weight', data=token_weight)            \n",
        "plt.title(\"Inverse Document Frequency(idf) per token\")\n",
        "fig=plt.gcf()\n",
        "fig.set_size_inches(10,5)\n",
        "plt.show()"
      ],
      "metadata": {
        "colab": {
          "base_uri": "https://localhost:8080/",
          "height": 350
        },
        "id": "faum34zTvc4S",
        "outputId": "6b2c3dbb-0efa-4256-e30b-b0ebb609fa64"
      },
      "execution_count": 124,
      "outputs": [
        {
          "output_type": "display_data",
          "data": {
            "text/plain": [
              "<Figure size 720x360 with 1 Axes>"
            ],
            "image/png": "[encoded data removed]"
          },
          "metadata": {
            "needs_background": "light"
          }
        }
      ]
    },
    {
      "cell_type": "code",
      "source": [
        "# get feature names\n",
        "feature_names = np.array(tf.get_feature_names())\n",
        "sorted_by_idf = np.argsort(tf.idf_)\n",
        "print(\"Features with lowest idf:\\n{}\".format(\n",
        "       feature_names[sorted_by_idf[:3]]))\n",
        "print(\"\\nFeatures with highest idf:\\n{}\".format(\n",
        "       feature_names[sorted_by_idf[-3:]]))"
      ],
      "metadata": {
        "colab": {
          "base_uri": "https://localhost:8080/"
        },
        "id": "eexWkUaPvS5O",
        "outputId": "aba5bb8e-d6ee-4b62-c494-27300055c572"
      },
      "execution_count": 125,
      "outputs": [
        {
          "output_type": "stream",
          "name": "stdout",
          "text": [
            "Features with lowest idf:\n",
            "['the' 'and' 'to']\n",
            "\n",
            "Features with highest idf:\n",
            "['heauenly' 'griefes' 'youths']\n"
          ]
        },
        {
          "output_type": "stream",
          "name": "stderr",
          "text": [
            "/usr/local/lib/python3.7/dist-packages/sklearn/utils/deprecation.py:87: FutureWarning: Function get_feature_names is deprecated; get_feature_names is deprecated in 1.0 and will be removed in 1.2. Please use get_feature_names_out instead.\n",
            "  warnings.warn(msg, category=FutureWarning)\n"
          ]
        }
      ]
    },
    {
      "cell_type": "code",
      "source": [
        "# find maximum value for each of the features over all of dataset:\n",
        "max_val = txt_transformed.max(axis=0).toarray().ravel()\n",
        "\n",
        "#sort weights from smallest to biggest and extract their indices \n",
        "sort_by_tfidf = max_val.argsort()\n",
        "\n",
        "print(\"Features with lowest tfidf:\\n{}\".format(\n",
        "      feature_names[sort_by_tfidf[:3]]))\n",
        "\n",
        "print(\"\\nFeatures with highest tfidf: \\n{}\".format(\n",
        "      feature_names[sort_by_tfidf[-3:]]))"
      ],
      "metadata": {
        "colab": {
          "base_uri": "https://localhost:8080/"
        },
        "id": "7hC3YK_evT-_",
        "outputId": "b29014e0-86f3-4584-b3ad-e7fa57dbf1ff"
      },
      "execution_count": 126,
      "outputs": [
        {
          "output_type": "stream",
          "name": "stdout",
          "text": [
            "Features with lowest tfidf:\n",
            "['macb' 'enter' 'macd']\n",
            "\n",
            "Features with highest tfidf: \n",
            "['of' 'though' 'him']\n"
          ]
        }
      ]
    }
  ]
}