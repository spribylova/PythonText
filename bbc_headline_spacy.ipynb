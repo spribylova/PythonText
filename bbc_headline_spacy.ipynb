{
  "nbformat": 4,
  "nbformat_minor": 0,
  "metadata": {
    "colab": {
      "name": "bbc_headline_spacy.ipynb",
      "provenance": [],
      "collapsed_sections": []
    },
    "kernelspec": {
      "name": "python3",
      "display_name": "Python 3"
    },
    "language_info": {
      "name": "python"
    }
  },
  "cells": [
    {
      "cell_type": "code",
      "source": [
        "import re\n",
        "import spacy\n",
        "import requests\n",
        "import pandas as pd\n",
        "from bs4 import BeautifulSoup\n",
        "from spacy import displacy\n",
        "from spacy.matcher import Matcher \n",
        "from spacy.tokens import Span \n",
        "import networkx as nx\n",
        "import matplotlib.pyplot as plt\n",
        "from tqdm import tqdm\n",
        "\n",
        "pd.set_option('display.max_colwidth', 200)\n",
        "%matplotlib inline"
      ],
      "metadata": {
        "id": "wPEWpZ_rPw_y"
      },
      "execution_count": 123,
      "outputs": []
    },
    {
      "cell_type": "code",
      "source": [
        "# get text from html and parse it\n",
        "response = requests.get('http://www.bbc.com/news')\n",
        "doc = BeautifulSoup(response.text, 'html.parser')\n",
        "headlines1 = doc.find_all('h3')\n",
        "stories_list = []\n",
        "\n",
        "for headline in headlines1:\n",
        "    print(headline.text)\n",
        "    stories_list.append(headline.text)\n",
        "\n",
        "# Now that we're done, convert to a CSV and save.\n",
        "# If you don't use index=False, you'll get an ugly dataframe!\n",
        "import pandas as pd\n",
        "df = pd.DataFrame(stories_list)\n",
        "df.to_csv(\"bbc.csv\", index=False)"
      ],
      "metadata": {
        "colab": {
          "base_uri": "https://localhost:8080/"
        },
        "id": "GUZSjZ2QNVGc",
        "outputId": "d31739a5-0687-4ba1-9382-887c01dc7b13"
      },
      "execution_count": 124,
      "outputs": [
        {
          "output_type": "stream",
          "name": "stdout",
          "text": [
            "Do Afghans feel differently about the Taliban now?\n",
            "Do Afghans feel differently about the Taliban now?\n",
            "William Ruto wins Kenya election amid drama\n",
            "Lyse Doucet: From Kabul and beyond, a year of Taliban rule\n",
            "Iran blames Rushdie and supporters for stabbing\n",
            "Shanghai Ikea shoppers flee Covid lockdown attempt\n",
            "Ukraine hits Russian Wagner mercenary HQ in east\n",
            "Tom Holland quits social media for mental health\n",
            "'Just weird': Ex-Australian PM held 'secret roles'\n",
            "Heche organs donated as life support switched off\n",
            "UK first country to approve dual-strain Covid jab\n",
            "Remote Pacific nation hit by first Covid outbreak\n",
            "UK first country to approve dual-strain Covid jab\n",
            "Remote Pacific nation hit by first Covid outbreak\n",
            "We saved who we could - Egypt church fire survivor\n",
            "Women 'disposable' to 'predator' Mendy, jury told\n",
            "'Match sucked me in' - why Tuchel & Conte saw red\n",
            "The Taliban's broken promises\n",
            "Former Afghan leaders mark year of Taliban rule\n",
            "We fled the Taliban for our Olympic dream\n",
            "The librarian who defied the Taliban\n",
            "The Taliban sniper now working behind a desk\n",
            "How 40 million Australian mangroves were wiped out\n",
            "BBC World News TV\n",
            "BBC World Service Radio\n",
            "New York governor defiant after Rushdie attack\n",
            "History-making 24-year-old Kenyan politician\n",
            "Fireworks explosion rocks Armenia shopping market\n",
            "The musical genius you've probably never heard of\n",
            "Ibiza: The birth of the 'party island'\n",
            "Forty metres above the forest, searching for smoke\n",
            "The DIY tech that made Gandhi's voice heard\n",
            "The tech aiming to prevent lost airline luggage\n",
            "Why was British India partitioned 75 years ago?\n",
            "How racism haunts black people in Italy\n",
            "The humiliating story that made me a break-up coach\n",
            "The Fringe performers camping to save money\n",
            "The animals who survived the apocalypse\n",
            "The end of the layoff taboo\n",
            "The floating homes of Lake Titicaca\n",
            "The greatest novel of the 20th Century?\n",
            "The most sustainable way to eat fish\n",
            "The new problem for 'overthinkers'\n",
            "A Spanish town abandoned by mistake\n",
            "News daily newsletter\n",
            "Mobile app\n",
            "Get in touch\n"
          ]
        }
      ]
    },
    {
      "cell_type": "code",
      "source": [
        "doc"
      ],
      "metadata": {
        "id": "gKgU0wtLDfQo"
      },
      "execution_count": null,
      "outputs": []
    },
    {
      "cell_type": "code",
      "source": [
        "stories_list"
      ],
      "metadata": {
        "colab": {
          "base_uri": "https://localhost:8080/"
        },
        "id": "Lrs_5rs0D3fi",
        "outputId": "62b49c23-fec0-4078-c540-082b3f85b401"
      },
      "execution_count": 126,
      "outputs": [
        {
          "output_type": "execute_result",
          "data": {
            "text/plain": [
              "['Do Afghans feel differently about the Taliban now?',\n",
              " 'Do Afghans feel differently about the Taliban now?',\n",
              " 'William Ruto wins Kenya election amid drama',\n",
              " 'Lyse Doucet: From Kabul and beyond, a year of Taliban rule',\n",
              " 'Iran blames Rushdie and supporters for stabbing',\n",
              " 'Shanghai Ikea shoppers flee Covid lockdown attempt',\n",
              " 'Ukraine hits Russian Wagner mercenary HQ in east',\n",
              " 'Tom Holland quits social media for mental health',\n",
              " \"'Just weird': Ex-Australian PM held 'secret roles'\",\n",
              " 'Heche organs donated as life support switched off',\n",
              " 'UK first country to approve dual-strain Covid jab',\n",
              " 'Remote Pacific nation hit by first Covid outbreak',\n",
              " 'UK first country to approve dual-strain Covid jab',\n",
              " 'Remote Pacific nation hit by first Covid outbreak',\n",
              " 'We saved who we could - Egypt church fire survivor',\n",
              " \"Women 'disposable' to 'predator' Mendy, jury told\",\n",
              " \"'Match sucked me in' - why Tuchel & Conte saw red\",\n",
              " \"The Taliban's broken promises\",\n",
              " 'Former Afghan leaders mark year of Taliban rule',\n",
              " 'We fled the Taliban for our Olympic dream',\n",
              " 'The librarian who defied the Taliban',\n",
              " 'The Taliban sniper now working behind a desk',\n",
              " 'How 40 million Australian mangroves were wiped out',\n",
              " 'BBC World News TV',\n",
              " 'BBC World Service Radio',\n",
              " 'New York governor defiant after Rushdie attack',\n",
              " 'History-making 24-year-old Kenyan politician',\n",
              " 'Fireworks explosion rocks Armenia shopping market',\n",
              " \"The musical genius you've probably never heard of\",\n",
              " \"Ibiza: The birth of the 'party island'\",\n",
              " 'Forty metres above the forest, searching for smoke',\n",
              " \"The DIY tech that made Gandhi's voice heard\",\n",
              " 'The tech aiming to prevent lost airline luggage',\n",
              " 'Why was British India partitioned 75 years ago?',\n",
              " 'How racism haunts black people in Italy',\n",
              " 'The humiliating story that made me a break-up coach',\n",
              " 'The Fringe performers camping to save money',\n",
              " 'The animals who survived the apocalypse',\n",
              " 'The end of the layoff taboo',\n",
              " 'The floating homes of Lake Titicaca',\n",
              " 'The greatest novel of the 20th Century?',\n",
              " 'The most sustainable way to eat fish',\n",
              " \"The new problem for 'overthinkers'\",\n",
              " 'A Spanish town abandoned by mistake',\n",
              " 'News daily newsletter',\n",
              " 'Mobile app',\n",
              " 'Get in touch']"
            ]
          },
          "metadata": {},
          "execution_count": 126
        }
      ]
    },
    {
      "cell_type": "code",
      "source": [
        "# import wikipedia sentences, they have 4318 rows\n",
        "headlines = pd.read_csv(\"bbc.csv\")\n",
        "headlines.shape"
      ],
      "metadata": {
        "colab": {
          "base_uri": "https://localhost:8080/"
        },
        "id": "y-cU8ONxPvgz",
        "outputId": "ac21a595-1701-43a9-cd45-7039aeb1592a"
      },
      "execution_count": 127,
      "outputs": [
        {
          "output_type": "execute_result",
          "data": {
            "text/plain": [
              "(47, 1)"
            ]
          },
          "metadata": {},
          "execution_count": 127
        }
      ]
    },
    {
      "cell_type": "code",
      "source": [
        "headlines"
      ],
      "metadata": {
        "colab": {
          "base_uri": "https://localhost:8080/",
          "height": 1000
        },
        "id": "uxf7-ZVsWRaB",
        "outputId": "f633a04c-4b7f-4775-e8d8-de842ef7a501"
      },
      "execution_count": 128,
      "outputs": [
        {
          "output_type": "execute_result",
          "data": {
            "text/plain": [
              "                                                             0\n",
              "0           Do Afghans feel differently about the Taliban now?\n",
              "1           Do Afghans feel differently about the Taliban now?\n",
              "2                  William Ruto wins Kenya election amid drama\n",
              "3   Lyse Doucet: From Kabul and beyond, a year of Taliban rule\n",
              "4              Iran blames Rushdie and supporters for stabbing\n",
              "5           Shanghai Ikea shoppers flee Covid lockdown attempt\n",
              "6             Ukraine hits Russian Wagner mercenary HQ in east\n",
              "7             Tom Holland quits social media for mental health\n",
              "8           'Just weird': Ex-Australian PM held 'secret roles'\n",
              "9            Heche organs donated as life support switched off\n",
              "10           UK first country to approve dual-strain Covid jab\n",
              "11           Remote Pacific nation hit by first Covid outbreak\n",
              "12           UK first country to approve dual-strain Covid jab\n",
              "13           Remote Pacific nation hit by first Covid outbreak\n",
              "14          We saved who we could - Egypt church fire survivor\n",
              "15           Women 'disposable' to 'predator' Mendy, jury told\n",
              "16           'Match sucked me in' - why Tuchel & Conte saw red\n",
              "17                               The Taliban's broken promises\n",
              "18             Former Afghan leaders mark year of Taliban rule\n",
              "19                   We fled the Taliban for our Olympic dream\n",
              "20                        The librarian who defied the Taliban\n",
              "21                The Taliban sniper now working behind a desk\n",
              "22          How 40 million Australian mangroves were wiped out\n",
              "23                                           BBC World News TV\n",
              "24                                     BBC World Service Radio\n",
              "25              New York governor defiant after Rushdie attack\n",
              "26                History-making 24-year-old Kenyan politician\n",
              "27           Fireworks explosion rocks Armenia shopping market\n",
              "28           The musical genius you've probably never heard of\n",
              "29                      Ibiza: The birth of the 'party island'\n",
              "30          Forty metres above the forest, searching for smoke\n",
              "31                 The DIY tech that made Gandhi's voice heard\n",
              "32             The tech aiming to prevent lost airline luggage\n",
              "33             Why was British India partitioned 75 years ago?\n",
              "34                     How racism haunts black people in Italy\n",
              "35         The humiliating story that made me a break-up coach\n",
              "36                 The Fringe performers camping to save money\n",
              "37                     The animals who survived the apocalypse\n",
              "38                                 The end of the layoff taboo\n",
              "39                         The floating homes of Lake Titicaca\n",
              "40                     The greatest novel of the 20th Century?\n",
              "41                        The most sustainable way to eat fish\n",
              "42                          The new problem for 'overthinkers'\n",
              "43                         A Spanish town abandoned by mistake\n",
              "44                                       News daily newsletter\n",
              "45                                                  Mobile app\n",
              "46                                                Get in touch"
            ],
            "text/html": [
              "\n",
              "  <div id=\"df-8c3b21a0-f503-44b3-ae73-8a93a5f7dae7\">\n",
              "    <div class=\"colab-df-container\">\n",
              "      <div>\n",
              "<style scoped>\n",
              "    .dataframe tbody tr th:only-of-type {\n",
              "        vertical-align: middle;\n",
              "    }\n",
              "\n",
              "    .dataframe tbody tr th {\n",
              "        vertical-align: top;\n",
              "    }\n",
              "\n",
              "    .dataframe thead th {\n",
              "        text-align: right;\n",
              "    }\n",
              "</style>\n",
              "<table border=\"1\" class=\"dataframe\">\n",
              "  <thead>\n",
              "    <tr style=\"text-align: right;\">\n",
              "      <th></th>\n",
              "      <th>0</th>\n",
              "    </tr>\n",
              "  </thead>\n",
              "  <tbody>\n",
              "    <tr>\n",
              "      <th>0</th>\n",
              "      <td>Do Afghans feel differently about the Taliban now?</td>\n",
              "    </tr>\n",
              "    <tr>\n",
              "      <th>1</th>\n",
              "      <td>Do Afghans feel differently about the Taliban now?</td>\n",
              "    </tr>\n",
              "    <tr>\n",
              "      <th>2</th>\n",
              "      <td>William Ruto wins Kenya election amid drama</td>\n",
              "    </tr>\n",
              "    <tr>\n",
              "      <th>3</th>\n",
              "      <td>Lyse Doucet: From Kabul and beyond, a year of Taliban rule</td>\n",
              "    </tr>\n",
              "    <tr>\n",
              "      <th>4</th>\n",
              "      <td>Iran blames Rushdie and supporters for stabbing</td>\n",
              "    </tr>\n",
              "    <tr>\n",
              "      <th>5</th>\n",
              "      <td>Shanghai Ikea shoppers flee Covid lockdown attempt</td>\n",
              "    </tr>\n",
              "    <tr>\n",
              "      <th>6</th>\n",
              "      <td>Ukraine hits Russian Wagner mercenary HQ in east</td>\n",
              "    </tr>\n",
              "    <tr>\n",
              "      <th>7</th>\n",
              "      <td>Tom Holland quits social media for mental health</td>\n",
              "    </tr>\n",
              "    <tr>\n",
              "      <th>8</th>\n",
              "      <td>'Just weird': Ex-Australian PM held 'secret roles'</td>\n",
              "    </tr>\n",
              "    <tr>\n",
              "      <th>9</th>\n",
              "      <td>Heche organs donated as life support switched off</td>\n",
              "    </tr>\n",
              "    <tr>\n",
              "      <th>10</th>\n",
              "      <td>UK first country to approve dual-strain Covid jab</td>\n",
              "    </tr>\n",
              "    <tr>\n",
              "      <th>11</th>\n",
              "      <td>Remote Pacific nation hit by first Covid outbreak</td>\n",
              "    </tr>\n",
              "    <tr>\n",
              "      <th>12</th>\n",
              "      <td>UK first country to approve dual-strain Covid jab</td>\n",
              "    </tr>\n",
              "    <tr>\n",
              "      <th>13</th>\n",
              "      <td>Remote Pacific nation hit by first Covid outbreak</td>\n",
              "    </tr>\n",
              "    <tr>\n",
              "      <th>14</th>\n",
              "      <td>We saved who we could - Egypt church fire survivor</td>\n",
              "    </tr>\n",
              "    <tr>\n",
              "      <th>15</th>\n",
              "      <td>Women 'disposable' to 'predator' Mendy, jury told</td>\n",
              "    </tr>\n",
              "    <tr>\n",
              "      <th>16</th>\n",
              "      <td>'Match sucked me in' - why Tuchel &amp; Conte saw red</td>\n",
              "    </tr>\n",
              "    <tr>\n",
              "      <th>17</th>\n",
              "      <td>The Taliban's broken promises</td>\n",
              "    </tr>\n",
              "    <tr>\n",
              "      <th>18</th>\n",
              "      <td>Former Afghan leaders mark year of Taliban rule</td>\n",
              "    </tr>\n",
              "    <tr>\n",
              "      <th>19</th>\n",
              "      <td>We fled the Taliban for our Olympic dream</td>\n",
              "    </tr>\n",
              "    <tr>\n",
              "      <th>20</th>\n",
              "      <td>The librarian who defied the Taliban</td>\n",
              "    </tr>\n",
              "    <tr>\n",
              "      <th>21</th>\n",
              "      <td>The Taliban sniper now working behind a desk</td>\n",
              "    </tr>\n",
              "    <tr>\n",
              "      <th>22</th>\n",
              "      <td>How 40 million Australian mangroves were wiped out</td>\n",
              "    </tr>\n",
              "    <tr>\n",
              "      <th>23</th>\n",
              "      <td>BBC World News TV</td>\n",
              "    </tr>\n",
              "    <tr>\n",
              "      <th>24</th>\n",
              "      <td>BBC World Service Radio</td>\n",
              "    </tr>\n",
              "    <tr>\n",
              "      <th>25</th>\n",
              "      <td>New York governor defiant after Rushdie attack</td>\n",
              "    </tr>\n",
              "    <tr>\n",
              "      <th>26</th>\n",
              "      <td>History-making 24-year-old Kenyan politician</td>\n",
              "    </tr>\n",
              "    <tr>\n",
              "      <th>27</th>\n",
              "      <td>Fireworks explosion rocks Armenia shopping market</td>\n",
              "    </tr>\n",
              "    <tr>\n",
              "      <th>28</th>\n",
              "      <td>The musical genius you've probably never heard of</td>\n",
              "    </tr>\n",
              "    <tr>\n",
              "      <th>29</th>\n",
              "      <td>Ibiza: The birth of the 'party island'</td>\n",
              "    </tr>\n",
              "    <tr>\n",
              "      <th>30</th>\n",
              "      <td>Forty metres above the forest, searching for smoke</td>\n",
              "    </tr>\n",
              "    <tr>\n",
              "      <th>31</th>\n",
              "      <td>The DIY tech that made Gandhi's voice heard</td>\n",
              "    </tr>\n",
              "    <tr>\n",
              "      <th>32</th>\n",
              "      <td>The tech aiming to prevent lost airline luggage</td>\n",
              "    </tr>\n",
              "    <tr>\n",
              "      <th>33</th>\n",
              "      <td>Why was British India partitioned 75 years ago?</td>\n",
              "    </tr>\n",
              "    <tr>\n",
              "      <th>34</th>\n",
              "      <td>How racism haunts black people in Italy</td>\n",
              "    </tr>\n",
              "    <tr>\n",
              "      <th>35</th>\n",
              "      <td>The humiliating story that made me a break-up coach</td>\n",
              "    </tr>\n",
              "    <tr>\n",
              "      <th>36</th>\n",
              "      <td>The Fringe performers camping to save money</td>\n",
              "    </tr>\n",
              "    <tr>\n",
              "      <th>37</th>\n",
              "      <td>The animals who survived the apocalypse</td>\n",
              "    </tr>\n",
              "    <tr>\n",
              "      <th>38</th>\n",
              "      <td>The end of the layoff taboo</td>\n",
              "    </tr>\n",
              "    <tr>\n",
              "      <th>39</th>\n",
              "      <td>The floating homes of Lake Titicaca</td>\n",
              "    </tr>\n",
              "    <tr>\n",
              "      <th>40</th>\n",
              "      <td>The greatest novel of the 20th Century?</td>\n",
              "    </tr>\n",
              "    <tr>\n",
              "      <th>41</th>\n",
              "      <td>The most sustainable way to eat fish</td>\n",
              "    </tr>\n",
              "    <tr>\n",
              "      <th>42</th>\n",
              "      <td>The new problem for 'overthinkers'</td>\n",
              "    </tr>\n",
              "    <tr>\n",
              "      <th>43</th>\n",
              "      <td>A Spanish town abandoned by mistake</td>\n",
              "    </tr>\n",
              "    <tr>\n",
              "      <th>44</th>\n",
              "      <td>News daily newsletter</td>\n",
              "    </tr>\n",
              "    <tr>\n",
              "      <th>45</th>\n",
              "      <td>Mobile app</td>\n",
              "    </tr>\n",
              "    <tr>\n",
              "      <th>46</th>\n",
              "      <td>Get in touch</td>\n",
              "    </tr>\n",
              "  </tbody>\n",
              "</table>\n",
              "</div>\n",
              "      <button class=\"colab-df-convert\" onclick=\"convertToInteractive('df-8c3b21a0-f503-44b3-ae73-8a93a5f7dae7')\"\n",
              "              title=\"Convert this dataframe to an interactive table.\"\n",
              "              style=\"display:none;\">\n",
              "        \n",
              "  <svg xmlns=\"http://www.w3.org/2000/svg\" height=\"24px\"viewBox=\"0 0 24 24\"\n",
              "       width=\"24px\">\n",
              "    <path d=\"M0 0h24v24H0V0z\" fill=\"none\"/>\n",
              "    <path d=\"M18.56 5.44l.94 2.06.94-2.06 2.06-.94-2.06-.94-.94-2.06-.94 2.06-2.06.94zm-11 1L8.5 8.5l.94-2.06 2.06-.94-2.06-.94L8.5 2.5l-.94 2.06-2.06.94zm10 10l.94 2.06.94-2.06 2.06-.94-2.06-.94-.94-2.06-.94 2.06-2.06.94z\"/><path d=\"M17.41 7.96l-1.37-1.37c-.4-.4-.92-.59-1.43-.59-.52 0-1.04.2-1.43.59L10.3 9.45l-7.72 7.72c-.78.78-.78 2.05 0 2.83L4 21.41c.39.39.9.59 1.41.59.51 0 1.02-.2 1.41-.59l7.78-7.78 2.81-2.81c.8-.78.8-2.07 0-2.86zM5.41 20L4 18.59l7.72-7.72 1.47 1.35L5.41 20z\"/>\n",
              "  </svg>\n",
              "      </button>\n",
              "      \n",
              "  <style>\n",
              "    .colab-df-container {\n",
              "      display:flex;\n",
              "      flex-wrap:wrap;\n",
              "      gap: 12px;\n",
              "    }\n",
              "\n",
              "    .colab-df-convert {\n",
              "      background-color: #E8F0FE;\n",
              "      border: none;\n",
              "      border-radius: 50%;\n",
              "      cursor: pointer;\n",
              "      display: none;\n",
              "      fill: #1967D2;\n",
              "      height: 32px;\n",
              "      padding: 0 0 0 0;\n",
              "      width: 32px;\n",
              "    }\n",
              "\n",
              "    .colab-df-convert:hover {\n",
              "      background-color: #E2EBFA;\n",
              "      box-shadow: 0px 1px 2px rgba(60, 64, 67, 0.3), 0px 1px 3px 1px rgba(60, 64, 67, 0.15);\n",
              "      fill: #174EA6;\n",
              "    }\n",
              "\n",
              "    [theme=dark] .colab-df-convert {\n",
              "      background-color: #3B4455;\n",
              "      fill: #D2E3FC;\n",
              "    }\n",
              "\n",
              "    [theme=dark] .colab-df-convert:hover {\n",
              "      background-color: #434B5C;\n",
              "      box-shadow: 0px 1px 3px 1px rgba(0, 0, 0, 0.15);\n",
              "      filter: drop-shadow(0px 1px 2px rgba(0, 0, 0, 0.3));\n",
              "      fill: #FFFFFF;\n",
              "    }\n",
              "  </style>\n",
              "\n",
              "      <script>\n",
              "        const buttonEl =\n",
              "          document.querySelector('#df-8c3b21a0-f503-44b3-ae73-8a93a5f7dae7 button.colab-df-convert');\n",
              "        buttonEl.style.display =\n",
              "          google.colab.kernel.accessAllowed ? 'block' : 'none';\n",
              "\n",
              "        async function convertToInteractive(key) {\n",
              "          const element = document.querySelector('#df-8c3b21a0-f503-44b3-ae73-8a93a5f7dae7');\n",
              "          const dataTable =\n",
              "            await google.colab.kernel.invokeFunction('convertToInteractive',\n",
              "                                                     [key], {});\n",
              "          if (!dataTable) return;\n",
              "\n",
              "          const docLinkHtml = 'Like what you see? Visit the ' +\n",
              "            '<a target=\"_blank\" href=https://colab.research.google.com/notebooks/data_table.ipynb>data table notebook</a>'\n",
              "            + ' to learn more about interactive tables.';\n",
              "          element.innerHTML = '';\n",
              "          dataTable['output_type'] = 'display_data';\n",
              "          await google.colab.output.renderOutput(dataTable, element);\n",
              "          const docLink = document.createElement('div');\n",
              "          docLink.innerHTML = docLinkHtml;\n",
              "          element.appendChild(docLink);\n",
              "        }\n",
              "      </script>\n",
              "    </div>\n",
              "  </div>\n",
              "  "
            ]
          },
          "metadata": {},
          "execution_count": 128
        }
      ]
    },
    {
      "cell_type": "code",
      "source": [
        "# exact sentence example\n",
        "nlp = spacy.load('en_core_web_sm')\n",
        "\n",
        "doc = nlp(\"Ukraine hits Russian Wagner mercenary HQ in east.\")\n",
        "\n",
        "for tok in doc:\n",
        "  print(tok.text, \"...\", tok.dep_)"
      ],
      "metadata": {
        "colab": {
          "base_uri": "https://localhost:8080/"
        },
        "id": "NAHTksDNUfSJ",
        "outputId": "e7c4cfce-2e93-4314-9d23-f9f7d999641c"
      },
      "execution_count": 129,
      "outputs": [
        {
          "output_type": "stream",
          "name": "stdout",
          "text": [
            "Ukraine ... nsubj\n",
            "hits ... ROOT\n",
            "Russian ... amod\n",
            "Wagner ... nmod\n",
            "mercenary ... amod\n",
            "HQ ... dobj\n",
            "in ... prep\n",
            "east ... pobj\n",
            ". ... punct\n"
          ]
        }
      ]
    },
    {
      "cell_type": "code",
      "source": [
        "def get_entities(sent):\n",
        "\n",
        "  ## chunk 1\n",
        "  ent1 = \"\"\n",
        "  ent2 = \"\"\n",
        "\n",
        "  prv_tok_dep = \"\"    # dependency tag of previous token in the sentence\n",
        "  prv_tok_text = \"\"   # previous token in the sentence\n",
        "\n",
        "  prefix = \"\"\n",
        "  modifier = \"\"\n",
        "\n",
        "  #############################################################\n",
        "  \n",
        "  for tok in nlp(sent):\n",
        "    ## chunk 2\n",
        "    # if token is a punctuation mark then move on to the next token\n",
        "    if tok.dep_ != \"punct\":\n",
        "      # check: token is a compound word or not\n",
        "      if tok.dep_ == \"compound\":\n",
        "        prefix = tok.text\n",
        "        # if the previous word was also a 'compound' then add the current word to it\n",
        "        if prv_tok_dep == \"compound\":\n",
        "          prefix = prv_tok_text + \" \"+ tok.text\n",
        "      \n",
        "      # check: token is a modifier or not\n",
        "      if tok.dep_.endswith(\"mod\") == True:\n",
        "        modifier = tok.text\n",
        "        # if the previous word was also a 'compound' then add the current word to it\n",
        "        if prv_tok_dep == \"compound\":\n",
        "          modifier = prv_tok_text + \" \"+ tok.text\n",
        "      \n",
        "      ## chunk 3\n",
        "      if tok.dep_.find(\"subj\") == True:\n",
        "        ent1 = modifier +\" \"+ prefix + \" \"+ tok.text\n",
        "        prefix = \"\"\n",
        "        modifier = \"\"\n",
        "        prv_tok_dep = \"\"\n",
        "        prv_tok_text = \"\"      \n",
        "\n",
        "      ## chunk 4\n",
        "      if tok.dep_.find(\"obj\") == True:\n",
        "        ent2 = modifier +\" \"+ prefix +\" \"+ tok.text\n",
        "        \n",
        "      ## chunk 5  \n",
        "      # update variables\n",
        "      prv_tok_dep = tok.dep_\n",
        "      prv_tok_text = tok.text\n",
        "      \n",
        "   #############################################################\n",
        "\n",
        "  return [ent1.strip(), ent2.strip()]"
      ],
      "metadata": {
        "id": "My45K7LiUfvQ"
      },
      "execution_count": 130,
      "outputs": []
    },
    {
      "cell_type": "code",
      "source": [
        "get_entities(\"Ukraine hits Russian Wagner mercenary HQ in east.\")"
      ],
      "metadata": {
        "colab": {
          "base_uri": "https://localhost:8080/"
        },
        "id": "18b8cAnLVHl4",
        "outputId": "4181e867-d2c6-49c1-88bd-53530ba7edae"
      },
      "execution_count": 131,
      "outputs": [
        {
          "output_type": "execute_result",
          "data": {
            "text/plain": [
              "['Ukraine', 'mercenary  east']"
            ]
          },
          "metadata": {},
          "execution_count": 131
        }
      ]
    },
    {
      "cell_type": "code",
      "source": [
        "entity_pairs = []"
      ],
      "metadata": {
        "id": "5HNVMCmLVHpQ"
      },
      "execution_count": 140,
      "outputs": []
    },
    {
      "cell_type": "code",
      "source": [
        "entity_pairs[10:20]"
      ],
      "metadata": {
        "colab": {
          "base_uri": "https://localhost:8080/"
        },
        "id": "xcPOnyWwVO-h",
        "outputId": "c933dec5-683a-4504-e016-c07d50d8e414"
      },
      "execution_count": 141,
      "outputs": [
        {
          "output_type": "execute_result",
          "data": {
            "text/plain": [
              "[]"
            ]
          },
          "metadata": {},
          "execution_count": 141
        }
      ]
    },
    {
      "cell_type": "code",
      "source": [
        "entity_pairs"
      ],
      "metadata": {
        "colab": {
          "base_uri": "https://localhost:8080/"
        },
        "id": "QveoPU3Ela1V",
        "outputId": "ada680b4-0133-41c3-dd15-8b8bd1153e26"
      },
      "execution_count": 142,
      "outputs": [
        {
          "output_type": "execute_result",
          "data": {
            "text/plain": [
              "[]"
            ]
          },
          "metadata": {},
          "execution_count": 142
        }
      ]
    },
    {
      "cell_type": "code",
      "source": [
        "def get_relation(sent):\n",
        "\n",
        "  doc = nlp(sent)\n",
        "\n",
        "  # Matcher class object \n",
        "  matcher = Matcher(nlp.vocab)\n",
        "\n",
        "  #define the pattern \n",
        "  pattern = [{'DEP':'ROOT'}, \n",
        "            {'DEP':'prep','OP':\"?\"},\n",
        "            {'DEP':'agent','OP':\"?\"},  \n",
        "            {'POS':'ADJ','OP':\"?\"}] \n",
        "\n",
        "  matcher.add(\"matching_1\", [pattern], on_match=None) \n",
        "\n",
        "  matches = matcher(doc)\n",
        "  k = len(matches) - 1\n",
        "\n",
        "  span = doc[matches[k][1]:matches[k][2]] \n",
        "\n",
        "  return(span.text)"
      ],
      "metadata": {
        "id": "B2S0EqNrVPB2"
      },
      "execution_count": 143,
      "outputs": []
    },
    {
      "cell_type": "code",
      "source": [
        "# verb\n",
        "get_relation(\"Ukraine hits Russian Wagner mercenary HQ in east.\")"
      ],
      "metadata": {
        "colab": {
          "base_uri": "https://localhost:8080/",
          "height": 37
        },
        "id": "s1CsfyF2VPFG",
        "outputId": "bb8025b5-d1f1-4a67-e96d-4dda9decf789"
      },
      "execution_count": 144,
      "outputs": [
        {
          "output_type": "execute_result",
          "data": {
            "text/plain": [
              "'hits Russian'"
            ],
            "application/vnd.google.colaboratory.intrinsic+json": {
              "type": "string"
            }
          },
          "metadata": {},
          "execution_count": 144
        }
      ]
    },
    {
      "cell_type": "code",
      "source": [
        "# the column name is 0\n",
        "relations = [get_relation(i) for i in tqdm(headlines['0'])]"
      ],
      "metadata": {
        "colab": {
          "base_uri": "https://localhost:8080/"
        },
        "id": "oKX7yG5qVZP2",
        "outputId": "2e145167-6787-4e80-d63f-35469effed67"
      },
      "execution_count": 145,
      "outputs": [
        {
          "output_type": "stream",
          "name": "stderr",
          "text": [
            "100%|██████████| 47/47 [00:00<00:00, 102.61it/s]\n"
          ]
        }
      ]
    },
    {
      "cell_type": "code",
      "source": [
        "entity_pairs = []\n",
        "\n",
        "for i in tqdm(headlines[\"0\"]):\n",
        "  entity_pairs.append(get_entities(i))"
      ],
      "metadata": {
        "colab": {
          "base_uri": "https://localhost:8080/"
        },
        "id": "bps69UjUq9Tw",
        "outputId": "f628ad8e-6b80-4783-cc92-e187a29d2ec9"
      },
      "execution_count": 146,
      "outputs": [
        {
          "output_type": "stream",
          "name": "stderr",
          "text": [
            "100%|██████████| 47/47 [00:00<00:00, 113.27it/s]\n"
          ]
        }
      ]
    },
    {
      "cell_type": "code",
      "source": [
        "# revise new entity pairs\n",
        "entity_pairs[10:20]"
      ],
      "metadata": {
        "colab": {
          "base_uri": "https://localhost:8080/"
        },
        "id": "4JDBlngglLYg",
        "outputId": "499dd40a-6ff2-44ac-8f2c-f0b47d8e168c"
      },
      "execution_count": 147,
      "outputs": [
        {
          "output_type": "execute_result",
          "data": {
            "text/plain": [
              "[['', 'dual strain Covid jab'],\n",
              " ['', 'Covid Remote Pacific outbreak'],\n",
              " ['', 'dual strain Covid jab'],\n",
              " ['', 'Covid Remote Pacific outbreak'],\n",
              " ['We', 'who church fire survivor'],\n",
              " ['predator  jury', 'predator  Mendy'],\n",
              " ['why  Tuchel', 'red'],\n",
              " ['', ''],\n",
              " ['Afghan  leaders', 'Taliban rule'],\n",
              " ['We', 'Olympic  dream']]"
            ]
          },
          "metadata": {},
          "execution_count": 147
        }
      ]
    },
    {
      "cell_type": "code",
      "source": [
        "# verb count\n",
        "pd.Series(relations).value_counts()[:50]"
      ],
      "metadata": {
        "colab": {
          "base_uri": "https://localhost:8080/"
        },
        "id": "uz-x-HO5VZXk",
        "outputId": "452e5786-a31d-4e77-d3ac-1431d531b76b"
      },
      "execution_count": 151,
      "outputs": [
        {
          "output_type": "execute_result",
          "data": {
            "text/plain": [
              "feel              2\n",
              "country           2\n",
              "nation            2\n",
              "performers        1\n",
              "genius            1\n",
              "Ibiza             1\n",
              "above             1\n",
              "heard             1\n",
              "tech              1\n",
              "partitioned       1\n",
              "haunts black      1\n",
              "story             1\n",
              "end of            1\n",
              "animals           1\n",
              "politician        1\n",
              "homes of          1\n",
              "novel of          1\n",
              "way               1\n",
              "problem for       1\n",
              "town              1\n",
              "newsletter        1\n",
              "app               1\n",
              "rocks             1\n",
              "defiant           1\n",
              "wins              1\n",
              "Radio             1\n",
              "Doucet            1\n",
              "blames            1\n",
              "flee              1\n",
              "hits Russian      1\n",
              "quits social      1\n",
              "weird             1\n",
              "switched          1\n",
              "saved             1\n",
              "told              1\n",
              "saw red           1\n",
              "promises          1\n",
              "mark              1\n",
              "fled              1\n",
              "librarian         1\n",
              "working behind    1\n",
              "wiped             1\n",
              "TV                1\n",
              "Get in            1\n",
              "dtype: int64"
            ]
          },
          "metadata": {},
          "execution_count": 151
        }
      ]
    },
    {
      "cell_type": "code",
      "source": [
        "import nltk "
      ],
      "metadata": {
        "id": "IXR3umZKCO2x"
      },
      "execution_count": 152,
      "outputs": []
    },
    {
      "cell_type": "code",
      "source": [
        "nltk.download('punkt')"
      ],
      "metadata": {
        "colab": {
          "base_uri": "https://localhost:8080/"
        },
        "id": "t6Dj0d2hB90s",
        "outputId": "6e791431-e3f0-4c3e-c763-74a529e51d33"
      },
      "execution_count": 153,
      "outputs": [
        {
          "output_type": "stream",
          "name": "stderr",
          "text": [
            "[nltk_data] Downloading package punkt to /root/nltk_data...\n",
            "[nltk_data]   Package punkt is already up-to-date!\n"
          ]
        },
        {
          "output_type": "execute_result",
          "data": {
            "text/plain": [
              "True"
            ]
          },
          "metadata": {},
          "execution_count": 153
        }
      ]
    },
    {
      "cell_type": "code",
      "source": [
        "stories_list"
      ],
      "metadata": {
        "colab": {
          "base_uri": "https://localhost:8080/"
        },
        "id": "PJB7GKotEauY",
        "outputId": "b360589b-c886-45b6-e8c9-c8a1e3c4e23f"
      },
      "execution_count": 154,
      "outputs": [
        {
          "output_type": "execute_result",
          "data": {
            "text/plain": [
              "['Do Afghans feel differently about the Taliban now?',\n",
              " 'Do Afghans feel differently about the Taliban now?',\n",
              " 'William Ruto wins Kenya election amid drama',\n",
              " 'Lyse Doucet: From Kabul and beyond, a year of Taliban rule',\n",
              " 'Iran blames Rushdie and supporters for stabbing',\n",
              " 'Shanghai Ikea shoppers flee Covid lockdown attempt',\n",
              " 'Ukraine hits Russian Wagner mercenary HQ in east',\n",
              " 'Tom Holland quits social media for mental health',\n",
              " \"'Just weird': Ex-Australian PM held 'secret roles'\",\n",
              " 'Heche organs donated as life support switched off',\n",
              " 'UK first country to approve dual-strain Covid jab',\n",
              " 'Remote Pacific nation hit by first Covid outbreak',\n",
              " 'UK first country to approve dual-strain Covid jab',\n",
              " 'Remote Pacific nation hit by first Covid outbreak',\n",
              " 'We saved who we could - Egypt church fire survivor',\n",
              " \"Women 'disposable' to 'predator' Mendy, jury told\",\n",
              " \"'Match sucked me in' - why Tuchel & Conte saw red\",\n",
              " \"The Taliban's broken promises\",\n",
              " 'Former Afghan leaders mark year of Taliban rule',\n",
              " 'We fled the Taliban for our Olympic dream',\n",
              " 'The librarian who defied the Taliban',\n",
              " 'The Taliban sniper now working behind a desk',\n",
              " 'How 40 million Australian mangroves were wiped out',\n",
              " 'BBC World News TV',\n",
              " 'BBC World Service Radio',\n",
              " 'New York governor defiant after Rushdie attack',\n",
              " 'History-making 24-year-old Kenyan politician',\n",
              " 'Fireworks explosion rocks Armenia shopping market',\n",
              " \"The musical genius you've probably never heard of\",\n",
              " \"Ibiza: The birth of the 'party island'\",\n",
              " 'Forty metres above the forest, searching for smoke',\n",
              " \"The DIY tech that made Gandhi's voice heard\",\n",
              " 'The tech aiming to prevent lost airline luggage',\n",
              " 'Why was British India partitioned 75 years ago?',\n",
              " 'How racism haunts black people in Italy',\n",
              " 'The humiliating story that made me a break-up coach',\n",
              " 'The Fringe performers camping to save money',\n",
              " 'The animals who survived the apocalypse',\n",
              " 'The end of the layoff taboo',\n",
              " 'The floating homes of Lake Titicaca',\n",
              " 'The greatest novel of the 20th Century?',\n",
              " 'The most sustainable way to eat fish',\n",
              " \"The new problem for 'overthinkers'\",\n",
              " 'A Spanish town abandoned by mistake',\n",
              " 'News daily newsletter',\n",
              " 'Mobile app',\n",
              " 'Get in touch']"
            ]
          },
          "metadata": {},
          "execution_count": 154
        }
      ]
    },
    {
      "cell_type": "code",
      "source": [
        "textsample =\"Ukraine hits Russian Wagner mercenary HQ in east.\"  \n",
        "\n",
        "sentences = nltk.sent_tokenize(textsample)  \n",
        "words = nltk.word_tokenize(textsample)  \n",
        "sentences \n",
        "[w for w in words if w.isalpha()]"
      ],
      "metadata": {
        "id": "t6MFAiqPcph6",
        "colab": {
          "base_uri": "https://localhost:8080/"
        },
        "outputId": "eafa00b5-7a52-45f0-c856-4675b840bf93"
      },
      "execution_count": 155,
      "outputs": [
        {
          "output_type": "execute_result",
          "data": {
            "text/plain": [
              "['Ukraine', 'hits', 'Russian', 'Wagner', 'mercenary', 'HQ', 'in', 'east']"
            ]
          },
          "metadata": {},
          "execution_count": 155
        }
      ]
    },
    {
      "cell_type": "code",
      "source": [
        "sentences"
      ],
      "metadata": {
        "colab": {
          "base_uri": "https://localhost:8080/"
        },
        "id": "X1hiDKmPtTc-",
        "outputId": "336a2853-99b3-4f1d-8821-405ced09382a"
      },
      "execution_count": 156,
      "outputs": [
        {
          "output_type": "execute_result",
          "data": {
            "text/plain": [
              "['Ukraine hits Russian Wagner mercenary HQ in east.']"
            ]
          },
          "metadata": {},
          "execution_count": 156
        }
      ]
    },
    {
      "cell_type": "code",
      "source": [
        "# extract subject\n",
        "source = [i[0] for i in entity_pairs]\n",
        "# extract object\n",
        "target = [i[1] for i in entity_pairs]\n",
        "\n",
        "kg_df = pd.DataFrame({'source':source, 'target':target, 'edge':relations})"
      ],
      "metadata": {
        "id": "J6ObAhzoVZa1"
      },
      "execution_count": 157,
      "outputs": []
    },
    {
      "cell_type": "code",
      "source": [
        "kg_df.head(5)"
      ],
      "metadata": {
        "id": "NRW9XIlHtiYa",
        "colab": {
          "base_uri": "https://localhost:8080/",
          "height": 204
        },
        "outputId": "2651b13e-4814-40fc-9eec-656102b8f9a1"
      },
      "execution_count": 158,
      "outputs": [
        {
          "output_type": "execute_result",
          "data": {
            "text/plain": [
              "         source                target    edge\n",
              "0       Afghans  differently  Taliban    feel\n",
              "1       Afghans  differently  Taliban    feel\n",
              "2  William Ruto           Kenya drama    wins\n",
              "3                        Taliban rule  Doucet\n",
              "4          Iran               Rushdie  blames"
            ],
            "text/html": [
              "\n",
              "  <div id=\"df-ad9a73a9-5003-48cc-bb93-9aa5a87ef39b\">\n",
              "    <div class=\"colab-df-container\">\n",
              "      <div>\n",
              "<style scoped>\n",
              "    .dataframe tbody tr th:only-of-type {\n",
              "        vertical-align: middle;\n",
              "    }\n",
              "\n",
              "    .dataframe tbody tr th {\n",
              "        vertical-align: top;\n",
              "    }\n",
              "\n",
              "    .dataframe thead th {\n",
              "        text-align: right;\n",
              "    }\n",
              "</style>\n",
              "<table border=\"1\" class=\"dataframe\">\n",
              "  <thead>\n",
              "    <tr style=\"text-align: right;\">\n",
              "      <th></th>\n",
              "      <th>source</th>\n",
              "      <th>target</th>\n",
              "      <th>edge</th>\n",
              "    </tr>\n",
              "  </thead>\n",
              "  <tbody>\n",
              "    <tr>\n",
              "      <th>0</th>\n",
              "      <td>Afghans</td>\n",
              "      <td>differently  Taliban</td>\n",
              "      <td>feel</td>\n",
              "    </tr>\n",
              "    <tr>\n",
              "      <th>1</th>\n",
              "      <td>Afghans</td>\n",
              "      <td>differently  Taliban</td>\n",
              "      <td>feel</td>\n",
              "    </tr>\n",
              "    <tr>\n",
              "      <th>2</th>\n",
              "      <td>William Ruto</td>\n",
              "      <td>Kenya drama</td>\n",
              "      <td>wins</td>\n",
              "    </tr>\n",
              "    <tr>\n",
              "      <th>3</th>\n",
              "      <td></td>\n",
              "      <td>Taliban rule</td>\n",
              "      <td>Doucet</td>\n",
              "    </tr>\n",
              "    <tr>\n",
              "      <th>4</th>\n",
              "      <td>Iran</td>\n",
              "      <td>Rushdie</td>\n",
              "      <td>blames</td>\n",
              "    </tr>\n",
              "  </tbody>\n",
              "</table>\n",
              "</div>\n",
              "      <button class=\"colab-df-convert\" onclick=\"convertToInteractive('df-ad9a73a9-5003-48cc-bb93-9aa5a87ef39b')\"\n",
              "              title=\"Convert this dataframe to an interactive table.\"\n",
              "              style=\"display:none;\">\n",
              "        \n",
              "  <svg xmlns=\"http://www.w3.org/2000/svg\" height=\"24px\"viewBox=\"0 0 24 24\"\n",
              "       width=\"24px\">\n",
              "    <path d=\"M0 0h24v24H0V0z\" fill=\"none\"/>\n",
              "    <path d=\"M18.56 5.44l.94 2.06.94-2.06 2.06-.94-2.06-.94-.94-2.06-.94 2.06-2.06.94zm-11 1L8.5 8.5l.94-2.06 2.06-.94-2.06-.94L8.5 2.5l-.94 2.06-2.06.94zm10 10l.94 2.06.94-2.06 2.06-.94-2.06-.94-.94-2.06-.94 2.06-2.06.94z\"/><path d=\"M17.41 7.96l-1.37-1.37c-.4-.4-.92-.59-1.43-.59-.52 0-1.04.2-1.43.59L10.3 9.45l-7.72 7.72c-.78.78-.78 2.05 0 2.83L4 21.41c.39.39.9.59 1.41.59.51 0 1.02-.2 1.41-.59l7.78-7.78 2.81-2.81c.8-.78.8-2.07 0-2.86zM5.41 20L4 18.59l7.72-7.72 1.47 1.35L5.41 20z\"/>\n",
              "  </svg>\n",
              "      </button>\n",
              "      \n",
              "  <style>\n",
              "    .colab-df-container {\n",
              "      display:flex;\n",
              "      flex-wrap:wrap;\n",
              "      gap: 12px;\n",
              "    }\n",
              "\n",
              "    .colab-df-convert {\n",
              "      background-color: #E8F0FE;\n",
              "      border: none;\n",
              "      border-radius: 50%;\n",
              "      cursor: pointer;\n",
              "      display: none;\n",
              "      fill: #1967D2;\n",
              "      height: 32px;\n",
              "      padding: 0 0 0 0;\n",
              "      width: 32px;\n",
              "    }\n",
              "\n",
              "    .colab-df-convert:hover {\n",
              "      background-color: #E2EBFA;\n",
              "      box-shadow: 0px 1px 2px rgba(60, 64, 67, 0.3), 0px 1px 3px 1px rgba(60, 64, 67, 0.15);\n",
              "      fill: #174EA6;\n",
              "    }\n",
              "\n",
              "    [theme=dark] .colab-df-convert {\n",
              "      background-color: #3B4455;\n",
              "      fill: #D2E3FC;\n",
              "    }\n",
              "\n",
              "    [theme=dark] .colab-df-convert:hover {\n",
              "      background-color: #434B5C;\n",
              "      box-shadow: 0px 1px 3px 1px rgba(0, 0, 0, 0.15);\n",
              "      filter: drop-shadow(0px 1px 2px rgba(0, 0, 0, 0.3));\n",
              "      fill: #FFFFFF;\n",
              "    }\n",
              "  </style>\n",
              "\n",
              "      <script>\n",
              "        const buttonEl =\n",
              "          document.querySelector('#df-ad9a73a9-5003-48cc-bb93-9aa5a87ef39b button.colab-df-convert');\n",
              "        buttonEl.style.display =\n",
              "          google.colab.kernel.accessAllowed ? 'block' : 'none';\n",
              "\n",
              "        async function convertToInteractive(key) {\n",
              "          const element = document.querySelector('#df-ad9a73a9-5003-48cc-bb93-9aa5a87ef39b');\n",
              "          const dataTable =\n",
              "            await google.colab.kernel.invokeFunction('convertToInteractive',\n",
              "                                                     [key], {});\n",
              "          if (!dataTable) return;\n",
              "\n",
              "          const docLinkHtml = 'Like what you see? Visit the ' +\n",
              "            '<a target=\"_blank\" href=https://colab.research.google.com/notebooks/data_table.ipynb>data table notebook</a>'\n",
              "            + ' to learn more about interactive tables.';\n",
              "          element.innerHTML = '';\n",
              "          dataTable['output_type'] = 'display_data';\n",
              "          await google.colab.output.renderOutput(dataTable, element);\n",
              "          const docLink = document.createElement('div');\n",
              "          docLink.innerHTML = docLinkHtml;\n",
              "          element.appendChild(docLink);\n",
              "        }\n",
              "      </script>\n",
              "    </div>\n",
              "  </div>\n",
              "  "
            ]
          },
          "metadata": {},
          "execution_count": 158
        }
      ]
    },
    {
      "cell_type": "code",
      "source": [
        "kg_df"
      ],
      "metadata": {
        "id": "bOJdzRhgtiMT",
        "colab": {
          "base_uri": "https://localhost:8080/",
          "height": 1000
        },
        "outputId": "ceb05ea8-29bd-4138-ba32-eeebae2f85cb"
      },
      "execution_count": 159,
      "outputs": [
        {
          "output_type": "execute_result",
          "data": {
            "text/plain": [
              "                     source                         target            edge\n",
              "0                   Afghans           differently  Taliban            feel\n",
              "1                   Afghans           differently  Taliban            feel\n",
              "2              William Ruto                    Kenya drama            wins\n",
              "3                                             Taliban rule          Doucet\n",
              "4                      Iran                        Rushdie          blames\n",
              "5    Shanghai Ikea shoppers         Covid lockdown attempt            flee\n",
              "6                   Ukraine                mercenary  east    hits Russian\n",
              "7               Tom Holland                 mental  health    quits social\n",
              "8          Australian Ex PM                  secret  roles           weird\n",
              "9              Heche organs                   life support        switched\n",
              "10                                   dual strain Covid jab         country\n",
              "11                           Covid Remote Pacific outbreak          nation\n",
              "12                                   dual strain Covid jab         country\n",
              "13                           Covid Remote Pacific outbreak          nation\n",
              "14                       We       who church fire survivor           saved\n",
              "15           predator  jury                predator  Mendy            told\n",
              "16              why  Tuchel                            red         saw red\n",
              "17                                                                promises\n",
              "18          Afghan  leaders                   Taliban rule            mark\n",
              "19                       We                 Olympic  dream            fled\n",
              "20                      who                        Taliban       librarian\n",
              "21           Taliban sniper                      now  desk  working behind\n",
              "22  Australian 40 mangroves                                          wiped\n",
              "23                                                                      TV\n",
              "24                                                                   Radio\n",
              "25        New York governor                                        defiant\n",
              "26                                                              politician\n",
              "27      Fireworks explosion        Armenia shopping market           rocks\n",
              "28             musical  you                                         genius\n",
              "29                                            party island           Ibiza\n",
              "30                                           metres  smoke           above\n",
              "31                    voice                                          heard\n",
              "32                                    lost airline luggage            tech\n",
              "33        Why British India                                    partitioned\n",
              "34              How  racism                   black  Italy    haunts black\n",
              "35                       me                                          story\n",
              "36                   Fringe                          money      performers\n",
              "37                      who                     apocalypse         animals\n",
              "38                                            layoff taboo          end of\n",
              "39                                  floating Lake Titicaca        homes of\n",
              "40                                           20th  Century        novel of\n",
              "41                                       sustainable  fish             way\n",
              "42                                       new  overthinkers     problem for\n",
              "43                                        Spanish  mistake            town\n",
              "44                                                              newsletter\n",
              "45                                                                     app\n",
              "46                                                   touch          Get in"
            ],
            "text/html": [
              "\n",
              "  <div id=\"df-d1aa13ef-133c-4d57-8bfa-5f58907c4663\">\n",
              "    <div class=\"colab-df-container\">\n",
              "      <div>\n",
              "<style scoped>\n",
              "    .dataframe tbody tr th:only-of-type {\n",
              "        vertical-align: middle;\n",
              "    }\n",
              "\n",
              "    .dataframe tbody tr th {\n",
              "        vertical-align: top;\n",
              "    }\n",
              "\n",
              "    .dataframe thead th {\n",
              "        text-align: right;\n",
              "    }\n",
              "</style>\n",
              "<table border=\"1\" class=\"dataframe\">\n",
              "  <thead>\n",
              "    <tr style=\"text-align: right;\">\n",
              "      <th></th>\n",
              "      <th>source</th>\n",
              "      <th>target</th>\n",
              "      <th>edge</th>\n",
              "    </tr>\n",
              "  </thead>\n",
              "  <tbody>\n",
              "    <tr>\n",
              "      <th>0</th>\n",
              "      <td>Afghans</td>\n",
              "      <td>differently  Taliban</td>\n",
              "      <td>feel</td>\n",
              "    </tr>\n",
              "    <tr>\n",
              "      <th>1</th>\n",
              "      <td>Afghans</td>\n",
              "      <td>differently  Taliban</td>\n",
              "      <td>feel</td>\n",
              "    </tr>\n",
              "    <tr>\n",
              "      <th>2</th>\n",
              "      <td>William Ruto</td>\n",
              "      <td>Kenya drama</td>\n",
              "      <td>wins</td>\n",
              "    </tr>\n",
              "    <tr>\n",
              "      <th>3</th>\n",
              "      <td></td>\n",
              "      <td>Taliban rule</td>\n",
              "      <td>Doucet</td>\n",
              "    </tr>\n",
              "    <tr>\n",
              "      <th>4</th>\n",
              "      <td>Iran</td>\n",
              "      <td>Rushdie</td>\n",
              "      <td>blames</td>\n",
              "    </tr>\n",
              "    <tr>\n",
              "      <th>5</th>\n",
              "      <td>Shanghai Ikea shoppers</td>\n",
              "      <td>Covid lockdown attempt</td>\n",
              "      <td>flee</td>\n",
              "    </tr>\n",
              "    <tr>\n",
              "      <th>6</th>\n",
              "      <td>Ukraine</td>\n",
              "      <td>mercenary  east</td>\n",
              "      <td>hits Russian</td>\n",
              "    </tr>\n",
              "    <tr>\n",
              "      <th>7</th>\n",
              "      <td>Tom Holland</td>\n",
              "      <td>mental  health</td>\n",
              "      <td>quits social</td>\n",
              "    </tr>\n",
              "    <tr>\n",
              "      <th>8</th>\n",
              "      <td>Australian Ex PM</td>\n",
              "      <td>secret  roles</td>\n",
              "      <td>weird</td>\n",
              "    </tr>\n",
              "    <tr>\n",
              "      <th>9</th>\n",
              "      <td>Heche organs</td>\n",
              "      <td>life support</td>\n",
              "      <td>switched</td>\n",
              "    </tr>\n",
              "    <tr>\n",
              "      <th>10</th>\n",
              "      <td></td>\n",
              "      <td>dual strain Covid jab</td>\n",
              "      <td>country</td>\n",
              "    </tr>\n",
              "    <tr>\n",
              "      <th>11</th>\n",
              "      <td></td>\n",
              "      <td>Covid Remote Pacific outbreak</td>\n",
              "      <td>nation</td>\n",
              "    </tr>\n",
              "    <tr>\n",
              "      <th>12</th>\n",
              "      <td></td>\n",
              "      <td>dual strain Covid jab</td>\n",
              "      <td>country</td>\n",
              "    </tr>\n",
              "    <tr>\n",
              "      <th>13</th>\n",
              "      <td></td>\n",
              "      <td>Covid Remote Pacific outbreak</td>\n",
              "      <td>nation</td>\n",
              "    </tr>\n",
              "    <tr>\n",
              "      <th>14</th>\n",
              "      <td>We</td>\n",
              "      <td>who church fire survivor</td>\n",
              "      <td>saved</td>\n",
              "    </tr>\n",
              "    <tr>\n",
              "      <th>15</th>\n",
              "      <td>predator  jury</td>\n",
              "      <td>predator  Mendy</td>\n",
              "      <td>told</td>\n",
              "    </tr>\n",
              "    <tr>\n",
              "      <th>16</th>\n",
              "      <td>why  Tuchel</td>\n",
              "      <td>red</td>\n",
              "      <td>saw red</td>\n",
              "    </tr>\n",
              "    <tr>\n",
              "      <th>17</th>\n",
              "      <td></td>\n",
              "      <td></td>\n",
              "      <td>promises</td>\n",
              "    </tr>\n",
              "    <tr>\n",
              "      <th>18</th>\n",
              "      <td>Afghan  leaders</td>\n",
              "      <td>Taliban rule</td>\n",
              "      <td>mark</td>\n",
              "    </tr>\n",
              "    <tr>\n",
              "      <th>19</th>\n",
              "      <td>We</td>\n",
              "      <td>Olympic  dream</td>\n",
              "      <td>fled</td>\n",
              "    </tr>\n",
              "    <tr>\n",
              "      <th>20</th>\n",
              "      <td>who</td>\n",
              "      <td>Taliban</td>\n",
              "      <td>librarian</td>\n",
              "    </tr>\n",
              "    <tr>\n",
              "      <th>21</th>\n",
              "      <td>Taliban sniper</td>\n",
              "      <td>now  desk</td>\n",
              "      <td>working behind</td>\n",
              "    </tr>\n",
              "    <tr>\n",
              "      <th>22</th>\n",
              "      <td>Australian 40 mangroves</td>\n",
              "      <td></td>\n",
              "      <td>wiped</td>\n",
              "    </tr>\n",
              "    <tr>\n",
              "      <th>23</th>\n",
              "      <td></td>\n",
              "      <td></td>\n",
              "      <td>TV</td>\n",
              "    </tr>\n",
              "    <tr>\n",
              "      <th>24</th>\n",
              "      <td></td>\n",
              "      <td></td>\n",
              "      <td>Radio</td>\n",
              "    </tr>\n",
              "    <tr>\n",
              "      <th>25</th>\n",
              "      <td>New York governor</td>\n",
              "      <td></td>\n",
              "      <td>defiant</td>\n",
              "    </tr>\n",
              "    <tr>\n",
              "      <th>26</th>\n",
              "      <td></td>\n",
              "      <td></td>\n",
              "      <td>politician</td>\n",
              "    </tr>\n",
              "    <tr>\n",
              "      <th>27</th>\n",
              "      <td>Fireworks explosion</td>\n",
              "      <td>Armenia shopping market</td>\n",
              "      <td>rocks</td>\n",
              "    </tr>\n",
              "    <tr>\n",
              "      <th>28</th>\n",
              "      <td>musical  you</td>\n",
              "      <td></td>\n",
              "      <td>genius</td>\n",
              "    </tr>\n",
              "    <tr>\n",
              "      <th>29</th>\n",
              "      <td></td>\n",
              "      <td>party island</td>\n",
              "      <td>Ibiza</td>\n",
              "    </tr>\n",
              "    <tr>\n",
              "      <th>30</th>\n",
              "      <td></td>\n",
              "      <td>metres  smoke</td>\n",
              "      <td>above</td>\n",
              "    </tr>\n",
              "    <tr>\n",
              "      <th>31</th>\n",
              "      <td>voice</td>\n",
              "      <td></td>\n",
              "      <td>heard</td>\n",
              "    </tr>\n",
              "    <tr>\n",
              "      <th>32</th>\n",
              "      <td></td>\n",
              "      <td>lost airline luggage</td>\n",
              "      <td>tech</td>\n",
              "    </tr>\n",
              "    <tr>\n",
              "      <th>33</th>\n",
              "      <td>Why British India</td>\n",
              "      <td></td>\n",
              "      <td>partitioned</td>\n",
              "    </tr>\n",
              "    <tr>\n",
              "      <th>34</th>\n",
              "      <td>How  racism</td>\n",
              "      <td>black  Italy</td>\n",
              "      <td>haunts black</td>\n",
              "    </tr>\n",
              "    <tr>\n",
              "      <th>35</th>\n",
              "      <td>me</td>\n",
              "      <td></td>\n",
              "      <td>story</td>\n",
              "    </tr>\n",
              "    <tr>\n",
              "      <th>36</th>\n",
              "      <td>Fringe</td>\n",
              "      <td>money</td>\n",
              "      <td>performers</td>\n",
              "    </tr>\n",
              "    <tr>\n",
              "      <th>37</th>\n",
              "      <td>who</td>\n",
              "      <td>apocalypse</td>\n",
              "      <td>animals</td>\n",
              "    </tr>\n",
              "    <tr>\n",
              "      <th>38</th>\n",
              "      <td></td>\n",
              "      <td>layoff taboo</td>\n",
              "      <td>end of</td>\n",
              "    </tr>\n",
              "    <tr>\n",
              "      <th>39</th>\n",
              "      <td></td>\n",
              "      <td>floating Lake Titicaca</td>\n",
              "      <td>homes of</td>\n",
              "    </tr>\n",
              "    <tr>\n",
              "      <th>40</th>\n",
              "      <td></td>\n",
              "      <td>20th  Century</td>\n",
              "      <td>novel of</td>\n",
              "    </tr>\n",
              "    <tr>\n",
              "      <th>41</th>\n",
              "      <td></td>\n",
              "      <td>sustainable  fish</td>\n",
              "      <td>way</td>\n",
              "    </tr>\n",
              "    <tr>\n",
              "      <th>42</th>\n",
              "      <td></td>\n",
              "      <td>new  overthinkers</td>\n",
              "      <td>problem for</td>\n",
              "    </tr>\n",
              "    <tr>\n",
              "      <th>43</th>\n",
              "      <td></td>\n",
              "      <td>Spanish  mistake</td>\n",
              "      <td>town</td>\n",
              "    </tr>\n",
              "    <tr>\n",
              "      <th>44</th>\n",
              "      <td></td>\n",
              "      <td></td>\n",
              "      <td>newsletter</td>\n",
              "    </tr>\n",
              "    <tr>\n",
              "      <th>45</th>\n",
              "      <td></td>\n",
              "      <td></td>\n",
              "      <td>app</td>\n",
              "    </tr>\n",
              "    <tr>\n",
              "      <th>46</th>\n",
              "      <td></td>\n",
              "      <td>touch</td>\n",
              "      <td>Get in</td>\n",
              "    </tr>\n",
              "  </tbody>\n",
              "</table>\n",
              "</div>\n",
              "      <button class=\"colab-df-convert\" onclick=\"convertToInteractive('df-d1aa13ef-133c-4d57-8bfa-5f58907c4663')\"\n",
              "              title=\"Convert this dataframe to an interactive table.\"\n",
              "              style=\"display:none;\">\n",
              "        \n",
              "  <svg xmlns=\"http://www.w3.org/2000/svg\" height=\"24px\"viewBox=\"0 0 24 24\"\n",
              "       width=\"24px\">\n",
              "    <path d=\"M0 0h24v24H0V0z\" fill=\"none\"/>\n",
              "    <path d=\"M18.56 5.44l.94 2.06.94-2.06 2.06-.94-2.06-.94-.94-2.06-.94 2.06-2.06.94zm-11 1L8.5 8.5l.94-2.06 2.06-.94-2.06-.94L8.5 2.5l-.94 2.06-2.06.94zm10 10l.94 2.06.94-2.06 2.06-.94-2.06-.94-.94-2.06-.94 2.06-2.06.94z\"/><path d=\"M17.41 7.96l-1.37-1.37c-.4-.4-.92-.59-1.43-.59-.52 0-1.04.2-1.43.59L10.3 9.45l-7.72 7.72c-.78.78-.78 2.05 0 2.83L4 21.41c.39.39.9.59 1.41.59.51 0 1.02-.2 1.41-.59l7.78-7.78 2.81-2.81c.8-.78.8-2.07 0-2.86zM5.41 20L4 18.59l7.72-7.72 1.47 1.35L5.41 20z\"/>\n",
              "  </svg>\n",
              "      </button>\n",
              "      \n",
              "  <style>\n",
              "    .colab-df-container {\n",
              "      display:flex;\n",
              "      flex-wrap:wrap;\n",
              "      gap: 12px;\n",
              "    }\n",
              "\n",
              "    .colab-df-convert {\n",
              "      background-color: #E8F0FE;\n",
              "      border: none;\n",
              "      border-radius: 50%;\n",
              "      cursor: pointer;\n",
              "      display: none;\n",
              "      fill: #1967D2;\n",
              "      height: 32px;\n",
              "      padding: 0 0 0 0;\n",
              "      width: 32px;\n",
              "    }\n",
              "\n",
              "    .colab-df-convert:hover {\n",
              "      background-color: #E2EBFA;\n",
              "      box-shadow: 0px 1px 2px rgba(60, 64, 67, 0.3), 0px 1px 3px 1px rgba(60, 64, 67, 0.15);\n",
              "      fill: #174EA6;\n",
              "    }\n",
              "\n",
              "    [theme=dark] .colab-df-convert {\n",
              "      background-color: #3B4455;\n",
              "      fill: #D2E3FC;\n",
              "    }\n",
              "\n",
              "    [theme=dark] .colab-df-convert:hover {\n",
              "      background-color: #434B5C;\n",
              "      box-shadow: 0px 1px 3px 1px rgba(0, 0, 0, 0.15);\n",
              "      filter: drop-shadow(0px 1px 2px rgba(0, 0, 0, 0.3));\n",
              "      fill: #FFFFFF;\n",
              "    }\n",
              "  </style>\n",
              "\n",
              "      <script>\n",
              "        const buttonEl =\n",
              "          document.querySelector('#df-d1aa13ef-133c-4d57-8bfa-5f58907c4663 button.colab-df-convert');\n",
              "        buttonEl.style.display =\n",
              "          google.colab.kernel.accessAllowed ? 'block' : 'none';\n",
              "\n",
              "        async function convertToInteractive(key) {\n",
              "          const element = document.querySelector('#df-d1aa13ef-133c-4d57-8bfa-5f58907c4663');\n",
              "          const dataTable =\n",
              "            await google.colab.kernel.invokeFunction('convertToInteractive',\n",
              "                                                     [key], {});\n",
              "          if (!dataTable) return;\n",
              "\n",
              "          const docLinkHtml = 'Like what you see? Visit the ' +\n",
              "            '<a target=\"_blank\" href=https://colab.research.google.com/notebooks/data_table.ipynb>data table notebook</a>'\n",
              "            + ' to learn more about interactive tables.';\n",
              "          element.innerHTML = '';\n",
              "          dataTable['output_type'] = 'display_data';\n",
              "          await google.colab.output.renderOutput(dataTable, element);\n",
              "          const docLink = document.createElement('div');\n",
              "          docLink.innerHTML = docLinkHtml;\n",
              "          element.appendChild(docLink);\n",
              "        }\n",
              "      </script>\n",
              "    </div>\n",
              "  </div>\n",
              "  "
            ]
          },
          "metadata": {},
          "execution_count": 159
        }
      ]
    },
    {
      "cell_type": "code",
      "source": [
        "# Make a search with the Wikipedia API"
      ],
      "metadata": {
        "id": "2RU_ioHb6pS8"
      },
      "execution_count": null,
      "outputs": []
    },
    {
      "cell_type": "code",
      "source": [
        "# create a directed-graph from a dataframe\n",
        "G=nx.from_pandas_edgelist(kg_df, \"source\", \"target\", \n",
        "                          edge_attr=True, create_using=nx.MultiDiGraph())"
      ],
      "metadata": {
        "id": "8t01CauG6qNu"
      },
      "execution_count": 160,
      "outputs": []
    },
    {
      "cell_type": "code",
      "source": [
        "plt.figure(figsize=(12,12))\n",
        "\n",
        "pos = nx.spring_layout(G)\n",
        "nx.draw(G, with_labels=True, node_color='tan', edge_cmap=plt.cm.Greys, pos = pos)\n",
        "plt.show()"
      ],
      "metadata": {
        "id": "jtUa_hf_6q6c",
        "colab": {
          "base_uri": "https://localhost:8080/",
          "height": 895
        },
        "outputId": "eb584e80-31df-4862-894b-d1cbcb0f316b"
      },
      "execution_count": 161,
      "outputs": [
        {
          "output_type": "display_data",
          "data": {
            "text/plain": [
              "<Figure size 864x864 with 1 Axes>"
            ],
            "image/png": "[encoded data removed]"
          },
          "metadata": {}
        }
      ]
    },
    {
      "cell_type": "code",
      "source": [
        "H=nx.from_pandas_edgelist(kg_df[kg_df['edge']==\"blames\"], \"source\", \"target\", \n",
        "                          edge_attr=True, create_using=nx.MultiDiGraph())\n",
        "\n",
        "plt.figure(figsize=(12,12))\n",
        "pos = nx.spring_layout(H, k = 0.9) # k regulates the distance between nodes\n",
        "nx.draw(H, with_labels=True, node_color='grey', node_size=1500, edge_cmap=plt.cm.Greys, pos = pos)\n",
        "plt.show()"
      ],
      "metadata": {
        "id": "tjNPuw7m6r5d",
        "colab": {
          "base_uri": "https://localhost:8080/",
          "height": 895
        },
        "outputId": "64ce1037-1f56-4a95-b9ce-847f0a8b094c"
      },
      "execution_count": 162,
      "outputs": [
        {
          "output_type": "display_data",
          "data": {
            "text/plain": [
              "<Figure size 864x864 with 1 Axes>"
            ],
            "image/png": "[encoded data removed]"
          },
          "metadata": {}
        }
      ]
    },
    {
      "cell_type": "code",
      "source": [
        "I=nx.from_pandas_edgelist(kg_df[kg_df['edge']==\"nation\"], \"source\", \"target\", \n",
        "                          edge_attr=True, create_using=nx.MultiDiGraph())\n",
        "\n",
        "plt.figure(figsize=(12,12))\n",
        "pos = nx.spring_layout(I, k = 0.5)\n",
        "nx.draw(I, with_labels=True, node_color='tan', node_size=1500, edge_cmap=plt.cm.Greys, pos = pos)\n",
        "plt.show()"
      ],
      "metadata": {
        "id": "Err7IgF2Vs2Q",
        "colab": {
          "base_uri": "https://localhost:8080/",
          "height": 895
        },
        "outputId": "dc6c1adb-6c29-41af-decb-c56411bc182f"
      },
      "execution_count": 163,
      "outputs": [
        {
          "output_type": "display_data",
          "data": {
            "text/plain": [
              "<Figure size 864x864 with 1 Axes>"
            ],
            "image/png": "[encoded data removed]"
          },
          "metadata": {}
        }
      ]
    },
    {
      "cell_type": "code",
      "source": [
        "G=nx.from_pandas_edgelist(kg_df[kg_df['edge']==\"pull\"], \"source\", \"target\", \n",
        "                          edge_attr=True, create_using=nx.MultiDiGraph())\n",
        "\n",
        "plt.figure(figsize=(12,12))\n",
        "pos = nx.spring_layout(G, k = 0.5)\n",
        "nx.draw(G, with_labels=True, node_color='silver', node_size=1500, edge_cmap=plt.cm.Greys, pos = pos)\n",
        "plt.show()"
      ],
      "metadata": {
        "colab": {
          "base_uri": "https://localhost:8080/",
          "height": 895
        },
        "id": "2O9wot8DVs44",
        "outputId": "90cd4b3f-3ae9-41ca-cc99-8e37f2118bef"
      },
      "execution_count": 164,
      "outputs": [
        {
          "output_type": "display_data",
          "data": {
            "text/plain": [
              "<Figure size 864x864 with 1 Axes>"
            ],
            "image/png": "[encoded data removed]"
          },
          "metadata": {}
        }
      ]
    },
    {
      "cell_type": "code",
      "source": [
        ""
      ],
      "metadata": {
        "id": "78WH8VeHDN1L"
      },
      "execution_count": null,
      "outputs": []
    },
    {
      "cell_type": "code",
      "source": [
        "nltk.download('punkt')\n",
        "text2 = \"BBC News is an operational business division of the British Broadcasting Corporation (BBC) responsible for the gathering and broadcasting of news and current affairs in the UK and around the world. The department is the world's largest broadcast news organisation and generates about 120 hours of radio and television output each day, as well as online news coverage. The service maintains 50 foreign news bureaus with more than 250 correspondents around the world. Fran Unsworth has been director of news and current affairs since January 2018. In 2019, it was reported in an Ofcom report that the BBC spent £136m on news during the period April 2018 to March 2019. BBC News domestic, global and online news divisions are housed within the largest live newsroom in Europe, in Broadcasting House in central London. Parliamentary coverage is produced and broadcast from studios in London. Through BBC English Regions, the BBC also has regional centres across England and national news centres in Northern Ireland, Scotland and Wales. All nations and English regions produce their own local news programmes and other current affairs and sport programmes.\"\n",
        "print(text2)"
      ],
      "metadata": {
        "colab": {
          "base_uri": "https://localhost:8080/"
        },
        "id": "KVLW5nx5DN5x",
        "outputId": "24623803-c247-40d9-a303-1025631c2fa0"
      },
      "execution_count": null,
      "outputs": [
        {
          "output_type": "stream",
          "name": "stdout",
          "text": [
            "BBC News is an operational business division of the British Broadcasting Corporation (BBC) responsible for the gathering and broadcasting of news and current affairs in the UK and around the world. The department is the world's largest broadcast news organisation and generates about 120 hours of radio and television output each day, as well as online news coverage. The service maintains 50 foreign news bureaus with more than 250 correspondents around the world. Fran Unsworth has been director of news and current affairs since January 2018. In 2019, it was reported in an Ofcom report that the BBC spent £136m on news during the period April 2018 to March 2019. BBC News domestic, global and online news divisions are housed within the largest live newsroom in Europe, in Broadcasting House in central London. Parliamentary coverage is produced and broadcast from studios in London. Through BBC English Regions, the BBC also has regional centres across England and national news centres in Northern Ireland, Scotland and Wales. All nations and English regions produce their own local news programmes and other current affairs and sport programmes.\n"
          ]
        },
        {
          "output_type": "stream",
          "name": "stderr",
          "text": [
            "[nltk_data] Downloading package punkt to /root/nltk_data...\n",
            "[nltk_data]   Package punkt is already up-to-date!\n"
          ]
        }
      ]
    },
    {
      "cell_type": "code",
      "source": [
        "sentences2 = nltk.sent_tokenize(text2)  \n",
        "words2 = nltk.word_tokenize(text2)  "
      ],
      "metadata": {
        "id": "sQkgNXeBFvpR"
      },
      "execution_count": null,
      "outputs": []
    },
    {
      "cell_type": "code",
      "source": [
        "sentences2"
      ],
      "metadata": {
        "colab": {
          "base_uri": "https://localhost:8080/"
        },
        "id": "yXkLJIukFvtU",
        "outputId": "fee9b0bc-4be7-48e1-c803-8037d57eb245"
      },
      "execution_count": null,
      "outputs": [
        {
          "output_type": "execute_result",
          "data": {
            "text/plain": [
              "['BBC News is an operational business division of the British Broadcasting Corporation (BBC) responsible for the gathering and broadcasting of news and current affairs in the UK and around the world.',\n",
              " \"The department is the world's largest broadcast news organisation and generates about 120 hours of radio and television output each day, as well as online news coverage.\",\n",
              " 'The service maintains 50 foreign news bureaus with more than 250 correspondents around the world.',\n",
              " 'Fran Unsworth has been director of news and current affairs since January 2018.',\n",
              " 'In 2019, it was reported in an Ofcom report that the BBC spent £136m on news during the period April 2018 to March 2019.',\n",
              " 'BBC News domestic, global and online news divisions are housed within the largest live newsroom in Europe, in Broadcasting House in central London.',\n",
              " 'Parliamentary coverage is produced and broadcast from studios in London.',\n",
              " 'Through BBC English Regions, the BBC also has regional centres across England and national news centres in Northern Ireland, Scotland and Wales.',\n",
              " 'All nations and English regions produce their own local news programmes and other current affairs and sport programmes.']"
            ]
          },
          "metadata": {},
          "execution_count": 123
        }
      ]
    },
    {
      "cell_type": "code",
      "source": [
        "df2 = pd.DataFrame(sentences2)\n",
        "df2.to_csv(\"s2.csv\", index=False)"
      ],
      "metadata": {
        "id": "wggp_GQTGxDB"
      },
      "execution_count": null,
      "outputs": []
    },
    {
      "cell_type": "code",
      "source": [
        "pip install PyPDF2"
      ],
      "metadata": {
        "colab": {
          "base_uri": "https://localhost:8080/"
        },
        "id": "wZOmJHGHS1Uh",
        "outputId": "93e5ce88-a73f-47b2-96a3-42bd391d199e"
      },
      "execution_count": null,
      "outputs": [
        {
          "output_type": "stream",
          "name": "stdout",
          "text": [
            "Looking in indexes: https://pypi.org/simple, https://us-python.pkg.dev/colab-wheels/public/simple/\n",
            "Collecting PyPDF2\n",
            "  Downloading PyPDF2-2.10.0-py3-none-any.whl (208 kB)\n",
            "\u001b[K     |████████████████████████████████| 208 kB 14.9 MB/s \n",
            "\u001b[?25hRequirement already satisfied: typing-extensions in /usr/local/lib/python3.7/dist-packages (from PyPDF2) (4.1.1)\n",
            "Installing collected packages: PyPDF2\n",
            "Successfully installed PyPDF2-2.10.0\n"
          ]
        }
      ]
    },
    {
      "cell_type": "code",
      "source": [
        "import PyPDF2"
      ],
      "metadata": {
        "id": "IJyJIoNlTCFv"
      },
      "execution_count": null,
      "outputs": []
    },
    {
      "cell_type": "code",
      "source": [
        "pdfFileObj = open('Multilingual.pdf', 'rb') \n",
        "    \n",
        "# creating a pdf reader object \n",
        "pdfReader = PyPDF2.PdfFileReader(pdfFileObj) \n",
        "    \n",
        "# printing number of pages in pdf file \n",
        "print(pdfReader.numPages) \n",
        "    \n",
        "# creating a page object \n",
        "pageObj = pdfReader.getPage(0) "
      ],
      "metadata": {
        "colab": {
          "base_uri": "https://localhost:8080/"
        },
        "id": "BmIhNlzlTekb",
        "outputId": "97a576b4-ab55-4aa5-9b19-57c2808a5ced"
      },
      "execution_count": null,
      "outputs": [
        {
          "output_type": "stream",
          "name": "stdout",
          "text": [
            "19\n"
          ]
        }
      ]
    },
    {
      "cell_type": "code",
      "source": [
        "# extracting text from pdf page \n",
        "print(pageObj.extractText()) "
      ],
      "metadata": {
        "colab": {
          "base_uri": "https://localhost:8080/"
        },
        "id": "0oh70gwJTeuv",
        "outputId": "0c2287d4-5fc0-4aaa-eee6-6d48efb51429"
      },
      "execution_count": null,
      "outputs": [
        {
          "output_type": "stream",
          "name": "stdout",
          "text": [
            "Undeﬁned 0 (0) 1 1\n",
            "IOS Press\n",
            "Multilingual Linked Open Data Patterns\n",
            "Jose Emilio Labra Gayoa;\u0003, Dimitris Kontokostasband Sören Auerb\n",
            "aDepartment of Computer Science. University of Oviedo, CP. 33007, Oviedo, Spain\n",
            "Email: labra@uniovi.es\n",
            "bUniversität Leipzig, Institut für Informatik, AKSW, Postfach 100920, 04009 Leipzig, Germany\n",
            "E-mail: {lastname}@informatik.uni-leipzig.de\n",
            "Abstract. The increasing publication of linked data makes the vision of the semantic web a probable reality .\n",
            "Although it may seem that the web of data is inherently multilingual, data usually contains labels, comments,\n",
            "descriptions, etc. that depend on the natural language used. When linked data appears in a multilingual setting,\n",
            "it is a challenge to publish and consume it. This paper presents a survey of patterns and best practices to publish\n",
            "Multilingual Linked Data and identiﬁes some issues that should be taken into account. As a use case, the paper\n",
            "describes the patterns employed in the DBpedia Internationalization project.\n",
            "Keywords: Linked Open Data, Multilingual W eb, Language tags, Multilingual Data\n",
            "1. Introduction\n",
            "The linked data paradigm is based on a small\n",
            "set of best practices which were outlined in [ 10 ]:\n",
            "– Use URIs as names for things;\n",
            "– Use HTTP URIs so that people can look up\n",
            "those names (aka. dereferencing);\n",
            "– Return useful information when upon lookup\n",
            "of those URIs (esp. RDF);\n",
            "– include links by using URIs, that dereference\n",
            "to other documents.\n",
            "Since the publication of those guidelines, an in-\n",
            "creasing number of projects have been devoted to\n",
            "the publication of linked (open) data, making the\n",
            "vision of a semantic data web more plausible [ 13 ].\n",
            "The principles of linked data have been de-\n",
            "scribed in several publications and books [ 12 ,30 ].\n",
            "There is even a book devoted to linked data pat-\n",
            "terns [ 18 ].\n",
            "Nevertheless, most of the projects that publish\n",
            "linked data employ English as the primary lan-\n",
            "guage. In fact, most popular vocabularies contain\n",
            "descriptions and labels only in English.\n",
            "*Corresponding author. E-mail: labra@uniovi.es.A study by Ell et al. [ 24 ] has shown that lan-\n",
            "guage tags are a rarely used feature in popular\n",
            "datasets. Only 4.7% of the non-information re-\n",
            "sources employ one language tag, and only 0,7%\n",
            "employ several language tags. It was discovered\n",
            "that the most popular language tag was English\n",
            "(44.72%), while the rest of the languages had\n",
            "a very low appearance: German (5.22%), F rench\n",
            "(5.11%), Italian (3.96%), etc. As can be seen, this\n",
            "distribution does not reﬂect the number of people\n",
            "that speak those languages, or even the number of\n",
            "web pages written in them.\n",
            "The lack of multilingualism in linked data can\n",
            "be attributed to its recent birth. However, another\n",
            "reason may be that there is a lack of design pat-\n",
            "terns and guidelines to help the community that\n",
            "wants to publish multilingual linked data.\n",
            "In this paper, we collected, justiﬁed and ex-\n",
            "plained a comprehensive set of those patterns. It\n",
            "must be noted, that we do not propose the pat-\n",
            "terns as best practices . In most of the cases, the\n",
            "proposed patterns oﬀer a possible design decision\n",
            "with pros and cons that must be taken into ac-\n",
            "count. The aim of this paper is to clarify the ben-\n",
            "eﬁts of those decisions.\n",
            "0000-0000/0-1900/$00.00 © 0 – IOS Press and the authors. All rights reserved\n"
          ]
        }
      ]
    },
    {
      "cell_type": "code",
      "source": [
        "# save text to object\n",
        "a=pdfReader.getPage(2).extractText()"
      ],
      "metadata": {
        "id": "UH8JzgdITeyj"
      },
      "execution_count": null,
      "outputs": []
    },
    {
      "cell_type": "code",
      "source": [
        "a"
      ],
      "metadata": {
        "id": "zRNhv1crI7Ve",
        "colab": {
          "base_uri": "https://localhost:8080/",
          "height": 157
        },
        "outputId": "4ee37599-7d80-4acd-e0a7-a3e58fd387a9"
      },
      "execution_count": null,
      "outputs": [
        {
          "output_type": "execute_result",
          "data": {
            "text/plain": [
              "'J. Labra et al / Multilingual LOD Patterns 3\\nIn the case of the W eb architecture, the solution\\nadopted was Normalization F orm Canonical Com-\\nposition (NFC) and is described in [ 3]. The use of\\nnormalization is important for linked data as it is\\nnecessary to have a non-ambiguous way to check\\nif two identiﬁers are the same.\\n2.2. URIs and IRIs\\nOne of the cornerstones of W eb architecture is\\nthe use of Uniform Resource Identiﬁers (URIs) [ 8]\\nto identify any kind of resource. URIs were for-\\nmally described by the IETF RFC 3986 [ 11 ] and\\ntheir design oﬀered a trade-oﬀ solution between\\nreadability and usability .\\nThe readability goal can be achieved when URIs\\nare easily remembered and interpreted by people,\\nemploying meaningful or familiar components. T o\\nthat end, people from non-Latin alphabets should\\nbe allowed to use their own alphabets (i.e. Unicode\\ncharacters) in their URIs. However, due to the\\nusability design trade-oﬀ, the URI speciﬁcation\\nrestricted the character repertoire to US-ASCII\\ncharacters for easier transmission and storage in\\nlegacy systems\\nThe use of non-ASCII characters in URIs can\\nbe achieved by percent encoding the octets of the\\ncharacter, decreasing the ability to read and re-\\nmember those URIs.\\nF or instance, the Spanish letter “ó” is percent\\nencoded to “%F3” . In this way , the name of a city\\nlikeLeón is encoded as Le%F3n . This encoding can\\nbe still readable when there are few extended char-\\nacters, but it is clearly unreadable when the word\\nis completely formed by non-Latin characters.\\nIRIs [ 22 ] were designed to identify resources us-\\ning Unicode characters. An example of an IRI\\nis:http://españa.es/León which could identify the\\nSpanish city León. Note that it is possible to\\nuse Unicode characters in both the domain name\\nespaña.es and the path León . Although IRI sup-\\nported increases incrementally , there is still a\\nnumber of protocols and systems that only ac-\\ncept ASCII characters or accept Unicode charac-\\nters only partially .\\nThe conversion from IRIs with Unicode char-\\nacters to ASCII-only URIs is performed in two\\nparts: the path and the domain name. The path\\nis percent encoded using UTF-8 characters as we\\nhave shown in the previous example. In the case\\nof domain names, the conversion employs an algo-rithm called punycode , which eﬃciently converts\\ncharacters between Unicode and ASCII. As an ex-\\nample, the domain name españa is punycoded to\\nxn\\x00\\x00espa \\x00jqa . Browsers supporting punycode au-\\ntomatically and convert the IRI to its punycode\\nrepresentation. In order to prevent homograph at-\\ntacks (i.e. IRIs whose glyphs look the same but\\ncontain diﬀerent characters) browsers can display\\nthe original IRI or the punycode representation\\ndepending on the user language preferences.\\n2.3. Languages and the W eb\\nF rom the beginning, the architecture of the W eb\\nhas taken the existence of diﬀerent languages and\\nthe need for language-aware protocols and speciﬁ-\\ncations into account. As an example, HTML con-\\ntains the lang attribute to specify the base lan-\\nguage of a portion of HTML code. XML also of-\\nfers the xml:lang attribute with the same purpose.\\nIn the same vein, RDF also contains literals which\\ncan be associated with language tags as we will\\nshow in the next section.\\nAt the protocol level, HTTP provides the\\nAccept \\x00language header ﬁeld, where a user agent\\ncan restrict the set of natural languages that are\\npreferred as a response to a request. Header ﬁelds\\ncan be used for HTTP content negotiation, where\\nit is possible to obtain diﬀerent representations of\\nthe same resource depending on those ﬁelds.\\nIn the case of linked data, it is a well-known\\npractice to dereference a URI and return diﬀer-\\nent representation formats (HTML, RDF/XML,\\nJSON, etc.) depending on the Accept header.\\nLanguage declarations must employ IETF lan-\\nguage tags deﬁned in BCP47 [ 41 ], likeen (En-\\nglish) or es\\x00419 (Latin American Spanish). It is\\nimportant to clearly distinguish between countries\\nand languages. F or example, to identify Armenian,\\none should use hy (Hayastan) instead of am which\\nidentiﬁes the country Armenia but the language\\nAmharic spoken in Ethiopia.\\n3. Multilingual Linked Data\\nA rationale of the W eb of Data is to develop\\ntechnologies that enable machines to consume\\ndata. Although one may consider that data is in-\\ntrinsically multilingual, we can see that data usu-'"
            ],
            "application/vnd.google.colaboratory.intrinsic+json": {
              "type": "string"
            }
          },
          "metadata": {},
          "execution_count": 88
        }
      ]
    },
    {
      "cell_type": "code",
      "source": [
        "# save tokenized sentences to object \n",
        "sentences3 = nltk.sent_tokenize(a) "
      ],
      "metadata": {
        "id": "nbQkFiSfWXjQ"
      },
      "execution_count": null,
      "outputs": []
    },
    {
      "cell_type": "code",
      "source": [
        "sentences3"
      ],
      "metadata": {
        "colab": {
          "base_uri": "https://localhost:8080/"
        },
        "id": "Lo8gWGpqWjSn",
        "outputId": "3429d754-16fe-4dca-cd70-488fcc9bebbf"
      },
      "execution_count": null,
      "outputs": [
        {
          "output_type": "execute_result",
          "data": {
            "text/plain": [
              "['J. Labra et al / Multilingual LOD Patterns 3\\nIn the case of the W eb architecture, the solution\\nadopted was Normalization F orm Canonical Com-\\nposition (NFC) and is described in [ 3].',\n",
              " 'The use of\\nnormalization is important for linked data as it is\\nnecessary to have a non-ambiguous way to check\\nif two identiﬁers are the same.',\n",
              " '2.2.',\n",
              " 'URIs and IRIs\\nOne of the cornerstones of W eb architecture is\\nthe use of Uniform Resource Identiﬁers (URIs) [ 8]\\nto identify any kind of resource.',\n",
              " 'URIs were for-\\nmally described by the IETF RFC 3986 [ 11 ] and\\ntheir design oﬀered a trade-oﬀ solution between\\nreadability and usability .',\n",
              " 'The readability goal can be achieved when URIs\\nare easily remembered and interpreted by people,\\nemploying meaningful or familiar components.',\n",
              " 'T o\\nthat end, people from non-Latin alphabets should\\nbe allowed to use their own alphabets (i.e.',\n",
              " 'Unicode\\ncharacters) in their URIs.',\n",
              " 'However, due to the\\nusability design trade-oﬀ, the URI speciﬁcation\\nrestricted the character repertoire to US-ASCII\\ncharacters for easier transmission and storage in\\nlegacy systems\\nThe use of non-ASCII characters in URIs can\\nbe achieved by percent encoding the octets of the\\ncharacter, decreasing the ability to read and re-\\nmember those URIs.',\n",
              " 'F or instance, the Spanish letter “ó” is percent\\nencoded to “%F3” .',\n",
              " 'In this way , the name of a city\\nlikeLeón is encoded as Le%F3n .',\n",
              " 'This encoding can\\nbe still readable when there are few extended char-\\nacters, but it is clearly unreadable when the word\\nis completely formed by non-Latin characters.',\n",
              " 'IRIs [ 22 ] were designed to identify resources us-\\ning Unicode characters.',\n",
              " 'An example of an IRI\\nis:http://españa.es/León which could identify the\\nSpanish city León.',\n",
              " 'Note that it is possible to\\nuse Unicode characters in both the domain name\\nespaña.es and the path León .',\n",
              " 'Although IRI sup-\\nported increases incrementally , there is still a\\nnumber of protocols and systems that only ac-\\ncept ASCII characters or accept Unicode charac-\\nters only partially .',\n",
              " 'The conversion from IRIs with Unicode char-\\nacters to ASCII-only URIs is performed in two\\nparts: the path and the domain name.',\n",
              " 'The path\\nis percent encoded using UTF-8 characters as we\\nhave shown in the previous example.',\n",
              " 'In the case\\nof domain names, the conversion employs an algo-rithm called punycode , which eﬃciently converts\\ncharacters between Unicode and ASCII.',\n",
              " 'As an ex-\\nample, the domain name españa is punycoded to\\nxn\\x00\\x00espa \\x00jqa .',\n",
              " 'Browsers supporting punycode au-\\ntomatically and convert the IRI to its punycode\\nrepresentation.',\n",
              " 'In order to prevent homograph at-\\ntacks (i.e.',\n",
              " 'IRIs whose glyphs look the same but\\ncontain diﬀerent characters) browsers can display\\nthe original IRI or the punycode representation\\ndepending on the user language preferences.',\n",
              " '2.3.',\n",
              " 'Languages and the W eb\\nF rom the beginning, the architecture of the W eb\\nhas taken the existence of diﬀerent languages and\\nthe need for language-aware protocols and speciﬁ-\\ncations into account.',\n",
              " 'As an example, HTML con-\\ntains the lang attribute to specify the base lan-\\nguage of a portion of HTML code.',\n",
              " 'XML also of-\\nfers the xml:lang attribute with the same purpose.',\n",
              " 'In the same vein, RDF also contains literals which\\ncan be associated with language tags as we will\\nshow in the next section.',\n",
              " 'At the protocol level, HTTP provides the\\nAccept \\x00language header ﬁeld, where a user agent\\ncan restrict the set of natural languages that are\\npreferred as a response to a request.',\n",
              " 'Header ﬁelds\\ncan be used for HTTP content negotiation, where\\nit is possible to obtain diﬀerent representations of\\nthe same resource depending on those ﬁelds.',\n",
              " 'In the case of linked data, it is a well-known\\npractice to dereference a URI and return diﬀer-\\nent representation formats (HTML, RDF/XML,\\nJSON, etc.)',\n",
              " 'depending on the Accept header.',\n",
              " 'Language declarations must employ IETF lan-\\nguage tags deﬁned in BCP47 [ 41 ], likeen (En-\\nglish) or es\\x00419 (Latin American Spanish).',\n",
              " 'It is\\nimportant to clearly distinguish between countries\\nand languages.',\n",
              " 'F or example, to identify Armenian,\\none should use hy (Hayastan) instead of am which\\nidentiﬁes the country Armenia but the language\\nAmharic spoken in Ethiopia.',\n",
              " '3.',\n",
              " 'Multilingual Linked Data\\nA rationale of the W eb of Data is to develop\\ntechnologies that enable machines to consume\\ndata.',\n",
              " 'Although one may consider that data is in-\\ntrinsically multilingual, we can see that data usu-']"
            ]
          },
          "metadata": {},
          "execution_count": 153
        }
      ]
    },
    {
      "cell_type": "code",
      "source": [
        "# convert tokenized object to dataframe\n",
        "import pandas as pd\n",
        "df3 = pd.DataFrame(sentences3)\n",
        "df3.to_csv(\"sentences3.csv\", index=False)"
      ],
      "metadata": {
        "id": "T7N6Nhncx96R"
      },
      "execution_count": null,
      "outputs": []
    },
    {
      "cell_type": "code",
      "source": [
        "# column name for sentence is 0\n",
        "df3"
      ],
      "metadata": {
        "id": "kJoCh00ByJls"
      },
      "execution_count": null,
      "outputs": []
    },
    {
      "cell_type": "code",
      "source": [
        "df2.shape"
      ],
      "metadata": {
        "colab": {
          "base_uri": "https://localhost:8080/"
        },
        "id": "dXbC3vgoyjfn",
        "outputId": "bb1a86c7-564f-4af1-e700-baad654133ff"
      },
      "execution_count": null,
      "outputs": [
        {
          "output_type": "execute_result",
          "data": {
            "text/plain": [
              "(9, 1)"
            ]
          },
          "metadata": {},
          "execution_count": 141
        }
      ]
    },
    {
      "cell_type": "code",
      "source": [
        "df3.shape"
      ],
      "metadata": {
        "colab": {
          "base_uri": "https://localhost:8080/"
        },
        "id": "v--d3Zruyj84",
        "outputId": "788cde47-a858-4df7-9d97-b5a174034d46"
      },
      "execution_count": null,
      "outputs": [
        {
          "output_type": "execute_result",
          "data": {
            "text/plain": [
              "(38, 1)"
            ]
          },
          "metadata": {},
          "execution_count": 157
        }
      ]
    },
    {
      "cell_type": "code",
      "source": [
        "# exact sentence example\n",
        "nlp = spacy.load('en_core_web_sm')\n",
        "\n",
        "doc = nlp(\"The service maintains 50 foreign news bureaus with more than 250 correspondents around the world.\")\n",
        "\n",
        "for tok in doc:\n",
        "  print(tok.text, \"...\", tok.dep_)"
      ],
      "metadata": {
        "colab": {
          "base_uri": "https://localhost:8080/"
        },
        "id": "aOx78h-p4oSt",
        "outputId": "7d06196b-0fed-4ad2-e5d1-81cf2472afa2"
      },
      "execution_count": null,
      "outputs": [
        {
          "output_type": "stream",
          "name": "stdout",
          "text": [
            "The ... det\n",
            "service ... nsubj\n",
            "maintains ... ROOT\n",
            "50 ... nummod\n",
            "foreign ... amod\n",
            "news ... compound\n",
            "bureaus ... dobj\n",
            "with ... prep\n",
            "more ... amod\n",
            "than ... quantmod\n",
            "250 ... nummod\n",
            "correspondents ... pobj\n",
            "around ... prep\n",
            "the ... det\n",
            "world ... pobj\n",
            ". ... punct\n"
          ]
        }
      ]
    },
    {
      "cell_type": "code",
      "source": [
        ""
      ],
      "metadata": {
        "id": "7ZOqJbZZ4oea"
      },
      "execution_count": null,
      "outputs": []
    },
    {
      "cell_type": "code",
      "source": [
        ""
      ],
      "metadata": {
        "id": "4C-fr_Gp48yg"
      },
      "execution_count": null,
      "outputs": []
    },
    {
      "cell_type": "code",
      "source": [
        ""
      ],
      "metadata": {
        "id": "TOCowk1S481r"
      },
      "execution_count": null,
      "outputs": []
    },
    {
      "cell_type": "code",
      "source": [
        "# extract subject\n",
        "source = [i[0] for i in entity_pairs]\n",
        "# extract object\n",
        "target = [i[1] for i in entity_pairs]\n",
        "\n",
        "kg_df = pd.DataFrame({'source':source, 'target':target, 'edge':relations})"
      ],
      "metadata": {
        "colab": {
          "base_uri": "https://localhost:8080/",
          "height": 341
        },
        "id": "dYW_Q_EwykEd",
        "outputId": "0a77d4f4-9c16-4cd3-80ee-ee2c415bb835"
      },
      "execution_count": null,
      "outputs": [
        {
          "output_type": "error",
          "ename": "ValueError",
          "evalue": "ignored",
          "traceback": [
            "\u001b[0;31m---------------------------------------------------------------------------\u001b[0m",
            "\u001b[0;31mValueError\u001b[0m                                Traceback (most recent call last)",
            "\u001b[0;32m<ipython-input-158-9846799ab8cd>\u001b[0m in \u001b[0;36m<module>\u001b[0;34m()\u001b[0m\n\u001b[1;32m      4\u001b[0m \u001b[0mtarget\u001b[0m \u001b[0;34m=\u001b[0m \u001b[0;34m[\u001b[0m\u001b[0mi\u001b[0m\u001b[0;34m[\u001b[0m\u001b[0;36m1\u001b[0m\u001b[0;34m]\u001b[0m \u001b[0;32mfor\u001b[0m \u001b[0mi\u001b[0m \u001b[0;32min\u001b[0m \u001b[0mentity_pairs\u001b[0m\u001b[0;34m]\u001b[0m\u001b[0;34m\u001b[0m\u001b[0;34m\u001b[0m\u001b[0m\n\u001b[1;32m      5\u001b[0m \u001b[0;34m\u001b[0m\u001b[0m\n\u001b[0;32m----> 6\u001b[0;31m \u001b[0mkg_df\u001b[0m \u001b[0;34m=\u001b[0m \u001b[0mpd\u001b[0m\u001b[0;34m.\u001b[0m\u001b[0mDataFrame\u001b[0m\u001b[0;34m(\u001b[0m\u001b[0;34m{\u001b[0m\u001b[0;34m'source'\u001b[0m\u001b[0;34m:\u001b[0m\u001b[0msource\u001b[0m\u001b[0;34m,\u001b[0m \u001b[0;34m'target'\u001b[0m\u001b[0;34m:\u001b[0m\u001b[0mtarget\u001b[0m\u001b[0;34m,\u001b[0m \u001b[0;34m'edge'\u001b[0m\u001b[0;34m:\u001b[0m\u001b[0mrelations\u001b[0m\u001b[0;34m}\u001b[0m\u001b[0;34m)\u001b[0m\u001b[0;34m\u001b[0m\u001b[0;34m\u001b[0m\u001b[0m\n\u001b[0m",
            "\u001b[0;32m/usr/local/lib/python3.7/dist-packages/pandas/core/frame.py\u001b[0m in \u001b[0;36m__init__\u001b[0;34m(self, data, index, columns, dtype, copy)\u001b[0m\n\u001b[1;32m    612\u001b[0m         \u001b[0;32melif\u001b[0m \u001b[0misinstance\u001b[0m\u001b[0;34m(\u001b[0m\u001b[0mdata\u001b[0m\u001b[0;34m,\u001b[0m \u001b[0mdict\u001b[0m\u001b[0;34m)\u001b[0m\u001b[0;34m:\u001b[0m\u001b[0;34m\u001b[0m\u001b[0;34m\u001b[0m\u001b[0m\n\u001b[1;32m    613\u001b[0m             \u001b[0;31m# GH#38939 de facto copy defaults to False only in non-dict cases\u001b[0m\u001b[0;34m\u001b[0m\u001b[0;34m\u001b[0m\u001b[0;34m\u001b[0m\u001b[0m\n\u001b[0;32m--> 614\u001b[0;31m             \u001b[0mmgr\u001b[0m \u001b[0;34m=\u001b[0m \u001b[0mdict_to_mgr\u001b[0m\u001b[0;34m(\u001b[0m\u001b[0mdata\u001b[0m\u001b[0;34m,\u001b[0m \u001b[0mindex\u001b[0m\u001b[0;34m,\u001b[0m \u001b[0mcolumns\u001b[0m\u001b[0;34m,\u001b[0m \u001b[0mdtype\u001b[0m\u001b[0;34m=\u001b[0m\u001b[0mdtype\u001b[0m\u001b[0;34m,\u001b[0m \u001b[0mcopy\u001b[0m\u001b[0;34m=\u001b[0m\u001b[0mcopy\u001b[0m\u001b[0;34m,\u001b[0m \u001b[0mtyp\u001b[0m\u001b[0;34m=\u001b[0m\u001b[0mmanager\u001b[0m\u001b[0;34m)\u001b[0m\u001b[0;34m\u001b[0m\u001b[0;34m\u001b[0m\u001b[0m\n\u001b[0m\u001b[1;32m    615\u001b[0m         \u001b[0;32melif\u001b[0m \u001b[0misinstance\u001b[0m\u001b[0;34m(\u001b[0m\u001b[0mdata\u001b[0m\u001b[0;34m,\u001b[0m \u001b[0mma\u001b[0m\u001b[0;34m.\u001b[0m\u001b[0mMaskedArray\u001b[0m\u001b[0;34m)\u001b[0m\u001b[0;34m:\u001b[0m\u001b[0;34m\u001b[0m\u001b[0;34m\u001b[0m\u001b[0m\n\u001b[1;32m    616\u001b[0m             \u001b[0;32mimport\u001b[0m \u001b[0mnumpy\u001b[0m\u001b[0;34m.\u001b[0m\u001b[0mma\u001b[0m\u001b[0;34m.\u001b[0m\u001b[0mmrecords\u001b[0m \u001b[0;32mas\u001b[0m \u001b[0mmrecords\u001b[0m\u001b[0;34m\u001b[0m\u001b[0;34m\u001b[0m\u001b[0m\n",
            "\u001b[0;32m/usr/local/lib/python3.7/dist-packages/pandas/core/internals/construction.py\u001b[0m in \u001b[0;36mdict_to_mgr\u001b[0;34m(data, index, columns, dtype, typ, copy)\u001b[0m\n\u001b[1;32m    463\u001b[0m \u001b[0;34m\u001b[0m\u001b[0m\n\u001b[1;32m    464\u001b[0m     return arrays_to_mgr(\n\u001b[0;32m--> 465\u001b[0;31m         \u001b[0marrays\u001b[0m\u001b[0;34m,\u001b[0m \u001b[0mdata_names\u001b[0m\u001b[0;34m,\u001b[0m \u001b[0mindex\u001b[0m\u001b[0;34m,\u001b[0m \u001b[0mcolumns\u001b[0m\u001b[0;34m,\u001b[0m \u001b[0mdtype\u001b[0m\u001b[0;34m=\u001b[0m\u001b[0mdtype\u001b[0m\u001b[0;34m,\u001b[0m \u001b[0mtyp\u001b[0m\u001b[0;34m=\u001b[0m\u001b[0mtyp\u001b[0m\u001b[0;34m,\u001b[0m \u001b[0mconsolidate\u001b[0m\u001b[0;34m=\u001b[0m\u001b[0mcopy\u001b[0m\u001b[0;34m\u001b[0m\u001b[0;34m\u001b[0m\u001b[0m\n\u001b[0m\u001b[1;32m    466\u001b[0m     )\n\u001b[1;32m    467\u001b[0m \u001b[0;34m\u001b[0m\u001b[0m\n",
            "\u001b[0;32m/usr/local/lib/python3.7/dist-packages/pandas/core/internals/construction.py\u001b[0m in \u001b[0;36marrays_to_mgr\u001b[0;34m(arrays, arr_names, index, columns, dtype, verify_integrity, typ, consolidate)\u001b[0m\n\u001b[1;32m    117\u001b[0m         \u001b[0;31m# figure out the index, if necessary\u001b[0m\u001b[0;34m\u001b[0m\u001b[0;34m\u001b[0m\u001b[0;34m\u001b[0m\u001b[0m\n\u001b[1;32m    118\u001b[0m         \u001b[0;32mif\u001b[0m \u001b[0mindex\u001b[0m \u001b[0;32mis\u001b[0m \u001b[0;32mNone\u001b[0m\u001b[0;34m:\u001b[0m\u001b[0;34m\u001b[0m\u001b[0;34m\u001b[0m\u001b[0m\n\u001b[0;32m--> 119\u001b[0;31m             \u001b[0mindex\u001b[0m \u001b[0;34m=\u001b[0m \u001b[0m_extract_index\u001b[0m\u001b[0;34m(\u001b[0m\u001b[0marrays\u001b[0m\u001b[0;34m)\u001b[0m\u001b[0;34m\u001b[0m\u001b[0;34m\u001b[0m\u001b[0m\n\u001b[0m\u001b[1;32m    120\u001b[0m         \u001b[0;32melse\u001b[0m\u001b[0;34m:\u001b[0m\u001b[0;34m\u001b[0m\u001b[0;34m\u001b[0m\u001b[0m\n\u001b[1;32m    121\u001b[0m             \u001b[0mindex\u001b[0m \u001b[0;34m=\u001b[0m \u001b[0mensure_index\u001b[0m\u001b[0;34m(\u001b[0m\u001b[0mindex\u001b[0m\u001b[0;34m)\u001b[0m\u001b[0;34m\u001b[0m\u001b[0;34m\u001b[0m\u001b[0m\n",
            "\u001b[0;32m/usr/local/lib/python3.7/dist-packages/pandas/core/internals/construction.py\u001b[0m in \u001b[0;36m_extract_index\u001b[0;34m(data)\u001b[0m\n\u001b[1;32m    633\u001b[0m             \u001b[0mlengths\u001b[0m \u001b[0;34m=\u001b[0m \u001b[0mlist\u001b[0m\u001b[0;34m(\u001b[0m\u001b[0mset\u001b[0m\u001b[0;34m(\u001b[0m\u001b[0mraw_lengths\u001b[0m\u001b[0;34m)\u001b[0m\u001b[0;34m)\u001b[0m\u001b[0;34m\u001b[0m\u001b[0;34m\u001b[0m\u001b[0m\n\u001b[1;32m    634\u001b[0m             \u001b[0;32mif\u001b[0m \u001b[0mlen\u001b[0m\u001b[0;34m(\u001b[0m\u001b[0mlengths\u001b[0m\u001b[0;34m)\u001b[0m \u001b[0;34m>\u001b[0m \u001b[0;36m1\u001b[0m\u001b[0;34m:\u001b[0m\u001b[0;34m\u001b[0m\u001b[0;34m\u001b[0m\u001b[0m\n\u001b[0;32m--> 635\u001b[0;31m                 \u001b[0;32mraise\u001b[0m \u001b[0mValueError\u001b[0m\u001b[0;34m(\u001b[0m\u001b[0;34m\"All arrays must be of the same length\"\u001b[0m\u001b[0;34m)\u001b[0m\u001b[0;34m\u001b[0m\u001b[0;34m\u001b[0m\u001b[0m\n\u001b[0m\u001b[1;32m    636\u001b[0m \u001b[0;34m\u001b[0m\u001b[0m\n\u001b[1;32m    637\u001b[0m             \u001b[0;32mif\u001b[0m \u001b[0mhave_dicts\u001b[0m\u001b[0;34m:\u001b[0m\u001b[0;34m\u001b[0m\u001b[0;34m\u001b[0m\u001b[0m\n",
            "\u001b[0;31mValueError\u001b[0m: All arrays must be of the same length"
          ]
        }
      ]
    },
    {
      "cell_type": "code",
      "source": [
        "kg_df.head()"
      ],
      "metadata": {
        "colab": {
          "base_uri": "https://localhost:8080/",
          "height": 204
        },
        "id": "2bd_iJVa3VSZ",
        "outputId": "6a945933-97fd-4c1a-fc52-10664337d1b6"
      },
      "execution_count": null,
      "outputs": [
        {
          "output_type": "execute_result",
          "data": {
            "text/plain": [
              "                   source                  target    edge\n",
              "0                    Iran                 Rushdie  blames\n",
              "1                    Iran                 Rushdie  blames\n",
              "2                                    Taliban rule  Doucet\n",
              "3                 Afghans    differently  Taliban    feel\n",
              "4  Shanghai Ikea shoppers  Covid lockdown attempt    flee"
            ],
            "text/html": [
              "\n",
              "  <div id=\"df-b3fbb162-a9ff-4239-8428-bc59b99bbaab\">\n",
              "    <div class=\"colab-df-container\">\n",
              "      <div>\n",
              "<style scoped>\n",
              "    .dataframe tbody tr th:only-of-type {\n",
              "        vertical-align: middle;\n",
              "    }\n",
              "\n",
              "    .dataframe tbody tr th {\n",
              "        vertical-align: top;\n",
              "    }\n",
              "\n",
              "    .dataframe thead th {\n",
              "        text-align: right;\n",
              "    }\n",
              "</style>\n",
              "<table border=\"1\" class=\"dataframe\">\n",
              "  <thead>\n",
              "    <tr style=\"text-align: right;\">\n",
              "      <th></th>\n",
              "      <th>source</th>\n",
              "      <th>target</th>\n",
              "      <th>edge</th>\n",
              "    </tr>\n",
              "  </thead>\n",
              "  <tbody>\n",
              "    <tr>\n",
              "      <th>0</th>\n",
              "      <td>Iran</td>\n",
              "      <td>Rushdie</td>\n",
              "      <td>blames</td>\n",
              "    </tr>\n",
              "    <tr>\n",
              "      <th>1</th>\n",
              "      <td>Iran</td>\n",
              "      <td>Rushdie</td>\n",
              "      <td>blames</td>\n",
              "    </tr>\n",
              "    <tr>\n",
              "      <th>2</th>\n",
              "      <td></td>\n",
              "      <td>Taliban rule</td>\n",
              "      <td>Doucet</td>\n",
              "    </tr>\n",
              "    <tr>\n",
              "      <th>3</th>\n",
              "      <td>Afghans</td>\n",
              "      <td>differently  Taliban</td>\n",
              "      <td>feel</td>\n",
              "    </tr>\n",
              "    <tr>\n",
              "      <th>4</th>\n",
              "      <td>Shanghai Ikea shoppers</td>\n",
              "      <td>Covid lockdown attempt</td>\n",
              "      <td>flee</td>\n",
              "    </tr>\n",
              "  </tbody>\n",
              "</table>\n",
              "</div>\n",
              "      <button class=\"colab-df-convert\" onclick=\"convertToInteractive('df-b3fbb162-a9ff-4239-8428-bc59b99bbaab')\"\n",
              "              title=\"Convert this dataframe to an interactive table.\"\n",
              "              style=\"display:none;\">\n",
              "        \n",
              "  <svg xmlns=\"http://www.w3.org/2000/svg\" height=\"24px\"viewBox=\"0 0 24 24\"\n",
              "       width=\"24px\">\n",
              "    <path d=\"M0 0h24v24H0V0z\" fill=\"none\"/>\n",
              "    <path d=\"M18.56 5.44l.94 2.06.94-2.06 2.06-.94-2.06-.94-.94-2.06-.94 2.06-2.06.94zm-11 1L8.5 8.5l.94-2.06 2.06-.94-2.06-.94L8.5 2.5l-.94 2.06-2.06.94zm10 10l.94 2.06.94-2.06 2.06-.94-2.06-.94-.94-2.06-.94 2.06-2.06.94z\"/><path d=\"M17.41 7.96l-1.37-1.37c-.4-.4-.92-.59-1.43-.59-.52 0-1.04.2-1.43.59L10.3 9.45l-7.72 7.72c-.78.78-.78 2.05 0 2.83L4 21.41c.39.39.9.59 1.41.59.51 0 1.02-.2 1.41-.59l7.78-7.78 2.81-2.81c.8-.78.8-2.07 0-2.86zM5.41 20L4 18.59l7.72-7.72 1.47 1.35L5.41 20z\"/>\n",
              "  </svg>\n",
              "      </button>\n",
              "      \n",
              "  <style>\n",
              "    .colab-df-container {\n",
              "      display:flex;\n",
              "      flex-wrap:wrap;\n",
              "      gap: 12px;\n",
              "    }\n",
              "\n",
              "    .colab-df-convert {\n",
              "      background-color: #E8F0FE;\n",
              "      border: none;\n",
              "      border-radius: 50%;\n",
              "      cursor: pointer;\n",
              "      display: none;\n",
              "      fill: #1967D2;\n",
              "      height: 32px;\n",
              "      padding: 0 0 0 0;\n",
              "      width: 32px;\n",
              "    }\n",
              "\n",
              "    .colab-df-convert:hover {\n",
              "      background-color: #E2EBFA;\n",
              "      box-shadow: 0px 1px 2px rgba(60, 64, 67, 0.3), 0px 1px 3px 1px rgba(60, 64, 67, 0.15);\n",
              "      fill: #174EA6;\n",
              "    }\n",
              "\n",
              "    [theme=dark] .colab-df-convert {\n",
              "      background-color: #3B4455;\n",
              "      fill: #D2E3FC;\n",
              "    }\n",
              "\n",
              "    [theme=dark] .colab-df-convert:hover {\n",
              "      background-color: #434B5C;\n",
              "      box-shadow: 0px 1px 3px 1px rgba(0, 0, 0, 0.15);\n",
              "      filter: drop-shadow(0px 1px 2px rgba(0, 0, 0, 0.3));\n",
              "      fill: #FFFFFF;\n",
              "    }\n",
              "  </style>\n",
              "\n",
              "      <script>\n",
              "        const buttonEl =\n",
              "          document.querySelector('#df-b3fbb162-a9ff-4239-8428-bc59b99bbaab button.colab-df-convert');\n",
              "        buttonEl.style.display =\n",
              "          google.colab.kernel.accessAllowed ? 'block' : 'none';\n",
              "\n",
              "        async function convertToInteractive(key) {\n",
              "          const element = document.querySelector('#df-b3fbb162-a9ff-4239-8428-bc59b99bbaab');\n",
              "          const dataTable =\n",
              "            await google.colab.kernel.invokeFunction('convertToInteractive',\n",
              "                                                     [key], {});\n",
              "          if (!dataTable) return;\n",
              "\n",
              "          const docLinkHtml = 'Like what you see? Visit the ' +\n",
              "            '<a target=\"_blank\" href=https://colab.research.google.com/notebooks/data_table.ipynb>data table notebook</a>'\n",
              "            + ' to learn more about interactive tables.';\n",
              "          element.innerHTML = '';\n",
              "          dataTable['output_type'] = 'display_data';\n",
              "          await google.colab.output.renderOutput(dataTable, element);\n",
              "          const docLink = document.createElement('div');\n",
              "          docLink.innerHTML = docLinkHtml;\n",
              "          element.appendChild(docLink);\n",
              "        }\n",
              "      </script>\n",
              "    </div>\n",
              "  </div>\n",
              "  "
            ]
          },
          "metadata": {},
          "execution_count": 159
        }
      ]
    },
    {
      "cell_type": "code",
      "source": [
        "# the column name is 0\n",
        "relations = [get_relation(i) for i in tqdm(df3['0'])]"
      ],
      "metadata": {
        "colab": {
          "base_uri": "https://localhost:8080/",
          "height": 324
        },
        "id": "3r_NY4Kzw2xK",
        "outputId": "3b788358-8746-4c4d-a661-ff9d58ebad00"
      },
      "execution_count": null,
      "outputs": [
        {
          "output_type": "error",
          "ename": "KeyError",
          "evalue": "ignored",
          "traceback": [
            "\u001b[0;31m---------------------------------------------------------------------------\u001b[0m",
            "\u001b[0;31mKeyError\u001b[0m                                  Traceback (most recent call last)",
            "\u001b[0;32m<ipython-input-149-5664bd26fdfc>\u001b[0m in \u001b[0;36m<module>\u001b[0;34m()\u001b[0m\n\u001b[1;32m      1\u001b[0m \u001b[0;31m# the column name is 0\u001b[0m\u001b[0;34m\u001b[0m\u001b[0;34m\u001b[0m\u001b[0;34m\u001b[0m\u001b[0m\n\u001b[0;32m----> 2\u001b[0;31m \u001b[0mrelations\u001b[0m \u001b[0;34m=\u001b[0m \u001b[0;34m[\u001b[0m\u001b[0mget_relation\u001b[0m\u001b[0;34m(\u001b[0m\u001b[0mi\u001b[0m\u001b[0;34m)\u001b[0m \u001b[0;32mfor\u001b[0m \u001b[0mi\u001b[0m \u001b[0;32min\u001b[0m \u001b[0mtqdm\u001b[0m\u001b[0;34m(\u001b[0m\u001b[0mdf3\u001b[0m\u001b[0;34m[\u001b[0m\u001b[0;34m'0'\u001b[0m\u001b[0;34m]\u001b[0m\u001b[0;34m)\u001b[0m\u001b[0;34m]\u001b[0m\u001b[0;34m\u001b[0m\u001b[0;34m\u001b[0m\u001b[0m\n\u001b[0m",
            "\u001b[0;32m/usr/local/lib/python3.7/dist-packages/pandas/core/frame.py\u001b[0m in \u001b[0;36m__getitem__\u001b[0;34m(self, key)\u001b[0m\n\u001b[1;32m   3456\u001b[0m             \u001b[0;32mif\u001b[0m \u001b[0mself\u001b[0m\u001b[0;34m.\u001b[0m\u001b[0mcolumns\u001b[0m\u001b[0;34m.\u001b[0m\u001b[0mnlevels\u001b[0m \u001b[0;34m>\u001b[0m \u001b[0;36m1\u001b[0m\u001b[0;34m:\u001b[0m\u001b[0;34m\u001b[0m\u001b[0;34m\u001b[0m\u001b[0m\n\u001b[1;32m   3457\u001b[0m                 \u001b[0;32mreturn\u001b[0m \u001b[0mself\u001b[0m\u001b[0;34m.\u001b[0m\u001b[0m_getitem_multilevel\u001b[0m\u001b[0;34m(\u001b[0m\u001b[0mkey\u001b[0m\u001b[0;34m)\u001b[0m\u001b[0;34m\u001b[0m\u001b[0;34m\u001b[0m\u001b[0m\n\u001b[0;32m-> 3458\u001b[0;31m             \u001b[0mindexer\u001b[0m \u001b[0;34m=\u001b[0m \u001b[0mself\u001b[0m\u001b[0;34m.\u001b[0m\u001b[0mcolumns\u001b[0m\u001b[0;34m.\u001b[0m\u001b[0mget_loc\u001b[0m\u001b[0;34m(\u001b[0m\u001b[0mkey\u001b[0m\u001b[0;34m)\u001b[0m\u001b[0;34m\u001b[0m\u001b[0;34m\u001b[0m\u001b[0m\n\u001b[0m\u001b[1;32m   3459\u001b[0m             \u001b[0;32mif\u001b[0m \u001b[0mis_integer\u001b[0m\u001b[0;34m(\u001b[0m\u001b[0mindexer\u001b[0m\u001b[0;34m)\u001b[0m\u001b[0;34m:\u001b[0m\u001b[0;34m\u001b[0m\u001b[0;34m\u001b[0m\u001b[0m\n\u001b[1;32m   3460\u001b[0m                 \u001b[0mindexer\u001b[0m \u001b[0;34m=\u001b[0m \u001b[0;34m[\u001b[0m\u001b[0mindexer\u001b[0m\u001b[0;34m]\u001b[0m\u001b[0;34m\u001b[0m\u001b[0;34m\u001b[0m\u001b[0m\n",
            "\u001b[0;32m/usr/local/lib/python3.7/dist-packages/pandas/core/indexes/range.py\u001b[0m in \u001b[0;36mget_loc\u001b[0;34m(self, key, method, tolerance)\u001b[0m\n\u001b[1;32m    386\u001b[0m                 \u001b[0;32mexcept\u001b[0m \u001b[0mValueError\u001b[0m \u001b[0;32mas\u001b[0m \u001b[0merr\u001b[0m\u001b[0;34m:\u001b[0m\u001b[0;34m\u001b[0m\u001b[0;34m\u001b[0m\u001b[0m\n\u001b[1;32m    387\u001b[0m                     \u001b[0;32mraise\u001b[0m \u001b[0mKeyError\u001b[0m\u001b[0;34m(\u001b[0m\u001b[0mkey\u001b[0m\u001b[0;34m)\u001b[0m \u001b[0;32mfrom\u001b[0m \u001b[0merr\u001b[0m\u001b[0;34m\u001b[0m\u001b[0;34m\u001b[0m\u001b[0m\n\u001b[0;32m--> 388\u001b[0;31m             \u001b[0;32mraise\u001b[0m \u001b[0mKeyError\u001b[0m\u001b[0;34m(\u001b[0m\u001b[0mkey\u001b[0m\u001b[0;34m)\u001b[0m\u001b[0;34m\u001b[0m\u001b[0;34m\u001b[0m\u001b[0m\n\u001b[0m\u001b[1;32m    389\u001b[0m         \u001b[0;32mreturn\u001b[0m \u001b[0msuper\u001b[0m\u001b[0;34m(\u001b[0m\u001b[0;34m)\u001b[0m\u001b[0;34m.\u001b[0m\u001b[0mget_loc\u001b[0m\u001b[0;34m(\u001b[0m\u001b[0mkey\u001b[0m\u001b[0;34m,\u001b[0m \u001b[0mmethod\u001b[0m\u001b[0;34m=\u001b[0m\u001b[0mmethod\u001b[0m\u001b[0;34m,\u001b[0m \u001b[0mtolerance\u001b[0m\u001b[0;34m=\u001b[0m\u001b[0mtolerance\u001b[0m\u001b[0;34m)\u001b[0m\u001b[0;34m\u001b[0m\u001b[0;34m\u001b[0m\u001b[0m\n\u001b[1;32m    390\u001b[0m \u001b[0;34m\u001b[0m\u001b[0m\n",
            "\u001b[0;31mKeyError\u001b[0m: '0'"
          ]
        }
      ]
    },
    {
      "cell_type": "code",
      "source": [
        "entity_pairs = []\n",
        "\n",
        "for i in tqdm(df3[\"0\"]):\n",
        "  entity_pairs.append(get_entities(i))"
      ],
      "metadata": {
        "colab": {
          "base_uri": "https://localhost:8080/",
          "height": 358
        },
        "id": "XB-DQFkqw3JP",
        "outputId": "fc4da658-ee64-4f0e-caad-a48ddd9af19d"
      },
      "execution_count": null,
      "outputs": [
        {
          "output_type": "error",
          "ename": "KeyError",
          "evalue": "ignored",
          "traceback": [
            "\u001b[0;31m---------------------------------------------------------------------------\u001b[0m",
            "\u001b[0;31mKeyError\u001b[0m                                  Traceback (most recent call last)",
            "\u001b[0;32m<ipython-input-150-9c2380b997c8>\u001b[0m in \u001b[0;36m<module>\u001b[0;34m()\u001b[0m\n\u001b[1;32m      1\u001b[0m \u001b[0mentity_pairs\u001b[0m \u001b[0;34m=\u001b[0m \u001b[0;34m[\u001b[0m\u001b[0;34m]\u001b[0m\u001b[0;34m\u001b[0m\u001b[0;34m\u001b[0m\u001b[0m\n\u001b[1;32m      2\u001b[0m \u001b[0;34m\u001b[0m\u001b[0m\n\u001b[0;32m----> 3\u001b[0;31m \u001b[0;32mfor\u001b[0m \u001b[0mi\u001b[0m \u001b[0;32min\u001b[0m \u001b[0mtqdm\u001b[0m\u001b[0;34m(\u001b[0m\u001b[0mdf3\u001b[0m\u001b[0;34m[\u001b[0m\u001b[0;34m\"0\"\u001b[0m\u001b[0;34m]\u001b[0m\u001b[0;34m)\u001b[0m\u001b[0;34m:\u001b[0m\u001b[0;34m\u001b[0m\u001b[0;34m\u001b[0m\u001b[0m\n\u001b[0m\u001b[1;32m      4\u001b[0m   \u001b[0mentity_pairs\u001b[0m\u001b[0;34m.\u001b[0m\u001b[0mappend\u001b[0m\u001b[0;34m(\u001b[0m\u001b[0mget_entities\u001b[0m\u001b[0;34m(\u001b[0m\u001b[0mi\u001b[0m\u001b[0;34m)\u001b[0m\u001b[0;34m)\u001b[0m\u001b[0;34m\u001b[0m\u001b[0;34m\u001b[0m\u001b[0m\n",
            "\u001b[0;32m/usr/local/lib/python3.7/dist-packages/pandas/core/frame.py\u001b[0m in \u001b[0;36m__getitem__\u001b[0;34m(self, key)\u001b[0m\n\u001b[1;32m   3456\u001b[0m             \u001b[0;32mif\u001b[0m \u001b[0mself\u001b[0m\u001b[0;34m.\u001b[0m\u001b[0mcolumns\u001b[0m\u001b[0;34m.\u001b[0m\u001b[0mnlevels\u001b[0m \u001b[0;34m>\u001b[0m \u001b[0;36m1\u001b[0m\u001b[0;34m:\u001b[0m\u001b[0;34m\u001b[0m\u001b[0;34m\u001b[0m\u001b[0m\n\u001b[1;32m   3457\u001b[0m                 \u001b[0;32mreturn\u001b[0m \u001b[0mself\u001b[0m\u001b[0;34m.\u001b[0m\u001b[0m_getitem_multilevel\u001b[0m\u001b[0;34m(\u001b[0m\u001b[0mkey\u001b[0m\u001b[0;34m)\u001b[0m\u001b[0;34m\u001b[0m\u001b[0;34m\u001b[0m\u001b[0m\n\u001b[0;32m-> 3458\u001b[0;31m             \u001b[0mindexer\u001b[0m \u001b[0;34m=\u001b[0m \u001b[0mself\u001b[0m\u001b[0;34m.\u001b[0m\u001b[0mcolumns\u001b[0m\u001b[0;34m.\u001b[0m\u001b[0mget_loc\u001b[0m\u001b[0;34m(\u001b[0m\u001b[0mkey\u001b[0m\u001b[0;34m)\u001b[0m\u001b[0;34m\u001b[0m\u001b[0;34m\u001b[0m\u001b[0m\n\u001b[0m\u001b[1;32m   3459\u001b[0m             \u001b[0;32mif\u001b[0m \u001b[0mis_integer\u001b[0m\u001b[0;34m(\u001b[0m\u001b[0mindexer\u001b[0m\u001b[0;34m)\u001b[0m\u001b[0;34m:\u001b[0m\u001b[0;34m\u001b[0m\u001b[0;34m\u001b[0m\u001b[0m\n\u001b[1;32m   3460\u001b[0m                 \u001b[0mindexer\u001b[0m \u001b[0;34m=\u001b[0m \u001b[0;34m[\u001b[0m\u001b[0mindexer\u001b[0m\u001b[0;34m]\u001b[0m\u001b[0;34m\u001b[0m\u001b[0;34m\u001b[0m\u001b[0m\n",
            "\u001b[0;32m/usr/local/lib/python3.7/dist-packages/pandas/core/indexes/range.py\u001b[0m in \u001b[0;36mget_loc\u001b[0;34m(self, key, method, tolerance)\u001b[0m\n\u001b[1;32m    386\u001b[0m                 \u001b[0;32mexcept\u001b[0m \u001b[0mValueError\u001b[0m \u001b[0;32mas\u001b[0m \u001b[0merr\u001b[0m\u001b[0;34m:\u001b[0m\u001b[0;34m\u001b[0m\u001b[0;34m\u001b[0m\u001b[0m\n\u001b[1;32m    387\u001b[0m                     \u001b[0;32mraise\u001b[0m \u001b[0mKeyError\u001b[0m\u001b[0;34m(\u001b[0m\u001b[0mkey\u001b[0m\u001b[0;34m)\u001b[0m \u001b[0;32mfrom\u001b[0m \u001b[0merr\u001b[0m\u001b[0;34m\u001b[0m\u001b[0;34m\u001b[0m\u001b[0m\n\u001b[0;32m--> 388\u001b[0;31m             \u001b[0;32mraise\u001b[0m \u001b[0mKeyError\u001b[0m\u001b[0;34m(\u001b[0m\u001b[0mkey\u001b[0m\u001b[0;34m)\u001b[0m\u001b[0;34m\u001b[0m\u001b[0;34m\u001b[0m\u001b[0m\n\u001b[0m\u001b[1;32m    389\u001b[0m         \u001b[0;32mreturn\u001b[0m \u001b[0msuper\u001b[0m\u001b[0;34m(\u001b[0m\u001b[0;34m)\u001b[0m\u001b[0;34m.\u001b[0m\u001b[0mget_loc\u001b[0m\u001b[0;34m(\u001b[0m\u001b[0mkey\u001b[0m\u001b[0;34m,\u001b[0m \u001b[0mmethod\u001b[0m\u001b[0;34m=\u001b[0m\u001b[0mmethod\u001b[0m\u001b[0;34m,\u001b[0m \u001b[0mtolerance\u001b[0m\u001b[0;34m=\u001b[0m\u001b[0mtolerance\u001b[0m\u001b[0;34m)\u001b[0m\u001b[0;34m\u001b[0m\u001b[0;34m\u001b[0m\u001b[0m\n\u001b[1;32m    390\u001b[0m \u001b[0;34m\u001b[0m\u001b[0m\n",
            "\u001b[0;31mKeyError\u001b[0m: '0'"
          ]
        }
      ]
    },
    {
      "cell_type": "code",
      "source": [
        ""
      ],
      "metadata": {
        "id": "zOW9glF_xsSQ"
      },
      "execution_count": null,
      "outputs": []
    },
    {
      "cell_type": "code",
      "source": [
        ""
      ],
      "metadata": {
        "id": "OVvQp8wfxsVG"
      },
      "execution_count": null,
      "outputs": []
    },
    {
      "cell_type": "code",
      "source": [
        ""
      ],
      "metadata": {
        "id": "xb3eMze0w3Nv"
      },
      "execution_count": null,
      "outputs": []
    }
  ]
}